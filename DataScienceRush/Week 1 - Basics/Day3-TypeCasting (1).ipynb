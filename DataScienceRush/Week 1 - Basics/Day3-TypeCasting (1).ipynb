{
 "cells": [
  {
   "cell_type": "raw",
   "id": "ad252c41-5622-4b99-ac2d-6b74c8c558c2",
   "metadata": {},
   "source": [
    "#### Data Science Rush Day 3\n",
    "### Topic - Type Casting \n",
    "## Author - Naveen Gupta "
   ]
  },
  {
   "cell_type": "raw",
   "id": "a3fc7a48-1749-4f49-a81e-519d06aee54b",
   "metadata": {},
   "source": [
    "Type Casting: converting one type to another.\n",
    "Typecasting functions for fundamental datatype:\n",
    "1) bool()\n",
    "2) str()\n",
    "3) int()\n",
    "4) float()\n",
    "5) complex()"
   ]
  },
  {
   "cell_type": "raw",
   "id": "2a792f62-426d-4097-998b-26ad08cf679d",
   "metadata": {},
   "source": [
    "int(): is used to convert other type to int."
   ]
  },
  {
   "cell_type": "code",
   "execution_count": 1,
   "id": "5938f7d8-48ba-4982-a3c4-b0a2d1218298",
   "metadata": {},
   "outputs": [
    {
     "data": {
      "text/plain": [
       "125"
      ]
     },
     "execution_count": 1,
     "metadata": {},
     "output_type": "execute_result"
    }
   ],
   "source": [
    "int(125.2)"
   ]
  },
  {
   "cell_type": "code",
   "execution_count": 2,
   "id": "35d48056-a19c-4c03-8d23-2024be4625d5",
   "metadata": {},
   "outputs": [
    {
     "data": {
      "text/plain": [
       "1"
      ]
     },
     "execution_count": 2,
     "metadata": {},
     "output_type": "execute_result"
    }
   ],
   "source": [
    "int(True)"
   ]
  },
  {
   "cell_type": "code",
   "execution_count": 3,
   "id": "d91b45da-b15d-40cd-8ec1-c24b58851047",
   "metadata": {},
   "outputs": [
    {
     "data": {
      "text/plain": [
       "0"
      ]
     },
     "execution_count": 3,
     "metadata": {},
     "output_type": "execute_result"
    }
   ],
   "source": [
    "int(False)"
   ]
  },
  {
   "cell_type": "code",
   "execution_count": 4,
   "id": "813108f0-5eb8-41b4-b0a3-0cb2189f7286",
   "metadata": {},
   "outputs": [
    {
     "ename": "TypeError",
     "evalue": "int() argument must be a string, a bytes-like object or a real number, not 'complex'",
     "output_type": "error",
     "traceback": [
      "\u001b[0;31m---------------------------------------------------------------------------\u001b[0m",
      "\u001b[0;31mTypeError\u001b[0m                                 Traceback (most recent call last)",
      "Cell \u001b[0;32mIn[4], line 1\u001b[0m\n\u001b[0;32m----> 1\u001b[0m \u001b[38;5;28;43mint\u001b[39;49m\u001b[43m(\u001b[49m\u001b[38;5;241;43m5\u001b[39;49m\u001b[38;5;241;43m+\u001b[39;49m\u001b[38;5;241;43m2\u001b[39;49m\u001b[43mj\u001b[49m\u001b[43m)\u001b[49m\n",
      "\u001b[0;31mTypeError\u001b[0m: int() argument must be a string, a bytes-like object or a real number, not 'complex'"
     ]
    }
   ],
   "source": [
    "int(5+2j)  ### We can't convert a compex number to an integer literal"
   ]
  },
  {
   "cell_type": "code",
   "execution_count": 5,
   "id": "52760abf-fa28-4bcd-ac4a-3f0effbfa29f",
   "metadata": {},
   "outputs": [
    {
     "data": {
      "text/plain": [
       "12"
      ]
     },
     "execution_count": 5,
     "metadata": {},
     "output_type": "execute_result"
    }
   ],
   "source": [
    "int('12')"
   ]
  },
  {
   "cell_type": "code",
   "execution_count": 6,
   "id": "9f54fabf-837c-4c2b-8ef0-76f634b03612",
   "metadata": {},
   "outputs": [
    {
     "ename": "ValueError",
     "evalue": "invalid literal for int() with base 10: '12.2'",
     "output_type": "error",
     "traceback": [
      "\u001b[0;31m---------------------------------------------------------------------------\u001b[0m",
      "\u001b[0;31mValueError\u001b[0m                                Traceback (most recent call last)",
      "Cell \u001b[0;32mIn[6], line 1\u001b[0m\n\u001b[0;32m----> 1\u001b[0m \u001b[38;5;28;43mint\u001b[39;49m\u001b[43m(\u001b[49m\u001b[38;5;124;43m'\u001b[39;49m\u001b[38;5;124;43m12.2\u001b[39;49m\u001b[38;5;124;43m'\u001b[39;49m\u001b[43m)\u001b[49m\n",
      "\u001b[0;31mValueError\u001b[0m: invalid literal for int() with base 10: '12.2'"
     ]
    }
   ],
   "source": [
    "int('12.2') ### we can't convert str to int , if the string contains a float literal"
   ]
  },
  {
   "cell_type": "code",
   "execution_count": 7,
   "id": "395573ab-63fb-41c4-92eb-54c09bffe96f",
   "metadata": {},
   "outputs": [
    {
     "ename": "ValueError",
     "evalue": "invalid literal for int() with base 10: 'ten'",
     "output_type": "error",
     "traceback": [
      "\u001b[0;31m---------------------------------------------------------------------------\u001b[0m",
      "\u001b[0;31mValueError\u001b[0m                                Traceback (most recent call last)",
      "Cell \u001b[0;32mIn[7], line 1\u001b[0m\n\u001b[0;32m----> 1\u001b[0m \u001b[38;5;28;43mint\u001b[39;49m\u001b[43m(\u001b[49m\u001b[38;5;124;43m'\u001b[39;49m\u001b[38;5;124;43mten\u001b[39;49m\u001b[38;5;124;43m'\u001b[39;49m\u001b[43m)\u001b[49m\n",
      "\u001b[0;31mValueError\u001b[0m: invalid literal for int() with base 10: 'ten'"
     ]
    }
   ],
   "source": [
    "int('ten')"
   ]
  },
  {
   "cell_type": "code",
   "execution_count": 8,
   "id": "09fbbaeb-84dc-470f-b840-6e9bd7c8b7da",
   "metadata": {},
   "outputs": [
    {
     "data": {
      "text/plain": [
       "12"
      ]
     },
     "execution_count": 8,
     "metadata": {},
     "output_type": "execute_result"
    }
   ],
   "source": [
    "int(10+2)"
   ]
  },
  {
   "cell_type": "code",
   "execution_count": 9,
   "id": "3310de80-dd99-41d3-80a8-7c90f95dab3b",
   "metadata": {},
   "outputs": [
    {
     "ename": "ValueError",
     "evalue": "invalid literal for int() with base 10: '10+2'",
     "output_type": "error",
     "traceback": [
      "\u001b[0;31m---------------------------------------------------------------------------\u001b[0m",
      "\u001b[0;31mValueError\u001b[0m                                Traceback (most recent call last)",
      "Cell \u001b[0;32mIn[9], line 1\u001b[0m\n\u001b[0;32m----> 1\u001b[0m \u001b[38;5;28;43mint\u001b[39;49m\u001b[43m(\u001b[49m\u001b[38;5;124;43m'\u001b[39;49m\u001b[38;5;124;43m10+2\u001b[39;49m\u001b[38;5;124;43m'\u001b[39;49m\u001b[43m)\u001b[49m\n",
      "\u001b[0;31mValueError\u001b[0m: invalid literal for int() with base 10: '10+2'"
     ]
    }
   ],
   "source": [
    "int('10+2')"
   ]
  },
  {
   "cell_type": "raw",
   "id": "9370dfcc-6c6b-4140-8b0b-53a171124baa",
   "metadata": {},
   "source": [
    "Note:- Cannot convert complex to int.\n",
    "       For converting str to int str must be in decimal form (Base 10)."
   ]
  },
  {
   "cell_type": "raw",
   "id": "bcf836e9-0735-4938-a91a-2f10d4a47d40",
   "metadata": {},
   "source": [
    "𝐟𝐥𝐨𝐚𝐭(): 𝐢𝐬 𝐮𝐬𝐞𝐝 𝐭𝐨 𝐜𝐨𝐧𝐯𝐞𝐫𝐭 𝐨𝐭𝐡𝐞𝐫 𝐭𝐲𝐩𝐞𝐬 𝐭𝐨 𝐟𝐥𝐨𝐚𝐭."
   ]
  },
  {
   "cell_type": "code",
   "execution_count": 10,
   "id": "d7e8e54d-8684-4e8a-985f-97870366ce06",
   "metadata": {},
   "outputs": [
    {
     "ename": "TypeError",
     "evalue": "float() argument must be a string or a real number, not 'complex'",
     "output_type": "error",
     "traceback": [
      "\u001b[0;31m---------------------------------------------------------------------------\u001b[0m",
      "\u001b[0;31mTypeError\u001b[0m                                 Traceback (most recent call last)",
      "Cell \u001b[0;32mIn[10], line 1\u001b[0m\n\u001b[0;32m----> 1\u001b[0m \u001b[38;5;28;43mfloat\u001b[39;49m\u001b[43m(\u001b[49m\u001b[38;5;241;43m2\u001b[39;49m\u001b[38;5;241;43m+\u001b[39;49m\u001b[38;5;241;43m2\u001b[39;49m\u001b[43mj\u001b[49m\u001b[43m)\u001b[49m\n",
      "\u001b[0;31mTypeError\u001b[0m: float() argument must be a string or a real number, not 'complex'"
     ]
    }
   ],
   "source": [
    "float(2+2j)"
   ]
  },
  {
   "cell_type": "code",
   "execution_count": 11,
   "id": "9ea7b39d-a14b-4215-a3cb-e40c598fe059",
   "metadata": {},
   "outputs": [
    {
     "data": {
      "text/plain": [
       "12.0"
      ]
     },
     "execution_count": 11,
     "metadata": {},
     "output_type": "execute_result"
    }
   ],
   "source": [
    "float(12)"
   ]
  },
  {
   "cell_type": "code",
   "execution_count": 12,
   "id": "9f98bd4a-bbe5-4ae1-8850-bf5ac1c59fae",
   "metadata": {},
   "outputs": [
    {
     "data": {
      "text/plain": [
       "12.0"
      ]
     },
     "execution_count": 12,
     "metadata": {},
     "output_type": "execute_result"
    }
   ],
   "source": [
    "float('12')"
   ]
  },
  {
   "cell_type": "code",
   "execution_count": 13,
   "id": "0a26b5a5-9111-4db0-b43f-414ee31fac1a",
   "metadata": {},
   "outputs": [
    {
     "data": {
      "text/plain": [
       "12.2"
      ]
     },
     "execution_count": 13,
     "metadata": {},
     "output_type": "execute_result"
    }
   ],
   "source": [
    "float('12.2')"
   ]
  },
  {
   "cell_type": "code",
   "execution_count": 14,
   "id": "e1877927-b5b8-406f-8b25-f1c838bd8508",
   "metadata": {},
   "outputs": [
    {
     "ename": "ValueError",
     "evalue": "could not convert string to float: 'ten'",
     "output_type": "error",
     "traceback": [
      "\u001b[0;31m---------------------------------------------------------------------------\u001b[0m",
      "\u001b[0;31mValueError\u001b[0m                                Traceback (most recent call last)",
      "Cell \u001b[0;32mIn[14], line 1\u001b[0m\n\u001b[0;32m----> 1\u001b[0m \u001b[38;5;28;43mfloat\u001b[39;49m\u001b[43m(\u001b[49m\u001b[38;5;124;43m'\u001b[39;49m\u001b[38;5;124;43mten\u001b[39;49m\u001b[38;5;124;43m'\u001b[39;49m\u001b[43m)\u001b[49m\n",
      "\u001b[0;31mValueError\u001b[0m: could not convert string to float: 'ten'"
     ]
    }
   ],
   "source": [
    "float('ten')"
   ]
  },
  {
   "cell_type": "code",
   "execution_count": 15,
   "id": "ac9f0f7b-8645-4c3b-bd0c-102c40e60373",
   "metadata": {},
   "outputs": [
    {
     "data": {
      "text/plain": [
       "2300.0"
      ]
     },
     "execution_count": 15,
     "metadata": {},
     "output_type": "execute_result"
    }
   ],
   "source": [
    "float('2.3e3')"
   ]
  },
  {
   "cell_type": "code",
   "execution_count": 16,
   "id": "3611c5be-40d3-412b-bc52-1e60e41557e8",
   "metadata": {},
   "outputs": [
    {
     "data": {
      "text/plain": [
       "1.0"
      ]
     },
     "execution_count": 16,
     "metadata": {},
     "output_type": "execute_result"
    }
   ],
   "source": [
    "float(True)"
   ]
  },
  {
   "cell_type": "code",
   "execution_count": 17,
   "id": "c73ebdc3-9621-4f2b-8d58-493ce4a706ac",
   "metadata": {},
   "outputs": [
    {
     "data": {
      "text/plain": [
       "0.0"
      ]
     },
     "execution_count": 17,
     "metadata": {},
     "output_type": "execute_result"
    }
   ],
   "source": [
    "float(False)"
   ]
  },
  {
   "cell_type": "raw",
   "id": "14f61ea5-0a5f-44db-80b5-3668f17f2ba0",
   "metadata": {},
   "source": [
    "𝐜𝐨𝐦𝐩𝐥𝐞𝐱(): 𝐢𝐬 𝐮𝐬𝐞𝐝 𝐭𝐨 𝐜𝐨𝐧𝐯𝐞𝐫𝐭 𝐨𝐭𝐡𝐞𝐫 𝐭𝐲𝐩𝐞 𝐭𝐨 𝐜𝐨𝐦𝐩𝐥𝐞𝐱.\n",
    "\n",
    "1) 𝐜𝐨𝐦𝐩𝐥𝐞𝐱(𝐚)\n",
    "2) 𝐜𝐨𝐦𝐩𝐥𝐞𝐱(𝐚, 𝐛)"
   ]
  },
  {
   "cell_type": "code",
   "execution_count": 19,
   "id": "ec120bd7-aac2-49f0-80cb-5cb43b839ffb",
   "metadata": {},
   "outputs": [
    {
     "data": {
      "text/plain": [
       "(2+0j)"
      ]
     },
     "execution_count": 19,
     "metadata": {},
     "output_type": "execute_result"
    }
   ],
   "source": [
    "complex(2)"
   ]
  },
  {
   "cell_type": "code",
   "execution_count": 20,
   "id": "faf20a09-1f4c-40ee-b521-8948c9ba7795",
   "metadata": {},
   "outputs": [
    {
     "data": {
      "text/plain": [
       "(1+0j)"
      ]
     },
     "execution_count": 20,
     "metadata": {},
     "output_type": "execute_result"
    }
   ],
   "source": [
    "complex(True)"
   ]
  },
  {
   "cell_type": "code",
   "execution_count": 21,
   "id": "0de83843-65ae-4bbc-ba28-355dd524d592",
   "metadata": {},
   "outputs": [
    {
     "data": {
      "text/plain": [
       "0j"
      ]
     },
     "execution_count": 21,
     "metadata": {},
     "output_type": "execute_result"
    }
   ],
   "source": [
    "complex(False)"
   ]
  },
  {
   "cell_type": "code",
   "execution_count": 22,
   "id": "710580a6-ccdf-4e50-a907-1db795707821",
   "metadata": {},
   "outputs": [
    {
     "data": {
      "text/plain": [
       "(10+0j)"
      ]
     },
     "execution_count": 22,
     "metadata": {},
     "output_type": "execute_result"
    }
   ],
   "source": [
    "complex('10')"
   ]
  },
  {
   "cell_type": "code",
   "execution_count": 23,
   "id": "1869e14d-6216-43db-86f3-1c0c169c4f23",
   "metadata": {},
   "outputs": [
    {
     "data": {
      "text/plain": [
       "(1.2+0j)"
      ]
     },
     "execution_count": 23,
     "metadata": {},
     "output_type": "execute_result"
    }
   ],
   "source": [
    "complex('1.2')"
   ]
  },
  {
   "cell_type": "code",
   "execution_count": 24,
   "id": "ee40b92d-28fa-4510-936a-65b664f1430b",
   "metadata": {},
   "outputs": [
    {
     "ename": "ValueError",
     "evalue": "complex() arg is a malformed string",
     "output_type": "error",
     "traceback": [
      "\u001b[0;31m---------------------------------------------------------------------------\u001b[0m",
      "\u001b[0;31mValueError\u001b[0m                                Traceback (most recent call last)",
      "Cell \u001b[0;32mIn[24], line 1\u001b[0m\n\u001b[0;32m----> 1\u001b[0m \u001b[38;5;28;43mcomplex\u001b[39;49m\u001b[43m(\u001b[49m\u001b[38;5;124;43m'\u001b[39;49m\u001b[38;5;124;43mone\u001b[39;49m\u001b[38;5;124;43m'\u001b[39;49m\u001b[43m)\u001b[49m\n",
      "\u001b[0;31mValueError\u001b[0m: complex() arg is a malformed string"
     ]
    }
   ],
   "source": [
    "complex('one')"
   ]
  },
  {
   "cell_type": "code",
   "execution_count": 25,
   "id": "b6a7c07b-5e0d-4b20-b075-8a92fd8fb0f9",
   "metadata": {},
   "outputs": [
    {
     "data": {
      "text/plain": [
       "(1+3j)"
      ]
     },
     "execution_count": 25,
     "metadata": {},
     "output_type": "execute_result"
    }
   ],
   "source": [
    "complex(1,3)"
   ]
  },
  {
   "cell_type": "code",
   "execution_count": 26,
   "id": "2a2925b6-bbea-4f41-aa68-08dc295db56e",
   "metadata": {},
   "outputs": [
    {
     "ename": "TypeError",
     "evalue": "complex() can't take second arg if first is a string",
     "output_type": "error",
     "traceback": [
      "\u001b[0;31m---------------------------------------------------------------------------\u001b[0m",
      "\u001b[0;31mTypeError\u001b[0m                                 Traceback (most recent call last)",
      "Cell \u001b[0;32mIn[26], line 1\u001b[0m\n\u001b[0;32m----> 1\u001b[0m \u001b[38;5;28;43mcomplex\u001b[39;49m\u001b[43m(\u001b[49m\u001b[38;5;124;43m'\u001b[39;49m\u001b[38;5;124;43m11\u001b[39;49m\u001b[38;5;124;43m'\u001b[39;49m\u001b[43m,\u001b[49m\u001b[38;5;241;43m12\u001b[39;49m\u001b[43m)\u001b[49m\n",
      "\u001b[0;31mTypeError\u001b[0m: complex() can't take second arg if first is a string"
     ]
    }
   ],
   "source": [
    "complex('11',12)"
   ]
  },
  {
   "cell_type": "code",
   "execution_count": 27,
   "id": "614507ab-7afd-4716-80c7-440192bc4bbf",
   "metadata": {},
   "outputs": [
    {
     "ename": "SyntaxError",
     "evalue": "'(' was never closed (3531622618.py, line 1)",
     "output_type": "error",
     "traceback": [
      "\u001b[0;36m  Cell \u001b[0;32mIn[27], line 1\u001b[0;36m\u001b[0m\n\u001b[0;31m    complex('2,'3\u001b[0m\n\u001b[0m           ^\u001b[0m\n\u001b[0;31mSyntaxError\u001b[0m\u001b[0;31m:\u001b[0m '(' was never closed\n"
     ]
    }
   ],
   "source": [
    "complex('2,'3"
   ]
  },
  {
   "cell_type": "raw",
   "id": "7639b902-a2af-429e-ab1b-d1470bac75f1",
   "metadata": {},
   "source": [
    "𝐬𝐭𝐫(): 𝐢𝐬 𝐮𝐬𝐞𝐝 𝐭𝐨 𝐜𝐨𝐧𝐯𝐞𝐫𝐭 𝐚𝐧𝐲 𝐭𝐲𝐩𝐞. 𝐈𝐭 𝐰𝐨𝐧’𝐭 𝐫𝐚𝐢𝐬𝐞 𝐚𝐧𝐲 𝐞𝐫𝐫𝐨𝐫."
   ]
  },
  {
   "cell_type": "code",
   "execution_count": 28,
   "id": "44ede6ea-14f0-4285-8844-8c13ec43ad29",
   "metadata": {},
   "outputs": [
    {
     "data": {
      "text/plain": [
       "'True'"
      ]
     },
     "execution_count": 28,
     "metadata": {},
     "output_type": "execute_result"
    }
   ],
   "source": [
    "str(True)"
   ]
  },
  {
   "cell_type": "code",
   "execution_count": 29,
   "id": "5c98762a-9bc4-4b5d-801e-fa6e2ef351f4",
   "metadata": {},
   "outputs": [
    {
     "data": {
      "text/plain": [
       "'14.5'"
      ]
     },
     "execution_count": 29,
     "metadata": {},
     "output_type": "execute_result"
    }
   ],
   "source": [
    "str(14.5)"
   ]
  },
  {
   "cell_type": "code",
   "execution_count": 30,
   "id": "8325400e-f041-41a2-a3a7-f96567b04f8a",
   "metadata": {},
   "outputs": [
    {
     "data": {
      "text/plain": [
       "'(1+2j)'"
      ]
     },
     "execution_count": 30,
     "metadata": {},
     "output_type": "execute_result"
    }
   ],
   "source": [
    "str(1+2j)"
   ]
  },
  {
   "cell_type": "raw",
   "id": "b79c9992-cfa0-449f-8a6b-9d0db47ecea2",
   "metadata": {},
   "source": [
    "bool(): converts any type to bool."
   ]
  },
  {
   "cell_type": "code",
   "execution_count": 31,
   "id": "7078a452-9b09-44b1-9364-14a06b526536",
   "metadata": {},
   "outputs": [],
   "source": [
    "## string arguments "
   ]
  },
  {
   "cell_type": "code",
   "execution_count": 33,
   "id": "ce1ff53c-e7f7-444e-9ace-4648e5f91402",
   "metadata": {},
   "outputs": [
    {
     "data": {
      "text/plain": [
       "False"
      ]
     },
     "execution_count": 33,
     "metadata": {},
     "output_type": "execute_result"
    }
   ],
   "source": [
    "bool('') ## empty string == false"
   ]
  },
  {
   "cell_type": "code",
   "execution_count": 34,
   "id": "b69bc041-014b-493b-938a-37b753c7fce1",
   "metadata": {},
   "outputs": [
    {
     "data": {
      "text/plain": [
       "True"
      ]
     },
     "execution_count": 34,
     "metadata": {},
     "output_type": "execute_result"
    }
   ],
   "source": [
    "bool('  ')  ## any other string == True"
   ]
  },
  {
   "cell_type": "code",
   "execution_count": 35,
   "id": "c1bd4b5a-2bee-4f9f-b98a-3b1a6e41d47d",
   "metadata": {},
   "outputs": [
    {
     "data": {
      "text/plain": [
       "True"
      ]
     },
     "execution_count": 35,
     "metadata": {},
     "output_type": "execute_result"
    }
   ],
   "source": [
    "bool('sddd')"
   ]
  },
  {
   "cell_type": "code",
   "execution_count": 37,
   "id": "69865125-c844-4d60-a7c4-dc6e6bffd9e8",
   "metadata": {},
   "outputs": [
    {
     "data": {
      "text/plain": [
       "True"
      ]
     },
     "execution_count": 37,
     "metadata": {},
     "output_type": "execute_result"
    }
   ],
   "source": [
    "bool(4>2)"
   ]
  },
  {
   "cell_type": "code",
   "execution_count": 38,
   "id": "ed509cb4-e911-4d69-8e3e-edc8aabfaec1",
   "metadata": {},
   "outputs": [
    {
     "data": {
      "text/plain": [
       "False"
      ]
     },
     "execution_count": 38,
     "metadata": {},
     "output_type": "execute_result"
    }
   ],
   "source": [
    "bool(2>4)"
   ]
  },
  {
   "cell_type": "code",
   "execution_count": 40,
   "id": "10446562-e09e-437d-b09e-2a2822fe52a8",
   "metadata": {},
   "outputs": [
    {
     "data": {
      "text/plain": [
       "True"
      ]
     },
     "execution_count": 40,
     "metadata": {},
     "output_type": "execute_result"
    }
   ],
   "source": [
    "bool(1.1)"
   ]
  },
  {
   "cell_type": "raw",
   "id": "f9b05fd7-b894-4cff-bb92-b9af97dc8361",
   "metadata": {},
   "source": [
    "## for int argumnet:\n",
    "0 == False \n",
    "any other number == True"
   ]
  },
  {
   "cell_type": "code",
   "execution_count": 41,
   "id": "2bb5c120-c151-4abd-b6f1-758fe93bc3b7",
   "metadata": {},
   "outputs": [
    {
     "data": {
      "text/plain": [
       "False"
      ]
     },
     "execution_count": 41,
     "metadata": {},
     "output_type": "execute_result"
    }
   ],
   "source": [
    "bool(0)"
   ]
  },
  {
   "cell_type": "code",
   "execution_count": 42,
   "id": "72aeb77d-4f08-4f89-a636-553972c9e5be",
   "metadata": {},
   "outputs": [
    {
     "data": {
      "text/plain": [
       "True"
      ]
     },
     "execution_count": 42,
     "metadata": {},
     "output_type": "execute_result"
    }
   ],
   "source": [
    "bool(5)"
   ]
  },
  {
   "cell_type": "raw",
   "id": "11e05866-1048-4fd1-a7fb-31352e2c4420",
   "metadata": {},
   "source": [
    "## for Float Argument :\n",
    "0.0 == False\n",
    "any other float number == True"
   ]
  },
  {
   "cell_type": "code",
   "execution_count": 44,
   "id": "4cc79a84-f72b-4d49-a487-3d1dcffbf403",
   "metadata": {},
   "outputs": [
    {
     "data": {
      "text/plain": [
       "False"
      ]
     },
     "execution_count": 44,
     "metadata": {},
     "output_type": "execute_result"
    }
   ],
   "source": [
    "bool(0.0)"
   ]
  },
  {
   "cell_type": "code",
   "execution_count": 45,
   "id": "f6421000-8137-48d5-b4b0-a510b28db3a7",
   "metadata": {},
   "outputs": [
    {
     "data": {
      "text/plain": [
       "True"
      ]
     },
     "execution_count": 45,
     "metadata": {},
     "output_type": "execute_result"
    }
   ],
   "source": [
    "bool(2.3)"
   ]
  },
  {
   "cell_type": "raw",
   "id": "7945730e-33c0-4c46-9039-7db38f5fb249",
   "metadata": {},
   "source": [
    "## For Complex Argument:\n",
    "if both 'a' and 'b' are 0/0.0 == false\n",
    "otherwise == true"
   ]
  },
  {
   "cell_type": "code",
   "execution_count": 46,
   "id": "f334f6bd-710b-45e4-98a3-94746fcf5d68",
   "metadata": {},
   "outputs": [
    {
     "data": {
      "text/plain": [
       "False"
      ]
     },
     "execution_count": 46,
     "metadata": {},
     "output_type": "execute_result"
    }
   ],
   "source": [
    "bool(0+0j)"
   ]
  },
  {
   "cell_type": "code",
   "execution_count": 47,
   "id": "a73837d2-169d-4bae-aeb7-7fc817040417",
   "metadata": {},
   "outputs": [
    {
     "data": {
      "text/plain": [
       "False"
      ]
     },
     "execution_count": 47,
     "metadata": {},
     "output_type": "execute_result"
    }
   ],
   "source": [
    "bool(0+0.0j)"
   ]
  },
  {
   "cell_type": "code",
   "execution_count": 48,
   "id": "73e5e1b5-4c43-4584-a934-197c6ec976ab",
   "metadata": {},
   "outputs": [
    {
     "data": {
      "text/plain": [
       "True"
      ]
     },
     "execution_count": 48,
     "metadata": {},
     "output_type": "execute_result"
    }
   ],
   "source": [
    "bool(0.0+1j)"
   ]
  },
  {
   "cell_type": "code",
   "execution_count": 49,
   "id": "cdae530a-e83e-4c96-8078-5a7b6c27f222",
   "metadata": {},
   "outputs": [
    {
     "data": {
      "text/plain": [
       "True"
      ]
     },
     "execution_count": 49,
     "metadata": {},
     "output_type": "execute_result"
    }
   ],
   "source": [
    "bool(2+2.2j)"
   ]
  },
  {
   "cell_type": "code",
   "execution_count": null,
   "id": "3e78543f-bac9-4e32-8782-2cd88a9777e0",
   "metadata": {},
   "outputs": [],
   "source": []
  }
 ],
 "metadata": {
  "kernelspec": {
   "display_name": "Python 3 (ipykernel)",
   "language": "python",
   "name": "python3"
  },
  "language_info": {
   "codemirror_mode": {
    "name": "ipython",
    "version": 3
   },
   "file_extension": ".py",
   "mimetype": "text/x-python",
   "name": "python",
   "nbconvert_exporter": "python",
   "pygments_lexer": "ipython3",
   "version": "3.10.8"
  }
 },
 "nbformat": 4,
 "nbformat_minor": 5
}
