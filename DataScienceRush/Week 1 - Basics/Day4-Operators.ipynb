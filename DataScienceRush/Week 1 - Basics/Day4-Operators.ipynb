{
 "cells": [
  {
   "cell_type": "code",
   "execution_count": 1,
   "id": "692445ca-00a4-409f-9fc4-05c8bb08f1c0",
   "metadata": {},
   "outputs": [],
   "source": [
    "### Data Science Rush Day 4\n",
    "## Topic - Operators \n",
    "# Author - Naveen Gupta "
   ]
  },
  {
   "cell_type": "code",
   "execution_count": 7,
   "id": "a1a31df8-d5dc-43d3-8cf0-5e0a056e150d",
   "metadata": {},
   "outputs": [],
   "source": [
    "## Arithematic Operators "
   ]
  },
  {
   "cell_type": "code",
   "execution_count": null,
   "id": "b159a404-f6f1-4859-a3f3-0ee23f56f9b8",
   "metadata": {},
   "outputs": [],
   "source": [
    "# Addition for Numbers & Concatination  for others"
   ]
  },
  {
   "cell_type": "code",
   "execution_count": 3,
   "id": "812b8615-bea9-4c8c-9895-b97f8d6be201",
   "metadata": {},
   "outputs": [
    {
     "data": {
      "text/plain": [
       "2"
      ]
     },
     "execution_count": 3,
     "metadata": {},
     "output_type": "execute_result"
    }
   ],
   "source": [
    "1+1"
   ]
  },
  {
   "cell_type": "code",
   "execution_count": 4,
   "id": "a83cd2c6-b349-45bd-9ddb-b2ba736d93e5",
   "metadata": {},
   "outputs": [
    {
     "data": {
      "text/plain": [
       "3.5"
      ]
     },
     "execution_count": 4,
     "metadata": {},
     "output_type": "execute_result"
    }
   ],
   "source": [
    "1.0+2.5"
   ]
  },
  {
   "cell_type": "code",
   "execution_count": 5,
   "id": "f4c88ac9-af9b-4699-87f5-a2ecd77e8221",
   "metadata": {},
   "outputs": [
    {
     "data": {
      "text/plain": [
       "3.3"
      ]
     },
     "execution_count": 5,
     "metadata": {},
     "output_type": "execute_result"
    }
   ],
   "source": [
    "1+2.3"
   ]
  },
  {
   "cell_type": "code",
   "execution_count": 8,
   "id": "1c40998e-93e6-4c78-8940-d317deaa0560",
   "metadata": {},
   "outputs": [
    {
     "data": {
      "text/plain": [
       "(2+2j)"
      ]
     },
     "execution_count": 8,
     "metadata": {},
     "output_type": "execute_result"
    }
   ],
   "source": [
    "1+1+2j"
   ]
  },
  {
   "cell_type": "raw",
   "id": "1544aa55-6b9c-4b4b-8288-6f69bb5785fc",
   "metadata": {},
   "source": [
    "'Data Science' + 'Rush'"
   ]
  },
  {
   "cell_type": "code",
   "execution_count": 11,
   "id": "1afcbe32-929b-44fb-9092-38cab5c2b37a",
   "metadata": {},
   "outputs": [
    {
     "data": {
      "text/plain": [
       "[1, 2, 3, 4, 1, 2, 3, 4, 5, 6]"
      ]
     },
     "execution_count": 11,
     "metadata": {},
     "output_type": "execute_result"
    }
   ],
   "source": [
    "[1,2,3,4]+[1,2,3,4,5,6]"
   ]
  },
  {
   "cell_type": "code",
   "execution_count": 13,
   "id": "70a7d71d-8ba1-49fd-bb8f-b7ef135eac09",
   "metadata": {},
   "outputs": [],
   "source": [
    "## for conactinations all data should be of same type & Sets and dictionares can't be concatnated "
   ]
  },
  {
   "cell_type": "raw",
   "id": "0db24e62-49b6-444e-b70a-d9ec2225ef19",
   "metadata": {},
   "source": [
    "## * - Multiplication for numbers & repetition for a squence and int (not float)"
   ]
  },
  {
   "cell_type": "code",
   "execution_count": 16,
   "id": "eabdbb80-f84e-40e4-8798-310eb1352976",
   "metadata": {},
   "outputs": [
    {
     "data": {
      "text/plain": [
       "20"
      ]
     },
     "execution_count": 16,
     "metadata": {},
     "output_type": "execute_result"
    }
   ],
   "source": [
    "5*4"
   ]
  },
  {
   "cell_type": "code",
   "execution_count": 15,
   "id": "79326d54-971b-439f-874c-df404354aaaa",
   "metadata": {},
   "outputs": [
    {
     "data": {
      "text/plain": [
       "'Data Science Rush Data Science Rush Data Science Rush Data Science Rush Data Science Rush '"
      ]
     },
     "execution_count": 15,
     "metadata": {},
     "output_type": "execute_result"
    }
   ],
   "source": [
    "5 * 'Data Science Rush '"
   ]
  },
  {
   "cell_type": "raw",
   "id": "bd6580ed-c598-4201-9605-b48cfc274227",
   "metadata": {},
   "source": [
    "/ -  Division -  always returns result as a float"
   ]
  },
  {
   "cell_type": "code",
   "execution_count": 17,
   "id": "29c4d153-4fec-4c1c-9154-8a713879b422",
   "metadata": {},
   "outputs": [
    {
     "data": {
      "text/plain": [
       "2.0"
      ]
     },
     "execution_count": 17,
     "metadata": {},
     "output_type": "execute_result"
    }
   ],
   "source": [
    "2/1"
   ]
  },
  {
   "cell_type": "code",
   "execution_count": 18,
   "id": "64755138-84fb-48d6-b095-20ad58a488e7",
   "metadata": {},
   "outputs": [
    {
     "data": {
      "text/plain": [
       "5.5"
      ]
     },
     "execution_count": 18,
     "metadata": {},
     "output_type": "execute_result"
    }
   ],
   "source": [
    "11/2"
   ]
  },
  {
   "cell_type": "raw",
   "id": "88f4a148-4a56-4fa2-b4b1-e5468b5314f4",
   "metadata": {},
   "source": [
    "// -  floor division \n",
    "returns result to nearest lowest integer (GIF in maths)\n",
    "if both are int - result is int\n",
    "if one is float - result is float"
   ]
  },
  {
   "cell_type": "code",
   "execution_count": 19,
   "id": "0f965308-720d-48e9-9974-b4b76925de78",
   "metadata": {},
   "outputs": [
    {
     "data": {
      "text/plain": [
       "0"
      ]
     },
     "execution_count": 19,
     "metadata": {},
     "output_type": "execute_result"
    }
   ],
   "source": [
    "7//10"
   ]
  },
  {
   "cell_type": "raw",
   "id": "c8eeed91-07f1-422e-8933-2f0416d7e5a4",
   "metadata": {},
   "source": [
    "% -  Modulus Operator , return remainder when a number is divided by other"
   ]
  },
  {
   "cell_type": "code",
   "execution_count": 21,
   "id": "d4ce285a-8fa5-4992-ae6a-0e25fa9eb79f",
   "metadata": {},
   "outputs": [
    {
     "data": {
      "text/plain": [
       "1"
      ]
     },
     "execution_count": 21,
     "metadata": {},
     "output_type": "execute_result"
    }
   ],
   "source": [
    "5%2"
   ]
  },
  {
   "cell_type": "raw",
   "id": "9694d5d6-5f51-457d-9f01-cf35f7d1a699",
   "metadata": {},
   "source": [
    "** - exponent operator "
   ]
  },
  {
   "cell_type": "code",
   "execution_count": 23,
   "id": "7d28babc-2746-4ff9-b297-5eb5830d6570",
   "metadata": {},
   "outputs": [
    {
     "data": {
      "text/plain": [
       "32"
      ]
     },
     "execution_count": 23,
     "metadata": {},
     "output_type": "execute_result"
    }
   ],
   "source": [
    "2**5"
   ]
  },
  {
   "cell_type": "code",
   "execution_count": 24,
   "id": "a39dadf0-b880-4ba9-b7c3-6efcf7bdf483",
   "metadata": {},
   "outputs": [
    {
     "data": {
      "text/plain": [
       "10000"
      ]
     },
     "execution_count": 24,
     "metadata": {},
     "output_type": "execute_result"
    }
   ],
   "source": [
    "100**2"
   ]
  },
  {
   "cell_type": "raw",
   "id": "c3cd90b0-c4f7-4f1b-a84c-2af0bb6813e2",
   "metadata": {},
   "source": [
    "Note - %, / , // will raise ZeroDivisionError if we try to divide by zero."
   ]
  },
  {
   "cell_type": "raw",
   "id": "a87e4e46-aadd-4aa4-b8f3-f42da07bb479",
   "metadata": {},
   "source": [
    "## Relational Operators (Equality Operators ) \n",
    "\n",
    "> , < , >= , <= , == , != \n",
    "\n",
    "result will only be True or False"
   ]
  },
  {
   "cell_type": "code",
   "execution_count": 26,
   "id": "14a5c820-e3d1-401b-bb66-3b5e31851358",
   "metadata": {},
   "outputs": [
    {
     "data": {
      "text/plain": [
       "True"
      ]
     },
     "execution_count": 26,
     "metadata": {},
     "output_type": "execute_result"
    }
   ],
   "source": [
    "1 < 2"
   ]
  },
  {
   "cell_type": "code",
   "execution_count": 27,
   "id": "a989ed15-3b93-431a-b923-325b7066a023",
   "metadata": {},
   "outputs": [
    {
     "data": {
      "text/plain": [
       "False"
      ]
     },
     "execution_count": 27,
     "metadata": {},
     "output_type": "execute_result"
    }
   ],
   "source": [
    "2 > 3"
   ]
  },
  {
   "cell_type": "code",
   "execution_count": 28,
   "id": "0896a75f-f7cc-4b6d-8b7a-29f67b2341fa",
   "metadata": {},
   "outputs": [
    {
     "data": {
      "text/plain": [
       "True"
      ]
     },
     "execution_count": 28,
     "metadata": {},
     "output_type": "execute_result"
    }
   ],
   "source": [
    "2 >= 2"
   ]
  },
  {
   "cell_type": "code",
   "execution_count": 29,
   "id": "a6c13b39-59a4-49e9-b72f-5ca3c8f54ab2",
   "metadata": {},
   "outputs": [
    {
     "data": {
      "text/plain": [
       "True"
      ]
     },
     "execution_count": 29,
     "metadata": {},
     "output_type": "execute_result"
    }
   ],
   "source": [
    "3 >= 2"
   ]
  },
  {
   "cell_type": "code",
   "execution_count": 30,
   "id": "75807bf9-4cea-4d53-8a24-c3aa0ae498b3",
   "metadata": {},
   "outputs": [
    {
     "data": {
      "text/plain": [
       "True"
      ]
     },
     "execution_count": 30,
     "metadata": {},
     "output_type": "execute_result"
    }
   ],
   "source": [
    "2 == 2"
   ]
  },
  {
   "cell_type": "code",
   "execution_count": 31,
   "id": "51e8835c-9e6a-4e81-a563-127cba9aa839",
   "metadata": {},
   "outputs": [
    {
     "data": {
      "text/plain": [
       "True"
      ]
     },
     "execution_count": 31,
     "metadata": {},
     "output_type": "execute_result"
    }
   ],
   "source": [
    "3 != 2"
   ]
  },
  {
   "cell_type": "raw",
   "id": "0c3b7678-1602-44f4-8e9f-57ad11093af9",
   "metadata": {},
   "source": [
    "## Logial Operators [and , or , not]"
   ]
  },
  {
   "cell_type": "raw",
   "id": "e5ab56b4-76fb-469f-bc0a-7ad886823e01",
   "metadata": {},
   "source": [
    "and ==> if both the operand are True , result will be True otherwise result will be false"
   ]
  },
  {
   "cell_type": "raw",
   "id": "fdd551ec-49b2-4f1d-9f35-1377aae0f0be",
   "metadata": {},
   "source": [
    "or ==> if onex of the operand is True result be True otehr wise result will be False."
   ]
  },
  {
   "cell_type": "raw",
   "id": "925b80ca-2b7a-4c0d-aa41-a1d04b96ec14",
   "metadata": {},
   "source": [
    "not ==> Inverts the Result"
   ]
  },
  {
   "cell_type": "code",
   "execution_count": 35,
   "id": "839d3722-5b72-4f15-ac80-7d415f655e23",
   "metadata": {},
   "outputs": [
    {
     "data": {
      "text/plain": [
       "True"
      ]
     },
     "execution_count": 35,
     "metadata": {},
     "output_type": "execute_result"
    }
   ],
   "source": [
    "True and True"
   ]
  },
  {
   "cell_type": "code",
   "execution_count": 36,
   "id": "108d4a2b-cce8-4b96-936b-d2ad71e65b38",
   "metadata": {},
   "outputs": [
    {
     "data": {
      "text/plain": [
       "False"
      ]
     },
     "execution_count": 36,
     "metadata": {},
     "output_type": "execute_result"
    }
   ],
   "source": [
    "True and False"
   ]
  },
  {
   "cell_type": "code",
   "execution_count": 37,
   "id": "de516419-a360-42a0-8510-2b276275e064",
   "metadata": {},
   "outputs": [
    {
     "data": {
      "text/plain": [
       "False"
      ]
     },
     "execution_count": 37,
     "metadata": {},
     "output_type": "execute_result"
    }
   ],
   "source": [
    "False and False "
   ]
  },
  {
   "cell_type": "code",
   "execution_count": 38,
   "id": "c74e38fc-272d-431f-948d-0e362acc1792",
   "metadata": {},
   "outputs": [
    {
     "data": {
      "text/plain": [
       "True"
      ]
     },
     "execution_count": 38,
     "metadata": {},
     "output_type": "execute_result"
    }
   ],
   "source": [
    "True or False"
   ]
  },
  {
   "cell_type": "code",
   "execution_count": 39,
   "id": "3e55c6dd-7c77-4083-ba38-7fc689d90f10",
   "metadata": {},
   "outputs": [
    {
     "data": {
      "text/plain": [
       "False"
      ]
     },
     "execution_count": 39,
     "metadata": {},
     "output_type": "execute_result"
    }
   ],
   "source": [
    "False or False"
   ]
  },
  {
   "cell_type": "code",
   "execution_count": 40,
   "id": "ea7aae6e-7cab-4885-9cec-1c8c694f0f2a",
   "metadata": {},
   "outputs": [
    {
     "data": {
      "text/plain": [
       "False"
      ]
     },
     "execution_count": 40,
     "metadata": {},
     "output_type": "execute_result"
    }
   ],
   "source": [
    "not True "
   ]
  },
  {
   "cell_type": "code",
   "execution_count": 41,
   "id": "91a3d221-46cb-4642-89cf-b679030a9b43",
   "metadata": {},
   "outputs": [
    {
     "data": {
      "text/plain": [
       "True"
      ]
     },
     "execution_count": 41,
     "metadata": {},
     "output_type": "execute_result"
    }
   ],
   "source": [
    "not False "
   ]
  },
  {
   "cell_type": "code",
   "execution_count": 42,
   "id": "1263a709-7e99-43c2-8d5a-8f9c038c5fdc",
   "metadata": {},
   "outputs": [
    {
     "data": {
      "text/plain": [
       "False"
      ]
     },
     "execution_count": 42,
     "metadata": {},
     "output_type": "execute_result"
    }
   ],
   "source": [
    "2>3 and 3>2"
   ]
  },
  {
   "cell_type": "code",
   "execution_count": 43,
   "id": "433727d0-5671-41f7-b43e-6c46cffab7de",
   "metadata": {},
   "outputs": [
    {
     "data": {
      "text/plain": [
       "True"
      ]
     },
     "execution_count": 43,
     "metadata": {},
     "output_type": "execute_result"
    }
   ],
   "source": [
    "2>3 or 3>2"
   ]
  },
  {
   "cell_type": "code",
   "execution_count": 44,
   "id": "eda130dc-9558-454f-928a-34fd10a8aefa",
   "metadata": {},
   "outputs": [
    {
     "data": {
      "text/plain": [
       "True"
      ]
     },
     "execution_count": 44,
     "metadata": {},
     "output_type": "execute_result"
    }
   ],
   "source": [
    "'hello' == 'hello' and 'python' == 'python'"
   ]
  },
  {
   "cell_type": "code",
   "execution_count": 45,
   "id": "30d2e15f-c2b9-4841-aef7-5c440c760fc2",
   "metadata": {},
   "outputs": [
    {
     "data": {
      "text/plain": [
       "False"
      ]
     },
     "execution_count": 45,
     "metadata": {},
     "output_type": "execute_result"
    }
   ],
   "source": [
    "'yellow' == 'pink' or 'green' == 'blue'"
   ]
  },
  {
   "cell_type": "code",
   "execution_count": 46,
   "id": "70f49c1f-c9e8-4b1b-add8-f8c9e2d02f55",
   "metadata": {},
   "outputs": [
    {
     "data": {
      "text/plain": [
       "False"
      ]
     },
     "execution_count": 46,
     "metadata": {},
     "output_type": "execute_result"
    }
   ],
   "source": [
    "not 3>2"
   ]
  },
  {
   "cell_type": "raw",
   "id": "907e2128-b969-46b0-9ac5-63eb78c2f2b3",
   "metadata": {},
   "source": [
    "# for False value and False Value \n",
    "Output = First Operand\n",
    "\n",
    "# for True Value and True Value \n",
    "output = Second Operand \n",
    "\n",
    "# for False Value or False Value \n",
    "output = Second operand\n",
    "\n",
    "# for True Value or True Value \n",
    "output = First Operand "
   ]
  },
  {
   "cell_type": "code",
   "execution_count": 1,
   "id": "36d029f1-a013-4e97-81c9-80c72a882f0a",
   "metadata": {},
   "outputs": [],
   "source": [
    "## Bitwise Operators - will convert operands into binary & then will perform operations on it "
   ]
  },
  {
   "cell_type": "code",
   "execution_count": 2,
   "id": "e049eb7b-0c85-452d-9f6c-cdbaba71b8a9",
   "metadata": {},
   "outputs": [
    {
     "data": {
      "text/plain": [
       "'0b10101'"
      ]
     },
     "execution_count": 2,
     "metadata": {},
     "output_type": "execute_result"
    }
   ],
   "source": [
    "bin(21) ##10101"
   ]
  },
  {
   "cell_type": "code",
   "execution_count": 5,
   "id": "ef5ac967-71f6-4a3b-a23d-b1820b555b4a",
   "metadata": {},
   "outputs": [
    {
     "data": {
      "text/plain": [
       "'0b10100'"
      ]
     },
     "execution_count": 5,
     "metadata": {},
     "output_type": "execute_result"
    }
   ],
   "source": [
    "bin (20) ##10100"
   ]
  },
  {
   "cell_type": "code",
   "execution_count": null,
   "id": "de4b9a28-2ab9-4743-9b87-bc9a9795d49d",
   "metadata": {},
   "outputs": [],
   "source": [
    "## Bitwise and operator (&) -  will return 1 if both operand bit is 1 , else 0"
   ]
  },
  {
   "cell_type": "code",
   "execution_count": 4,
   "id": "9d741d4e-5032-47fd-bb58-d3139d3ba6e6",
   "metadata": {},
   "outputs": [
    {
     "data": {
      "text/plain": [
       "20"
      ]
     },
     "execution_count": 4,
     "metadata": {},
     "output_type": "execute_result"
    }
   ],
   "source": [
    "21 & 20  ## guessing the output = 10100 = 20"
   ]
  },
  {
   "cell_type": "code",
   "execution_count": 6,
   "id": "634ffeeb-8074-4075-b735-ca876694d1d0",
   "metadata": {},
   "outputs": [],
   "source": [
    "## Bitwise or operator (|) - will return 1 if any one of the operand bit is 1 , else 0"
   ]
  },
  {
   "cell_type": "code",
   "execution_count": 7,
   "id": "82fbac23-2e4f-40b0-88f6-960df6e51013",
   "metadata": {},
   "outputs": [
    {
     "data": {
      "text/plain": [
       "21"
      ]
     },
     "execution_count": 7,
     "metadata": {},
     "output_type": "execute_result"
    }
   ],
   "source": [
    "21|20 ## guessing the output = 10101 = 21"
   ]
  },
  {
   "cell_type": "code",
   "execution_count": 8,
   "id": "d7d1ff6a-fc40-4573-bab2-6eff51e42999",
   "metadata": {},
   "outputs": [
    {
     "data": {
      "text/plain": [
       "'0b1010010'"
      ]
     },
     "execution_count": 8,
     "metadata": {},
     "output_type": "execute_result"
    }
   ],
   "source": [
    "bin(82)"
   ]
  },
  {
   "cell_type": "code",
   "execution_count": 11,
   "id": "505b9dd0-3394-41f1-ad10-317deecee474",
   "metadata": {},
   "outputs": [
    {
     "data": {
      "text/plain": [
       "'0b1100100'"
      ]
     },
     "execution_count": 11,
     "metadata": {},
     "output_type": "execute_result"
    }
   ],
   "source": [
    "bin(100)"
   ]
  },
  {
   "cell_type": "code",
   "execution_count": 15,
   "id": "8bf42e1c-97ad-4b8c-ac86-8f62f37e9ea0",
   "metadata": {},
   "outputs": [
    {
     "data": {
      "text/plain": [
       "118"
      ]
     },
     "execution_count": 15,
     "metadata": {},
     "output_type": "execute_result"
    }
   ],
   "source": [
    "82|100  ## guessing the output = 1110110 = 64 + 32 +16 + 4+2+1 = 118"
   ]
  },
  {
   "cell_type": "code",
   "execution_count": 13,
   "id": "2f1ad99f-1535-48af-a50c-9c3aa0930e33",
   "metadata": {},
   "outputs": [
    {
     "data": {
      "text/plain": [
       "118"
      ]
     },
     "execution_count": 13,
     "metadata": {},
     "output_type": "execute_result"
    }
   ],
   "source": [
    "## Bitwise Invert operator (~) - inverts each bit"
   ]
  },
  {
   "cell_type": "code",
   "execution_count": 16,
   "id": "a0e5ff1f-e724-4a30-ad7c-8fd691cfb76e",
   "metadata": {},
   "outputs": [
    {
     "data": {
      "text/plain": [
       "-101"
      ]
     },
     "execution_count": 16,
     "metadata": {},
     "output_type": "execute_result"
    }
   ],
   "source": [
    "~100 "
   ]
  },
  {
   "cell_type": "code",
   "execution_count": 17,
   "id": "270581e4-5021-4f1f-8b8b-9a6931dbfc64",
   "metadata": {},
   "outputs": [
    {
     "data": {
      "text/plain": [
       "-25"
      ]
     },
     "execution_count": 17,
     "metadata": {},
     "output_type": "execute_result"
    }
   ],
   "source": [
    "~24"
   ]
  },
  {
   "cell_type": "code",
   "execution_count": 18,
   "id": "1eb2e3cf-6f06-42b0-82eb-5d44fd44eaff",
   "metadata": {},
   "outputs": [
    {
     "data": {
      "text/plain": [
       "-27"
      ]
     },
     "execution_count": 18,
     "metadata": {},
     "output_type": "execute_result"
    }
   ],
   "source": [
    "~26"
   ]
  },
  {
   "cell_type": "code",
   "execution_count": 19,
   "id": "d625b337-e0ba-45ba-996f-e456b0ed5e6f",
   "metadata": {},
   "outputs": [],
   "source": [
    "a = 156"
   ]
  },
  {
   "cell_type": "code",
   "execution_count": 20,
   "id": "f4ea276b-48ff-4d4c-9e74-4adcec3e7826",
   "metadata": {},
   "outputs": [
    {
     "data": {
      "text/plain": [
       "-157"
      ]
     },
     "execution_count": 20,
     "metadata": {},
     "output_type": "execute_result"
    }
   ],
   "source": [
    "~a"
   ]
  },
  {
   "cell_type": "code",
   "execution_count": 21,
   "id": "037e2fed-ea49-4ed0-a690-38669517b875",
   "metadata": {},
   "outputs": [],
   "source": [
    "## Exclusive or (XOR Operator) (^) returns 1 if one operand bit is 1 & other 0  else returns 0 "
   ]
  },
  {
   "cell_type": "code",
   "execution_count": 23,
   "id": "3d77a882-9280-472f-9888-5221dbea6999",
   "metadata": {},
   "outputs": [
    {
     "data": {
      "text/plain": [
       "'0b10100'"
      ]
     },
     "execution_count": 23,
     "metadata": {},
     "output_type": "execute_result"
    }
   ],
   "source": [
    "bin(20)"
   ]
  },
  {
   "cell_type": "code",
   "execution_count": 24,
   "id": "e0d301b7-c9f3-4d0d-971b-ffa711786d8f",
   "metadata": {},
   "outputs": [
    {
     "data": {
      "text/plain": [
       "'0b10101'"
      ]
     },
     "execution_count": 24,
     "metadata": {},
     "output_type": "execute_result"
    }
   ],
   "source": [
    "bin(21)"
   ]
  },
  {
   "cell_type": "code",
   "execution_count": 22,
   "id": "5b94ed58-b841-42c5-8dfd-9901cd1b6958",
   "metadata": {},
   "outputs": [
    {
     "data": {
      "text/plain": [
       "1"
      ]
     },
     "execution_count": 22,
     "metadata": {},
     "output_type": "execute_result"
    }
   ],
   "source": [
    "20 ^ 21 ## guessing output = 00001 = 1"
   ]
  },
  {
   "cell_type": "code",
   "execution_count": null,
   "id": "1996fdec-a7e1-4b90-8b6e-9771ed12d6c7",
   "metadata": {},
   "outputs": [],
   "source": [
    "## Left & Right shift operators"
   ]
  },
  {
   "cell_type": "code",
   "execution_count": 25,
   "id": "766b8a4b-10fd-4d32-9d08-8e6ee515739e",
   "metadata": {},
   "outputs": [
    {
     "data": {
      "text/plain": [
       "40"
      ]
     },
     "execution_count": 25,
     "metadata": {},
     "output_type": "execute_result"
    }
   ],
   "source": [
    "20 << 1 ## guessong output == 101000 = 32+8 = 40 or 20*2"
   ]
  },
  {
   "cell_type": "code",
   "execution_count": 27,
   "id": "36f92419-3b10-470d-a7bb-b3ea270de372",
   "metadata": {},
   "outputs": [
    {
     "data": {
      "text/plain": [
       "84"
      ]
     },
     "execution_count": 27,
     "metadata": {},
     "output_type": "execute_result"
    }
   ],
   "source": [
    "21 << 2 # 21*4 = 84"
   ]
  },
  {
   "cell_type": "code",
   "execution_count": 28,
   "id": "d4b58661-5706-4087-9eef-ab0646c3f80d",
   "metadata": {},
   "outputs": [
    {
     "data": {
      "text/plain": [
       "10"
      ]
     },
     "execution_count": 28,
     "metadata": {},
     "output_type": "execute_result"
    }
   ],
   "source": [
    "20 >> 1 ##  1010 = 8+2 = 10 or 20/2"
   ]
  },
  {
   "cell_type": "code",
   "execution_count": 29,
   "id": "fa441374-cbc0-4772-bab0-7e9c231e1fbb",
   "metadata": {},
   "outputs": [
    {
     "data": {
      "text/plain": [
       "5"
      ]
     },
     "execution_count": 29,
     "metadata": {},
     "output_type": "execute_result"
    }
   ],
   "source": [
    "20 >> 2"
   ]
  },
  {
   "cell_type": "code",
   "execution_count": 30,
   "id": "cddb276b-df7b-4fa7-9035-98f214a775be",
   "metadata": {},
   "outputs": [
    {
     "data": {
      "text/plain": [
       "10"
      ]
     },
     "execution_count": 30,
     "metadata": {},
     "output_type": "execute_result"
    }
   ],
   "source": [
    "21 >> 1  # 1010"
   ]
  },
  {
   "cell_type": "code",
   "execution_count": 31,
   "id": "9dd117bd-f444-4f7f-b412-103c4e9849a3",
   "metadata": {},
   "outputs": [],
   "source": [
    "l = [1,2,3]"
   ]
  },
  {
   "cell_type": "code",
   "execution_count": 32,
   "id": "435efeeb-24d7-4681-88a3-c911b4c03bfa",
   "metadata": {},
   "outputs": [],
   "source": [
    "l1 = l"
   ]
  },
  {
   "cell_type": "code",
   "execution_count": 33,
   "id": "8e15b45b-805c-403c-a0ea-392c052db98e",
   "metadata": {},
   "outputs": [],
   "source": [
    "l1.append(4)"
   ]
  },
  {
   "cell_type": "code",
   "execution_count": 34,
   "id": "85e8dfee-2ed4-411b-a58e-f2ba254d8898",
   "metadata": {},
   "outputs": [
    {
     "data": {
      "text/plain": [
       "[1, 2, 3, 4]"
      ]
     },
     "execution_count": 34,
     "metadata": {},
     "output_type": "execute_result"
    }
   ],
   "source": [
    "l1"
   ]
  },
  {
   "cell_type": "code",
   "execution_count": 35,
   "id": "756c6a0f-5f19-41fb-a82d-1fc5a942c528",
   "metadata": {},
   "outputs": [
    {
     "data": {
      "text/plain": [
       "[1, 2, 3, 4]"
      ]
     },
     "execution_count": 35,
     "metadata": {},
     "output_type": "execute_result"
    }
   ],
   "source": [
    "l"
   ]
  },
  {
   "cell_type": "code",
   "execution_count": null,
   "id": "4550e264-c2e6-4776-ab27-a513d5e38ad5",
   "metadata": {},
   "outputs": [],
   "source": []
  }
 ],
 "metadata": {
  "kernelspec": {
   "display_name": "Python 3 (ipykernel)",
   "language": "python",
   "name": "python3"
  },
  "language_info": {
   "codemirror_mode": {
    "name": "ipython",
    "version": 3
   },
   "file_extension": ".py",
   "mimetype": "text/x-python",
   "name": "python",
   "nbconvert_exporter": "python",
   "pygments_lexer": "ipython3",
   "version": "3.10.8"
  }
 },
 "nbformat": 4,
 "nbformat_minor": 5
}
