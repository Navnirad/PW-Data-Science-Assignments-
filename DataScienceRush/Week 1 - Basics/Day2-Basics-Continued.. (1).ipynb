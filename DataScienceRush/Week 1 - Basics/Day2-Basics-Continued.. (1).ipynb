{
 "cells": [
  {
   "cell_type": "raw",
   "id": "7af20f89-d190-4450-bc31-abc510746dfd",
   "metadata": {},
   "source": [
    "#### Data Science Rush Day 2\n",
    "### Topic - Basics Part 2\n",
    "## Author - Naveen Gupta "
   ]
  },
  {
   "cell_type": "code",
   "execution_count": 1,
   "id": "e94b0fab-dfd3-4cd2-9a82-7de27ecbece2",
   "metadata": {},
   "outputs": [],
   "source": [
    "l = [1,2,3,4,'nav',34.5]"
   ]
  },
  {
   "cell_type": "code",
   "execution_count": 2,
   "id": "d4674788-bb09-4d10-8243-e9fc1d35fb1e",
   "metadata": {},
   "outputs": [
    {
     "data": {
      "text/plain": [
       "list"
      ]
     },
     "execution_count": 2,
     "metadata": {},
     "output_type": "execute_result"
    }
   ],
   "source": [
    "type(l)"
   ]
  },
  {
   "cell_type": "code",
   "execution_count": 3,
   "id": "2555f360-0887-4134-a109-8975dd77a74e",
   "metadata": {},
   "outputs": [
    {
     "data": {
      "text/plain": [
       "3"
      ]
     },
     "execution_count": 3,
     "metadata": {},
     "output_type": "execute_result"
    }
   ],
   "source": [
    "l[2]"
   ]
  },
  {
   "cell_type": "code",
   "execution_count": 4,
   "id": "cbeded0a-6e44-4034-b9bc-7bf4476a49f0",
   "metadata": {},
   "outputs": [
    {
     "data": {
      "text/plain": [
       "2"
      ]
     },
     "execution_count": 4,
     "metadata": {},
     "output_type": "execute_result"
    }
   ],
   "source": [
    "l[1]"
   ]
  },
  {
   "cell_type": "code",
   "execution_count": 5,
   "id": "625e3c6f-de89-43f6-8231-f56f3044d2dd",
   "metadata": {},
   "outputs": [],
   "source": [
    "l[1] = 3 "
   ]
  },
  {
   "cell_type": "code",
   "execution_count": 6,
   "id": "bc3a901d-ad56-44ac-b9d5-652c92aebf06",
   "metadata": {},
   "outputs": [
    {
     "data": {
      "text/plain": [
       "[1, 3, 3, 4, 'nav', 34.5]"
      ]
     },
     "execution_count": 6,
     "metadata": {},
     "output_type": "execute_result"
    }
   ],
   "source": [
    "l ### we are able to change the data in list , hence it is mustable "
   ]
  },
  {
   "cell_type": "code",
   "execution_count": 7,
   "id": "12389ce7-6a97-4d96-a311-d47bca3baca9",
   "metadata": {},
   "outputs": [],
   "source": [
    "s = 'naveen'"
   ]
  },
  {
   "cell_type": "code",
   "execution_count": 8,
   "id": "b00c7493-3e88-4b80-b9dc-f1acc07f7e58",
   "metadata": {},
   "outputs": [
    {
     "data": {
      "text/plain": [
       "'a'"
      ]
     },
     "execution_count": 8,
     "metadata": {},
     "output_type": "execute_result"
    }
   ],
   "source": [
    "s[1]"
   ]
  },
  {
   "cell_type": "code",
   "execution_count": 9,
   "id": "de6fa4ca-e71f-4c32-8424-21c7ad977fca",
   "metadata": {},
   "outputs": [
    {
     "ename": "TypeError",
     "evalue": "'str' object does not support item assignment",
     "output_type": "error",
     "traceback": [
      "\u001b[0;31m---------------------------------------------------------------------------\u001b[0m",
      "\u001b[0;31mTypeError\u001b[0m                                 Traceback (most recent call last)",
      "Cell \u001b[0;32mIn[9], line 1\u001b[0m\n\u001b[0;32m----> 1\u001b[0m \u001b[43ms\u001b[49m\u001b[43m[\u001b[49m\u001b[38;5;241;43m1\u001b[39;49m\u001b[43m]\u001b[49m \u001b[38;5;241m=\u001b[39m \u001b[38;5;124m'\u001b[39m\u001b[38;5;124mi\u001b[39m\u001b[38;5;124m'\u001b[39m\n",
      "\u001b[0;31mTypeError\u001b[0m: 'str' object does not support item assignment"
     ]
    }
   ],
   "source": [
    "s[1] = 'i' ### we are not able to change the data in a string , hence it is immutable."
   ]
  },
  {
   "cell_type": "code",
   "execution_count": 11,
   "id": "b45b8665-ccf4-4d39-b8a2-6dfcad514b40",
   "metadata": {},
   "outputs": [],
   "source": [
    "l = [1,2,3,4,5]\n",
    "b = bytes(l)"
   ]
  },
  {
   "cell_type": "code",
   "execution_count": 12,
   "id": "49d71396-7ad8-4157-9cb4-93b23bfd65c3",
   "metadata": {},
   "outputs": [
    {
     "data": {
      "text/plain": [
       "b'\\x01\\x02\\x03\\x04\\x05'"
      ]
     },
     "execution_count": 12,
     "metadata": {},
     "output_type": "execute_result"
    }
   ],
   "source": [
    "b"
   ]
  },
  {
   "cell_type": "code",
   "execution_count": 13,
   "id": "a32c6662-cd00-4626-86d6-094f5e979ef7",
   "metadata": {},
   "outputs": [],
   "source": [
    "s = {1,2,3,4,5,6,7,8,9} ## a Set"
   ]
  },
  {
   "cell_type": "code",
   "execution_count": 15,
   "id": "348151a9-2498-4167-b697-6230d29d23bc",
   "metadata": {},
   "outputs": [
    {
     "data": {
      "text/plain": [
       "{1, 2, 3, 4, 5, 6, 7, 8, 9}"
      ]
     },
     "execution_count": 15,
     "metadata": {},
     "output_type": "execute_result"
    }
   ],
   "source": [
    "s"
   ]
  },
  {
   "cell_type": "code",
   "execution_count": null,
   "id": "1a258891-c4dd-4396-8b4a-7faec289f07c",
   "metadata": {},
   "outputs": [],
   "source": []
  }
 ],
 "metadata": {
  "kernelspec": {
   "display_name": "Python 3 (ipykernel)",
   "language": "python",
   "name": "python3"
  },
  "language_info": {
   "codemirror_mode": {
    "name": "ipython",
    "version": 3
   },
   "file_extension": ".py",
   "mimetype": "text/x-python",
   "name": "python",
   "nbconvert_exporter": "python",
   "pygments_lexer": "ipython3",
   "version": "3.10.8"
  }
 },
 "nbformat": 4,
 "nbformat_minor": 5
}
