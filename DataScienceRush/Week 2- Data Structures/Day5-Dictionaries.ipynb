{
 "cells": [
  {
   "cell_type": "code",
   "execution_count": 1,
   "id": "97b76b39-7742-49c1-b80f-3ae7f3e74b81",
   "metadata": {},
   "outputs": [],
   "source": [
    "## Dictionaries \n",
    "# Author - Naveen Gupta "
   ]
  },
  {
   "cell_type": "code",
   "execution_count": null,
   "id": "c4902868-96b7-4c64-a38c-fadf01eabb52",
   "metadata": {},
   "outputs": [],
   "source": [
    "\"\"\"\n",
    "# Topic 1 - Introduction \n",
    "# Topic 2 - Creation of Dict. Object - {} , dict() , zip()\n",
    "# Topic 3 - accesing values , updating values , inserting key-value pair , deleting key-value pair\n",
    "# Topic 4 - Important Methods & Functions \n",
    "               1) len(): will return number items in dictionary.\n",
    "               2) clear(): removes all the elements but keeps the structure of the object (empty object).\n",
    "               3) get(key): will return the value associated with the specified key. If key not found will return None  \n",
    "                  [won’t raise any error].\n",
    "               4) get(key, defaultvalue): if the key is available will return the value associated with the key, \n",
    "                     otherwise will return the default value.\n",
    "               5) pop(key): removes the items associated with the key and returns the corresponding value. If the key not\n",
    "                  found will raise KeyError:\n",
    "               6) popitem(): it removes the arbitrary item and returns it. If trying to run popitem() on empty dictionary\n",
    "                  will raise KeyError: 'popitem(): dictionary is empty' \n",
    "               7) keys(): will return all the key of the dictionary.\n",
    "               8) Values(): will return all the values of the dictionary.\n",
    "               9) items(): returns list of tuple representing key-value pair.\n",
    "              10) setdefault(k,v): is used to add key value pair to the dictionary. If key exists it will return the\n",
    "                  corresponding value. Otherwise will add a key-value pair to the dictionary also returns the value.\n",
    "                  \"\"\""
   ]
  },
  {
   "cell_type": "code",
   "execution_count": null,
   "id": "a64a3c6a-53c5-497c-8d34-8b900700362e",
   "metadata": {},
   "outputs": [],
   "source": [
    "\"\"\"\n",
    "- Dict (Dictionary): is a group of key-value pair.\n",
    "- Collection of heterogeneous (keys and values )elements.\n",
    "- Insertion Order not preserved\n",
    "- Slicing and indexing not allowed\n",
    "- Mutable.\n",
    "- Values can be duplicated but keys cannot be.\n",
    "- If we are trying to insert a duplicate key-value pair old value will be replaced with new value.\n",
    "\"\"\""
   ]
  },
  {
   "cell_type": "code",
   "execution_count": 3,
   "id": "4f600510-90ea-4626-b16b-14a465897cfe",
   "metadata": {},
   "outputs": [],
   "source": [
    "d = {'a':1,'b':2,'c':3,'d':4,'e':5}"
   ]
  },
  {
   "cell_type": "code",
   "execution_count": 4,
   "id": "3a97e051-7910-4215-8986-84294ff2adae",
   "metadata": {},
   "outputs": [],
   "source": [
    "d1 =dict( [[1,2],[3,4],[4,5],[5,6],[7,8],[8,9],[9,10],[10,11]])"
   ]
  },
  {
   "cell_type": "code",
   "execution_count": 5,
   "id": "9c7d2340-dfa0-4f61-8c2d-daa04b41888c",
   "metadata": {},
   "outputs": [
    {
     "name": "stdout",
     "output_type": "stream",
     "text": [
      "{'a': 1, 'b': 2, 'c': 3, 'd': 4, 'e': 5}\n",
      "{1: 2, 3: 4, 4: 5, 5: 6, 7: 8, 8: 9, 9: 10, 10: 11}\n"
     ]
    }
   ],
   "source": [
    "print(d)\n",
    "print(d1)"
   ]
  },
  {
   "cell_type": "code",
   "execution_count": 9,
   "id": "49502920-27a3-4b26-98fb-18a5bd8dd77c",
   "metadata": {},
   "outputs": [],
   "source": [
    "l = [11,12,13,14,15,16,17,18]\n",
    "l1 = [21,22,23,24,25,26,27,28]\n",
    "d2 = dict(zip(l,l1))"
   ]
  },
  {
   "cell_type": "code",
   "execution_count": 10,
   "id": "b2d8b54d-ed45-44c0-b778-74cccf094ad4",
   "metadata": {},
   "outputs": [
    {
     "data": {
      "text/plain": [
       "{11: 21, 12: 22, 13: 23, 14: 24, 15: 25, 16: 26, 17: 27, 18: 28}"
      ]
     },
     "execution_count": 10,
     "metadata": {},
     "output_type": "execute_result"
    }
   ],
   "source": [
    "d2"
   ]
  },
  {
   "cell_type": "code",
   "execution_count": 11,
   "id": "7e65232b-ea68-4ebf-b276-2e6e8d84a7c2",
   "metadata": {},
   "outputs": [],
   "source": [
    "## Topic 3"
   ]
  },
  {
   "cell_type": "code",
   "execution_count": 12,
   "id": "6027ab65-e709-4014-a826-64cff4bf8048",
   "metadata": {},
   "outputs": [
    {
     "data": {
      "text/plain": [
       "2"
      ]
     },
     "execution_count": 12,
     "metadata": {},
     "output_type": "execute_result"
    }
   ],
   "source": [
    "d['b'] ## accessing values"
   ]
  },
  {
   "cell_type": "code",
   "execution_count": 13,
   "id": "59e53668-0384-4f03-a22c-e2cb33b79b30",
   "metadata": {},
   "outputs": [
    {
     "data": {
      "text/plain": [
       "1"
      ]
     },
     "execution_count": 13,
     "metadata": {},
     "output_type": "execute_result"
    }
   ],
   "source": [
    "d['a']"
   ]
  },
  {
   "cell_type": "code",
   "execution_count": 14,
   "id": "60517f47-fd92-4298-8b8f-17ca3f3edcb1",
   "metadata": {},
   "outputs": [],
   "source": [
    "d['a'] = 0 # updating values "
   ]
  },
  {
   "cell_type": "code",
   "execution_count": 15,
   "id": "723a57de-910b-479e-96cd-e058298918d0",
   "metadata": {},
   "outputs": [
    {
     "data": {
      "text/plain": [
       "0"
      ]
     },
     "execution_count": 15,
     "metadata": {},
     "output_type": "execute_result"
    }
   ],
   "source": [
    "d['a']"
   ]
  },
  {
   "cell_type": "code",
   "execution_count": 21,
   "id": "cf65e8d0-6307-4122-8885-bcff0d90d5a2",
   "metadata": {},
   "outputs": [],
   "source": [
    "d['f'] = 6 ## inserting new key-value pair"
   ]
  },
  {
   "cell_type": "code",
   "execution_count": 22,
   "id": "aee7ade0-6958-414c-9669-f8c0e4374362",
   "metadata": {},
   "outputs": [
    {
     "data": {
      "text/plain": [
       "{'a': 0, 'b': 2, 'c': 3, 'd': 4, 'e': 5, 'f': 6}"
      ]
     },
     "execution_count": 22,
     "metadata": {},
     "output_type": "execute_result"
    }
   ],
   "source": [
    "d"
   ]
  },
  {
   "cell_type": "code",
   "execution_count": 23,
   "id": "4f2a8440-8562-47dc-9c53-1d039369de2f",
   "metadata": {},
   "outputs": [],
   "source": [
    "del d['f']  ## Deleting v=key-value pair "
   ]
  },
  {
   "cell_type": "code",
   "execution_count": 24,
   "id": "e4b3163b-752b-432a-8cca-eecbea1c9e6e",
   "metadata": {},
   "outputs": [
    {
     "data": {
      "text/plain": [
       "{'a': 0, 'b': 2, 'c': 3, 'd': 4, 'e': 5}"
      ]
     },
     "execution_count": 24,
     "metadata": {},
     "output_type": "execute_result"
    }
   ],
   "source": [
    "d"
   ]
  },
  {
   "cell_type": "code",
   "execution_count": 25,
   "id": "78bd77b5-4058-468f-ba83-32f9bdbe57ec",
   "metadata": {},
   "outputs": [],
   "source": [
    "## Important Methods & Functions "
   ]
  },
  {
   "cell_type": "code",
   "execution_count": 26,
   "id": "dd9f3195-93be-4c94-9e4d-f5546d54350f",
   "metadata": {},
   "outputs": [
    {
     "data": {
      "text/plain": [
       "5"
      ]
     },
     "execution_count": 26,
     "metadata": {},
     "output_type": "execute_result"
    }
   ],
   "source": [
    "len(d)"
   ]
  },
  {
   "cell_type": "code",
   "execution_count": 27,
   "id": "f3a6ac06-372a-47d9-ba31-010e201309ff",
   "metadata": {},
   "outputs": [
    {
     "data": {
      "text/plain": [
       "3"
      ]
     },
     "execution_count": 27,
     "metadata": {},
     "output_type": "execute_result"
    }
   ],
   "source": [
    "d.get('c')"
   ]
  },
  {
   "cell_type": "code",
   "execution_count": 28,
   "id": "6d448312-0c96-4b00-b0a0-f03e69de1602",
   "metadata": {},
   "outputs": [
    {
     "data": {
      "text/plain": [
       "-1"
      ]
     },
     "execution_count": 28,
     "metadata": {},
     "output_type": "execute_result"
    }
   ],
   "source": [
    "d.get('g',-1)"
   ]
  },
  {
   "cell_type": "code",
   "execution_count": 31,
   "id": "83e4d44e-16be-4a39-82e7-51cb5543a58e",
   "metadata": {},
   "outputs": [
    {
     "data": {
      "text/plain": [
       "5"
      ]
     },
     "execution_count": 31,
     "metadata": {},
     "output_type": "execute_result"
    }
   ],
   "source": [
    "d.pop('e')"
   ]
  },
  {
   "cell_type": "code",
   "execution_count": 32,
   "id": "15c5b48a-998e-421f-aad2-6e877a173a5c",
   "metadata": {},
   "outputs": [
    {
     "data": {
      "text/plain": [
       "{'a': 0, 'b': 2, 'c': 3, 'd': 4}"
      ]
     },
     "execution_count": 32,
     "metadata": {},
     "output_type": "execute_result"
    }
   ],
   "source": [
    "d"
   ]
  },
  {
   "cell_type": "code",
   "execution_count": 33,
   "id": "d49d5450-16fe-4145-aa83-f05fba2a9c92",
   "metadata": {},
   "outputs": [
    {
     "data": {
      "text/plain": [
       "('d', 4)"
      ]
     },
     "execution_count": 33,
     "metadata": {},
     "output_type": "execute_result"
    }
   ],
   "source": [
    "d.popitem()"
   ]
  },
  {
   "cell_type": "code",
   "execution_count": 39,
   "id": "85fbe5f9-9869-479c-aec1-8c6fa1575726",
   "metadata": {},
   "outputs": [],
   "source": [
    "k = d.keys()"
   ]
  },
  {
   "cell_type": "code",
   "execution_count": 40,
   "id": "f565ff71-3458-495f-8f1f-7192adaa10aa",
   "metadata": {},
   "outputs": [],
   "source": [
    "v = d.values()"
   ]
  },
  {
   "cell_type": "code",
   "execution_count": 41,
   "id": "6b3fc300-959b-4e92-92a6-a9e343ccdd13",
   "metadata": {},
   "outputs": [],
   "source": [
    "i = d.items()"
   ]
  },
  {
   "cell_type": "code",
   "execution_count": 44,
   "id": "0a1a2ca1-495a-41f4-be9c-b016547e6269",
   "metadata": {},
   "outputs": [
    {
     "data": {
      "text/plain": [
       "(dict_keys(['a', 'b', 'c']),\n",
       " dict_values([0, 2, 3]),\n",
       " dict_items([('a', 0), ('b', 2), ('c', 3)]))"
      ]
     },
     "execution_count": 44,
     "metadata": {},
     "output_type": "execute_result"
    }
   ],
   "source": [
    "k,v,i"
   ]
  },
  {
   "cell_type": "code",
   "execution_count": 45,
   "id": "456684dc-3cd2-4148-90fa-3b19f186fc0c",
   "metadata": {},
   "outputs": [
    {
     "data": {
      "text/plain": [
       "5"
      ]
     },
     "execution_count": 45,
     "metadata": {},
     "output_type": "execute_result"
    }
   ],
   "source": [
    "d.setdefault('e',5)"
   ]
  },
  {
   "cell_type": "code",
   "execution_count": 46,
   "id": "521752f3-deb6-4420-9cb7-806cd71c03da",
   "metadata": {},
   "outputs": [
    {
     "data": {
      "text/plain": [
       "0"
      ]
     },
     "execution_count": 46,
     "metadata": {},
     "output_type": "execute_result"
    }
   ],
   "source": [
    "d.setdefault('a',1)"
   ]
  },
  {
   "cell_type": "code",
   "execution_count": 47,
   "id": "7d6665fc-f0ec-403e-b438-4d8e8d29b882",
   "metadata": {},
   "outputs": [],
   "source": [
    "d.update(d1)"
   ]
  },
  {
   "cell_type": "code",
   "execution_count": 48,
   "id": "b5f9b190-b5d2-4ee6-b9fb-c2bcd9f8919d",
   "metadata": {},
   "outputs": [
    {
     "data": {
      "text/plain": [
       "{'a': 0,\n",
       " 'b': 2,\n",
       " 'c': 3,\n",
       " 'e': 5,\n",
       " 1: 2,\n",
       " 3: 4,\n",
       " 4: 5,\n",
       " 5: 6,\n",
       " 7: 8,\n",
       " 8: 9,\n",
       " 9: 10,\n",
       " 10: 11}"
      ]
     },
     "execution_count": 48,
     "metadata": {},
     "output_type": "execute_result"
    }
   ],
   "source": [
    "d"
   ]
  },
  {
   "cell_type": "code",
   "execution_count": null,
   "id": "b837b1c9-d94a-49fa-8716-c99f5a894d0e",
   "metadata": {},
   "outputs": [],
   "source": []
  }
 ],
 "metadata": {
  "kernelspec": {
   "display_name": "Python 3 (ipykernel)",
   "language": "python",
   "name": "python3"
  },
  "language_info": {
   "codemirror_mode": {
    "name": "ipython",
    "version": 3
   },
   "file_extension": ".py",
   "mimetype": "text/x-python",
   "name": "python",
   "nbconvert_exporter": "python",
   "pygments_lexer": "ipython3",
   "version": "3.10.8"
  }
 },
 "nbformat": 4,
 "nbformat_minor": 5
}
