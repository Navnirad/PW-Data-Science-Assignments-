{
 "cells": [
  {
   "cell_type": "code",
   "execution_count": 51,
   "id": "f10e3696-c018-4eb9-99a4-6c4510a16535",
   "metadata": {},
   "outputs": [],
   "source": [
    "#### Lists \n",
    "## Author - Naveen Gupta "
   ]
  },
  {
   "cell_type": "code",
   "execution_count": null,
   "id": "3aa25e1b-0007-4c5d-bffb-5278611579bf",
   "metadata": {},
   "outputs": [],
   "source": [
    "\"\"\"\n",
    "# Topic 1 - Intorduction \n",
    "# Topic 2 - Creation of List Objects- [] , split() , list() \n",
    "# Topic 3 - Accessing elements of List - Indexing & Slicing \n",
    "# Topic 4 - Important Functions :- \n",
    "                           1) len(): returns total number of elements\n",
    "                           2) count(): returns number of occurrences of specified elements. If not found returns 0.\n",
    "                           3) index(): returns the index of first occurrence of specified element. If element does not exist raise ValueError\n",
    "                           \n",
    "# Topic 5 - Manipulating List Elements :- \n",
    "                        \n",
    "                           1) append(): is used to add an element at the end of the list.\n",
    "                           2) insert(): is used to insert a value at any index.\n",
    "                           \n",
    "                           [note] :- If the specified index is greater than max index then element will be inserted at the end, if it is\n",
    "                           smaller than min index it will be inserted at the beginning.\n",
    "\n",
    "                           3) extend(): is used to copy elements of one list into another list.\n",
    "                           Note: it accepts iterable objects. [for dictionary it will add keys only]\n",
    "\n",
    "                           4) remove(): used to remove specified element from the list.\n",
    "                           If the element present multiple times it removes first occurrence.\n",
    "                           If element not found: ValueError: list.remove(x): x not in list.\n",
    "                           \n",
    "                           5) pop(): removes and returns the last element of the list.\n",
    "                           If the list is empty: IndexError: pop from empty list.\n",
    "                           \n",
    "                           6) reverse(): it reverses the order of elements.\n",
    "                           \n",
    "                           7) sort() sorts the elements in natural sorting order (for numbers ==> Increasing, string==>\n",
    "                           alphabetical )\n",
    "                           Note:- If the list contains number and string [in Python3 it won’t work, but in python2 it\n",
    "                           sorts the first and then the string]\n",
    "                           # To sort in reverse order - sort(reverse=True)\n",
    "                           \n",
    "                           8) clear(): removes all the elements of the list and keep empty list object\n",
    "                           del is used to remove the object.\n",
    "                           \n",
    "# Topic 6 - Aliasing & Cloning : -\n",
    "                           Aliasing(shallow copy): Process of giving another reference variable to the existing object is\n",
    "                           k/a aliasing.\n",
    "                           Cloning (deep Copy): Process of creating exactly same independent object is k/a cloning.\n",
    "                           Implementing cloning:\n",
    "                           1) Using Slicing\n",
    "                           2) Using copy method\n",
    "                           \n",
    "# Topic 7 - Comparing List Objects :- \n",
    "                           For [>,<,>=,<=] only 1st element will be compared, if found equal then will compare the next\n",
    "                           one\n",
    "                           \n",
    "                           # For [==, !=]\n",
    "                           1) Number of elements should be equal\n",
    "                           2) Order of element need to be same\n",
    "                           3) Content of elements should be same\n",
    "                           \n",
    "# Topic 8 - List Comprehension - \n",
    "                             List Comprehension: Is an easy and compact way of creating list objects form iterableobjects.\n",
    "                             Syntax: List = [ item for item in iterable_object if condition (optional) ]\n",
    "\n",
    "\"\"\"\n",
    "                         "
   ]
  },
  {
   "cell_type": "code",
   "execution_count": null,
   "id": "647d2906-52c9-4c6d-8d77-df924e3d2780",
   "metadata": {},
   "outputs": [],
   "source": [
    "\"\"\"\n",
    "List - Lists is a collection of heterogenous element.\n",
    "Insertion Order is Preserved.\n",
    "Duplicates are allowed.\n",
    "Indexing & slicing applicable. \n",
    "Mutable.\n",
    "[] are used to define list object.\n",
    "\"\"\""
   ]
  },
  {
   "cell_type": "code",
   "execution_count": null,
   "id": "5fdc3669-a9b8-4250-8e80-3c6f7b82c799",
   "metadata": {},
   "outputs": [],
   "source": [
    "## Creation of List Objects "
   ]
  },
  {
   "cell_type": "code",
   "execution_count": 3,
   "id": "215f8604-4322-4652-b489-b0cd05ebd873",
   "metadata": {},
   "outputs": [],
   "source": [
    "a  = 'Hello , This is Data Science Rush'"
   ]
  },
  {
   "cell_type": "code",
   "execution_count": 4,
   "id": "0831b5bf-ad62-4cdf-bd8e-4b1a568f63f9",
   "metadata": {},
   "outputs": [
    {
     "data": {
      "text/plain": [
       "['Hello', ',', 'This', 'is', 'Data', 'Science', 'Rush']"
      ]
     },
     "execution_count": 4,
     "metadata": {},
     "output_type": "execute_result"
    }
   ],
   "source": [
    "l = a.split()\n",
    "l"
   ]
  },
  {
   "cell_type": "code",
   "execution_count": 5,
   "id": "2cbca48a-e9f3-4bb2-9c2d-12bd25171376",
   "metadata": {},
   "outputs": [
    {
     "name": "stdout",
     "output_type": "stream",
     "text": [
      "Hello\n",
      ",\n",
      "This\n",
      "is\n",
      "Data\n",
      "Science\n",
      "Rush\n"
     ]
    }
   ],
   "source": [
    "for i in l:\n",
    "    print(i)"
   ]
  },
  {
   "cell_type": "raw",
   "id": "dba9acb8-60b1-4630-9592-95470effc74a",
   "metadata": {},
   "source": [
    "#Accessing elements of list :- \n",
    "\n",
    "1) Indexing \n",
    "2) Slicing"
   ]
  },
  {
   "cell_type": "code",
   "execution_count": 6,
   "id": "0507c069-2bb6-40c8-bf34-899aed50672e",
   "metadata": {},
   "outputs": [],
   "source": [
    "a = [1,2,3,4,5,5,6,7,8]"
   ]
  },
  {
   "cell_type": "code",
   "execution_count": 7,
   "id": "4cbea48f-c5c8-4a56-8dc0-74cbe353daa7",
   "metadata": {},
   "outputs": [
    {
     "data": {
      "text/plain": [
       "[1, 3, 5, 6, 8]"
      ]
     },
     "execution_count": 7,
     "metadata": {},
     "output_type": "execute_result"
    }
   ],
   "source": [
    "a[::2]"
   ]
  },
  {
   "cell_type": "raw",
   "id": "17bf637d-7b3e-4b9a-9f8d-803631a71bed",
   "metadata": {},
   "source": [
    "##Important Functions :-\n",
    "\n",
    "1) len(): returns total number of elements\n",
    "\n",
    "2) count(): returns number of occurrences of specified elements. If not found returns 0.\n",
    "\n",
    "3) index(): returns the index of first occurrence of specified element. If element does not exist raise ValueError\n"
   ]
  },
  {
   "cell_type": "code",
   "execution_count": 8,
   "id": "9b635fd8-9671-4eff-8f63-84ffea20f954",
   "metadata": {},
   "outputs": [
    {
     "data": {
      "text/plain": [
       "9"
      ]
     },
     "execution_count": 8,
     "metadata": {},
     "output_type": "execute_result"
    }
   ],
   "source": [
    "len(a)"
   ]
  },
  {
   "cell_type": "code",
   "execution_count": 9,
   "id": "228adfd0-cdaa-4895-8b19-2b3cdf7cec41",
   "metadata": {},
   "outputs": [
    {
     "data": {
      "text/plain": [
       "1"
      ]
     },
     "execution_count": 9,
     "metadata": {},
     "output_type": "execute_result"
    }
   ],
   "source": [
    "a.count(2)"
   ]
  },
  {
   "cell_type": "code",
   "execution_count": 10,
   "id": "963c1263-8dfa-4b39-883f-886b35059dad",
   "metadata": {},
   "outputs": [
    {
     "data": {
      "text/plain": [
       "2"
      ]
     },
     "execution_count": 10,
     "metadata": {},
     "output_type": "execute_result"
    }
   ],
   "source": [
    "a.index(3)"
   ]
  },
  {
   "cell_type": "raw",
   "id": "33630683-9e74-411a-9a21-cd7ff5944b64",
   "metadata": {},
   "source": [
    "Manipulating List Elements:\n",
    "\n",
    "1) append(): is used to add an element at the end of the list.\n",
    "2) insert(): is used to insert a value at any index.\n",
    "\n",
    "[note] :- If the specified index is greater than max index then element will be inserted at the end, if it is\n",
    "smaller than min index it will be inserted at the beginning.\n",
    "\n",
    "3) extend(): is used to copy elements of one list into another list.\n",
    "Note: it accepts iterable objects. [for dictionary it will add keys only]\n",
    "\n",
    "4) remove(): used to remove specified element from the list.\n",
    "If the element present multiple times it removes first occurrence.\n",
    "\n",
    "If element not found: ValueError: list.remove(x): x not in list.\n",
    "\n",
    "5) pop(): removes and returns the last element of the list.\n",
    "\n",
    "If the list is empty: IndexError: pop from empty list.\n",
    "\n"
   ]
  },
  {
   "cell_type": "code",
   "execution_count": 11,
   "id": "659ca54d-4b3a-46d3-8a90-74ccb2675643",
   "metadata": {},
   "outputs": [
    {
     "data": {
      "text/plain": [
       "[1, 2, 3, 4, 5, 5, 6, 7, 8, 10]"
      ]
     },
     "execution_count": 11,
     "metadata": {},
     "output_type": "execute_result"
    }
   ],
   "source": [
    "a.append(10)\n",
    "a"
   ]
  },
  {
   "cell_type": "code",
   "execution_count": 12,
   "id": "229de0ac-acd8-4b5c-99ae-85dd0ae89cee",
   "metadata": {},
   "outputs": [],
   "source": [
    "a.insert(9,8)"
   ]
  },
  {
   "cell_type": "code",
   "execution_count": 13,
   "id": "d75a3046-0b1e-482a-94c2-eed7a55a1e00",
   "metadata": {},
   "outputs": [],
   "source": [
    "a.insert(9,9) # index , value"
   ]
  },
  {
   "cell_type": "code",
   "execution_count": 14,
   "id": "5dc04acd-a5a3-45f7-8a4d-da3e288c739a",
   "metadata": {},
   "outputs": [
    {
     "data": {
      "text/plain": [
       "[1, 2, 3, 4, 5, 5, 6, 7, 8, 9, 8, 10]"
      ]
     },
     "execution_count": 14,
     "metadata": {},
     "output_type": "execute_result"
    }
   ],
   "source": [
    "a"
   ]
  },
  {
   "cell_type": "code",
   "execution_count": 15,
   "id": "9f76dc34-cd4c-4dc8-864f-8ca5d8e2ab1d",
   "metadata": {},
   "outputs": [
    {
     "data": {
      "text/plain": [
       "[1, 2, 3, 4, 5, 5, 6, 7, 8, 9, 8, 10, 11, 12, 13]"
      ]
     },
     "execution_count": 15,
     "metadata": {},
     "output_type": "execute_result"
    }
   ],
   "source": [
    "b = [11,12,13]\n",
    "a.extend(b)\n",
    "a"
   ]
  },
  {
   "cell_type": "code",
   "execution_count": 16,
   "id": "c33441c3-6d41-4b99-960c-710b28d5a3f7",
   "metadata": {},
   "outputs": [],
   "source": [
    "a.remove(10)"
   ]
  },
  {
   "cell_type": "code",
   "execution_count": 17,
   "id": "b000d68c-9aa7-4123-be53-eb73595a7685",
   "metadata": {},
   "outputs": [
    {
     "data": {
      "text/plain": [
       "[1, 2, 3, 4, 5, 5, 6, 7, 8, 9, 8, 11, 12, 13]"
      ]
     },
     "execution_count": 17,
     "metadata": {},
     "output_type": "execute_result"
    }
   ],
   "source": [
    "a"
   ]
  },
  {
   "cell_type": "code",
   "execution_count": 18,
   "id": "080b92d4-db90-49af-a301-b10669d09ff9",
   "metadata": {},
   "outputs": [
    {
     "data": {
      "text/plain": [
       "[1, 2, 3, 4, 5, 5, 6, 7, 8, 9, 8, 11, 12]"
      ]
     },
     "execution_count": 18,
     "metadata": {},
     "output_type": "execute_result"
    }
   ],
   "source": [
    "a.pop()\n",
    "a"
   ]
  },
  {
   "cell_type": "raw",
   "id": "4190b3fd-0b59-4af9-987a-0d16bb5c1196",
   "metadata": {},
   "source": [
    "6) reverse(): it reverses the order of\n",
    "elements."
   ]
  },
  {
   "cell_type": "code",
   "execution_count": 19,
   "id": "53b942d8-ad7a-4b90-9732-d09facbb4f62",
   "metadata": {},
   "outputs": [],
   "source": [
    "a.reverse()"
   ]
  },
  {
   "cell_type": "code",
   "execution_count": 20,
   "id": "a41cbe85-27e3-4020-87c0-d049a6a90c7c",
   "metadata": {},
   "outputs": [
    {
     "data": {
      "text/plain": [
       "[12, 11, 8, 9, 8, 7, 6, 5, 5, 4, 3, 2, 1]"
      ]
     },
     "execution_count": 20,
     "metadata": {},
     "output_type": "execute_result"
    }
   ],
   "source": [
    "a"
   ]
  },
  {
   "cell_type": "code",
   "execution_count": 21,
   "id": "bdc74660-27cc-43d6-94df-42d4d19ef225",
   "metadata": {},
   "outputs": [],
   "source": [
    "a.reverse()"
   ]
  },
  {
   "cell_type": "code",
   "execution_count": 22,
   "id": "348e2965-31ff-41d9-9cb0-fe67081dc8e0",
   "metadata": {},
   "outputs": [
    {
     "data": {
      "text/plain": [
       "[1, 2, 3, 4, 5, 5, 6, 7, 8, 9, 8, 11, 12]"
      ]
     },
     "execution_count": 22,
     "metadata": {},
     "output_type": "execute_result"
    }
   ],
   "source": [
    "a"
   ]
  },
  {
   "cell_type": "raw",
   "id": "6f87c607-b654-4ceb-b7a8-fcdc0acd2084",
   "metadata": {},
   "source": [
    "7) sort() sorts the elements in natural sorting order (for numbers ==> Increasing, string==> alphabetical )\n",
    "\n",
    "Note:- If the list contains number and string [in Python3 it won’t work, but in python2 it sorts the first and then the string]\n",
    "\n",
    "# To sort in reverse order - sort(reverse=True)"
   ]
  },
  {
   "cell_type": "code",
   "execution_count": 23,
   "id": "1b0dd20c-6d63-4c2f-b190-fc4583d7fdb6",
   "metadata": {},
   "outputs": [],
   "source": [
    "b =[1,3,6,2,5,9,4,11,11,0]"
   ]
  },
  {
   "cell_type": "code",
   "execution_count": 24,
   "id": "cae02364-d08a-403f-9f85-cd70a1b32bfb",
   "metadata": {},
   "outputs": [
    {
     "data": {
      "text/plain": [
       "[0, 1, 2, 3, 4, 5, 6, 9, 11, 11]"
      ]
     },
     "execution_count": 24,
     "metadata": {},
     "output_type": "execute_result"
    }
   ],
   "source": [
    "b.sort()\n",
    "b"
   ]
  },
  {
   "cell_type": "code",
   "execution_count": 26,
   "id": "e87c0264-a265-4801-995b-20db44915b5c",
   "metadata": {},
   "outputs": [
    {
     "data": {
      "text/plain": [
       "[11, 11, 9, 6, 5, 4, 3, 2, 1, 0]"
      ]
     },
     "execution_count": 26,
     "metadata": {},
     "output_type": "execute_result"
    }
   ],
   "source": [
    "b.sort(reverse = True)\n",
    "b"
   ]
  },
  {
   "cell_type": "raw",
   "id": "e8b2133b-ceb7-47f0-b67f-443a32e0b94a",
   "metadata": {},
   "source": [
    "## Aliasing & Cloning \n",
    "\n",
    "Aliasing(shallow copy): Process of giving another reference variable to the existing object is k/a aliasing."
   ]
  },
  {
   "cell_type": "code",
   "execution_count": 28,
   "id": "50cd62dd-65f7-4ab6-bca9-8903cfd019e1",
   "metadata": {},
   "outputs": [
    {
     "name": "stdout",
     "output_type": "stream",
     "text": [
      "[1, 2, 3, 4, 5] [1, 2, 3, 4, 5]\n"
     ]
    }
   ],
   "source": [
    "l = [1,2,3,4,5]\n",
    "l1 = l\n",
    "print(l,l1)"
   ]
  },
  {
   "cell_type": "code",
   "execution_count": 29,
   "id": "b5a0f623-1c52-4d2b-9978-48ed3c8f6af0",
   "metadata": {},
   "outputs": [
    {
     "data": {
      "text/plain": [
       "5"
      ]
     },
     "execution_count": 29,
     "metadata": {},
     "output_type": "execute_result"
    }
   ],
   "source": [
    "l.pop()"
   ]
  },
  {
   "cell_type": "code",
   "execution_count": 30,
   "id": "5e02dfc2-e713-4f6a-a4cc-daa93d4c0ddf",
   "metadata": {},
   "outputs": [
    {
     "name": "stdout",
     "output_type": "stream",
     "text": [
      "[1, 2, 3, 4] [1, 2, 3, 4]\n"
     ]
    }
   ],
   "source": [
    "print(l,l1)"
   ]
  },
  {
   "cell_type": "code",
   "execution_count": 31,
   "id": "aab9eb0d-6bfd-4b17-911a-7646f5cbe46c",
   "metadata": {},
   "outputs": [],
   "source": [
    "## Point to Note - as l chnages , l1 also changes , so it is a shallow copy "
   ]
  },
  {
   "cell_type": "raw",
   "id": "9cdd34e6-4c4f-4d25-82b2-020a7d238399",
   "metadata": {},
   "source": [
    "Cloning (deep Copy): Process of creating exactly same independent object is k/a cloning.\n",
    "\n",
    "Implementing cloning:\n",
    "1) Using Slicing\n",
    "2) Using copy method"
   ]
  },
  {
   "cell_type": "code",
   "execution_count": 33,
   "id": "441bc356-3b3b-46d0-b1d4-4edb40474ed9",
   "metadata": {},
   "outputs": [
    {
     "name": "stdout",
     "output_type": "stream",
     "text": [
      "[1, 2, 3, 4, 5] [1, 2, 3, 4, 5] [1, 2, 3, 4, 5]\n"
     ]
    }
   ],
   "source": [
    "l = [1,2,3,4,5]\n",
    "l1 = l ## aliasing\n",
    "l2 = l.copy() ## cloning\n",
    "print(l,l1,l2)"
   ]
  },
  {
   "cell_type": "code",
   "execution_count": 34,
   "id": "55af5157-5d28-4e15-9084-1cc40ecd83cf",
   "metadata": {},
   "outputs": [
    {
     "name": "stdout",
     "output_type": "stream",
     "text": [
      "[1, 2, 3, 4] [1, 2, 3, 4] [1, 2, 3, 4, 5]\n"
     ]
    }
   ],
   "source": [
    "l.pop()\n",
    "print(l,l1,l2)"
   ]
  },
  {
   "cell_type": "code",
   "execution_count": 35,
   "id": "8b36c690-a051-403b-8b76-8c210f3f956b",
   "metadata": {},
   "outputs": [],
   "source": [
    "## Point to note :- shallow copy (aliasing) changes but deep copy(cloning) doesn't"
   ]
  },
  {
   "cell_type": "raw",
   "id": "96f3393a-b5af-4de4-b969-2857e4407a9d",
   "metadata": {},
   "source": [
    "# Comparing list Object: For [>,<,>=,<=] only 1st element will be compared,\n",
    "if found equal then will compare the next one\n",
    "\n",
    "# For [==, !=]\n",
    "1) Number of elements should be\n",
    "equal\n",
    "2) Order of element need to be\n",
    "same\n",
    "3) Content of elements should be\n",
    "same"
   ]
  },
  {
   "cell_type": "code",
   "execution_count": 36,
   "id": "6d0ca13d-b1a9-479d-8e83-bbba9d9719a8",
   "metadata": {},
   "outputs": [
    {
     "data": {
      "text/plain": [
       "True"
      ]
     },
     "execution_count": 36,
     "metadata": {},
     "output_type": "execute_result"
    }
   ],
   "source": [
    "l >= l1"
   ]
  },
  {
   "cell_type": "code",
   "execution_count": 38,
   "id": "e8a87ee5-6ba9-4591-83f1-b1f4d0423245",
   "metadata": {},
   "outputs": [
    {
     "data": {
      "text/plain": [
       "False"
      ]
     },
     "execution_count": 38,
     "metadata": {},
     "output_type": "execute_result"
    }
   ],
   "source": [
    "l1 >= l2"
   ]
  },
  {
   "cell_type": "code",
   "execution_count": 39,
   "id": "a671c692-37ff-4a5a-8642-0dc0e586fefd",
   "metadata": {},
   "outputs": [
    {
     "data": {
      "text/plain": [
       "True"
      ]
     },
     "execution_count": 39,
     "metadata": {},
     "output_type": "execute_result"
    }
   ],
   "source": [
    "l1 == l"
   ]
  },
  {
   "cell_type": "code",
   "execution_count": 40,
   "id": "47b4adc7-2565-4670-a013-1aaca56daccf",
   "metadata": {},
   "outputs": [
    {
     "data": {
      "text/plain": [
       "False"
      ]
     },
     "execution_count": 40,
     "metadata": {},
     "output_type": "execute_result"
    }
   ],
   "source": [
    "l1 == l2"
   ]
  },
  {
   "cell_type": "raw",
   "id": "1fd334a2-92c6-4332-a151-19a5f65a7418",
   "metadata": {},
   "source": [
    "# clear(): removes all the elements of the list and keep empty list object\n",
    "del is used to remove the object."
   ]
  },
  {
   "cell_type": "code",
   "execution_count": 41,
   "id": "091fbd64-4b43-453f-acc5-384bbf210dd5",
   "metadata": {},
   "outputs": [
    {
     "data": {
      "text/plain": [
       "[]"
      ]
     },
     "execution_count": 41,
     "metadata": {},
     "output_type": "execute_result"
    }
   ],
   "source": [
    "l1.clear()\n",
    "l1"
   ]
  },
  {
   "cell_type": "code",
   "execution_count": 42,
   "id": "2e09b407-55ec-4770-b2df-e940378351fe",
   "metadata": {},
   "outputs": [],
   "source": [
    "del l1"
   ]
  },
  {
   "cell_type": "code",
   "execution_count": 44,
   "id": "6af128c9-8558-47c8-9681-0a2f47dd6adc",
   "metadata": {},
   "outputs": [],
   "source": [
    "## Nesting of list"
   ]
  },
  {
   "cell_type": "raw",
   "id": "a100151b-6eef-41fc-8d34-751f2e3bb5b3",
   "metadata": {},
   "source": [
    "List Comprehension: Is an easy and compact way of creating list objects form iterableobjects.\n",
    "\n",
    "Syntax: List = [ item for item in iterable_object if condition (optional) ]"
   ]
  },
  {
   "cell_type": "code",
   "execution_count": 47,
   "id": "0b66c888-8579-440c-a282-b40e5c3f03bc",
   "metadata": {},
   "outputs": [],
   "source": [
    "l1 = [a for a in range(101) if a%7 == 0]"
   ]
  },
  {
   "cell_type": "code",
   "execution_count": 48,
   "id": "83bed99c-aaa9-4814-9f31-a8fa49e612d5",
   "metadata": {},
   "outputs": [
    {
     "data": {
      "text/plain": [
       "[0, 7, 14, 21, 28, 35, 42, 49, 56, 63, 70, 77, 84, 91, 98]"
      ]
     },
     "execution_count": 48,
     "metadata": {},
     "output_type": "execute_result"
    }
   ],
   "source": [
    "l1"
   ]
  },
  {
   "cell_type": "code",
   "execution_count": null,
   "id": "32cae9d9-ca2c-4516-8250-194825f8d579",
   "metadata": {},
   "outputs": [],
   "source": []
  }
 ],
 "metadata": {
  "kernelspec": {
   "display_name": "Python 3 (ipykernel)",
   "language": "python",
   "name": "python3"
  },
  "language_info": {
   "codemirror_mode": {
    "name": "ipython",
    "version": 3
   },
   "file_extension": ".py",
   "mimetype": "text/x-python",
   "name": "python",
   "nbconvert_exporter": "python",
   "pygments_lexer": "ipython3",
   "version": "3.10.8"
  }
 },
 "nbformat": 4,
 "nbformat_minor": 5
}
