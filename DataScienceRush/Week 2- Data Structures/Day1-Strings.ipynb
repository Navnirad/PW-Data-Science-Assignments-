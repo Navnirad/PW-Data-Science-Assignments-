{
 "cells": [
  {
   "cell_type": "code",
   "execution_count": 1,
   "id": "e063ce33-29c5-4f62-836b-0791f500f2fc",
   "metadata": {},
   "outputs": [],
   "source": [
    "### Topic - Strings \n",
    "## Author - Naveen Gupta "
   ]
  },
  {
   "cell_type": "raw",
   "id": "747d647d-73ac-4dfb-930e-ac773c58d828",
   "metadata": {},
   "source": [
    "## Topic 1 - Indexing & Slicing \n",
    "## Topic 2 - Methods - \n",
    "                       A)Removing spaces from string:\n",
    "                              1) strip(): removes spaces from both the side of the string.\n",
    "                              2) lstrip(): removes spaces from Left side of the string.\n",
    "                              3) rstrip()removes spaces from Left side of the string.\n",
    "                              \n",
    "                       B) Finding Substring:\n",
    "                             Forward Direction\n",
    "                             1) find()\n",
    "                             2) index()\n",
    "                             Backward Direction\n",
    "                             1) rfind()\n",
    "                             2) rindex()\n",
    "\n",
    "                             find(): Returns the beginning index of the first occurrence of the given substring. If substring not found returns -1.\n",
    "                             index() is exactly same as find, if substring not found will raise ValueError: substring not found\n",
    "                             rfind(): Returns the beginning index of the first occurrence from of the given substring. If substringnot found returns -1.\n",
    "                             findex() is exactly same as find, if substring not found will raise ValueError: substring not found\n",
    "                            \n",
    "                       C) Counting Substring of a given string:\n",
    "                            1) count(substring):\n",
    "                            2) count(substring, Begin, End)\n",
    "                        \n",
    "                       D) Replacing a substring:\n",
    "                            1) replace(oldString, newString)\n",
    "                            2) replace(oldString, newString, max)\n",
    "                            \n",
    "                       E) Splitting String: \n",
    "                            1) split(Seprator): is used to split a string into substring and returns the list of substring.\n",
    "                            Default Separator = ‘ ’ space character. But we can use any separator, need to be in string.\n",
    "                            \n",
    "                       F) join(): is used to join string elements of iterable object and returns a string. \n",
    "                          If the elements are of any other type than join() raise error.\n",
    "                          Syntax: ‘’.join(iterableobject)\n",
    "                        \n",
    "                       G) Changing Cases in String:\n",
    "                       \n",
    "                           1) upper(): is used to convert all thecharacters into upper case.\n",
    "                           2) lower(): to convert into lowercase.\n",
    "                           3)swapcase():used to swap the characters I.e. upper to lower and vice versa.\n",
    "                           4) title(): First character of all the word will be capitalized.\n",
    "                           5) capitalize(): only first character of the first word of the line will be capitalized.\n",
    "                           \n",
    "                       H) Method for checking character of a String:\n",
    "                           1) isalnum(): Returns True if all the characters are alphanumeric [a-z, A-Z, 0-9]\n",
    "                           2) isalpha(): returns True if the string contains only alphabets[a-z,A-Z]\n",
    "                           3) isdigit(): returns True if the string contains only digits [0-9]\n",
    "                           4) islower(): returns True if the string is in lower case.\n",
    "                           5) isupper(): returns True if the string is in upper case\n",
    "                           6) istitle(): returns True if the string is in title case\n",
    "                           7) isspace(): returns True if the string contains only spaces\n",
    "                            \n",
    "                       "
   ]
  },
  {
   "cell_type": "raw",
   "id": "c3b6e745-11eb-4251-9678-51ac1dbd6045",
   "metadata": {},
   "source": [
    "# Indexing - to get the element at a particular index \n",
    "# Slicing - A slice / Piece of Something"
   ]
  },
  {
   "cell_type": "code",
   "execution_count": 3,
   "id": "f30c9d24-c741-48c1-abc1-d5d22985f87c",
   "metadata": {},
   "outputs": [],
   "source": [
    "a = 'thenaveengupta.com'"
   ]
  },
  {
   "cell_type": "code",
   "execution_count": null,
   "id": "63616987-6cb8-490d-bf47-cfc93e879e03",
   "metadata": {},
   "outputs": [],
   "source": [
    "## Indexing"
   ]
  },
  {
   "cell_type": "code",
   "execution_count": 11,
   "id": "7d8f7135-c51a-434b-afa7-89e3358dabac",
   "metadata": {},
   "outputs": [
    {
     "data": {
      "text/plain": [
       "'a'"
      ]
     },
     "execution_count": 11,
     "metadata": {},
     "output_type": "execute_result"
    }
   ],
   "source": [
    "a[4]"
   ]
  },
  {
   "cell_type": "code",
   "execution_count": 12,
   "id": "c8d7e398-47da-4ebf-863d-bc04d76e9e25",
   "metadata": {},
   "outputs": [
    {
     "data": {
      "text/plain": [
       "'m'"
      ]
     },
     "execution_count": 12,
     "metadata": {},
     "output_type": "execute_result"
    }
   ],
   "source": [
    "a[-1]"
   ]
  },
  {
   "cell_type": "code",
   "execution_count": null,
   "id": "3cdfd06c-a356-4b76-8491-8085edc1d7a2",
   "metadata": {},
   "outputs": [],
   "source": [
    "### Slicing"
   ]
  },
  {
   "cell_type": "code",
   "execution_count": 4,
   "id": "8ebf955d-91bb-4e6b-aa12-c5f5a83b322e",
   "metadata": {},
   "outputs": [
    {
     "data": {
      "text/plain": [
       "'thenaveengupta.com'"
      ]
     },
     "execution_count": 4,
     "metadata": {},
     "output_type": "execute_result"
    }
   ],
   "source": [
    "a[:]"
   ]
  },
  {
   "cell_type": "code",
   "execution_count": 6,
   "id": "ac6c9441-c74c-4e3c-8a69-1c9de83cb01a",
   "metadata": {},
   "outputs": [
    {
     "data": {
      "text/plain": [
       "'thenaveengupta'"
      ]
     },
     "execution_count": 6,
     "metadata": {},
     "output_type": "execute_result"
    }
   ],
   "source": [
    "a[0:14]"
   ]
  },
  {
   "cell_type": "code",
   "execution_count": 7,
   "id": "8e7d4b0c-5fdf-4c4e-8e72-ba68f52c8c1b",
   "metadata": {},
   "outputs": [
    {
     "data": {
      "text/plain": [
       "'.com'"
      ]
     },
     "execution_count": 7,
     "metadata": {},
     "output_type": "execute_result"
    }
   ],
   "source": [
    "a[14:]"
   ]
  },
  {
   "cell_type": "code",
   "execution_count": 13,
   "id": "fac67871-b930-45ce-96c2-1b3c3fc7c325",
   "metadata": {},
   "outputs": [
    {
     "data": {
      "text/plain": [
       "'moc.atpugneevaneht'"
      ]
     },
     "execution_count": 13,
     "metadata": {},
     "output_type": "execute_result"
    }
   ],
   "source": [
    "a[::-1]"
   ]
  },
  {
   "cell_type": "code",
   "execution_count": 15,
   "id": "7daa6563-cd06-402e-864b-b14df9560a93",
   "metadata": {},
   "outputs": [
    {
     "data": {
      "text/plain": [
       "'teaenut.o'"
      ]
     },
     "execution_count": 15,
     "metadata": {},
     "output_type": "execute_result"
    }
   ],
   "source": [
    "a[::2]"
   ]
  },
  {
   "cell_type": "code",
   "execution_count": 16,
   "id": "5355f6e0-5c3f-4e27-ac22-e4df58d0050d",
   "metadata": {},
   "outputs": [],
   "source": [
    "### Topic Methods -  String Methods "
   ]
  },
  {
   "cell_type": "raw",
   "id": "1e4dd582-0a37-4b3e-b8fb-f2a902809209",
   "metadata": {},
   "source": [
    "1)Removing spaces from string:\n",
    "\n",
    "1) strip(): removes spaces from both the side of the string.\n",
    "2) lstrip(): removes spaces from Left side of the string.\n",
    "3) rstrip()removes spaces from Left side of the string."
   ]
  },
  {
   "cell_type": "code",
   "execution_count": 17,
   "id": "5d4f5284-84a6-4f7f-8121-3e65918d1aba",
   "metadata": {},
   "outputs": [
    {
     "data": {
      "text/plain": [
       "' Hello World '"
      ]
     },
     "execution_count": 17,
     "metadata": {},
     "output_type": "execute_result"
    }
   ],
   "source": [
    "a = ' Hello World '\n",
    "a"
   ]
  },
  {
   "cell_type": "code",
   "execution_count": 18,
   "id": "a5406650-9f17-4cd1-a267-4c09ba355dc4",
   "metadata": {},
   "outputs": [
    {
     "data": {
      "text/plain": [
       "'Hello World'"
      ]
     },
     "execution_count": 18,
     "metadata": {},
     "output_type": "execute_result"
    }
   ],
   "source": [
    "a.strip()"
   ]
  },
  {
   "cell_type": "raw",
   "id": "ee496166-f5f7-4f68-accb-4e5a4a3a1ae0",
   "metadata": {},
   "source": [
    "2) Finding Substring:\n",
    "\n",
    "Forward Direction\n",
    "1) find()\n",
    "2) index()\n",
    "Backward Direction\n",
    "1) rfind()\n",
    "2) rindex()\n",
    "\n",
    "find(): Returns the beginning index of the first occurrence of the given substring. If substring not found returns -1.\n",
    "\n",
    "index() is exactly same as find, if substring not found will raise ValueError: substring not found\n",
    "\n",
    "rfind(): Returns the beginning index of the first occurrence from of the given substring. If substringnot found returns -1.\n",
    "\n",
    "findex() is exactly same as find, if substring not found will raise ValueError: substring not found"
   ]
  },
  {
   "cell_type": "code",
   "execution_count": 20,
   "id": "f1819620-a5cf-4a42-91c4-c88c604eecad",
   "metadata": {},
   "outputs": [],
   "source": [
    "a = 'hello myself naveen gupta , i am an emerging data scientist , iot and robobtics developer & a web developer'"
   ]
  },
  {
   "cell_type": "code",
   "execution_count": 21,
   "id": "380d1f1b-4f03-4194-8df3-05af255f9a1c",
   "metadata": {},
   "outputs": [
    {
     "data": {
      "text/plain": [
       "13"
      ]
     },
     "execution_count": 21,
     "metadata": {},
     "output_type": "execute_result"
    }
   ],
   "source": [
    "a.find('naveen gupta')"
   ]
  },
  {
   "cell_type": "code",
   "execution_count": 22,
   "id": "275ef274-afb8-4de2-88af-726f99900385",
   "metadata": {},
   "outputs": [
    {
     "data": {
      "text/plain": [
       "13"
      ]
     },
     "execution_count": 22,
     "metadata": {},
     "output_type": "execute_result"
    }
   ],
   "source": [
    "a.index('naveen gupta')"
   ]
  },
  {
   "cell_type": "raw",
   "id": "6c1dc5a9-04d4-47e1-860f-ca5c3b630b1b",
   "metadata": {},
   "source": [
    "3) Counting Substring of a given string:\n",
    "    \n",
    "1) count(substring):\n",
    "2) count(substring, Begin, End)"
   ]
  },
  {
   "cell_type": "code",
   "execution_count": 23,
   "id": "cb79c26e-fb2b-425e-8894-d570f2f37141",
   "metadata": {},
   "outputs": [],
   "source": [
    "a = 'i am myself i am myslef naveen naveen gupta gupta kv no 1 jammu kv no 1 jammu'"
   ]
  },
  {
   "cell_type": "code",
   "execution_count": 25,
   "id": "eb8f2e1b-947f-43e8-b313-d6059d476d9d",
   "metadata": {},
   "outputs": [
    {
     "data": {
      "text/plain": [
       "2"
      ]
     },
     "execution_count": 25,
     "metadata": {},
     "output_type": "execute_result"
    }
   ],
   "source": [
    "a.count('i')"
   ]
  },
  {
   "cell_type": "code",
   "execution_count": 26,
   "id": "2fc78a88-edd2-4346-9d55-f895029dea05",
   "metadata": {},
   "outputs": [
    {
     "data": {
      "text/plain": [
       "2"
      ]
     },
     "execution_count": 26,
     "metadata": {},
     "output_type": "execute_result"
    }
   ],
   "source": [
    "a.count('naveen')"
   ]
  },
  {
   "cell_type": "code",
   "execution_count": 27,
   "id": "2473e607-958f-429e-99ea-765427d11095",
   "metadata": {},
   "outputs": [
    {
     "data": {
      "text/plain": [
       "0"
      ]
     },
     "execution_count": 27,
     "metadata": {},
     "output_type": "execute_result"
    }
   ],
   "source": [
    "a.count('hello')"
   ]
  },
  {
   "cell_type": "raw",
   "id": "3ed9f541-7430-45fd-b9ed-dd910dcb0854",
   "metadata": {},
   "source": [
    "4) Replacing a substring:\n",
    "\n",
    "1) replace(oldString, newString)\n",
    "2) replace(oldString, newString, max)"
   ]
  },
  {
   "cell_type": "code",
   "execution_count": 29,
   "id": "766ec776-8436-4598-8a13-e19f55c02e6f",
   "metadata": {},
   "outputs": [
    {
     "data": {
      "text/plain": [
       "'i am myself i am myslef nidhi nidhi gupta gupta kv no 1 jammu kv no 1 jammu'"
      ]
     },
     "execution_count": 29,
     "metadata": {},
     "output_type": "execute_result"
    }
   ],
   "source": [
    "a.replace('naveen','nidhi')"
   ]
  },
  {
   "cell_type": "code",
   "execution_count": 30,
   "id": "5999dc7e-97f5-4b01-9d49-c5bb2ab6b4aa",
   "metadata": {},
   "outputs": [
    {
     "data": {
      "text/plain": [
       "'i am myself i am myslef nidhi naveen gupta gupta kv no 1 jammu kv no 1 jammu'"
      ]
     },
     "execution_count": 30,
     "metadata": {},
     "output_type": "execute_result"
    }
   ],
   "source": [
    "a.replace('naveen','nidhi',1)"
   ]
  },
  {
   "cell_type": "raw",
   "id": "413e49fb-3f11-459d-8f16-764d02465ac2",
   "metadata": {},
   "source": [
    "5) Splitting String: split(Seprator): is used to split a string into substring and returns the list of substring.\n",
    "\n",
    "Default Separator = ‘ ’ space character.\n",
    "But we can use any separator, need to be in string."
   ]
  },
  {
   "cell_type": "code",
   "execution_count": 31,
   "id": "a7c686a9-287a-41b5-8156-93b46a958bc0",
   "metadata": {},
   "outputs": [
    {
     "data": {
      "text/plain": [
       "['i',\n",
       " 'am',\n",
       " 'myself',\n",
       " 'i',\n",
       " 'am',\n",
       " 'myslef',\n",
       " 'naveen',\n",
       " 'naveen',\n",
       " 'gupta',\n",
       " 'gupta',\n",
       " 'kv',\n",
       " 'no',\n",
       " '1',\n",
       " 'jammu',\n",
       " 'kv',\n",
       " 'no',\n",
       " '1',\n",
       " 'jammu']"
      ]
     },
     "execution_count": 31,
     "metadata": {},
     "output_type": "execute_result"
    }
   ],
   "source": [
    "a.split()"
   ]
  },
  {
   "cell_type": "raw",
   "id": "112d7ca2-9c08-40c7-9bc3-9ee80d6a1839",
   "metadata": {},
   "source": [
    "6) join(): is used to join string elements of iterable object and returns a string. If the elements are of any other type than join() raise error.\n",
    "\n",
    "Syntax:\n",
    "\n",
    "‘’.join(iterableobject)"
   ]
  },
  {
   "cell_type": "code",
   "execution_count": 32,
   "id": "c9f0244e-cfd8-46c1-95aa-606dd3f5dffd",
   "metadata": {},
   "outputs": [
    {
     "data": {
      "text/plain": [
       "'i   a m   m y s e l f   i   a m   m y s l e f   n a v e e n   n a v e e n   g u p t a   g u p t a   k v   n o   1   j a m m u   k v   n o   1   j a m m u'"
      ]
     },
     "execution_count": 32,
     "metadata": {},
     "output_type": "execute_result"
    }
   ],
   "source": [
    "' '.join(a)"
   ]
  },
  {
   "cell_type": "raw",
   "id": "9bc68372-2741-4079-9e13-fd0412c9f040",
   "metadata": {},
   "source": [
    "7) Changing Cases in String:\n",
    "\n",
    "1)upper(): is used to convert all thecharacters into upper case.\n",
    "2) lower(): to convert into lowercase.\n",
    "3)swapcase():used to swap the characters I.e. upper to lower and vice versa.\n",
    "4) title(): First character of all the word will be capitalized.\n",
    "5) capitalize(): only first character of the first word of the line will be capitalized."
   ]
  },
  {
   "cell_type": "code",
   "execution_count": 33,
   "id": "7d7cc325-3537-4787-9d19-7dcded1e73d0",
   "metadata": {},
   "outputs": [
    {
     "data": {
      "text/plain": [
       "'I AM MYSELF I AM MYSLEF NAVEEN NAVEEN GUPTA GUPTA KV NO 1 JAMMU KV NO 1 JAMMU'"
      ]
     },
     "execution_count": 33,
     "metadata": {},
     "output_type": "execute_result"
    }
   ],
   "source": [
    "a.upper()"
   ]
  },
  {
   "cell_type": "code",
   "execution_count": 34,
   "id": "04aa3aa8-dba6-40c7-85ab-c83696d6e3b0",
   "metadata": {},
   "outputs": [
    {
     "data": {
      "text/plain": [
       "'i am myself i am myslef naveen naveen gupta gupta kv no 1 jammu kv no 1 jammu'"
      ]
     },
     "execution_count": 34,
     "metadata": {},
     "output_type": "execute_result"
    }
   ],
   "source": [
    "a.lower()"
   ]
  },
  {
   "cell_type": "code",
   "execution_count": 35,
   "id": "4f3f91e4-72d4-457b-8204-c6ee152ffc02",
   "metadata": {},
   "outputs": [
    {
     "data": {
      "text/plain": [
       "'I AM MYSELF I AM MYSLEF NAVEEN NAVEEN GUPTA GUPTA KV NO 1 JAMMU KV NO 1 JAMMU'"
      ]
     },
     "execution_count": 35,
     "metadata": {},
     "output_type": "execute_result"
    }
   ],
   "source": [
    "a.swapcase()"
   ]
  },
  {
   "cell_type": "code",
   "execution_count": 36,
   "id": "34f8ff28-3bc3-414b-a083-cd76b53162f9",
   "metadata": {},
   "outputs": [
    {
     "data": {
      "text/plain": [
       "'I Am Myself I Am Myslef Naveen Naveen Gupta Gupta Kv No 1 Jammu Kv No 1 Jammu'"
      ]
     },
     "execution_count": 36,
     "metadata": {},
     "output_type": "execute_result"
    }
   ],
   "source": [
    "a.title()"
   ]
  },
  {
   "cell_type": "code",
   "execution_count": 37,
   "id": "a4bc61d1-2f7b-472c-a568-a552bc27c465",
   "metadata": {},
   "outputs": [
    {
     "data": {
      "text/plain": [
       "'I am myself i am myslef naveen naveen gupta gupta kv no 1 jammu kv no 1 jammu'"
      ]
     },
     "execution_count": 37,
     "metadata": {},
     "output_type": "execute_result"
    }
   ],
   "source": [
    "a.capitalize()"
   ]
  },
  {
   "cell_type": "raw",
   "id": "9abaab27-41a4-4b93-8c83-941961502ade",
   "metadata": {},
   "source": [
    "8) Method for checking character of a String:\n",
    "\n",
    "1) isalnum(): Returns True if all the characters are alphanumeric [a-z, A-Z, 0-9]\n",
    "2) isalpha(): returns True if the string contains only alphabets[a-z,A-Z]\n",
    "3) isdigit(): returns True if the string contains only digits [0-9]\n",
    "4) islower(): returns True if the string is in lower case.\n",
    "5) isupper(): returns True if the string is in upper case\n",
    "6) istitle(): returns True if the string is in title case\n",
    "7) isspace(): returns True if the string contains only spaces"
   ]
  }
 ],
 "metadata": {
  "kernelspec": {
   "display_name": "Python 3 (ipykernel)",
   "language": "python",
   "name": "python3"
  },
  "language_info": {
   "codemirror_mode": {
    "name": "ipython",
    "version": 3
   },
   "file_extension": ".py",
   "mimetype": "text/x-python",
   "name": "python",
   "nbconvert_exporter": "python",
   "pygments_lexer": "ipython3",
   "version": "3.10.8"
  }
 },
 "nbformat": 4,
 "nbformat_minor": 5
}
