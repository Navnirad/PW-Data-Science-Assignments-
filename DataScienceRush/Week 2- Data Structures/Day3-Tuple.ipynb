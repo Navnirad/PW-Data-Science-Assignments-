{
 "cells": [
  {
   "cell_type": "code",
   "execution_count": null,
   "id": "42af5f32-d5ad-4853-b710-ee98e8582271",
   "metadata": {},
   "outputs": [],
   "source": [
    "## Tuple\n",
    "## Author - Naveen Gupta \n"
   ]
  },
  {
   "cell_type": "code",
   "execution_count": null,
   "id": "b9596348-1fca-4181-9c3e-138db4c15639",
   "metadata": {},
   "outputs": [],
   "source": [
    "\"\"\"\n",
    "# Topic 1 - Introduction \n",
    "# Topic 2 - Creation of Tuple Object \n",
    "# Topic 3 - Important Methods & Functions \n",
    "                   1) len(): returns length of tuple\n",
    "                   2) count(): returns the number of occurrences of given element.\n",
    "                   3) index(): returns the index of first occurrence of the given element.\n",
    "                   4) sorted(): takes tuple as argument and returns the sorted list object.\n",
    "                   5) min(): this function returns minimum value of given tuple\n",
    "                   6) max(): this function returns maximum value of given tuple\n",
    "                   \n",
    "# Topic 4 - Packing & Unpacking :- \n",
    "                    Packing: multiple objects are packed into one single object.\n",
    "                    Unpacking: it just reverse of packing\n",
    "        \n",
    "# Topic 5 - Tuple Comprehsnions \n",
    "\"\"\""
   ]
  },
  {
   "cell_type": "code",
   "execution_count": null,
   "id": "fc6cdb12-b7b2-433f-8cb7-17bbeadbe49d",
   "metadata": {},
   "outputs": [],
   "source": [
    "\"\"\"\n",
    "- Tuple Is a collection of heterogeneous elements.\n",
    "- Immutable\n",
    "= Insertion Order Preserved\n",
    "- Indexing and slicing applicable\n",
    "- Duplicate are allowed.\n",
    "- Read only copy list.\n",
    "( ) parenthesis are used to define tuple object, but it is optional. Parenthesis are optional but recommended to use.\n",
    "\"\"\""
   ]
  },
  {
   "cell_type": "code",
   "execution_count": 3,
   "id": "d678f380-a688-4f98-92e1-55599d3ae669",
   "metadata": {},
   "outputs": [],
   "source": [
    "t = (1,5,3,7,3,4,768)"
   ]
  },
  {
   "cell_type": "code",
   "execution_count": 4,
   "id": "e82b732a-0b41-4bbc-a093-0b7ea395853a",
   "metadata": {},
   "outputs": [
    {
     "name": "stdout",
     "output_type": "stream",
     "text": [
      "[9, 8, 7, 6, 5, 4, 3, 2, 1, 0] (9, 8, 7, 6, 5, 4, 3, 2, 1, 0)\n"
     ]
    }
   ],
   "source": [
    "l = [9,8,7,6,5,4,3,2,1,0]\n",
    "a = tuple(l)\n",
    "print(l,a)"
   ]
  },
  {
   "cell_type": "code",
   "execution_count": 5,
   "id": "7421d634-a95a-44ca-b248-0942bb32d9bb",
   "metadata": {},
   "outputs": [],
   "source": [
    "## Important Methods & Functions \n",
    "\n",
    "# 1) len(): returns length of tuple\n",
    "# 2) count(): returns the number of occurrences of given element.\n",
    "# 3) index(): returns the index of first occurrence of the given element.\n",
    "# 4) sorted(): takes tuple as argument and returns the sorted list object.\n",
    "# 5) min(): this function returns minimum value of given tuple\n",
    "# 6) max(): this function returns maximum value of given tuple"
   ]
  },
  {
   "cell_type": "code",
   "execution_count": 6,
   "id": "671deb32-5bea-4b2c-82dd-e60f3bb38656",
   "metadata": {},
   "outputs": [
    {
     "data": {
      "text/plain": [
       "7"
      ]
     },
     "execution_count": 6,
     "metadata": {},
     "output_type": "execute_result"
    }
   ],
   "source": [
    "len(t)"
   ]
  },
  {
   "cell_type": "code",
   "execution_count": 7,
   "id": "ff7ac02e-719c-442e-89f0-15c13b52d1a8",
   "metadata": {},
   "outputs": [
    {
     "data": {
      "text/plain": [
       "1"
      ]
     },
     "execution_count": 7,
     "metadata": {},
     "output_type": "execute_result"
    }
   ],
   "source": [
    "t.count(1)"
   ]
  },
  {
   "cell_type": "code",
   "execution_count": 8,
   "id": "a1c122a3-11ab-4a7f-95e3-f640f705d5e6",
   "metadata": {},
   "outputs": [
    {
     "data": {
      "text/plain": [
       "1"
      ]
     },
     "execution_count": 8,
     "metadata": {},
     "output_type": "execute_result"
    }
   ],
   "source": [
    "t.index(5)"
   ]
  },
  {
   "cell_type": "code",
   "execution_count": 10,
   "id": "01a583e6-1443-443b-8c23-2fc611a4d775",
   "metadata": {},
   "outputs": [
    {
     "data": {
      "text/plain": [
       "[1, 3, 3, 4, 5, 7, 768]"
      ]
     },
     "execution_count": 10,
     "metadata": {},
     "output_type": "execute_result"
    }
   ],
   "source": [
    "sorted(t)"
   ]
  },
  {
   "cell_type": "code",
   "execution_count": 11,
   "id": "4488c1c5-ba85-4cb9-a3b2-4cc705484ee5",
   "metadata": {},
   "outputs": [
    {
     "data": {
      "text/plain": [
       "(1, 5, 3, 7, 3, 4, 768)"
      ]
     },
     "execution_count": 11,
     "metadata": {},
     "output_type": "execute_result"
    }
   ],
   "source": [
    "t ## it is immutable so , another copy of it is created for soting , but it itself is not changed"
   ]
  },
  {
   "cell_type": "code",
   "execution_count": 13,
   "id": "ff934d34-6ea4-4872-baaa-c43e7c91856d",
   "metadata": {},
   "outputs": [
    {
     "data": {
      "text/plain": [
       "1"
      ]
     },
     "execution_count": 13,
     "metadata": {},
     "output_type": "execute_result"
    }
   ],
   "source": [
    "min(t) # works with lists as well"
   ]
  },
  {
   "cell_type": "code",
   "execution_count": 15,
   "id": "175c6925-5635-4c80-981c-49117f0c5b16",
   "metadata": {},
   "outputs": [
    {
     "data": {
      "text/plain": [
       "768"
      ]
     },
     "execution_count": 15,
     "metadata": {},
     "output_type": "execute_result"
    }
   ],
   "source": [
    "max(t)"
   ]
  },
  {
   "cell_type": "code",
   "execution_count": 17,
   "id": "b9c5bc71-b78b-4615-946a-9f4253bc026c",
   "metadata": {},
   "outputs": [],
   "source": [
    "## Packing & Unpacking "
   ]
  },
  {
   "cell_type": "code",
   "execution_count": 19,
   "id": "abaa0172-fce7-4e78-8df6-df8619c79e7e",
   "metadata": {},
   "outputs": [],
   "source": [
    "a = 1,2,3,4,5,6,7,8,9,10 # Packing "
   ]
  },
  {
   "cell_type": "code",
   "execution_count": 20,
   "id": "4472f32a-2c9a-4d69-b57c-68f355585b7b",
   "metadata": {},
   "outputs": [],
   "source": [
    "a1,a2,a3,a4,a5,a6,a7,a8,a9,a10 = a"
   ]
  },
  {
   "cell_type": "code",
   "execution_count": 22,
   "id": "cf50d483-400e-465b-a7c1-3c2644363a4e",
   "metadata": {},
   "outputs": [
    {
     "name": "stdout",
     "output_type": "stream",
     "text": [
      "1\n",
      "2\n",
      "3\n",
      "4\n",
      "5\n",
      "6\n",
      "7\n",
      "8\n",
      "9\n",
      "10\n"
     ]
    }
   ],
   "source": [
    "print(a1)\n",
    "print(a2)\n",
    "print(a3)\n",
    "print(a4)\n",
    "print(a5)\n",
    "print(a6)\n",
    "print(a7)\n",
    "print(a8)\n",
    "print(a9)\n",
    "print(a10)"
   ]
  },
  {
   "cell_type": "code",
   "execution_count": null,
   "id": "4e923649-987a-4a23-8d31-afc17c1ce2d0",
   "metadata": {},
   "outputs": [],
   "source": [
    "\"\"\"\n",
    "## Tuples Comprehensions \n",
    "Tuple comprehension not supported by python.\n",
    "Tuple Comprehensions creates generator objects \n",
    "\"\"\""
   ]
  },
  {
   "cell_type": "code",
   "execution_count": 23,
   "id": "5f335840-e2e0-49ac-ba26-72a517c882e5",
   "metadata": {},
   "outputs": [],
   "source": [
    "a = (a for a in range(10))"
   ]
  },
  {
   "cell_type": "code",
   "execution_count": 24,
   "id": "4b7d8bd7-032d-4473-86fb-a179267d53e3",
   "metadata": {},
   "outputs": [
    {
     "data": {
      "text/plain": [
       "<generator object <genexpr> at 0x7fdf34529700>"
      ]
     },
     "execution_count": 24,
     "metadata": {},
     "output_type": "execute_result"
    }
   ],
   "source": [
    "a # it is a generator object"
   ]
  },
  {
   "cell_type": "code",
   "execution_count": null,
   "id": "844dc185-6c8f-4ab0-b360-794ec6ce5882",
   "metadata": {},
   "outputs": [],
   "source": [
    "# we will study about generator objects later in this course "
   ]
  }
 ],
 "metadata": {
  "kernelspec": {
   "display_name": "Python 3 (ipykernel)",
   "language": "python",
   "name": "python3"
  },
  "language_info": {
   "codemirror_mode": {
    "name": "ipython",
    "version": 3
   },
   "file_extension": ".py",
   "mimetype": "text/x-python",
   "name": "python",
   "nbconvert_exporter": "python",
   "pygments_lexer": "ipython3",
   "version": "3.10.8"
  }
 },
 "nbformat": 4,
 "nbformat_minor": 5
}
