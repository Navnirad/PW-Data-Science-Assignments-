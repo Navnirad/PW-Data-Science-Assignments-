{
 "cells": [
  {
   "cell_type": "code",
   "execution_count": 1,
   "id": "095a438e-d633-4799-a4a8-672644508811",
   "metadata": {},
   "outputs": [],
   "source": [
    "## Sets \n",
    "## Author - Naveen Gupta"
   ]
  },
  {
   "cell_type": "raw",
   "id": "014a87c6-6386-420a-82b8-2f64fac5b780",
   "metadata": {},
   "source": [
    "# Topic 1 - Intoduction \n",
    "# Topic 2 - Creation of Set Object - {} , set()\n",
    "# Topic 3 - Important Methods \n",
    "           1) add(a): add one item I.e. ‘a’ to the set. Never accepts mutable object.\n",
    "           2) update(a, b, c): is used to add multiple values to the set object and a,b,c needs to be iterable objects.\n",
    "           3) pop(): removes and returns any random value for the set.\n",
    "           4) remove(a): will remove the specified element. It element not found will raise KeyError.\n",
    "           5) discard(a): removes the specified value, if the element not present, won’t raise any error.\n",
    "           6) clear(): is used to clear all the elements and keeps empty object. del is used to delete an object.\n",
    "           \n",
    "# Topic 4 - Mathematical Operations on Set :-\n",
    "            1) Union(): a.union(b) or a|b ,  it will return all the elements of both set ‘a’ and ‘b’ \n",
    "            2) intersection(): a.intersection(b) OR a&b: will return common elements of both ‘a’ and ‘b’\n",
    "            3) difference():a.difference(b) OR a-b: will return elements of ‘a’ not in ‘b’.\n",
    "            4) symmetric_difference(): x.symmetric_difference(y) OR x^y: Returns non common elements of both ‘x’ and ‘y’.\n",
    "\n",
    "# Topic 5 - Set Comprehension "
   ]
  },
  {
   "cell_type": "raw",
   "id": "3b22a62f-8af3-45bd-8c8b-2ae4d7bd692a",
   "metadata": {},
   "source": [
    "Set Datatype:\n",
    "Set is unique collection of heterogenous element.\n",
    "Insertion order not preserved.\n",
    "Duplicates not allowed.\n",
    "Mutable.\n",
    "Indexing and slicing not applicable.\n",
    "{ } brackets are used to define set object."
   ]
  },
  {
   "cell_type": "code",
   "execution_count": 14,
   "id": "bd25f97b-f1a1-428c-8492-fbd1250dcd08",
   "metadata": {},
   "outputs": [],
   "source": [
    "s = {1,2,3,4,5,6,6,7,8,8,9}\n",
    "l = [1,1,2,3,5,32,34,3,4,5,0]\n",
    "s1 = set(l)"
   ]
  },
  {
   "cell_type": "code",
   "execution_count": 15,
   "id": "fcf57b69-0a89-4f33-946e-a927b9c93a1b",
   "metadata": {},
   "outputs": [
    {
     "data": {
      "text/plain": [
       "{0, 1, 2, 3, 4, 5, 32, 34}"
      ]
     },
     "execution_count": 15,
     "metadata": {},
     "output_type": "execute_result"
    }
   ],
   "source": [
    "s1"
   ]
  },
  {
   "cell_type": "code",
   "execution_count": 16,
   "id": "04792bf8-ba6d-4867-a961-319308134016",
   "metadata": {},
   "outputs": [],
   "source": [
    "## Important Methods \n",
    "# 1) add(a): add one item I.e. ‘a’ to the set. Never accepts mutable object.\n",
    "# 2) update(a, b, c): is used to add multiple values to the set object and a,b,c needs to be iterable objects.\n",
    "# 3) pop(): removes and returns any random value for the set.\n",
    "# 4) remove(a): will remove the specified element. It element not found will raise KeyError.\n",
    "# 5) discard(a): removes the specified value, if the element not present, won’t raise any error.\n",
    "# 6) clear(): is used to clear all the elements and keeps empty object. del is used to delete an object."
   ]
  },
  {
   "cell_type": "code",
   "execution_count": 17,
   "id": "1c963905-d127-4eae-aec9-6453adddcaf7",
   "metadata": {},
   "outputs": [
    {
     "data": {
      "text/plain": [
       "{1, 2, 3, 4, 5, 6, 7, 8, 9, 10}"
      ]
     },
     "execution_count": 17,
     "metadata": {},
     "output_type": "execute_result"
    }
   ],
   "source": [
    "s.add(10)\n",
    "s"
   ]
  },
  {
   "cell_type": "code",
   "execution_count": 18,
   "id": "3ff33090-0a13-44d1-afac-eab90013aa3a",
   "metadata": {},
   "outputs": [
    {
     "data": {
      "text/plain": [
       "{1, 2, 3, 4, 5, 6, 7, 8, 9, 10, 11, 12, 14, 15, 17}"
      ]
     },
     "execution_count": 18,
     "metadata": {},
     "output_type": "execute_result"
    }
   ],
   "source": [
    "s.update([11,12],[14,15],[17])\n",
    "s"
   ]
  },
  {
   "cell_type": "code",
   "execution_count": 19,
   "id": "98de06b5-fe8c-4fda-8dc2-6c2e426ee13b",
   "metadata": {},
   "outputs": [
    {
     "data": {
      "text/plain": [
       "1"
      ]
     },
     "execution_count": 19,
     "metadata": {},
     "output_type": "execute_result"
    }
   ],
   "source": [
    "s.pop()"
   ]
  },
  {
   "cell_type": "code",
   "execution_count": 20,
   "id": "307b0cb7-ea79-4b7e-8471-5d01344ad451",
   "metadata": {},
   "outputs": [
    {
     "data": {
      "text/plain": [
       "{2, 3, 4, 5, 6, 7, 8, 9, 10, 11, 12, 14, 15, 17}"
      ]
     },
     "execution_count": 20,
     "metadata": {},
     "output_type": "execute_result"
    }
   ],
   "source": [
    "s"
   ]
  },
  {
   "cell_type": "code",
   "execution_count": 21,
   "id": "ade9500e-ff39-4c7d-8283-ba04b7e3bfe3",
   "metadata": {},
   "outputs": [],
   "source": [
    "s.remove(15)"
   ]
  },
  {
   "cell_type": "code",
   "execution_count": 22,
   "id": "c35199b6-5e3e-472f-8979-a41a3943b204",
   "metadata": {},
   "outputs": [
    {
     "ename": "KeyError",
     "evalue": "20",
     "output_type": "error",
     "traceback": [
      "\u001b[0;31m---------------------------------------------------------------------------\u001b[0m",
      "\u001b[0;31mKeyError\u001b[0m                                  Traceback (most recent call last)",
      "Cell \u001b[0;32mIn[22], line 1\u001b[0m\n\u001b[0;32m----> 1\u001b[0m \u001b[43ms\u001b[49m\u001b[38;5;241;43m.\u001b[39;49m\u001b[43mremove\u001b[49m\u001b[43m(\u001b[49m\u001b[38;5;241;43m20\u001b[39;49m\u001b[43m)\u001b[49m\n",
      "\u001b[0;31mKeyError\u001b[0m: 20"
     ]
    }
   ],
   "source": [
    "s.remove(20)"
   ]
  },
  {
   "cell_type": "code",
   "execution_count": 23,
   "id": "dcedfd19-d5d5-4432-bb51-e70eba7f4b66",
   "metadata": {},
   "outputs": [],
   "source": [
    "s.discard(20)"
   ]
  },
  {
   "cell_type": "code",
   "execution_count": 24,
   "id": "a45e62c3-ec28-4c50-9a99-046e58edd460",
   "metadata": {},
   "outputs": [
    {
     "data": {
      "text/plain": [
       "{2, 3, 4, 5, 6, 7, 8, 9, 10, 11, 12, 14, 17}"
      ]
     },
     "execution_count": 24,
     "metadata": {},
     "output_type": "execute_result"
    }
   ],
   "source": [
    "s"
   ]
  },
  {
   "cell_type": "code",
   "execution_count": 25,
   "id": "cbf9778f-6718-40d1-b829-59db01c2b11a",
   "metadata": {},
   "outputs": [],
   "source": [
    "## Mathematical Operations of Sets\n",
    "# 1) Union(): a.union(b) or a|b ,  it will return all the elements of both set ‘a’ and ‘b’ \n",
    "# 2) intersection(): a.intersection(b) OR a&b: will return common elements of both ‘a’ and ‘b’\n",
    "# 3) difference():a.difference(b) OR a-b: will return elements of ‘a’ not in ‘b’.\n",
    "# 4) symmetric_difference(): x.symmetric_difference(y) OR x^y: Returns non common elements of both ‘x’ and ‘y’."
   ]
  },
  {
   "cell_type": "code",
   "execution_count": 26,
   "id": "a53b6291-383e-4065-8c33-f8f1b3db2ec2",
   "metadata": {},
   "outputs": [
    {
     "data": {
      "text/plain": [
       "{0, 1, 2, 3, 4, 5, 6, 7, 8, 9, 10, 11, 12, 14, 17, 32, 34}"
      ]
     },
     "execution_count": 26,
     "metadata": {},
     "output_type": "execute_result"
    }
   ],
   "source": [
    "s|s1 #union"
   ]
  },
  {
   "cell_type": "code",
   "execution_count": 28,
   "id": "c5a2b587-0fe1-49be-b06d-c01b551e518d",
   "metadata": {},
   "outputs": [
    {
     "data": {
      "text/plain": [
       "{2, 3, 4, 5}"
      ]
     },
     "execution_count": 28,
     "metadata": {},
     "output_type": "execute_result"
    }
   ],
   "source": [
    "s&s1 #intersection"
   ]
  },
  {
   "cell_type": "code",
   "execution_count": 29,
   "id": "cceab34b-5b8a-4b0d-91c4-09b9e2d4c48f",
   "metadata": {},
   "outputs": [
    {
     "data": {
      "text/plain": [
       "{6, 7, 8, 9, 10, 11, 12, 14, 17}"
      ]
     },
     "execution_count": 29,
     "metadata": {},
     "output_type": "execute_result"
    }
   ],
   "source": [
    "s-s1 # differnece"
   ]
  },
  {
   "cell_type": "code",
   "execution_count": 30,
   "id": "7f81eafe-abc8-44b8-aa94-5343d8824a87",
   "metadata": {},
   "outputs": [
    {
     "data": {
      "text/plain": [
       "{0, 1, 32, 34}"
      ]
     },
     "execution_count": 30,
     "metadata": {},
     "output_type": "execute_result"
    }
   ],
   "source": [
    "s1-s # differnece"
   ]
  },
  {
   "cell_type": "code",
   "execution_count": 31,
   "id": "a9718018-de0a-46ca-bcb0-5b42c00e0217",
   "metadata": {},
   "outputs": [
    {
     "data": {
      "text/plain": [
       "{0, 1, 6, 7, 8, 9, 10, 11, 12, 14, 17, 32, 34}"
      ]
     },
     "execution_count": 31,
     "metadata": {},
     "output_type": "execute_result"
    }
   ],
   "source": [
    "s^s1 # symmteric difference"
   ]
  },
  {
   "cell_type": "code",
   "execution_count": 32,
   "id": "8b2222e7-6a03-402d-b9e6-12b9c908f712",
   "metadata": {},
   "outputs": [],
   "source": [
    "## set comprehension "
   ]
  },
  {
   "cell_type": "code",
   "execution_count": 33,
   "id": "07c60a9c-213f-4268-980e-847daa6ae938",
   "metadata": {},
   "outputs": [],
   "source": [
    "s2 = {a for a in range(10) if a%2 == 0}"
   ]
  },
  {
   "cell_type": "code",
   "execution_count": 34,
   "id": "4878e95d-2b4a-42d5-810a-cc4d3d138ab9",
   "metadata": {},
   "outputs": [
    {
     "data": {
      "text/plain": [
       "{0, 2, 4, 6, 8}"
      ]
     },
     "execution_count": 34,
     "metadata": {},
     "output_type": "execute_result"
    }
   ],
   "source": [
    "s2"
   ]
  },
  {
   "cell_type": "code",
   "execution_count": null,
   "id": "fc588e3c-978b-4557-bdba-8bdb4eecb5d5",
   "metadata": {},
   "outputs": [],
   "source": []
  }
 ],
 "metadata": {
  "kernelspec": {
   "display_name": "Python 3 (ipykernel)",
   "language": "python",
   "name": "python3"
  },
  "language_info": {
   "codemirror_mode": {
    "name": "ipython",
    "version": 3
   },
   "file_extension": ".py",
   "mimetype": "text/x-python",
   "name": "python",
   "nbconvert_exporter": "python",
   "pygments_lexer": "ipython3",
   "version": "3.10.8"
  }
 },
 "nbformat": 4,
 "nbformat_minor": 5
}
