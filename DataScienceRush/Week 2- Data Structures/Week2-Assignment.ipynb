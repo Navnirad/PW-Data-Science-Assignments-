{
 "cells": [
  {
   "cell_type": "code",
   "execution_count": 1,
   "id": "be700840-23a9-4115-a134-e94da035c4c3",
   "metadata": {},
   "outputs": [],
   "source": [
    "## Problem solving & assignment Week 2\n",
    "# Author - Naveen Gupta"
   ]
  },
  {
   "cell_type": "raw",
   "id": "2290b02d-e1ff-49b8-a9b6-bf89b1e02aed",
   "metadata": {},
   "source": [
    "Q1. How do you comment code in Python? What are the different types of comments?"
   ]
  },
  {
   "cell_type": "raw",
   "id": "8ca1e2bd-fbf2-497a-aa7a-0246a6d61816",
   "metadata": {},
   "source": [
    "Comment in Python are written with a hash (#) in starting \n",
    "Two types of comments :- \n",
    "                        1) Single Line Comment\n",
    "                        2) Multi-Line Comment\n",
    "examples are given below :- "
   ]
  },
  {
   "cell_type": "code",
   "execution_count": 5,
   "id": "721d1068-a4a8-42af-96f9-ce18287c81e5",
   "metadata": {},
   "outputs": [
    {
     "data": {
      "text/plain": [
       "'Multi Line Comment \\n   Hello , This second line'"
      ]
     },
     "execution_count": 5,
     "metadata": {},
     "output_type": "execute_result"
    }
   ],
   "source": [
    "# Single Line Comment\n",
    "\"\"\"Multi Line Comment \n",
    "   Hello , This second line\"\"\"\n",
    "### commenting in python"
   ]
  },
  {
   "cell_type": "raw",
   "id": "b70f52f0-2edd-409e-b074-379693029433",
   "metadata": {},
   "source": [
    "Q2. What are variables in Python? How do you declare and assign values to variables?"
   ]
  },
  {
   "cell_type": "code",
   "execution_count": 6,
   "id": "9447b556-1ecc-4948-a027-75d3a7adb0fe",
   "metadata": {},
   "outputs": [],
   "source": [
    "# variables in python are just like any programming langauge or maths , that is variables are containers for storing data \n",
    "a = 10\n",
    "b = 'Naveen' ## declaring variable and assigning value to it"
   ]
  },
  {
   "cell_type": "raw",
   "id": "110fce76-71d3-4b81-ba80-f63352a05b1c",
   "metadata": {},
   "source": [
    "Q3. How do you convert one data type to another in Python?"
   ]
  },
  {
   "cell_type": "code",
   "execution_count": 9,
   "id": "e40a486c-c286-4dfb-a22f-3d4b9fb9dae3",
   "metadata": {},
   "outputs": [
    {
     "data": {
      "text/plain": [
       "'10'"
      ]
     },
     "execution_count": 9,
     "metadata": {},
     "output_type": "execute_result"
    }
   ],
   "source": [
    "# one data type can be converted to another using Type-Casting \n",
    "a = 10 \n",
    "b = str(a) ## converting integer to string \n",
    "b"
   ]
  },
  {
   "cell_type": "raw",
   "id": "4e6f7821-2d28-4612-9d83-5b7bd4eff803",
   "metadata": {},
   "source": [
    "Q4. How do you write and execute a Python script from the command line?"
   ]
  },
  {
   "cell_type": "raw",
   "id": "d785d594-d64a-48c3-a5d4-df4cacbe8000",
   "metadata": {},
   "source": [
    "We need to open a command line and type the word python followed by the path to your script file like this: \n",
    "python first_script.py"
   ]
  },
  {
   "cell_type": "raw",
   "id": "ffe10391-20b5-4104-9a28-f5ecbadd8086",
   "metadata": {},
   "source": [
    "Q5. Given a list my_list = [1, 2, 3, 4, 5], write the code to slice the list and obtain the sub-list [2, 3]."
   ]
  },
  {
   "cell_type": "code",
   "execution_count": 11,
   "id": "7b73d75b-9931-472d-9b38-6b2b1dd8d8e3",
   "metadata": {},
   "outputs": [
    {
     "data": {
      "text/plain": [
       "[2, 3]"
      ]
     },
     "execution_count": 11,
     "metadata": {},
     "output_type": "execute_result"
    }
   ],
   "source": [
    "my_list = [1,2,3,4,5]\n",
    "my_list[1:3]"
   ]
  },
  {
   "cell_type": "raw",
   "id": "1f7b8cec-2f0f-4279-9a4f-b192408ddfa0",
   "metadata": {},
   "source": [
    "Q6. What is a complex number in mathematics, and how is it represented in Python?"
   ]
  },
  {
   "cell_type": "code",
   "execution_count": 12,
   "id": "7f75c03f-c108-4dec-96ad-a011dcba9e9d",
   "metadata": {},
   "outputs": [
    {
     "data": {
      "text/plain": [
       "complex"
      ]
     },
     "execution_count": 12,
     "metadata": {},
     "output_type": "execute_result"
    }
   ],
   "source": [
    "# Complex numbers are the numbers that are expressed in the form of a+ib where, a,b are real numbers and 'i' is an imaginary number called “iota”. \n",
    "# in python it is written as :- \n",
    "a = 1+2j #here 1 is real part and 2 is imaginary part denoted by j.\n",
    "type(a)"
   ]
  },
  {
   "cell_type": "raw",
   "id": "de205dce-4989-4fef-a8cc-9737163f2b96",
   "metadata": {},
   "source": [
    "Q7. What is the correct way to declare a variable named age and assign the value 25 to it?"
   ]
  },
  {
   "cell_type": "code",
   "execution_count": 13,
   "id": "34d792f7-006c-4e18-9969-d2070d4f8335",
   "metadata": {},
   "outputs": [
    {
     "name": "stdout",
     "output_type": "stream",
     "text": [
      "25\n"
     ]
    }
   ],
   "source": [
    "age = 25 \n",
    "print(age)"
   ]
  },
  {
   "cell_type": "raw",
   "id": "39012c9f-b4dc-4658-a8d5-092300a0f4f6",
   "metadata": {},
   "source": [
    "Q8. Declare a variable named price and assign the value 9.99 to it. What data type does this variable\n",
    "belong to?"
   ]
  },
  {
   "cell_type": "code",
   "execution_count": 14,
   "id": "b4bb4311-7961-471b-ab7c-e5237e18c444",
   "metadata": {},
   "outputs": [
    {
     "data": {
      "text/plain": [
       "float"
      ]
     },
     "execution_count": 14,
     "metadata": {},
     "output_type": "execute_result"
    }
   ],
   "source": [
    "price = 9.99\n",
    "# Its type wourld be 'Float'\n",
    "type(price)"
   ]
  },
  {
   "cell_type": "raw",
   "id": "b2af6ee1-fd61-4c72-881a-097700ed0519",
   "metadata": {},
   "source": [
    "Q9. Create a variable named name and assign your full name to it as a string. How would you print the\n",
    "value of this variable?"
   ]
  },
  {
   "cell_type": "code",
   "execution_count": 16,
   "id": "ba387d7b-32f7-4cd9-b8e1-002085760b34",
   "metadata": {},
   "outputs": [
    {
     "name": "stdout",
     "output_type": "stream",
     "text": [
      "Naveen Gupta\n"
     ]
    }
   ],
   "source": [
    "name = 'Naveen Gupta'\n",
    "print(name)"
   ]
  },
  {
   "cell_type": "raw",
   "id": "45165f27-edc2-4a8f-a2b4-e2b9b3c705a5",
   "metadata": {},
   "source": [
    "Q10. Given the string \"Hello, World!\", extract the substring \"World\"."
   ]
  },
  {
   "cell_type": "code",
   "execution_count": 1,
   "id": "b579fbd4-7f0d-4676-a862-7df5a6a3a36e",
   "metadata": {},
   "outputs": [
    {
     "data": {
      "text/plain": [
       "'World'"
      ]
     },
     "execution_count": 1,
     "metadata": {},
     "output_type": "execute_result"
    }
   ],
   "source": [
    "s = \"Hello, World!\"\n",
    "s[7:-1]"
   ]
  },
  {
   "cell_type": "raw",
   "id": "a59186be-b654-432f-a541-0c89fd527eed",
   "metadata": {},
   "source": [
    "Q11. Create a variable named \"is_student\" and assign it a boolean value indicating whether you are\n",
    "currently a student or not."
   ]
  },
  {
   "cell_type": "code",
   "execution_count": 2,
   "id": "b101ec31-d021-439c-94ac-af534db2dd77",
   "metadata": {},
   "outputs": [],
   "source": [
    "is_student = True"
   ]
  },
  {
   "cell_type": "code",
   "execution_count": null,
   "id": "ae25bc18-9a2b-4f97-b49e-a87d6470efec",
   "metadata": {},
   "outputs": [],
   "source": []
  }
 ],
 "metadata": {
  "kernelspec": {
   "display_name": "Python 3 (ipykernel)",
   "language": "python",
   "name": "python3"
  },
  "language_info": {
   "codemirror_mode": {
    "name": "ipython",
    "version": 3
   },
   "file_extension": ".py",
   "mimetype": "text/x-python",
   "name": "python",
   "nbconvert_exporter": "python",
   "pygments_lexer": "ipython3",
   "version": "3.10.8"
  }
 },
 "nbformat": 4,
 "nbformat_minor": 5
}
