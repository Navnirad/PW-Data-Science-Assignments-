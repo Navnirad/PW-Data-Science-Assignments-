{
 "cells": [
  {
   "cell_type": "code",
   "execution_count": 1,
   "id": "2bc4a0a3-a250-4108-80e3-bfcfab943273",
   "metadata": {},
   "outputs": [],
   "source": [
    "## Week 3 , Day 3 \n",
    "## Lambda Functions \n",
    "## Author - Naveen Gupta"
   ]
  },
  {
   "cell_type": "code",
   "execution_count": 1,
   "id": "3b561aea-7d84-4481-b3f6-448a3f7ec6ff",
   "metadata": {},
   "outputs": [],
   "source": [
    "n =3\n",
    "p = 2"
   ]
  },
  {
   "cell_type": "code",
   "execution_count": 2,
   "id": "4ce9d403-8442-4efd-81b7-ca205ae8aec6",
   "metadata": {},
   "outputs": [],
   "source": [
    "def test(n,p):\n",
    "    return n**p"
   ]
  },
  {
   "cell_type": "code",
   "execution_count": 3,
   "id": "43f3f56b-8e6f-4eff-bf25-4fca639224f5",
   "metadata": {},
   "outputs": [
    {
     "data": {
      "text/plain": [
       "9"
      ]
     },
     "execution_count": 3,
     "metadata": {},
     "output_type": "execute_result"
    }
   ],
   "source": [
    "test(n,p)"
   ]
  },
  {
   "cell_type": "code",
   "execution_count": 5,
   "id": "e04e113f-a158-410f-ba6b-c3fd2f972978",
   "metadata": {},
   "outputs": [],
   "source": [
    "a = lambda n,p : n**p"
   ]
  },
  {
   "cell_type": "code",
   "execution_count": 6,
   "id": "56f4220f-5726-4df8-b368-47dbfcffee87",
   "metadata": {},
   "outputs": [
    {
     "data": {
      "text/plain": [
       "9"
      ]
     },
     "execution_count": 6,
     "metadata": {},
     "output_type": "execute_result"
    }
   ],
   "source": [
    "a(3,2)"
   ]
  },
  {
   "cell_type": "code",
   "execution_count": 7,
   "id": "ea4629fb-d22a-4f82-aa13-441a1d5ddf8b",
   "metadata": {},
   "outputs": [],
   "source": [
    "## Lambda functions are one liner functions "
   ]
  },
  {
   "cell_type": "code",
   "execution_count": 8,
   "id": "d4ee4b27-3393-4d4d-b8bf-c62bb881ac38",
   "metadata": {},
   "outputs": [],
   "source": [
    "add = lambda x,y : x+y"
   ]
  },
  {
   "cell_type": "code",
   "execution_count": 9,
   "id": "b13b06e1-3710-4d2e-9034-51a9b42d28b6",
   "metadata": {},
   "outputs": [
    {
     "data": {
      "text/plain": [
       "9"
      ]
     },
     "execution_count": 9,
     "metadata": {},
     "output_type": "execute_result"
    }
   ],
   "source": [
    "add(4,5)"
   ]
  },
  {
   "cell_type": "code",
   "execution_count": 12,
   "id": "246db8fe-99fc-421c-bf51-f7125c49dea2",
   "metadata": {},
   "outputs": [],
   "source": [
    "c_to_f = lambda c :(9/5)*c+32 ## lambda function for converting celsius to fahrenheit "
   ]
  },
  {
   "cell_type": "code",
   "execution_count": 13,
   "id": "323392fa-c89d-4bb1-9e37-f9be1ef038b0",
   "metadata": {},
   "outputs": [
    {
     "data": {
      "text/plain": [
       "113.0"
      ]
     },
     "execution_count": 13,
     "metadata": {},
     "output_type": "execute_result"
    }
   ],
   "source": [
    "c_to_f(45)"
   ]
  },
  {
   "cell_type": "code",
   "execution_count": 14,
   "id": "c870b054-b74e-496c-8dfb-2ec51f84ee7f",
   "metadata": {},
   "outputs": [],
   "source": [
    "finding_max = lambda x,y : x if x>y else y "
   ]
  },
  {
   "cell_type": "code",
   "execution_count": 15,
   "id": "9015aae8-4825-4aa6-a633-343760fe9ee4",
   "metadata": {},
   "outputs": [
    {
     "data": {
      "text/plain": [
       "12123"
      ]
     },
     "execution_count": 15,
     "metadata": {},
     "output_type": "execute_result"
    }
   ],
   "source": [
    "finding_max(10002,12123)"
   ]
  },
  {
   "cell_type": "code",
   "execution_count": 16,
   "id": "68e19bcb-9558-4582-97bf-d91d58b16811",
   "metadata": {},
   "outputs": [],
   "source": [
    "s = 'naveengupta'"
   ]
  },
  {
   "cell_type": "code",
   "execution_count": 19,
   "id": "430de6b2-7753-470f-bfef-cda8a332234a",
   "metadata": {},
   "outputs": [],
   "source": [
    "find_len = lambda s:len(s) ## For finding length of a string "
   ]
  },
  {
   "cell_type": "code",
   "execution_count": 20,
   "id": "df667bd9-bc97-452d-a383-1c69f0662bbf",
   "metadata": {},
   "outputs": [
    {
     "data": {
      "text/plain": [
       "11"
      ]
     },
     "execution_count": 20,
     "metadata": {},
     "output_type": "execute_result"
    }
   ],
   "source": [
    "find_len(s)"
   ]
  },
  {
   "cell_type": "code",
   "execution_count": null,
   "id": "2a3a1762-c543-46a0-9fba-26ac60434b21",
   "metadata": {},
   "outputs": [],
   "source": []
  }
 ],
 "metadata": {
  "kernelspec": {
   "display_name": "Python 3 (ipykernel)",
   "language": "python",
   "name": "python3"
  },
  "language_info": {
   "codemirror_mode": {
    "name": "ipython",
    "version": 3
   },
   "file_extension": ".py",
   "mimetype": "text/x-python",
   "name": "python",
   "nbconvert_exporter": "python",
   "pygments_lexer": "ipython3",
   "version": "3.10.8"
  }
 },
 "nbformat": 4,
 "nbformat_minor": 5
}
