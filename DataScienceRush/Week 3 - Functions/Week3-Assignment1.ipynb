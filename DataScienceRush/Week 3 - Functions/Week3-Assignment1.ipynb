{
 "cells": [
  {
   "cell_type": "code",
   "execution_count": 1,
   "id": "f34826d7-4a47-44d7-9baf-1faab3072ccd",
   "metadata": {},
   "outputs": [],
   "source": [
    "#### Week 3 - Functions - Assignment 1\n",
    "## Author - Naveen Gupta "
   ]
  },
  {
   "cell_type": "code",
   "execution_count": 5,
   "id": "d4d99f9e-4553-4793-a78f-a10c7403c65d",
   "metadata": {},
   "outputs": [
    {
     "data": {
      "text/plain": [
       "[1, 3, 5, 7, 9, 11, 13, 15, 17, 19, 21, 23]"
      ]
     },
     "execution_count": 5,
     "metadata": {},
     "output_type": "execute_result"
    }
   ],
   "source": [
    "\"\"\" Q1. Which keyword is used to create a function? Create a function to return a list of odd numbers in the\n",
    "range of 1 to 25. \"\"\"\n",
    "\n",
    "## def Keyword is used to create a function \n",
    "def odd():\n",
    "    l = []\n",
    "    for i in range(1,25):\n",
    "        if i % 2 != 0 :\n",
    "            l.append(i)\n",
    "    \n",
    "    return l\n",
    "odd()"
   ]
  },
  {
   "cell_type": "code",
   "execution_count": 17,
   "id": "75237b1e-106b-4d1a-9526-002bbf7cb2ba",
   "metadata": {},
   "outputs": [
    {
     "name": "stdout",
     "output_type": "stream",
     "text": [
      "120\n",
      "{'maths': 10, 'english': 8, 'science': 10}\n"
     ]
    }
   ],
   "source": [
    "\"\"\"Q2. Why *args and **kwargs is used in some functions? Create a function each for *args and **kwargs\n",
    "to demonstrate their use.\"\"\"\n",
    "\n",
    "## *args keyword is used to pass a number of arguments to a function , u can pass any number of arguments with it \n",
    "## **kwargs is used to pass a number of key-value pairs as arguments to a function , u can pass any number of key-value pairs as arguments with it .\n",
    "from functools import reduce \n",
    "def multiply(*args):\n",
    "    l = args\n",
    "    ans = reduce(lambda x,y:x*y,l)\n",
    "    return ans \n",
    "print(multiply(2,3,4,5))\n",
    "\n",
    "def database(**kwargs):\n",
    "    return kwargs\n",
    "\n",
    "print(database(maths = 10 , english = 8 , science = 10))"
   ]
  },
  {
   "cell_type": "code",
   "execution_count": 21,
   "id": "10535092-e514-4934-b602-87e5ba842f32",
   "metadata": {},
   "outputs": [
    {
     "name": "stdout",
     "output_type": "stream",
     "text": [
      "2\n",
      "4\n",
      "6\n",
      "8\n",
      "10\n"
     ]
    }
   ],
   "source": [
    "\"\"\"Q3. What is an iterator in python? Name the method used to initialise the iterator object and the method\n",
    "used for iteration. Use these methods to print the first five elements of the given list [2, 4, 6, 8, 10, 12, 14,\n",
    "16, 18, 20].\"\"\"\n",
    "\n",
    "# an interator is an oject which is used to iterate over iterable object \n",
    "# iter() method is used to initialise the iterator object from an iterator \n",
    "# next() method can be used for iteration \n",
    "l = [2, 4, 6, 8, 10, 12, 14, 16, 18, 20]\n",
    "obj = iter(l)\n",
    "for i in range(5):\n",
    "    print(next(obj))"
   ]
  },
  {
   "cell_type": "code",
   "execution_count": 26,
   "id": "c316f7c1-3128-48f5-b925-58bd6af3d900",
   "metadata": {},
   "outputs": [
    {
     "name": "stdout",
     "output_type": "stream",
     "text": [
      "2\n",
      "4\n",
      "6\n",
      "8\n",
      "10\n",
      "12\n",
      "14\n",
      "16\n",
      "18\n",
      "20\n"
     ]
    }
   ],
   "source": [
    "\"\"\"Q4. What is a generator function in python? Why yield keyword is used? Give an example of a generator\n",
    "function.\"\"\"\n",
    "#  Python, a generator is a function that returns an iterator that produces a sequence of values when iterated over\n",
    "# Generators are useful when we want to produce a large sequence of values, but we don't want to store all of them in memory at once.\n",
    "# yield keyword creates a generator object \n",
    "\n",
    "# example of a generator function for even numbers \n",
    "def even(n):\n",
    "    a = 2\n",
    "    for i in range(n):\n",
    "        yield a\n",
    "        a = a+2\n",
    "\n",
    "even10 = even(10)\n",
    "for i in even10:\n",
    "    print(i)\n",
    "    "
   ]
  },
  {
   "cell_type": "code",
   "execution_count": 37,
   "id": "8d793441-1348-4e11-8097-77357eb82274",
   "metadata": {},
   "outputs": [],
   "source": [
    "\"\"\"Q5. Create a generator function for prime numbers less than 1000. Use the next() method to print the\n",
    "first 20 prime numbers.\"\"\"\n",
    "def isprime(x):\n",
    "    val = int(x)\n",
    "    vh = int(val/2)\n",
    "    if val == 1:\n",
    "        return False\n",
    "    for i in range(2,(vh+1)):\n",
    "        if x%i == 0:\n",
    "            return False\n",
    "            break \n",
    "        else:\n",
    "            pass\n",
    "    else:\n",
    "        return True\n",
    "\n",
    "def prime():\n",
    "    n = 1\n",
    "    while True :\n",
    "        if isprime(n) == True:\n",
    "            yield n\n",
    "        else:\n",
    "            pass\n",
    "        n+=1\n",
    "        "
   ]
  },
  {
   "cell_type": "code",
   "execution_count": 38,
   "id": "9ad149f7-7bee-40c4-981e-b681182bc33e",
   "metadata": {},
   "outputs": [],
   "source": [
    "primenos = prime()"
   ]
  },
  {
   "cell_type": "code",
   "execution_count": 40,
   "id": "14cad4c1-d67c-4895-a767-7a2e37b0dac9",
   "metadata": {},
   "outputs": [
    {
     "name": "stdout",
     "output_type": "stream",
     "text": [
      "2\n",
      "3\n",
      "5\n",
      "7\n",
      "11\n",
      "13\n",
      "17\n",
      "19\n",
      "23\n",
      "29\n",
      "31\n",
      "37\n",
      "41\n",
      "43\n",
      "47\n",
      "53\n",
      "59\n",
      "61\n",
      "67\n",
      "71\n"
     ]
    }
   ],
   "source": [
    "for i in range(20):\n",
    "    print(next(primenos))"
   ]
  },
  {
   "cell_type": "code",
   "execution_count": 45,
   "id": "0fe86ec8-9c39-4395-825e-d484eb53a724",
   "metadata": {},
   "outputs": [],
   "source": [
    "\"\"\"Q6. Write a python program to print the first 10 Fibonacci numbers using a while loop.\"\"\"\n",
    "def fib(x):\n",
    "    i = 1\n",
    "    a,b = 0,1\n",
    "    while i <= x:\n",
    "        yield a \n",
    "        a,b = b,a+b\n",
    "        i+=1\n",
    "    "
   ]
  },
  {
   "cell_type": "code",
   "execution_count": 46,
   "id": "f2463b47-0153-4ea8-a861-2bd201eb883d",
   "metadata": {},
   "outputs": [
    {
     "name": "stdout",
     "output_type": "stream",
     "text": [
      "0\n",
      "1\n",
      "1\n",
      "2\n",
      "3\n",
      "5\n",
      "8\n",
      "13\n",
      "21\n",
      "34\n"
     ]
    }
   ],
   "source": [
    "for i in fib(10):\n",
    "    print(i)"
   ]
  },
  {
   "cell_type": "code",
   "execution_count": 49,
   "id": "63a75f75-e74f-49be-8e3c-23081638a49e",
   "metadata": {},
   "outputs": [
    {
     "name": "stdout",
     "output_type": "stream",
     "text": [
      "['p', 'w', 's', 'k', 'i', 'l', 'l', 's']\n"
     ]
    }
   ],
   "source": [
    "\"\"\"Q7. Write a List Comprehension to iterate through the given string: ‘pwskills’. Expected output: ['p', 'w', 's', 'k', 'i', 'l', 'l', 's']\"\"\"\n",
    "s = 'pwskills'\n",
    "l = [i for i in s ]\n",
    "print(l)"
   ]
  },
  {
   "cell_type": "code",
   "execution_count": 79,
   "id": "5546f847-7b52-46ce-a274-04079a858d96",
   "metadata": {},
   "outputs": [],
   "source": [
    "\"\"\"Q8. Write a python program to check whether a given number is Palindrome or not using a while loop.\"\"\"\n",
    "def palindrome(x):\n",
    "    num = str(x)\n",
    "    i = 0\n",
    "    while i < len(num):\n",
    "        if num[i] != num[-(i+1)]:\n",
    "            return False\n",
    "            break\n",
    "        else:\n",
    "            i+=1\n",
    "        return True\n",
    "        "
   ]
  },
  {
   "cell_type": "code",
   "execution_count": 88,
   "id": "2b931025-8cca-49a0-a67a-44d22bc968d0",
   "metadata": {},
   "outputs": [
    {
     "name": "stdout",
     "output_type": "stream",
     "text": [
      "[1, 3, 5, 7, 9, 11, 13, 15, 17, 19, 21, 23, 25, 27, 29, 31, 33, 35, 37, 39, 41, 43, 45, 47, 49, 51, 53, 55, 57, 59, 61, 63, 65, 67, 69, 71, 73, 75, 77, 79, 81, 83, 85, 87, 89, 91, 93, 95, 97, 99]\n"
     ]
    }
   ],
   "source": [
    "\"\"\"Q9. Write a code to print odd numbers from 1 to 100 using list comprehension.\n",
    "Note: Use a list comprehension to create a list from 1 to 100 and use another List comprehension to filter out odd numbers.\"\"\"\n",
    "\n",
    "numl = [i for i in range(1,101)]\n",
    "odd = [i for i in numl if i%2 != 0]\n",
    "print(odd)"
   ]
  },
  {
   "cell_type": "code",
   "execution_count": null,
   "id": "0bb394a0-dbc4-4da4-a3db-b0879f513ac5",
   "metadata": {},
   "outputs": [],
   "source": []
  }
 ],
 "metadata": {
  "kernelspec": {
   "display_name": "Python 3 (ipykernel)",
   "language": "python",
   "name": "python3"
  },
  "language_info": {
   "codemirror_mode": {
    "name": "ipython",
    "version": 3
   },
   "file_extension": ".py",
   "mimetype": "text/x-python",
   "name": "python",
   "nbconvert_exporter": "python",
   "pygments_lexer": "ipython3",
   "version": "3.10.8"
  }
 },
 "nbformat": 4,
 "nbformat_minor": 5
}
