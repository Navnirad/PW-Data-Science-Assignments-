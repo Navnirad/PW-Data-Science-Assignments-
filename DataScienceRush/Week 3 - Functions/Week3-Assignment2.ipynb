{
 "cells": [
  {
   "cell_type": "code",
   "execution_count": 1,
   "id": "8e7f603b-cbdf-4bec-bb7b-5ecb316bd501",
   "metadata": {},
   "outputs": [],
   "source": [
    "##### Week 3 - Functions - Assignment 2\n",
    "## Author - Naveen Gupta"
   ]
  },
  {
   "cell_type": "code",
   "execution_count": 3,
   "id": "32051af5-d5a9-427f-a321-05d4095b886b",
   "metadata": {},
   "outputs": [
    {
     "name": "stdout",
     "output_type": "stream",
     "text": [
      "[('Virat Kohli', 24936), ('Jack Kallis', 25534), ('Ricky Ponting', 27483), ('Sachin Tendulkar', 34357)]\n"
     ]
    }
   ],
   "source": [
    "\"\"\"Q1. Create a python program to sort the given list of tuples based on integer value using a lambda function.\n",
    "[('Sachin Tendulkar', 34357), ('Ricky Ponting', 27483), ('Jack Kallis', 25534), ('Virat Kohli', 24936)]\"\"\"\n",
    "l = [('Sachin Tendulkar', 34357), ('Ricky Ponting', 27483), ('Jack Kallis', 25534), ('Virat Kohli', 24936)]\n",
    "a = sorted(l,key = lambda x:x[1])\n",
    "print(a)"
   ]
  },
  {
   "cell_type": "code",
   "execution_count": 8,
   "id": "f3e0dbd2-3532-433a-a5eb-8729ad6269c6",
   "metadata": {},
   "outputs": [
    {
     "name": "stdout",
     "output_type": "stream",
     "text": [
      "[1, 4, 9, 16, 25, 36, 49, 64, 81, 100]\n"
     ]
    }
   ],
   "source": [
    "\"\"\"Q2. Write a Python Program to find the squares of all the numbers in the given list of integers using lambda and map functions.\n",
    "[1, 2, 3, 4, 5, 6, 7, 8, 9, 10]\"\"\"\n",
    "sqr = lambda x:x**2\n",
    "l = [1,2,3,4,5,6,7,8,9,10]\n",
    "sqrl = list(map(sqr,l))\n",
    "print(sqrl)"
   ]
  },
  {
   "cell_type": "code",
   "execution_count": 10,
   "id": "2502821f-7e02-40b5-8ed3-9cd3ce9c68e5",
   "metadata": {},
   "outputs": [
    {
     "name": "stdout",
     "output_type": "stream",
     "text": [
      "('1', '2', '3', '4', '5', '6', '7', '8', '9', '10')\n"
     ]
    }
   ],
   "source": [
    "\"\"\"Q3. Write a python program to convert the given list of integers into a tuple of strings. Use map and lambda functions\n",
    "Given String: [1, 2, 3, 4, 5, 6, 7, 8, 9, 10]\n",
    "Expected output: ('1', '2', '3', '4', '5', '6', '7', '8', '9', '10')\"\"\"\n",
    "l =  [1, 2, 3, 4, 5, 6, 7, 8, 9, 10]\n",
    "st = lambda x:str(x)\n",
    "output = tuple(map(st,l))\n",
    "print(output)"
   ]
  },
  {
   "cell_type": "code",
   "execution_count": 12,
   "id": "a5383a79-3b93-49b9-ab25-854725b19f36",
   "metadata": {},
   "outputs": [
    {
     "name": "stdout",
     "output_type": "stream",
     "text": [
      "15511210043330985984000000\n"
     ]
    }
   ],
   "source": [
    "\"\"\"Q4. Write a python program using reduce function to compute the product of a list containing numbers from 1 to 25.\"\"\"\n",
    "l = [i for i in range(1,26)]\n",
    "from functools import reduce \n",
    "product = reduce(lambda x,y:x*y,l)\n",
    "print(product)"
   ]
  },
  {
   "cell_type": "code",
   "execution_count": 19,
   "id": "9dce2acf-b952-49ea-b342-1d7bce562ab1",
   "metadata": {},
   "outputs": [
    {
     "name": "stdout",
     "output_type": "stream",
     "text": [
      "[6, 60, 90, 120]\n"
     ]
    }
   ],
   "source": [
    "\"\"\"Q5. Write a python program to filter the numbers in a given list that are divisible by 2 and 3 using the filter function.\n",
    "[2, 3, 6, 9, 27, 60, 90, 120, 55, 46]\"\"\"\n",
    "l = [2, 3, 6, 9, 27, 60, 90, 120, 55, 46]\n",
    "d6 = lambda x:x%6==0\n",
    "output = list(filter(d6,l))\n",
    "print(output)"
   ]
  },
  {
   "cell_type": "code",
   "execution_count": 22,
   "id": "58b3f01c-5137-4c44-bba6-3013775ef70f",
   "metadata": {},
   "outputs": [
    {
     "name": "stdout",
     "output_type": "stream",
     "text": [
      "['php', 'aba', 'radar', 'level']\n"
     ]
    }
   ],
   "source": [
    "\"\"\"Q6. Write a python program to find palindromes in the given list of strings using lambda and filter function.\n",
    "['python', 'php', 'aba', 'radar', 'level']\"\"\"\n",
    "l =['python', 'php', 'aba', 'radar', 'level']\n",
    "palindrome = lambda x:x == x[::-1]\n",
    "output = list(filter(palindrome,l))\n",
    "print(output)"
   ]
  },
  {
   "cell_type": "code",
   "execution_count": null,
   "id": "34f81a38-7534-4dec-a8b9-bacdc737af64",
   "metadata": {},
   "outputs": [],
   "source": []
  }
 ],
 "metadata": {
  "kernelspec": {
   "display_name": "Python 3 (ipykernel)",
   "language": "python",
   "name": "python3"
  },
  "language_info": {
   "codemirror_mode": {
    "name": "ipython",
    "version": 3
   },
   "file_extension": ".py",
   "mimetype": "text/x-python",
   "name": "python",
   "nbconvert_exporter": "python",
   "pygments_lexer": "ipython3",
   "version": "3.10.8"
  }
 },
 "nbformat": 4,
 "nbformat_minor": 5
}
