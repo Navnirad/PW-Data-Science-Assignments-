{
 "cells": [
  {
   "cell_type": "code",
   "execution_count": 1,
   "id": "ae8e71d4-3811-4f8d-ad41-abf3c356ec7e",
   "metadata": {},
   "outputs": [],
   "source": [
    "### Week 3 . Day 4 \n",
    "# Topic - Map , Filter , Reduce \n",
    "### Author - Naveen Gupta "
   ]
  },
  {
   "cell_type": "code",
   "execution_count": 3,
   "id": "286a3529-6183-45a0-9b9a-d9db1d9b69ef",
   "metadata": {},
   "outputs": [],
   "source": [
    "l = [1,2,3,4,5,6]"
   ]
  },
  {
   "cell_type": "code",
   "execution_count": 4,
   "id": "ceccc9d2-554e-49d8-9498-ff914a2e535f",
   "metadata": {},
   "outputs": [],
   "source": [
    "def test(l):\n",
    "    l1 = []\n",
    "    for i in l:\n",
    "        l1.append(i**2)\n",
    "    return l1"
   ]
  },
  {
   "cell_type": "code",
   "execution_count": 5,
   "id": "dff68bbf-88fd-4b2e-84bc-9fef38d57ee1",
   "metadata": {},
   "outputs": [
    {
     "data": {
      "text/plain": [
       "[1, 4, 9, 16, 25, 36]"
      ]
     },
     "execution_count": 5,
     "metadata": {},
     "output_type": "execute_result"
    }
   ],
   "source": [
    "test(l)"
   ]
  },
  {
   "cell_type": "code",
   "execution_count": 20,
   "id": "094ba2bd-e2fe-476a-aef5-63ea7ea7d095",
   "metadata": {},
   "outputs": [],
   "source": [
    "a = list(map(lambda x:x**2 , l))"
   ]
  },
  {
   "cell_type": "code",
   "execution_count": 21,
   "id": "f2bd019c-2933-4098-b8ed-e87c1c53db24",
   "metadata": {},
   "outputs": [
    {
     "data": {
      "text/plain": [
       "[1, 4, 9, 16, 25, 36]"
      ]
     },
     "execution_count": 21,
     "metadata": {},
     "output_type": "execute_result"
    }
   ],
   "source": [
    "a"
   ]
  },
  {
   "cell_type": "code",
   "execution_count": 22,
   "id": "2a16def0-d529-4c6e-9013-e9c912efa6a8",
   "metadata": {},
   "outputs": [
    {
     "data": {
      "text/plain": [
       "[7, 9, 11, 13, 15]"
      ]
     },
     "execution_count": 22,
     "metadata": {},
     "output_type": "execute_result"
    }
   ],
   "source": [
    "l1 = [1,2,3,4,5]\n",
    "l2 = [6,7,8,9,10]\n",
    "list(map(lambda x,y:x+y , l1,l2))"
   ]
  },
  {
   "cell_type": "code",
   "execution_count": 23,
   "id": "b1b2f6f2-c59a-40fd-835d-dd2a6044cecb",
   "metadata": {},
   "outputs": [],
   "source": [
    "def add(x,y):\n",
    "    return x+y"
   ]
  },
  {
   "cell_type": "code",
   "execution_count": 24,
   "id": "f4536924-a404-4c6b-99ef-00ad4e2782f8",
   "metadata": {},
   "outputs": [
    {
     "data": {
      "text/plain": [
       "[7, 9, 11, 13, 15]"
      ]
     },
     "execution_count": 24,
     "metadata": {},
     "output_type": "execute_result"
    }
   ],
   "source": [
    "list(map(add,l1,l2))"
   ]
  },
  {
   "cell_type": "code",
   "execution_count": 25,
   "id": "5ba5f182-ccf6-4d9f-ac28-ddbd4cf93d9a",
   "metadata": {},
   "outputs": [],
   "source": [
    "## Map function maps data according to a function "
   ]
  },
  {
   "cell_type": "code",
   "execution_count": 26,
   "id": "2bb08519-3300-4724-91db-ff6a636fc47b",
   "metadata": {},
   "outputs": [
    {
     "data": {
      "text/plain": [
       "['P', 'W', 'S', 'K', 'I', 'L', 'L', 'S']"
      ]
     },
     "execution_count": 26,
     "metadata": {},
     "output_type": "execute_result"
    }
   ],
   "source": [
    "s = 'pwskills'\n",
    "list(map(lambda s:s.upper() , s))"
   ]
  },
  {
   "cell_type": "code",
   "execution_count": 27,
   "id": "67f633ec-ad96-4492-bd13-58a3c7c7fc90",
   "metadata": {},
   "outputs": [],
   "source": [
    "## Reduce Function "
   ]
  },
  {
   "cell_type": "code",
   "execution_count": 28,
   "id": "0185e18f-0acf-4b74-b54b-cbdc2cccbcbb",
   "metadata": {},
   "outputs": [],
   "source": [
    "from functools import reduce"
   ]
  },
  {
   "cell_type": "code",
   "execution_count": 29,
   "id": "3b4f8438-f0b2-4e70-b2fb-856d467ba499",
   "metadata": {},
   "outputs": [],
   "source": [
    "l = [1,2,3,4,5]"
   ]
  },
  {
   "cell_type": "code",
   "execution_count": 30,
   "id": "88c32621-5a93-4412-b85e-405be0a9d95c",
   "metadata": {},
   "outputs": [
    {
     "data": {
      "text/plain": [
       "15"
      ]
     },
     "execution_count": 30,
     "metadata": {},
     "output_type": "execute_result"
    }
   ],
   "source": [
    "reduce(lambda x,y:x+y,l)"
   ]
  },
  {
   "cell_type": "code",
   "execution_count": 31,
   "id": "4153ae48-54c8-4ef2-8196-0af16a9c2b20",
   "metadata": {},
   "outputs": [
    {
     "ename": "TypeError",
     "evalue": "<lambda>() missing 1 required positional argument: 'z'",
     "output_type": "error",
     "traceback": [
      "\u001b[0;31m---------------------------------------------------------------------------\u001b[0m",
      "\u001b[0;31mTypeError\u001b[0m                                 Traceback (most recent call last)",
      "Cell \u001b[0;32mIn[31], line 1\u001b[0m\n\u001b[0;32m----> 1\u001b[0m \u001b[43mreduce\u001b[49m\u001b[43m(\u001b[49m\u001b[38;5;28;43;01mlambda\u001b[39;49;00m\u001b[43m \u001b[49m\u001b[43mx\u001b[49m\u001b[43m,\u001b[49m\u001b[43my\u001b[49m\u001b[43m,\u001b[49m\u001b[43mz\u001b[49m\u001b[43m:\u001b[49m\u001b[43mx\u001b[49m\u001b[38;5;241;43m+\u001b[39;49m\u001b[43my\u001b[49m\u001b[38;5;241;43m+\u001b[39;49m\u001b[43mz\u001b[49m\u001b[43m,\u001b[49m\u001b[43ml\u001b[49m\u001b[43m)\u001b[49m\n",
      "\u001b[0;31mTypeError\u001b[0m: <lambda>() missing 1 required positional argument: 'z'"
     ]
    }
   ],
   "source": [
    "reduce(lambda x,y,z:x+y+z,l) ## we cant give more than 2 arguments in reduce "
   ]
  },
  {
   "cell_type": "code",
   "execution_count": 32,
   "id": "e0e4aa33-7dd4-408a-9f2b-25c6dd15b755",
   "metadata": {},
   "outputs": [],
   "source": [
    "l =[1,2,3,4,5]"
   ]
  },
  {
   "cell_type": "code",
   "execution_count": 34,
   "id": "4cd8e1a7-2587-4f83-83ff-789acf32ea70",
   "metadata": {},
   "outputs": [
    {
     "data": {
      "text/plain": [
       "5"
      ]
     },
     "execution_count": 34,
     "metadata": {},
     "output_type": "execute_result"
    }
   ],
   "source": [
    "reduce(lambda x,y : x if x>y else y ,l)"
   ]
  },
  {
   "cell_type": "code",
   "execution_count": 35,
   "id": "657bb505-c84c-430f-a873-95e73215f700",
   "metadata": {},
   "outputs": [],
   "source": [
    "## Filter Function "
   ]
  },
  {
   "cell_type": "code",
   "execution_count": 36,
   "id": "e62c83e6-12af-41c0-886f-73a06317a23a",
   "metadata": {},
   "outputs": [
    {
     "data": {
      "text/plain": [
       "[1, 2, 3, 4, 5]"
      ]
     },
     "execution_count": 36,
     "metadata": {},
     "output_type": "execute_result"
    }
   ],
   "source": [
    "l"
   ]
  },
  {
   "cell_type": "code",
   "execution_count": 37,
   "id": "d3c31a26-e64a-4b1c-ab0b-6aa4ee9078e4",
   "metadata": {},
   "outputs": [
    {
     "data": {
      "text/plain": [
       "[2, 4]"
      ]
     },
     "execution_count": 37,
     "metadata": {},
     "output_type": "execute_result"
    }
   ],
   "source": [
    "list(filter(lambda x:x%2 == 0 ,l))"
   ]
  },
  {
   "cell_type": "code",
   "execution_count": 38,
   "id": "669e5873-991c-4f97-805f-2ebc803a3482",
   "metadata": {},
   "outputs": [
    {
     "data": {
      "text/plain": [
       "[False, True, False, True, False]"
      ]
     },
     "execution_count": 38,
     "metadata": {},
     "output_type": "execute_result"
    }
   ],
   "source": [
    "list(map(lambda x:x%2 ==0,l)) ## difference betwween map and filter"
   ]
  },
  {
   "cell_type": "code",
   "execution_count": 39,
   "id": "bce369ba-1f15-428a-ad31-2f4d27e56e73",
   "metadata": {},
   "outputs": [
    {
     "data": {
      "text/plain": [
       "[1, 3, 5]"
      ]
     },
     "execution_count": 39,
     "metadata": {},
     "output_type": "execute_result"
    }
   ],
   "source": [
    "list(filter(lambda x:x%2 != 0 ,l))"
   ]
  },
  {
   "cell_type": "code",
   "execution_count": null,
   "id": "e4cdf325-9323-4203-a3ab-de1d3169fc67",
   "metadata": {},
   "outputs": [],
   "source": []
  }
 ],
 "metadata": {
  "kernelspec": {
   "display_name": "Python 3 (ipykernel)",
   "language": "python",
   "name": "python3"
  },
  "language_info": {
   "codemirror_mode": {
    "name": "ipython",
    "version": 3
   },
   "file_extension": ".py",
   "mimetype": "text/x-python",
   "name": "python",
   "nbconvert_exporter": "python",
   "pygments_lexer": "ipython3",
   "version": "3.10.8"
  }
 },
 "nbformat": 4,
 "nbformat_minor": 5
}
