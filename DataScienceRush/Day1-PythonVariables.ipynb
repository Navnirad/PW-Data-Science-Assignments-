{
 "cells": [
  {
   "cell_type": "raw",
   "id": "27a2ad8c-02ff-4978-a596-79fd76bf7a8d",
   "metadata": {},
   "source": [
    "#### Data-Science Rush Day 1 \n",
    "### Topic - Python-Variables\n",
    "## Author - Naveen Gupta \n",
    "\n",
    "# Subtopics :-  \n",
    "                What is a Variable\n",
    "                Types of Variables :- \n",
    "                                      1) Int\n",
    "                                      2) Float\n",
    "                                      3) String \n",
    "                                      4) Bool \n",
    "                                      5) complex\n",
    "                Type Function \n"
   ]
  },
  {
   "cell_type": "code",
   "execution_count": 1,
   "id": "ec450b64-8923-4531-a488-2bdd716b34d5",
   "metadata": {},
   "outputs": [],
   "source": [
    "a = 1 # assigning a variable ,  a value "
   ]
  },
  {
   "cell_type": "code",
   "execution_count": 2,
   "id": "0907d99a-7ed8-45b3-a8f1-86de73a7ed49",
   "metadata": {},
   "outputs": [
    {
     "data": {
      "text/plain": [
       "1"
      ]
     },
     "execution_count": 2,
     "metadata": {},
     "output_type": "execute_result"
    }
   ],
   "source": [
    "a ## calling the variable "
   ]
  },
  {
   "cell_type": "code",
   "execution_count": 3,
   "id": "a79e2ad8-665e-489d-a642-3bcf8954a780",
   "metadata": {},
   "outputs": [
    {
     "data": {
      "text/plain": [
       "int"
      ]
     },
     "execution_count": 3,
     "metadata": {},
     "output_type": "execute_result"
    }
   ],
   "source": [
    "type(a)"
   ]
  },
  {
   "cell_type": "code",
   "execution_count": 4,
   "id": "5a038e87-a4e7-4ed8-a1fc-8db7cd532d4f",
   "metadata": {},
   "outputs": [],
   "source": [
    "b = 'naveen'"
   ]
  },
  {
   "cell_type": "code",
   "execution_count": 5,
   "id": "843b201e-165e-4b53-958f-55c43d7ad841",
   "metadata": {},
   "outputs": [
    {
     "data": {
      "text/plain": [
       "str"
      ]
     },
     "execution_count": 5,
     "metadata": {},
     "output_type": "execute_result"
    }
   ],
   "source": [
    "type(b)"
   ]
  },
  {
   "cell_type": "code",
   "execution_count": 6,
   "id": "e6f3633d-5c81-4882-8626-05ed00e407c9",
   "metadata": {},
   "outputs": [],
   "source": [
    "c = 45.454"
   ]
  },
  {
   "cell_type": "code",
   "execution_count": 7,
   "id": "f00b1249-8728-4f11-9202-c87e34ffc747",
   "metadata": {},
   "outputs": [
    {
     "data": {
      "text/plain": [
       "float"
      ]
     },
     "execution_count": 7,
     "metadata": {},
     "output_type": "execute_result"
    }
   ],
   "source": [
    "type(c)"
   ]
  },
  {
   "cell_type": "code",
   "execution_count": 1,
   "id": "63a603f5-ffff-40b5-a532-a0339bca1d6a",
   "metadata": {},
   "outputs": [],
   "source": [
    "d = True "
   ]
  },
  {
   "cell_type": "code",
   "execution_count": 2,
   "id": "6a9a4dd1-abba-40d2-98f5-7cadd4f5820f",
   "metadata": {},
   "outputs": [
    {
     "data": {
      "text/plain": [
       "bool"
      ]
     },
     "execution_count": 2,
     "metadata": {},
     "output_type": "execute_result"
    }
   ],
   "source": [
    "type(d)"
   ]
  },
  {
   "cell_type": "code",
   "execution_count": 3,
   "id": "b589cb2f-7307-4a2f-a833-f83236c84ef6",
   "metadata": {},
   "outputs": [],
   "source": [
    "e = False"
   ]
  },
  {
   "cell_type": "code",
   "execution_count": 4,
   "id": "7cb8e954-4ac7-4b05-b9f8-e4c1a65d06f5",
   "metadata": {},
   "outputs": [
    {
     "data": {
      "text/plain": [
       "bool"
      ]
     },
     "execution_count": 4,
     "metadata": {},
     "output_type": "execute_result"
    }
   ],
   "source": [
    "type(e)"
   ]
  },
  {
   "cell_type": "code",
   "execution_count": 5,
   "id": "dbf4d50f-f36a-47a1-9439-bfea518a2644",
   "metadata": {},
   "outputs": [
    {
     "data": {
      "text/plain": [
       "1"
      ]
     },
     "execution_count": 5,
     "metadata": {},
     "output_type": "execute_result"
    }
   ],
   "source": [
    "True - False"
   ]
  },
  {
   "cell_type": "code",
   "execution_count": 7,
   "id": "f443caab-7e50-4c77-8509-30834e0b1793",
   "metadata": {},
   "outputs": [
    {
     "data": {
      "text/plain": [
       "0"
      ]
     },
     "execution_count": 7,
     "metadata": {},
     "output_type": "execute_result"
    }
   ],
   "source": [
    "True * False "
   ]
  },
  {
   "cell_type": "code",
   "execution_count": 1,
   "id": "78b71055-3641-454c-b5d0-3bcf521a6407",
   "metadata": {},
   "outputs": [
    {
     "ename": "ZeroDivisionError",
     "evalue": "division by zero",
     "output_type": "error",
     "traceback": [
      "\u001b[0;31m---------------------------------------------------------------------------\u001b[0m",
      "\u001b[0;31mZeroDivisionError\u001b[0m                         Traceback (most recent call last)",
      "Cell \u001b[0;32mIn[1], line 1\u001b[0m\n\u001b[0;32m----> 1\u001b[0m \u001b[38;5;28;43;01mTrue\u001b[39;49;00m\u001b[43m \u001b[49m\u001b[38;5;241;43m/\u001b[39;49m\u001b[43m \u001b[49m\u001b[38;5;28;43;01mFalse\u001b[39;49;00m\n",
      "\u001b[0;31mZeroDivisionError\u001b[0m: division by zero"
     ]
    }
   ],
   "source": [
    "True / False"
   ]
  },
  {
   "cell_type": "code",
   "execution_count": 2,
   "id": "81d2670f-48c3-4eee-9ce3-7b73a3132699",
   "metadata": {},
   "outputs": [],
   "source": [
    "f = 5+4j"
   ]
  },
  {
   "cell_type": "code",
   "execution_count": 3,
   "id": "0bd0a938-6160-47d4-a1ef-2adfbc2a165d",
   "metadata": {},
   "outputs": [
    {
     "data": {
      "text/plain": [
       "complex"
      ]
     },
     "execution_count": 3,
     "metadata": {},
     "output_type": "execute_result"
    }
   ],
   "source": [
    "type(f)"
   ]
  },
  {
   "cell_type": "code",
   "execution_count": 2,
   "id": "35e618ba-e1ba-4e2f-8581-2cf229c0145d",
   "metadata": {},
   "outputs": [],
   "source": [
    "e = 6+7j"
   ]
  },
  {
   "cell_type": "code",
   "execution_count": 3,
   "id": "0b21c55e-277e-40ba-9832-4611f9a07c23",
   "metadata": {},
   "outputs": [],
   "source": [
    "g = 7j"
   ]
  },
  {
   "cell_type": "code",
   "execution_count": 4,
   "id": "f59fe308-d237-4511-8e76-d38681e85c90",
   "metadata": {},
   "outputs": [
    {
     "data": {
      "text/plain": [
       "complex"
      ]
     },
     "execution_count": 4,
     "metadata": {},
     "output_type": "execute_result"
    }
   ],
   "source": [
    "type(g)"
   ]
  },
  {
   "cell_type": "code",
   "execution_count": 5,
   "id": "af45eea4-68ad-4862-9008-e330b4b55749",
   "metadata": {},
   "outputs": [
    {
     "data": {
      "text/plain": [
       "(6+7j)"
      ]
     },
     "execution_count": 5,
     "metadata": {},
     "output_type": "execute_result"
    }
   ],
   "source": [
    "e"
   ]
  },
  {
   "cell_type": "code",
   "execution_count": 6,
   "id": "d04ebdd4-b38b-40ec-ba12-128885011168",
   "metadata": {},
   "outputs": [
    {
     "data": {
      "text/plain": [
       "6.0"
      ]
     },
     "execution_count": 6,
     "metadata": {},
     "output_type": "execute_result"
    }
   ],
   "source": [
    "e.real"
   ]
  },
  {
   "cell_type": "code",
   "execution_count": 7,
   "id": "f8ebdb3e-4242-428f-8b4f-4e6feaede1dc",
   "metadata": {},
   "outputs": [
    {
     "data": {
      "text/plain": [
       "7.0"
      ]
     },
     "execution_count": 7,
     "metadata": {},
     "output_type": "execute_result"
    }
   ],
   "source": [
    "e.imag"
   ]
  },
  {
   "cell_type": "code",
   "execution_count": null,
   "id": "6fa4577b-df1a-4ecd-918a-3edb238364f7",
   "metadata": {},
   "outputs": [],
   "source": []
  }
 ],
 "metadata": {
  "kernelspec": {
   "display_name": "Python 3 (ipykernel)",
   "language": "python",
   "name": "python3"
  },
  "language_info": {
   "codemirror_mode": {
    "name": "ipython",
    "version": 3
   },
   "file_extension": ".py",
   "mimetype": "text/x-python",
   "name": "python",
   "nbconvert_exporter": "python",
   "pygments_lexer": "ipython3",
   "version": "3.10.8"
  }
 },
 "nbformat": 4,
 "nbformat_minor": 5
}
