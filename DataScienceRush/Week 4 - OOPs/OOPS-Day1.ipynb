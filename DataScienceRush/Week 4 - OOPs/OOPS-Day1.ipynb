{
 "cells": [
  {
   "cell_type": "code",
   "execution_count": 4,
   "id": "47ff1ae0-1264-4c69-b58c-bddb627af589",
   "metadata": {},
   "outputs": [],
   "source": [
    "## Week 4 Day 1\n",
    "## Object-Oriented Programming Part 1 \n",
    "# Author - Naveen Gupta"
   ]
  },
  {
   "cell_type": "code",
   "execution_count": null,
   "id": "59c61fd0-0352-4c39-bd05-a1ab94696358",
   "metadata": {},
   "outputs": [],
   "source": [
    "## Subtopics - Concept of classes - classification / blueprint of a real world entity but not specific to it \n",
    "# object - real world entity , also called variable / instace"
   ]
  },
  {
   "cell_type": "code",
   "execution_count": 2,
   "id": "495f7aff-d680-4527-a745-211dac8e2bad",
   "metadata": {},
   "outputs": [],
   "source": [
    "a=1"
   ]
  },
  {
   "cell_type": "code",
   "execution_count": 3,
   "id": "93ba2c3d-ca8f-4eb9-b0d2-271fc1be489c",
   "metadata": {},
   "outputs": [
    {
     "name": "stdout",
     "output_type": "stream",
     "text": [
      "<class 'int'>\n"
     ]
    }
   ],
   "source": [
    "print(type(a))"
   ]
  },
  {
   "cell_type": "code",
   "execution_count": 1,
   "id": "370252e7-6b5a-45b0-946d-d82743f0b689",
   "metadata": {},
   "outputs": [],
   "source": [
    "class test:\n",
    "    pass"
   ]
  },
  {
   "cell_type": "code",
   "execution_count": 3,
   "id": "79bb4bcd-0043-4331-af32-79cade923702",
   "metadata": {},
   "outputs": [],
   "source": [
    "a = test()"
   ]
  },
  {
   "cell_type": "code",
   "execution_count": 5,
   "id": "23c034c5-2fcf-4259-a69c-23d8349dbedb",
   "metadata": {},
   "outputs": [
    {
     "data": {
      "text/plain": [
       "__main__.test"
      ]
     },
     "execution_count": 5,
     "metadata": {},
     "output_type": "execute_result"
    }
   ],
   "source": [
    "type(a)"
   ]
  },
  {
   "cell_type": "code",
   "execution_count": 6,
   "id": "03158c3c-61cd-4d3f-8cd4-23857355669b",
   "metadata": {},
   "outputs": [
    {
     "name": "stdout",
     "output_type": "stream",
     "text": [
      "<class '__main__.test'>\n"
     ]
    }
   ],
   "source": [
    "print(type(a))"
   ]
  },
  {
   "cell_type": "code",
   "execution_count": 7,
   "id": "d104079d-ebed-4505-811a-3139f553d5cc",
   "metadata": {},
   "outputs": [],
   "source": [
    "class pwskills:\n",
    "    def welcome_msg(self):\n",
    "        print('welcome , to pwskills')"
   ]
  },
  {
   "cell_type": "code",
   "execution_count": 8,
   "id": "283c2ca6-38c0-40af-9045-29a47bddf475",
   "metadata": {},
   "outputs": [],
   "source": [
    "rohan = pwskills()"
   ]
  },
  {
   "cell_type": "code",
   "execution_count": 9,
   "id": "0fb597cd-f766-495b-89d6-0d69fd201a90",
   "metadata": {},
   "outputs": [
    {
     "data": {
      "text/plain": [
       "__main__.pwskills"
      ]
     },
     "execution_count": 9,
     "metadata": {},
     "output_type": "execute_result"
    }
   ],
   "source": [
    "type(rohan)"
   ]
  },
  {
   "cell_type": "code",
   "execution_count": 10,
   "id": "aef7d66a-ac18-4df5-a9d1-c33952ce5a37",
   "metadata": {},
   "outputs": [
    {
     "name": "stdout",
     "output_type": "stream",
     "text": [
      "welcome , to pwskills\n"
     ]
    }
   ],
   "source": [
    "rohan.welcome_msg()"
   ]
  },
  {
   "cell_type": "code",
   "execution_count": 11,
   "id": "845b0fc0-66b2-474d-8751-9547ce7f7392",
   "metadata": {},
   "outputs": [],
   "source": [
    "gaurav = pwskills()"
   ]
  },
  {
   "cell_type": "code",
   "execution_count": 12,
   "id": "51e55aa3-4080-4db7-9ddb-2ce09cb3f859",
   "metadata": {},
   "outputs": [
    {
     "name": "stdout",
     "output_type": "stream",
     "text": [
      "welcome , to pwskills\n"
     ]
    }
   ],
   "source": [
    "gaurav.welcome_msg()"
   ]
  },
  {
   "cell_type": "code",
   "execution_count": 18,
   "id": "db67bdea-76e8-411c-a982-a92fa42f4b90",
   "metadata": {},
   "outputs": [],
   "source": [
    "class pwskills1:\n",
    "    def __init__(self,phone_number,email_id,student_id): # __init__  :- consrtuctor \n",
    "        self.phone_number1 = phone_number\n",
    "        self.email_id = email_id\n",
    "        self.student_id = student_id\n",
    "    \n",
    "    def return_student_details(self):\n",
    "        return self.phone_number1 , self.email_id , self.student_id\n",
    "        "
   ]
  },
  {
   "cell_type": "code",
   "execution_count": 19,
   "id": "66e9ffd6-0523-4382-b02a-10f416108261",
   "metadata": {},
   "outputs": [],
   "source": [
    " rohan = pwskills1(9454567890,'rohankumar@gmail.com,',1234) # creating a object"
   ]
  },
  {
   "cell_type": "code",
   "execution_count": 20,
   "id": "1a4a8605-20a4-48c3-8d6a-d2024a6cce72",
   "metadata": {},
   "outputs": [
    {
     "data": {
      "text/plain": [
       "(9454567890, 'rohankumar@gmail.com,', 1234)"
      ]
     },
     "execution_count": 20,
     "metadata": {},
     "output_type": "execute_result"
    }
   ],
   "source": [
    "rohan.return_student_details()"
   ]
  },
  {
   "cell_type": "code",
   "execution_count": 21,
   "id": "8bad20e6-674c-4faf-a031-ba0ff16a637b",
   "metadata": {},
   "outputs": [],
   "source": [
    "mohan = pwskills1(9293383922,'mohankumar@gmail.com',1235)"
   ]
  },
  {
   "cell_type": "code",
   "execution_count": 22,
   "id": "bddc59cf-524d-43d9-bc0b-0dcb470084ff",
   "metadata": {},
   "outputs": [
    {
     "data": {
      "text/plain": [
       "(9293383922, 'mohankumar@gmail.com', 1235)"
      ]
     },
     "execution_count": 22,
     "metadata": {},
     "output_type": "execute_result"
    }
   ],
   "source": [
    "mohan.return_student_details()"
   ]
  },
  {
   "cell_type": "code",
   "execution_count": 23,
   "id": "315af320-9ac0-426f-9c83-16bd45303891",
   "metadata": {},
   "outputs": [
    {
     "data": {
      "text/plain": [
       "(9454567890, 'rohankumar@gmail.com,', 1234)"
      ]
     },
     "execution_count": 23,
     "metadata": {},
     "output_type": "execute_result"
    }
   ],
   "source": [
    "rohan.return_student_details()"
   ]
  },
  {
   "cell_type": "code",
   "execution_count": 24,
   "id": "84c5efeb-0d56-4989-ba6c-5814426737b5",
   "metadata": {},
   "outputs": [],
   "source": [
    "gaurav = pwskills1(7002282829,'gaurav@gmail,com',1236)"
   ]
  },
  {
   "cell_type": "code",
   "execution_count": 25,
   "id": "01dbda2e-6bcf-4c0b-93e5-b91a072a76d0",
   "metadata": {},
   "outputs": [
    {
     "data": {
      "text/plain": [
       "(7002282829, 'gaurav@gmail,com', 1236)"
      ]
     },
     "execution_count": 25,
     "metadata": {},
     "output_type": "execute_result"
    }
   ],
   "source": [
    "gaurav.return_student_details()"
   ]
  },
  {
   "cell_type": "code",
   "execution_count": 9,
   "id": "7c6be16e-9914-46eb-8ebb-4b4bdf49e6a4",
   "metadata": {},
   "outputs": [
    {
     "data": {
      "text/plain": [
       "<__main__.pwskills1 at 0x7faa23b868f0>"
      ]
     },
     "execution_count": 9,
     "metadata": {},
     "output_type": "execute_result"
    }
   ],
   "source": [
    "rohan"
   ]
  },
  {
   "cell_type": "code",
   "execution_count": 26,
   "id": "a7a4fda5-99ef-4dd5-92f7-a4b5fe076452",
   "metadata": {},
   "outputs": [
    {
     "data": {
      "text/plain": [
       "9454567890"
      ]
     },
     "execution_count": 26,
     "metadata": {},
     "output_type": "execute_result"
    }
   ],
   "source": [
    "rohan.phone_number1"
   ]
  },
  {
   "cell_type": "code",
   "execution_count": 27,
   "id": "1d2b8ce5-7e94-48f0-a3de-52e53d9bab1d",
   "metadata": {},
   "outputs": [
    {
     "data": {
      "text/plain": [
       "1234"
      ]
     },
     "execution_count": 27,
     "metadata": {},
     "output_type": "execute_result"
    }
   ],
   "source": [
    "rohan.student_id"
   ]
  },
  {
   "cell_type": "code",
   "execution_count": 28,
   "id": "ced9649b-e519-4614-992f-32741ad35bea",
   "metadata": {},
   "outputs": [
    {
     "data": {
      "text/plain": [
       "'rohankumar@gmail.com,'"
      ]
     },
     "execution_count": 28,
     "metadata": {},
     "output_type": "execute_result"
    }
   ],
   "source": [
    "rohan.email_id"
   ]
  },
  {
   "cell_type": "code",
   "execution_count": 29,
   "id": "fae2ef96-2bf2-41a6-bf41-03b18d68b93a",
   "metadata": {},
   "outputs": [
    {
     "ename": "AttributeError",
     "evalue": "'pwskills1' object has no attribute 'phone_number'",
     "output_type": "error",
     "traceback": [
      "\u001b[0;31m---------------------------------------------------------------------------\u001b[0m",
      "\u001b[0;31mAttributeError\u001b[0m                            Traceback (most recent call last)",
      "Cell \u001b[0;32mIn[29], line 1\u001b[0m\n\u001b[0;32m----> 1\u001b[0m \u001b[43mrohan\u001b[49m\u001b[38;5;241;43m.\u001b[39;49m\u001b[43mphone_number\u001b[49m\n",
      "\u001b[0;31mAttributeError\u001b[0m: 'pwskills1' object has no attribute 'phone_number'"
     ]
    }
   ],
   "source": [
    "rohan.phone_number"
   ]
  },
  {
   "cell_type": "code",
   "execution_count": 30,
   "id": "f4a758c1-abfd-428b-91ef-415fd6d26c10",
   "metadata": {},
   "outputs": [],
   "source": [
    "class pwskills1:\n",
    "    def __init__(nav,phone_number,email_id,student_id): # __init__  :- consrtuctor \n",
    "        nav.phone_number = phone_number\n",
    "        nav.email_id = email_id\n",
    "        nav.student_id = student_id\n",
    "    \n",
    "    def return_student_details(nav):\n",
    "        return nav.phone_number , nav.email_id , nav.student_id"
   ]
  },
  {
   "cell_type": "code",
   "execution_count": 31,
   "id": "51f50c21-e27e-4c09-b5f5-a6d6af24aa75",
   "metadata": {},
   "outputs": [],
   "source": [
    "rohan = pwskills1(4734839484,'rohan@gmail.com',1234)"
   ]
  },
  {
   "cell_type": "code",
   "execution_count": 32,
   "id": "b9f9ebbe-70bb-4162-b7df-9695c689634e",
   "metadata": {},
   "outputs": [
    {
     "data": {
      "text/plain": [
       "(4734839484, 'rohan@gmail.com', 1234)"
      ]
     },
     "execution_count": 32,
     "metadata": {},
     "output_type": "execute_result"
    }
   ],
   "source": [
    "rohan.return_student_details()"
   ]
  },
  {
   "cell_type": "markdown",
   "id": "e762b289-abd0-4f13-af8b-41115e06de75",
   "metadata": {},
   "source": [
    "#### Self  keyword is not mandatory to use , we can use any name for the pointer "
   ]
  }
 ],
 "metadata": {
  "kernelspec": {
   "display_name": "Python 3 (ipykernel)",
   "language": "python",
   "name": "python3"
  },
  "language_info": {
   "codemirror_mode": {
    "name": "ipython",
    "version": 3
   },
   "file_extension": ".py",
   "mimetype": "text/x-python",
   "name": "python",
   "nbconvert_exporter": "python",
   "pygments_lexer": "ipython3",
   "version": "3.10.8"
  }
 },
 "nbformat": 4,
 "nbformat_minor": 5
}
