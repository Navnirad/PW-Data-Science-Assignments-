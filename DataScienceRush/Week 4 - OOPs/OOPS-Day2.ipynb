{
 "cells": [
  {
   "cell_type": "code",
   "execution_count": 1,
   "id": "8afc0769-820c-4c5a-81b0-3fe0d977c34e",
   "metadata": {},
   "outputs": [],
   "source": [
    "## OOPS Day 2 - Polymorphism & Encapsulation \n",
    "# Author - Naveen Gupta"
   ]
  },
  {
   "cell_type": "code",
   "execution_count": 3,
   "id": "6ce24d84-f41b-4f2a-983c-b4a4380fa154",
   "metadata": {},
   "outputs": [],
   "source": [
    "### Polymorphism "
   ]
  },
  {
   "cell_type": "code",
   "execution_count": 4,
   "id": "78824169-dd05-4d63-a05f-44b623b222ed",
   "metadata": {},
   "outputs": [],
   "source": [
    "# Polymorphism Refers to the use of a single type entity (method,operator or objject) to perform differently as per different scenarios"
   ]
  },
  {
   "cell_type": "code",
   "execution_count": 2,
   "id": "37c5f3d0-146b-465e-b029-78d58a4391cc",
   "metadata": {},
   "outputs": [],
   "source": [
    "def test(a,b):\n",
    "    return a+b"
   ]
  },
  {
   "cell_type": "code",
   "execution_count": 3,
   "id": "37b2d673-c768-4921-9c70-e6573ce8ec43",
   "metadata": {},
   "outputs": [
    {
     "data": {
      "text/plain": [
       "7"
      ]
     },
     "execution_count": 3,
     "metadata": {},
     "output_type": "execute_result"
    }
   ],
   "source": [
    "test(3,4) ## addition"
   ]
  },
  {
   "cell_type": "code",
   "execution_count": 4,
   "id": "7d758c1d-eb3e-4731-9e67-06d5b38fcc18",
   "metadata": {},
   "outputs": [
    {
     "data": {
      "text/plain": [
       "'sudhkumar'"
      ]
     },
     "execution_count": 4,
     "metadata": {},
     "output_type": "execute_result"
    }
   ],
   "source": [
    "test('sudh','kumar') ## concatination"
   ]
  },
  {
   "cell_type": "code",
   "execution_count": 5,
   "id": "160760d5-97aa-4e9a-9fb1-8da68c839f9f",
   "metadata": {},
   "outputs": [
    {
     "data": {
      "text/plain": [
       "[3, 4, 5, 6, 6, 7, 8, 9]"
      ]
     },
     "execution_count": 5,
     "metadata": {},
     "output_type": "execute_result"
    }
   ],
   "source": [
    "test([3,4,5,6],[6,7,8,9]) ## list append"
   ]
  },
  {
   "cell_type": "code",
   "execution_count": 6,
   "id": "ffe24476-78c6-41ed-946e-eee1ab9b0041",
   "metadata": {},
   "outputs": [],
   "source": [
    "class data_science:\n",
    "    def syllabus(self):\n",
    "        print('this is my syllabus for data science masters')"
   ]
  },
  {
   "cell_type": "code",
   "execution_count": 7,
   "id": "aa887154-2a6e-4a68-99a8-95f55b6b482e",
   "metadata": {},
   "outputs": [],
   "source": [
    "class web_dev():\n",
    "    def syllabus(self):\n",
    "        print('this is my syllabus for web dev')"
   ]
  },
  {
   "cell_type": "code",
   "execution_count": 9,
   "id": "47851a27-6b42-437e-93e7-6d6c35402dc7",
   "metadata": {},
   "outputs": [],
   "source": [
    "def class_parcer(class_obj):\n",
    "    for i in class_obj:\n",
    "        i.syllabus()\n",
    "        "
   ]
  },
  {
   "cell_type": "code",
   "execution_count": 10,
   "id": "a6877786-e07e-4887-9c3e-386bfdc8ad5f",
   "metadata": {},
   "outputs": [],
   "source": [
    "data_science = data_science()"
   ]
  },
  {
   "cell_type": "code",
   "execution_count": 11,
   "id": "88e4d48d-f410-4e2e-b2a2-cb7e8e9f85d4",
   "metadata": {},
   "outputs": [],
   "source": [
    "web_dev = web_dev()"
   ]
  },
  {
   "cell_type": "code",
   "execution_count": 12,
   "id": "7326b4c7-ab57-483a-9f15-80f0ffddd6cb",
   "metadata": {},
   "outputs": [],
   "source": [
    "class_obj = [data_science,web_dev]"
   ]
  },
  {
   "cell_type": "code",
   "execution_count": 13,
   "id": "4d749c53-3553-447e-996a-783f0fdb4f43",
   "metadata": {},
   "outputs": [
    {
     "name": "stdout",
     "output_type": "stream",
     "text": [
      "this is my syllabus for data science masters\n",
      "this is my syllabus for web dev\n"
     ]
    }
   ],
   "source": [
    "class_parcer(class_obj)"
   ]
  },
  {
   "cell_type": "code",
   "execution_count": 2,
   "id": "71a60011-5dcb-4d38-a555-a443e901d7cb",
   "metadata": {},
   "outputs": [],
   "source": [
    "## we are calling syllabus function from differnet classes and it works differently as per the class that the object belongs to "
   ]
  },
  {
   "cell_type": "code",
   "execution_count": 5,
   "id": "bf106242-5cca-4c3c-9ff8-b50ba4ac0277",
   "metadata": {},
   "outputs": [],
   "source": [
    "##### Encapsulation "
   ]
  },
  {
   "cell_type": "code",
   "execution_count": 6,
   "id": "50708b93-be49-476f-965c-cc54e2754952",
   "metadata": {},
   "outputs": [],
   "source": [
    "class test :\n",
    "    def __init__(self,a,b):\n",
    "        self.a = a\n",
    "        self.b = b"
   ]
  },
  {
   "cell_type": "code",
   "execution_count": 7,
   "id": "6a226308-5b2a-473c-b3c1-6c7dfa560dff",
   "metadata": {},
   "outputs": [],
   "source": [
    "t = test(23,24)"
   ]
  },
  {
   "cell_type": "code",
   "execution_count": 8,
   "id": "6da85754-eaa8-48d7-b981-dd50f312f911",
   "metadata": {},
   "outputs": [
    {
     "data": {
      "text/plain": [
       "23"
      ]
     },
     "execution_count": 8,
     "metadata": {},
     "output_type": "execute_result"
    }
   ],
   "source": [
    "t.a"
   ]
  },
  {
   "cell_type": "code",
   "execution_count": 9,
   "id": "951888ad-a986-4cd2-b6f5-4b97e611e4cd",
   "metadata": {},
   "outputs": [],
   "source": [
    "t.a = 3233456"
   ]
  },
  {
   "cell_type": "code",
   "execution_count": 10,
   "id": "4c0f686b-a48d-4aed-a32a-3e92eae8f025",
   "metadata": {},
   "outputs": [
    {
     "data": {
      "text/plain": [
       "3233456"
      ]
     },
     "execution_count": 10,
     "metadata": {},
     "output_type": "execute_result"
    }
   ],
   "source": [
    "t.a"
   ]
  },
  {
   "cell_type": "code",
   "execution_count": 11,
   "id": "c4a61f78-dd8f-4235-a7d7-05d24ce06afb",
   "metadata": {},
   "outputs": [],
   "source": [
    "# here we can access and modify the values of internal varibles"
   ]
  },
  {
   "cell_type": "code",
   "execution_count": 42,
   "id": "7d0ddc0d-6a4b-47b6-9d68-f6e1a38df87e",
   "metadata": {},
   "outputs": [],
   "source": [
    "class car:\n",
    "    def __init__(self,year,make,model,speed):\n",
    "        self.__year = year # double underscore for encapsulation for making private variables \n",
    "        self.__make = make\n",
    "        self.__model = model\n",
    "        self.__speed = 0\n",
    "        \n",
    "    def set_speed(self,speed): ## method for modifying  speed varible indirectly following our conditions\n",
    "        self.__speed = 0 if speed<0 else speed\n",
    "    def get_speed(self):\n",
    "        return self.__speed"
   ]
  },
  {
   "cell_type": "code",
   "execution_count": 43,
   "id": "e918fe89-495b-4a04-9feb-497d4638fe2d",
   "metadata": {},
   "outputs": [],
   "source": [
    "c= car(2021,'toyota','innova',12)"
   ]
  },
  {
   "cell_type": "code",
   "execution_count": 44,
   "id": "ff7429fc-650e-4f0e-9a2f-5b8257be0fd4",
   "metadata": {},
   "outputs": [
    {
     "ename": "AttributeError",
     "evalue": "'car' object has no attribute 'year'",
     "output_type": "error",
     "traceback": [
      "\u001b[0;31m---------------------------------------------------------------------------\u001b[0m",
      "\u001b[0;31mAttributeError\u001b[0m                            Traceback (most recent call last)",
      "Cell \u001b[0;32mIn[44], line 1\u001b[0m\n\u001b[0;32m----> 1\u001b[0m \u001b[43mc\u001b[49m\u001b[38;5;241;43m.\u001b[39;49m\u001b[43myear\u001b[49m\n",
      "\u001b[0;31mAttributeError\u001b[0m: 'car' object has no attribute 'year'"
     ]
    }
   ],
   "source": [
    "c.year"
   ]
  },
  {
   "cell_type": "code",
   "execution_count": 45,
   "id": "0bba1e98-6bcd-4e52-a454-04064e582f15",
   "metadata": {},
   "outputs": [
    {
     "ename": "AttributeError",
     "evalue": "'car' object has no attribute '__year'",
     "output_type": "error",
     "traceback": [
      "\u001b[0;31m---------------------------------------------------------------------------\u001b[0m",
      "\u001b[0;31mAttributeError\u001b[0m                            Traceback (most recent call last)",
      "Cell \u001b[0;32mIn[45], line 1\u001b[0m\n\u001b[0;32m----> 1\u001b[0m \u001b[43mc\u001b[49m\u001b[38;5;241;43m.\u001b[39;49m\u001b[43m__year\u001b[49m\n",
      "\u001b[0;31mAttributeError\u001b[0m: 'car' object has no attribute '__year'"
     ]
    }
   ],
   "source": [
    "c.__year"
   ]
  },
  {
   "cell_type": "code",
   "execution_count": 46,
   "id": "7c012d03-341c-42d0-81bd-a63d8126dac3",
   "metadata": {},
   "outputs": [
    {
     "data": {
      "text/plain": [
       "2021"
      ]
     },
     "execution_count": 46,
     "metadata": {},
     "output_type": "execute_result"
    }
   ],
   "source": [
    "c._car__year"
   ]
  },
  {
   "cell_type": "code",
   "execution_count": 47,
   "id": "dc1bd48b-1d08-4345-864d-90711b221020",
   "metadata": {},
   "outputs": [],
   "source": [
    "c.set_speed(300)"
   ]
  },
  {
   "cell_type": "code",
   "execution_count": 48,
   "id": "bf7ef4c7-ca38-4cff-964a-750d084da254",
   "metadata": {},
   "outputs": [
    {
     "data": {
      "text/plain": [
       "300"
      ]
     },
     "execution_count": 48,
     "metadata": {},
     "output_type": "execute_result"
    }
   ],
   "source": [
    "c.get_speed()"
   ]
  },
  {
   "cell_type": "code",
   "execution_count": 49,
   "id": "3bd13436-791a-4ad2-bcfb-f14706db95ce",
   "metadata": {},
   "outputs": [],
   "source": [
    "c.set_speed(-200)"
   ]
  },
  {
   "cell_type": "code",
   "execution_count": 50,
   "id": "18f995d4-4cee-433c-aa86-8f5ca49b6522",
   "metadata": {},
   "outputs": [
    {
     "data": {
      "text/plain": [
       "0"
      ]
     },
     "execution_count": 50,
     "metadata": {},
     "output_type": "execute_result"
    }
   ],
   "source": [
    "c.get_speed()"
   ]
  },
  {
   "cell_type": "code",
   "execution_count": 70,
   "id": "9c7741d4-ec0a-4fbd-905a-a5df65082d17",
   "metadata": {},
   "outputs": [],
   "source": [
    "class bank_account:\n",
    "    def __init__(self,balance):\n",
    "        self.__balance = balance\n",
    "        \n",
    "    def deposit(self,amount):\n",
    "        self.__balance = self.__balance + amount\n",
    "        \n",
    "    def withdraw(self,amount):\n",
    "        if self.__balance >= amount:\n",
    "            self.__balance = self.__balance - amount\n",
    "            return True\n",
    "        else:\n",
    "            return False\n",
    "    \n",
    "    def get_balance(self):\n",
    "        return self.__balance\n",
    "        "
   ]
  },
  {
   "cell_type": "code",
   "execution_count": 71,
   "id": "f6bf046e-9138-4818-aebd-e9be19197915",
   "metadata": {},
   "outputs": [],
   "source": [
    "nav = bank_account(1000)"
   ]
  },
  {
   "cell_type": "code",
   "execution_count": 72,
   "id": "a0b91212-03bd-4f80-9089-882c6fa26eaa",
   "metadata": {},
   "outputs": [
    {
     "data": {
      "text/plain": [
       "1000"
      ]
     },
     "execution_count": 72,
     "metadata": {},
     "output_type": "execute_result"
    }
   ],
   "source": [
    "nav.get_balance()"
   ]
  },
  {
   "cell_type": "code",
   "execution_count": 73,
   "id": "aa217a0c-c318-4bcb-91ac-4c122dea4381",
   "metadata": {},
   "outputs": [],
   "source": [
    "nav.deposit(5000)"
   ]
  },
  {
   "cell_type": "code",
   "execution_count": 74,
   "id": "0c2d8fe8-3204-46ad-82cb-333d10bc4d9c",
   "metadata": {},
   "outputs": [
    {
     "data": {
      "text/plain": [
       "6000"
      ]
     },
     "execution_count": 74,
     "metadata": {},
     "output_type": "execute_result"
    }
   ],
   "source": [
    "nav.get_balance()"
   ]
  },
  {
   "cell_type": "code",
   "execution_count": 75,
   "id": "e3267406-f309-4366-8c3d-3b4baebb9674",
   "metadata": {},
   "outputs": [
    {
     "data": {
      "text/plain": [
       "False"
      ]
     },
     "execution_count": 75,
     "metadata": {},
     "output_type": "execute_result"
    }
   ],
   "source": [
    "nav.withdraw(8000)"
   ]
  },
  {
   "cell_type": "code",
   "execution_count": 76,
   "id": "2095db6a-9588-4675-938f-da5d73ebe2ae",
   "metadata": {},
   "outputs": [
    {
     "data": {
      "text/plain": [
       "True"
      ]
     },
     "execution_count": 76,
     "metadata": {},
     "output_type": "execute_result"
    }
   ],
   "source": [
    "nav.withdraw(4000)"
   ]
  },
  {
   "cell_type": "code",
   "execution_count": 77,
   "id": "33e31987-db6d-4eaf-946d-c0bffc091e02",
   "metadata": {},
   "outputs": [
    {
     "data": {
      "text/plain": [
       "2000"
      ]
     },
     "execution_count": 77,
     "metadata": {},
     "output_type": "execute_result"
    }
   ],
   "source": [
    "nav.get_balance()"
   ]
  },
  {
   "cell_type": "code",
   "execution_count": 78,
   "id": "f06f4d0e-a8bc-4339-8105-a22d625583c4",
   "metadata": {},
   "outputs": [
    {
     "data": {
      "text/plain": [
       "True"
      ]
     },
     "execution_count": 78,
     "metadata": {},
     "output_type": "execute_result"
    }
   ],
   "source": [
    "nav.withdraw(2000)"
   ]
  },
  {
   "cell_type": "code",
   "execution_count": 79,
   "id": "526ce628-a826-405b-9a16-7dbf8ef47973",
   "metadata": {},
   "outputs": [
    {
     "data": {
      "text/plain": [
       "0"
      ]
     },
     "execution_count": 79,
     "metadata": {},
     "output_type": "execute_result"
    }
   ],
   "source": [
    "nav.get_balance()"
   ]
  },
  {
   "cell_type": "code",
   "execution_count": 80,
   "id": "d9ed663a-2ec9-4838-8045-46b4e56efe04",
   "metadata": {},
   "outputs": [],
   "source": [
    "\n",
    "\n",
    "\n",
    "nav.deposit(5000)"
   ]
  },
  {
   "cell_type": "code",
   "execution_count": 81,
   "id": "a1189c44-1d66-49c3-9b63-d057f810f893",
   "metadata": {},
   "outputs": [
    {
     "data": {
      "text/plain": [
       "5000"
      ]
     },
     "execution_count": 81,
     "metadata": {},
     "output_type": "execute_result"
    }
   ],
   "source": [
    "nav.get_balance()"
   ]
  },
  {
   "cell_type": "code",
   "execution_count": null,
   "id": "68c2fce9-e57b-4d8f-96a9-2557165e736e",
   "metadata": {},
   "outputs": [],
   "source": []
  },
  {
   "cell_type": "code",
   "execution_count": null,
   "id": "1d0612c9-ff81-4576-8bcf-addc19507dec",
   "metadata": {},
   "outputs": [],
   "source": [
    "\n"
   ]
  }
 ],
 "metadata": {
  "kernelspec": {
   "display_name": "Python 3 (ipykernel)",
   "language": "python",
   "name": "python3"
  },
  "language_info": {
   "codemirror_mode": {
    "name": "ipython",
    "version": 3
   },
   "file_extension": ".py",
   "mimetype": "text/x-python",
   "name": "python",
   "nbconvert_exporter": "python",
   "pygments_lexer": "ipython3",
   "version": "3.10.8"
  }
 },
 "nbformat": 4,
 "nbformat_minor": 5
}
