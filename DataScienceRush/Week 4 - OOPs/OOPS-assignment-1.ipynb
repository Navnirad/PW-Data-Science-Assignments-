{
 "cells": [
  {
   "cell_type": "code",
   "execution_count": 2,
   "id": "a1fd010d-e05e-449e-b611-1f3d0d51d838",
   "metadata": {},
   "outputs": [],
   "source": [
    "### OOPS Assignment 1 \n",
    "## Author - Naveen Gupta \n",
    "# DOC - 16-01-2024"
   ]
  },
  {
   "cell_type": "code",
   "execution_count": 2,
   "id": "2e2b3a8a-95aa-4413-956f-a0ad6d76daa5",
   "metadata": {},
   "outputs": [
    {
     "data": {
      "text/plain": [
       "('Rohan dutta', 25, 93737484)"
      ]
     },
     "execution_count": 2,
     "metadata": {},
     "output_type": "execute_result"
    }
   ],
   "source": [
    "# Q1. Explain Class and Object with respect to Object-Oriented Programming. Give a suitable example.\n",
    "\"\"\"\n",
    "Ans :- \n",
    "        Class \n",
    "    \n",
    "        - Class is a blueprint of a real world entity but not specific to any real world entity \n",
    "        - for exeample :- every human being has a defined body structure , like anyone who is a human would have eyes , face , hands etc , \n",
    "          but different human may have different skin colour , different eye shape / colour , differnece in height , weight etc,\n",
    "          like everyone would have a name , age but each person would have it differently .\n",
    "        - so here human being is class with well defined methods & attributes \n",
    "        \n",
    "        Object \n",
    "        \n",
    "        - Object is actually the real world entity made using the class . It is also called as Instance / Variable \n",
    "        - like Rohan is a human being of age 15 with a fair skin tone , 5.5 feet height  etc etc \n",
    "        - so here , Rohan is an object of class human being ...\n",
    "        \n",
    "        example below :- \n",
    "\"\"\"\n",
    "\n",
    "class human:\n",
    "    \n",
    "    def __init__(self,name,age,contact):\n",
    "        self.name = name \n",
    "        self.age = age \n",
    "        self.contact = contact \n",
    "        \n",
    "    def details(self):\n",
    "        return self.name , self.age , self.contact \n",
    "\n",
    "rohan = human('Rohan dutta',25,93737484)\n",
    "rohan.details()"
   ]
  },
  {
   "cell_type": "code",
   "execution_count": null,
   "id": "7dba2344-d96f-4f92-989c-486a2be882b0",
   "metadata": {},
   "outputs": [],
   "source": [
    "# Q2. Name the four pillars of OOPs.\n",
    "\n",
    "Ans :- \n",
    "\n",
    "          - Polymorphism\n",
    "          - Encapsulation \n",
    "          - Inheritance \n",
    "          - Abstraction \n",
    "        "
   ]
  },
  {
   "cell_type": "code",
   "execution_count": 5,
   "id": "3411d3b7-39ef-4363-bd27-086476c95846",
   "metadata": {},
   "outputs": [
    {
     "data": {
      "text/plain": [
       "('cat', 'black')"
      ]
     },
     "execution_count": 5,
     "metadata": {},
     "output_type": "execute_result"
    }
   ],
   "source": [
    "# Q3. Explain why the __init__() function is used. Give a suitable example.\n",
    "\"\"\" \n",
    "Ans :- \n",
    "       -  __init__() function is called as Constructor \n",
    "       -  It is called in a program when object is created out of a class.\n",
    "       -  It intitializes the object & assign the values of object properties \n",
    "    \n",
    "    For example for a human being - name , contact , age would be some basic properties \n",
    "\"\"\" \n",
    "\n",
    "class animal:\n",
    "    def __init__(self,type,color):\n",
    "        self.type = type\n",
    "        self.color = color\n",
    "        \n",
    "    def details(self):\n",
    "        return self.type , self.color\n",
    "\n",
    "tommy = animal('cat','black')\n",
    "tommy.details()"
   ]
  },
  {
   "cell_type": "code",
   "execution_count": 7,
   "id": "a272ad57-2469-481e-b4a6-9af700d7d404",
   "metadata": {},
   "outputs": [],
   "source": [
    "# Q4. Why self is used in OOPs?\n",
    "\"\"\"\n",
    "- self parameter is a pointer which points to object / instance of class\n",
    "- It binds the object with the class\n",
    "- It binds attribues with given arguments \n",
    "- In simple words , It actually represents the object / instance \n",
    "\n",
    "\"\"\""
   ]
  },
  {
   "cell_type": "code",
   "execution_count": 10,
   "id": "fbd21d66-21cf-4986-95db-79c5ee5ecc55",
   "metadata": {},
   "outputs": [
    {
     "data": {
      "text/plain": [
       "'these are parent genes'"
      ]
     },
     "execution_count": 10,
     "metadata": {},
     "output_type": "execute_result"
    }
   ],
   "source": [
    " # Q5. What is inheritance? Give an example for each type of inheritance.\n",
    "\"\"\"\n",
    "    - Inheritance is the process of inheriting all the methods and properties from one class to another \n",
    "    - Parent class / Base class - Class from which inheritance is done.\n",
    "    - Child class / Derived class - Class which inherits from parent class.\n",
    "    \n",
    "    Types of Inheritance :- \n",
    "    \n",
    "                    - Single inheritance \n",
    "                    - Multiple inheritance \n",
    "                    - Multilevel inheritance \n",
    "                    - Hierarchical inheritance \n",
    "\"\"\"\n",
    "    \n",
    "## single inheritance - simple inheritance from a parent class to a child class\n",
    "# example  :- \n",
    "\n",
    "class parent:\n",
    "    def gene(self):\n",
    "        return 'these are parent genes'\n",
    "class child(parent):\n",
    "    pass\n",
    "\n",
    "raj = child()\n",
    "raj.gene()"
   ]
  },
  {
   "cell_type": "code",
   "execution_count": 19,
   "id": "fbc40090-423b-4bd4-8c74-f3c90998458d",
   "metadata": {},
   "outputs": [
    {
     "name": "stdout",
     "output_type": "stream",
     "text": [
      "these are father genes\n",
      "these are mother genes\n"
     ]
    }
   ],
   "source": [
    "## Multiple inheritance :- inheritance from multiple parent classes into a child class\n",
    "#example :- \n",
    "\n",
    "class father :\n",
    "    def fgene(self):\n",
    "        return 'these are father genes'\n",
    "\n",
    "class mother :\n",
    "    def mgene(self):\n",
    "        return 'these are mother genes'\n",
    "    \n",
    "class child(father , mother):\n",
    "    pass\n",
    "\n",
    "sam = child()\n",
    "print(sam.fgene())\n",
    "print(sam.mgene())"
   ]
  },
  {
   "cell_type": "code",
   "execution_count": 20,
   "id": "49a6a2f7-593a-4b00-acbc-907777e4cfbe",
   "metadata": {},
   "outputs": [
    {
     "name": "stdout",
     "output_type": "stream",
     "text": [
      "these are genes from generation 1\n",
      "these are genes from generation 2\n"
     ]
    }
   ],
   "source": [
    "\"\"\"Multilevel inheritance - inheritance at multiple levels like from a parent to 2nd generation  and \n",
    "   then from 2nd generation to 3rd generation \"\"\"\n",
    "# example \n",
    "\n",
    "class generation1:\n",
    "    def g1(self):\n",
    "        return 'these are genes from generation 1'\n",
    "\n",
    "class generation2(generation1):\n",
    "    def g2(self):\n",
    "        return 'these are genes from generation 2'\n",
    "\n",
    "class generation3(generation2):\n",
    "    pass\n",
    "\n",
    "obj = generation3()\n",
    "print(obj.g1())\n",
    "print(obj.g2())"
   ]
  },
  {
   "cell_type": "code",
   "execution_count": 22,
   "id": "9d656465-55ca-4af2-99d3-77ebe37ffdfd",
   "metadata": {},
   "outputs": [
    {
     "name": "stdout",
     "output_type": "stream",
     "text": [
      "these are father genes\n",
      "these are father genes\n"
     ]
    }
   ],
   "source": [
    "# Hierarchical inheritance - inheritance from a single parent class to multiple child classes\n",
    "\n",
    "class parent():\n",
    "    def gene(self):\n",
    "        print('these are father genes')\n",
    "        \n",
    "class child1(parent):\n",
    "    pass\n",
    "\n",
    "class child2(parent):\n",
    "    pass\n",
    "\n",
    "obj1 = child1()\n",
    "obj2 = child2()\n",
    "\n",
    "obj1.gene()\n",
    "obj2.gene()"
   ]
  }
 ],
 "metadata": {
  "kernelspec": {
   "display_name": "Python 3 (ipykernel)",
   "language": "python",
   "name": "python3"
  },
  "language_info": {
   "codemirror_mode": {
    "name": "ipython",
    "version": 3
   },
   "file_extension": ".py",
   "mimetype": "text/x-python",
   "name": "python",
   "nbconvert_exporter": "python",
   "pygments_lexer": "ipython3",
   "version": "3.10.8"
  }
 },
 "nbformat": 4,
 "nbformat_minor": 5
}
