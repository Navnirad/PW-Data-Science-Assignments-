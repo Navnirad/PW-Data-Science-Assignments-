{
 "cells": [
  {
   "cell_type": "code",
   "execution_count": 1,
   "id": "c1a5aa9f-e4be-4f27-8820-f1bfc89266dc",
   "metadata": {},
   "outputs": [],
   "source": [
    "#### OOPS - Day6 \n",
    "## Topics - Magic / Dunder Methods , Property Decorators "
   ]
  },
  {
   "cell_type": "code",
   "execution_count": 2,
   "id": "87bf1a6c-1936-4020-9bcf-fc86459031a9",
   "metadata": {},
   "outputs": [],
   "source": [
    "# Special ( Magic / Dunder) Methods "
   ]
  },
  {
   "cell_type": "code",
   "execution_count": 4,
   "id": "1a4f51d6-6850-43a6-8963-34c1db8ad0f1",
   "metadata": {},
   "outputs": [
    {
     "data": {
      "text/plain": [
       "['__abs__',\n",
       " '__add__',\n",
       " '__and__',\n",
       " '__bool__',\n",
       " '__ceil__',\n",
       " '__class__',\n",
       " '__delattr__',\n",
       " '__dir__',\n",
       " '__divmod__',\n",
       " '__doc__',\n",
       " '__eq__',\n",
       " '__float__',\n",
       " '__floor__',\n",
       " '__floordiv__',\n",
       " '__format__',\n",
       " '__ge__',\n",
       " '__getattribute__',\n",
       " '__getnewargs__',\n",
       " '__gt__',\n",
       " '__hash__',\n",
       " '__index__',\n",
       " '__init__',\n",
       " '__init_subclass__',\n",
       " '__int__',\n",
       " '__invert__',\n",
       " '__le__',\n",
       " '__lshift__',\n",
       " '__lt__',\n",
       " '__mod__',\n",
       " '__mul__',\n",
       " '__ne__',\n",
       " '__neg__',\n",
       " '__new__',\n",
       " '__or__',\n",
       " '__pos__',\n",
       " '__pow__',\n",
       " '__radd__',\n",
       " '__rand__',\n",
       " '__rdivmod__',\n",
       " '__reduce__',\n",
       " '__reduce_ex__',\n",
       " '__repr__',\n",
       " '__rfloordiv__',\n",
       " '__rlshift__',\n",
       " '__rmod__',\n",
       " '__rmul__',\n",
       " '__ror__',\n",
       " '__round__',\n",
       " '__rpow__',\n",
       " '__rrshift__',\n",
       " '__rshift__',\n",
       " '__rsub__',\n",
       " '__rtruediv__',\n",
       " '__rxor__',\n",
       " '__setattr__',\n",
       " '__sizeof__',\n",
       " '__str__',\n",
       " '__sub__',\n",
       " '__subclasshook__',\n",
       " '__truediv__',\n",
       " '__trunc__',\n",
       " '__xor__',\n",
       " 'as_integer_ratio',\n",
       " 'bit_count',\n",
       " 'bit_length',\n",
       " 'conjugate',\n",
       " 'denominator',\n",
       " 'from_bytes',\n",
       " 'imag',\n",
       " 'numerator',\n",
       " 'real',\n",
       " 'to_bytes']"
      ]
     },
     "execution_count": 4,
     "metadata": {},
     "output_type": "execute_result"
    }
   ],
   "source": [
    "dir(int)"
   ]
  },
  {
   "cell_type": "code",
   "execution_count": 5,
   "id": "f3f02158-aeff-459f-8841-86d480f9a503",
   "metadata": {},
   "outputs": [
    {
     "data": {
      "text/plain": [
       "['__add__',\n",
       " '__class__',\n",
       " '__contains__',\n",
       " '__delattr__',\n",
       " '__dir__',\n",
       " '__doc__',\n",
       " '__eq__',\n",
       " '__format__',\n",
       " '__ge__',\n",
       " '__getattribute__',\n",
       " '__getitem__',\n",
       " '__getnewargs__',\n",
       " '__gt__',\n",
       " '__hash__',\n",
       " '__init__',\n",
       " '__init_subclass__',\n",
       " '__iter__',\n",
       " '__le__',\n",
       " '__len__',\n",
       " '__lt__',\n",
       " '__mod__',\n",
       " '__mul__',\n",
       " '__ne__',\n",
       " '__new__',\n",
       " '__reduce__',\n",
       " '__reduce_ex__',\n",
       " '__repr__',\n",
       " '__rmod__',\n",
       " '__rmul__',\n",
       " '__setattr__',\n",
       " '__sizeof__',\n",
       " '__str__',\n",
       " '__subclasshook__',\n",
       " 'capitalize',\n",
       " 'casefold',\n",
       " 'center',\n",
       " 'count',\n",
       " 'encode',\n",
       " 'endswith',\n",
       " 'expandtabs',\n",
       " 'find',\n",
       " 'format',\n",
       " 'format_map',\n",
       " 'index',\n",
       " 'isalnum',\n",
       " 'isalpha',\n",
       " 'isascii',\n",
       " 'isdecimal',\n",
       " 'isdigit',\n",
       " 'isidentifier',\n",
       " 'islower',\n",
       " 'isnumeric',\n",
       " 'isprintable',\n",
       " 'isspace',\n",
       " 'istitle',\n",
       " 'isupper',\n",
       " 'join',\n",
       " 'ljust',\n",
       " 'lower',\n",
       " 'lstrip',\n",
       " 'maketrans',\n",
       " 'partition',\n",
       " 'removeprefix',\n",
       " 'removesuffix',\n",
       " 'replace',\n",
       " 'rfind',\n",
       " 'rindex',\n",
       " 'rjust',\n",
       " 'rpartition',\n",
       " 'rsplit',\n",
       " 'rstrip',\n",
       " 'split',\n",
       " 'splitlines',\n",
       " 'startswith',\n",
       " 'strip',\n",
       " 'swapcase',\n",
       " 'title',\n",
       " 'translate',\n",
       " 'upper',\n",
       " 'zfill']"
      ]
     },
     "execution_count": 5,
     "metadata": {},
     "output_type": "execute_result"
    }
   ],
   "source": [
    "dir(str)"
   ]
  },
  {
   "cell_type": "code",
   "execution_count": 7,
   "id": "dae39d0a-55b1-42c3-974e-230a4d982e9e",
   "metadata": {},
   "outputs": [],
   "source": [
    "a = 100"
   ]
  },
  {
   "cell_type": "code",
   "execution_count": 8,
   "id": "4f4a39af-462e-40c2-8e03-7759b51e13d8",
   "metadata": {},
   "outputs": [
    {
     "data": {
      "text/plain": [
       "105"
      ]
     },
     "execution_count": 8,
     "metadata": {},
     "output_type": "execute_result"
    }
   ],
   "source": [
    "a +5"
   ]
  },
  {
   "cell_type": "code",
   "execution_count": 9,
   "id": "45d0b6c7-a75d-4ba8-836c-04f5b88f64fc",
   "metadata": {},
   "outputs": [
    {
     "data": {
      "text/plain": [
       "105"
      ]
     },
     "execution_count": 9,
     "metadata": {},
     "output_type": "execute_result"
    }
   ],
   "source": [
    "a.__add__(5)"
   ]
  },
  {
   "cell_type": "code",
   "execution_count": 30,
   "id": "9bc9397f-a657-4403-852a-7b0a42c411f4",
   "metadata": {},
   "outputs": [],
   "source": [
    "class pwskills:\n",
    "    def __new__(cls):\n",
    "        print('this is my new')\n",
    "        \n",
    "    def __init__(self):\n",
    "        print('this is my init')\n",
    "        self.mobile_number = 290394929\n",
    "        "
   ]
  },
  {
   "cell_type": "code",
   "execution_count": 31,
   "id": "b9d868d0-b750-438f-b62e-48cc81803dbd",
   "metadata": {},
   "outputs": [
    {
     "name": "stdout",
     "output_type": "stream",
     "text": [
      "this is my new\n"
     ]
    }
   ],
   "source": [
    "pw = pwskills()"
   ]
  },
  {
   "cell_type": "code",
   "execution_count": 29,
   "id": "e65be434-dcf0-4dbb-a31a-88d46d193860",
   "metadata": {},
   "outputs": [
    {
     "data": {
      "text/plain": [
       "290394929"
      ]
     },
     "execution_count": 29,
     "metadata": {},
     "output_type": "execute_result"
    }
   ],
   "source": [
    "pw.mobile_number"
   ]
  },
  {
   "cell_type": "code",
   "execution_count": 46,
   "id": "15281576-79ce-4b8e-b8f6-4059a3a6f439",
   "metadata": {},
   "outputs": [],
   "source": [
    "class pwskills1:\n",
    "        \n",
    "    def __init__(self):\n",
    "        self.mobile_number = 290394929\n",
    "        \n",
    "    def __str__(self):\n",
    "        return 'this is my magic call of str'"
   ]
  },
  {
   "cell_type": "code",
   "execution_count": 47,
   "id": "ea5e7297-e7ce-41a9-bcb2-e303da065a8d",
   "metadata": {},
   "outputs": [],
   "source": [
    "pw1 =  pwskills1()"
   ]
  },
  {
   "cell_type": "code",
   "execution_count": 48,
   "id": "a29b3b85-8487-48a7-90d3-84af0193b4ce",
   "metadata": {},
   "outputs": [
    {
     "data": {
      "text/plain": [
       "<__main__.pwskills1 at 0x7fb435f1e4a0>"
      ]
     },
     "execution_count": 48,
     "metadata": {},
     "output_type": "execute_result"
    }
   ],
   "source": [
    "pw1"
   ]
  },
  {
   "cell_type": "code",
   "execution_count": 49,
   "id": "2fb8abf6-eb60-4871-be4b-a5f8b8cc6ee1",
   "metadata": {},
   "outputs": [
    {
     "name": "stdout",
     "output_type": "stream",
     "text": [
      "this is my magic call of str\n"
     ]
    }
   ],
   "source": [
    "print(pw1)"
   ]
  },
  {
   "cell_type": "code",
   "execution_count": 1,
   "id": "fdb551f7-b625-431a-8224-6e74b27557f2",
   "metadata": {},
   "outputs": [],
   "source": [
    "##### Property Decorators "
   ]
  },
  {
   "cell_type": "code",
   "execution_count": 2,
   "id": "a3fcc978-8c2a-4553-82de-862aaeb2cc05",
   "metadata": {},
   "outputs": [],
   "source": [
    "class pwskills:\n",
    "    \n",
    "    def __init__(self, course_price , course_name):\n",
    "        self.__course_price = course_price\n",
    "        self.course_name = course_name "
   ]
  },
  {
   "cell_type": "code",
   "execution_count": 3,
   "id": "cb175b4f-2869-44cb-9de4-93682c05aeb2",
   "metadata": {},
   "outputs": [],
   "source": [
    "pw = pwskills(3500,'data science masters')"
   ]
  },
  {
   "cell_type": "code",
   "execution_count": 4,
   "id": "e8a41264-c6f6-4900-b394-e654b52333d0",
   "metadata": {},
   "outputs": [
    {
     "ename": "AttributeError",
     "evalue": "'pwskills' object has no attribute '__course_price'",
     "output_type": "error",
     "traceback": [
      "\u001b[0;31m---------------------------------------------------------------------------\u001b[0m",
      "\u001b[0;31mAttributeError\u001b[0m                            Traceback (most recent call last)",
      "Cell \u001b[0;32mIn[4], line 1\u001b[0m\n\u001b[0;32m----> 1\u001b[0m \u001b[43mpw\u001b[49m\u001b[38;5;241;43m.\u001b[39;49m\u001b[43m__course_price\u001b[49m\n",
      "\u001b[0;31mAttributeError\u001b[0m: 'pwskills' object has no attribute '__course_price'"
     ]
    }
   ],
   "source": [
    "pw.__course_price"
   ]
  },
  {
   "cell_type": "code",
   "execution_count": 5,
   "id": "9ad755e9-13ee-455b-82cf-1e9d4fd24b5c",
   "metadata": {},
   "outputs": [
    {
     "data": {
      "text/plain": [
       "3500"
      ]
     },
     "execution_count": 5,
     "metadata": {},
     "output_type": "execute_result"
    }
   ],
   "source": [
    "pw._pwskills__course_price"
   ]
  },
  {
   "cell_type": "code",
   "execution_count": 19,
   "id": "2cd96268-9db4-4eb9-a180-06702f552a59",
   "metadata": {},
   "outputs": [],
   "source": [
    "class pwskills:\n",
    "    \n",
    "    def __init__(self, course_price , course_name):\n",
    "        self.__course_price = course_price\n",
    "        self.course_name = course_name \n",
    "        \n",
    "    @property\n",
    "    def course_price_access(self):\n",
    "        return self.__course_price"
   ]
  },
  {
   "cell_type": "code",
   "execution_count": 20,
   "id": "f776baf9-653f-4453-8fb0-2b459fd67755",
   "metadata": {},
   "outputs": [],
   "source": [
    "pw = pwskills(4500 , 'dsm')"
   ]
  },
  {
   "cell_type": "code",
   "execution_count": 21,
   "id": "11ce774e-e3b4-44f6-a3f5-411742c96cea",
   "metadata": {},
   "outputs": [
    {
     "data": {
      "text/plain": [
       "4500"
      ]
     },
     "execution_count": 21,
     "metadata": {},
     "output_type": "execute_result"
    }
   ],
   "source": [
    "pw.course_price_access"
   ]
  },
  {
   "cell_type": "code",
   "execution_count": 22,
   "id": "f04f8f87-fba9-4258-adaa-f0002540292b",
   "metadata": {},
   "outputs": [],
   "source": [
    "class pwskills:\n",
    "    \n",
    "    def __init__(self, course_price , course_name):\n",
    "        self.__course_price = course_price\n",
    "        self.course_name = course_name \n",
    "        \n",
    "    @property\n",
    "    def course_price_access(self):\n",
    "        return self.__course_price\n",
    "    \n",
    "    @course_price_access.setter\n",
    "    def course_price_set(self,price):\n",
    "        if price <= 3500:\n",
    "            pass\n",
    "        else:\n",
    "            self.__course_price = price "
   ]
  },
  {
   "cell_type": "code",
   "execution_count": 24,
   "id": "66ed0627-bac1-448e-86a3-e6da0d51be88",
   "metadata": {},
   "outputs": [],
   "source": [
    "pw = pwskills(4500 , 'dsm')"
   ]
  },
  {
   "cell_type": "code",
   "execution_count": 26,
   "id": "58ec92fc-2fce-43f1-94fa-a481d22563ed",
   "metadata": {},
   "outputs": [],
   "source": [
    "pw.course_price_set = 6500"
   ]
  },
  {
   "cell_type": "code",
   "execution_count": 27,
   "id": "f8e664dc-6b47-46cb-93cf-3fc5807043a5",
   "metadata": {},
   "outputs": [
    {
     "data": {
      "text/plain": [
       "6500"
      ]
     },
     "execution_count": 27,
     "metadata": {},
     "output_type": "execute_result"
    }
   ],
   "source": [
    "pw.course_price_access"
   ]
  },
  {
   "cell_type": "code",
   "execution_count": 6,
   "id": "155d6c7b-38b1-496e-be56-e945a8f62ce4",
   "metadata": {},
   "outputs": [],
   "source": [
    "class pwskills1:\n",
    "    \n",
    "    def __init__(self, course_price , course_name):\n",
    "        self.__course_price = course_price\n",
    "        self.course_name = course_name \n",
    "        \n",
    "    @property\n",
    "    def course_price_access(self):\n",
    "        return self.__course_price\n",
    "    \n",
    "    @course_price_access.setter\n",
    "    def course_price_set(self,price):\n",
    "        if price <= 3500:\n",
    "            pass\n",
    "        else:\n",
    "            self.__course_price = price \n",
    "            \n",
    "    @course_price_access.deleter\n",
    "    def delete_course_price(self):\n",
    "        del self.__course_price"
   ]
  },
  {
   "cell_type": "code",
   "execution_count": 7,
   "id": "5fc662e9-62c8-48c2-b170-b63a14ad09af",
   "metadata": {},
   "outputs": [],
   "source": [
    "pw = pwskills1(3500,'dsm')"
   ]
  },
  {
   "cell_type": "code",
   "execution_count": 8,
   "id": "fa90b48b-734a-4bc8-8178-4813d1a0f2fd",
   "metadata": {},
   "outputs": [
    {
     "data": {
      "text/plain": [
       "3500"
      ]
     },
     "execution_count": 8,
     "metadata": {},
     "output_type": "execute_result"
    }
   ],
   "source": [
    "pw.course_price_access"
   ]
  },
  {
   "cell_type": "code",
   "execution_count": 11,
   "id": "f62c29e3-6c0d-4056-a20d-a6e190684d60",
   "metadata": {},
   "outputs": [],
   "source": [
    "del pw.delete_course_price"
   ]
  },
  {
   "cell_type": "code",
   "execution_count": 12,
   "id": "51ccb502-0f96-440d-8e99-928c52cee1d6",
   "metadata": {},
   "outputs": [
    {
     "ename": "AttributeError",
     "evalue": "'pwskills1' object has no attribute '_pwskills1__course_price'",
     "output_type": "error",
     "traceback": [
      "\u001b[0;31m---------------------------------------------------------------------------\u001b[0m",
      "\u001b[0;31mAttributeError\u001b[0m                            Traceback (most recent call last)",
      "Cell \u001b[0;32mIn[12], line 1\u001b[0m\n\u001b[0;32m----> 1\u001b[0m \u001b[43mpw\u001b[49m\u001b[38;5;241;43m.\u001b[39;49m\u001b[43mcourse_price_access\u001b[49m\n",
      "Cell \u001b[0;32mIn[6], line 9\u001b[0m, in \u001b[0;36mpwskills1.course_price_access\u001b[0;34m(self)\u001b[0m\n\u001b[1;32m      7\u001b[0m \u001b[38;5;129m@property\u001b[39m\n\u001b[1;32m      8\u001b[0m \u001b[38;5;28;01mdef\u001b[39;00m \u001b[38;5;21mcourse_price_access\u001b[39m(\u001b[38;5;28mself\u001b[39m):\n\u001b[0;32m----> 9\u001b[0m     \u001b[38;5;28;01mreturn\u001b[39;00m \u001b[38;5;28;43mself\u001b[39;49m\u001b[38;5;241;43m.\u001b[39;49m\u001b[43m__course_price\u001b[49m\n",
      "\u001b[0;31mAttributeError\u001b[0m: 'pwskills1' object has no attribute '_pwskills1__course_price'"
     ]
    }
   ],
   "source": [
    "pw.course_price_access"
   ]
  },
  {
   "cell_type": "code",
   "execution_count": null,
   "id": "77e08503-4e78-44a0-ab0b-ae8f62647941",
   "metadata": {},
   "outputs": [],
   "source": []
  }
 ],
 "metadata": {
  "kernelspec": {
   "display_name": "Python 3 (ipykernel)",
   "language": "python",
   "name": "python3"
  },
  "language_info": {
   "codemirror_mode": {
    "name": "ipython",
    "version": 3
   },
   "file_extension": ".py",
   "mimetype": "text/x-python",
   "name": "python",
   "nbconvert_exporter": "python",
   "pygments_lexer": "ipython3",
   "version": "3.10.8"
  }
 },
 "nbformat": 4,
 "nbformat_minor": 5
}
