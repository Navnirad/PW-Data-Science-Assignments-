{
 "cells": [
  {
   "cell_type": "code",
   "execution_count": 1,
   "id": "9a4fc566-1345-4a1f-b825-f3439cb1377a",
   "metadata": {},
   "outputs": [],
   "source": [
    "### OOPS Day 4 - Decorators \n",
    "# Author - Naveen Gupta"
   ]
  },
  {
   "cell_type": "code",
   "execution_count": 2,
   "id": "b1afa269-fc6b-4cb9-b4bd-b214958903a1",
   "metadata": {},
   "outputs": [],
   "source": [
    "def test():\n",
    "    print('this is the start of my func')\n",
    "    print('this is my func to test')\n",
    "    print(4+5)\n",
    "    print('this is the end of my func')"
   ]
  },
  {
   "cell_type": "code",
   "execution_count": 3,
   "id": "928e524f-6593-494b-8229-4c1ce8f805f2",
   "metadata": {},
   "outputs": [
    {
     "name": "stdout",
     "output_type": "stream",
     "text": [
      "this is the start of my func\n",
      "this is my func to test\n",
      "9\n",
      "this is the end of my func\n"
     ]
    }
   ],
   "source": [
    "test()"
   ]
  },
  {
   "cell_type": "code",
   "execution_count": 4,
   "id": "ee68ab48-5c0a-4b22-951c-d19ad6b363f7",
   "metadata": {},
   "outputs": [],
   "source": [
    "def deco(func):\n",
    "     def inner_dec():\n",
    "            print('this is the start of my func')\n",
    "            func()\n",
    "            print('this is the end of my func')\n",
    "     return inner_dec"
   ]
  },
  {
   "cell_type": "code",
   "execution_count": 5,
   "id": "1b9d5019-e345-4b54-8226-4b5e77dc7660",
   "metadata": {},
   "outputs": [],
   "source": [
    "@deco                           #### decoration of the function\n",
    "def test1():\n",
    "    print(6+7)"
   ]
  },
  {
   "cell_type": "code",
   "execution_count": 6,
   "id": "f229ea09-e3c7-4b61-8327-f0acf52e848e",
   "metadata": {},
   "outputs": [
    {
     "name": "stdout",
     "output_type": "stream",
     "text": [
      "this is the start of my func\n",
      "13\n",
      "this is the end of my func\n"
     ]
    }
   ],
   "source": [
    "test1()"
   ]
  },
  {
   "cell_type": "code",
   "execution_count": 7,
   "id": "41cb6b3e-a06f-4240-ab2e-fd4c1b1f1227",
   "metadata": {},
   "outputs": [],
   "source": [
    "import time"
   ]
  },
  {
   "cell_type": "code",
   "execution_count": 8,
   "id": "758b681b-f687-412e-82eb-9055ed0edfb4",
   "metadata": {},
   "outputs": [],
   "source": [
    "def timer_test(func):\n",
    "    def timer_test_inner():\n",
    "        start = time.time()\n",
    "        func()\n",
    "        end = time.time()\n",
    "        print(end-start)\n",
    "    return timer_test_inner"
   ]
  },
  {
   "cell_type": "code",
   "execution_count": 9,
   "id": "954980ba-5be1-42cf-b330-1e2004d2f123",
   "metadata": {},
   "outputs": [],
   "source": [
    "@timer_test\n",
    "def test2():\n",
    "    print(8238283+323344)"
   ]
  },
  {
   "cell_type": "code",
   "execution_count": 10,
   "id": "9b3dfa26-12a8-4d2d-954a-516683b523d9",
   "metadata": {},
   "outputs": [
    {
     "name": "stdout",
     "output_type": "stream",
     "text": [
      "8561627\n",
      "4.291534423828125e-05\n"
     ]
    }
   ],
   "source": [
    "test2()"
   ]
  },
  {
   "cell_type": "code",
   "execution_count": 21,
   "id": "9e8907d3-1bab-49ee-8739-32ea91f71ec8",
   "metadata": {},
   "outputs": [],
   "source": [
    "@timer_test\n",
    "def test3():\n",
    "    for i in range(100000000):\n",
    "        pass"
   ]
  },
  {
   "cell_type": "code",
   "execution_count": 22,
   "id": "d312263d-de66-4fb2-81ff-c7d77b276559",
   "metadata": {},
   "outputs": [
    {
     "name": "stdout",
     "output_type": "stream",
     "text": [
      "2.4976165294647217\n"
     ]
    }
   ],
   "source": [
    "test3()"
   ]
  },
  {
   "cell_type": "code",
   "execution_count": 23,
   "id": "497019b1-f1d7-479d-974f-e5a5453ee2f2",
   "metadata": {},
   "outputs": [],
   "source": [
    "## when we decorate a function with a function ,it passes the function into the decorator function ."
   ]
  },
  {
   "cell_type": "code",
   "execution_count": null,
   "id": "613702a3-2a06-4081-8361-0035a2a67c42",
   "metadata": {},
   "outputs": [],
   "source": []
  },
  {
   "cell_type": "code",
   "execution_count": null,
   "id": "53ef1273-ec4a-4bd9-a404-6df422cc5857",
   "metadata": {},
   "outputs": [],
   "source": []
  },
  {
   "cell_type": "code",
   "execution_count": null,
   "id": "a05b110f-62ec-48d1-af21-5cd8d210889b",
   "metadata": {},
   "outputs": [],
   "source": []
  },
  {
   "cell_type": "code",
   "execution_count": null,
   "id": "1060985a-f161-430a-9da1-ece78ba25bf3",
   "metadata": {},
   "outputs": [],
   "source": []
  }
 ],
 "metadata": {
  "kernelspec": {
   "display_name": "Python 3 (ipykernel)",
   "language": "python",
   "name": "python3"
  },
  "language_info": {
   "codemirror_mode": {
    "name": "ipython",
    "version": 3
   },
   "file_extension": ".py",
   "mimetype": "text/x-python",
   "name": "python",
   "nbconvert_exporter": "python",
   "pygments_lexer": "ipython3",
   "version": "3.10.8"
  }
 },
 "nbformat": 4,
 "nbformat_minor": 5
}
