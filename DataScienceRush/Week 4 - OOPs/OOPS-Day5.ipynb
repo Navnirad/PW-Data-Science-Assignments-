{
 "cells": [
  {
   "cell_type": "code",
   "execution_count": 1,
   "id": "51e839cd-6774-492a-b92e-f8ca986390ec",
   "metadata": {},
   "outputs": [],
   "source": [
    "#### OOPS Day 5 - Class Methods & Static Methods "
   ]
  },
  {
   "cell_type": "code",
   "execution_count": 1,
   "id": "8235e7b1-4848-4f35-83bb-a042cb94b426",
   "metadata": {},
   "outputs": [],
   "source": [
    "class pwskills:\n",
    "    \n",
    "    def __init__(self,name,email):\n",
    "        self.name = name \n",
    "        self.email = email\n",
    "        \n",
    "    \n",
    "    def students_details(self):\n",
    "        print(self.name,self.email)\n",
    "        "
   ]
  },
  {
   "cell_type": "code",
   "execution_count": 2,
   "id": "77a3cb42-0e03-4c98-a2b2-0d73280c3c1a",
   "metadata": {},
   "outputs": [],
   "source": [
    "pw = pwskills('Mohan','mohan@gmail.com')"
   ]
  },
  {
   "cell_type": "code",
   "execution_count": 3,
   "id": "0c0a504a-bef2-4f9b-a572-e91c2b2c14c1",
   "metadata": {},
   "outputs": [
    {
     "data": {
      "text/plain": [
       "'Mohan'"
      ]
     },
     "execution_count": 3,
     "metadata": {},
     "output_type": "execute_result"
    }
   ],
   "source": [
    "pw.name"
   ]
  },
  {
   "cell_type": "code",
   "execution_count": 4,
   "id": "ac26d31e-a5bd-47dd-a919-8d38471fe4ae",
   "metadata": {},
   "outputs": [
    {
     "data": {
      "text/plain": [
       "'mohan@gmail.com'"
      ]
     },
     "execution_count": 4,
     "metadata": {},
     "output_type": "execute_result"
    }
   ],
   "source": [
    "pw.email"
   ]
  },
  {
   "cell_type": "code",
   "execution_count": 5,
   "id": "6d455336-9b4c-469d-b4c4-fd5b247fe211",
   "metadata": {},
   "outputs": [
    {
     "name": "stdout",
     "output_type": "stream",
     "text": [
      "Mohan mohan@gmail.com\n"
     ]
    }
   ],
   "source": [
    "pw.students_details()"
   ]
  },
  {
   "cell_type": "code",
   "execution_count": 6,
   "id": "59b213fe-91ea-4a00-8a55-72ba249d2ef3",
   "metadata": {},
   "outputs": [],
   "source": [
    "class pwskills1:\n",
    "    \n",
    "    def __init__(self,name,email):\n",
    "        self.name = name \n",
    "        self.email = email\n",
    "      \n",
    "    @classmethod\n",
    "    def details(cls,name,email):\n",
    "        return cls(name,email)\n",
    "    \n",
    "    def students_details(self):\n",
    "        print(self.name,self.email)\n",
    "        "
   ]
  },
  {
   "cell_type": "code",
   "execution_count": 8,
   "id": "786c2fd1-d301-4595-a100-0b48e2847b6c",
   "metadata": {},
   "outputs": [],
   "source": [
    "pw1 = pwskills1.details('mohan','mohan@gmail.com')"
   ]
  },
  {
   "cell_type": "code",
   "execution_count": 9,
   "id": "715dadaf-371f-421e-a36e-da2d358bc259",
   "metadata": {},
   "outputs": [
    {
     "data": {
      "text/plain": [
       "'mohan'"
      ]
     },
     "execution_count": 9,
     "metadata": {},
     "output_type": "execute_result"
    }
   ],
   "source": [
    "pw1.name"
   ]
  },
  {
   "cell_type": "code",
   "execution_count": 11,
   "id": "bb9e70d0-6f14-47dc-93a1-dafce387b837",
   "metadata": {},
   "outputs": [
    {
     "name": "stdout",
     "output_type": "stream",
     "text": [
      "mohan mohan@gmail.com\n"
     ]
    }
   ],
   "source": [
    "pw1.students_details()"
   ]
  },
  {
   "cell_type": "code",
   "execution_count": 12,
   "id": "402d2c2a-5b63-49d6-b05e-2801aebbf60a",
   "metadata": {},
   "outputs": [
    {
     "data": {
      "text/plain": [
       "'mohan@gmail.com'"
      ]
     },
     "execution_count": 12,
     "metadata": {},
     "output_type": "execute_result"
    }
   ],
   "source": [
    "pw1.email"
   ]
  },
  {
   "cell_type": "code",
   "execution_count": 20,
   "id": "d4b10d88-e9de-4838-b46a-49f919e5a0d2",
   "metadata": {},
   "outputs": [],
   "source": [
    "class pwskills2:\n",
    "    \n",
    "    mobile_num = 9682379500 \n",
    "    \n",
    "    def __init__(self,name,email):\n",
    "        self.name = name \n",
    "        self.email = email\n",
    "    @classmethod\n",
    "    def change_number(cls,mobile):\n",
    "        cls.mobile_num = mobile\n",
    "    @classmethod\n",
    "    def details(cls,name,email):\n",
    "        return cls(name,email)\n",
    "    \n",
    "    def students_details(self):\n",
    "        print(self.name,self.email,pwskills2.mobile_num)"
   ]
  },
  {
   "cell_type": "code",
   "execution_count": 21,
   "id": "8b36dad8-d5f7-4fee-aff4-2e5aeaa7509b",
   "metadata": {},
   "outputs": [
    {
     "data": {
      "text/plain": [
       "9682379500"
      ]
     },
     "execution_count": 21,
     "metadata": {},
     "output_type": "execute_result"
    }
   ],
   "source": [
    "pwskills2.mobile_num"
   ]
  },
  {
   "cell_type": "code",
   "execution_count": 23,
   "id": "e1128702-ddd6-4a53-8998-1379b5c452d7",
   "metadata": {},
   "outputs": [],
   "source": [
    "pwskills2.change_number(3445567)"
   ]
  },
  {
   "cell_type": "code",
   "execution_count": 24,
   "id": "84c6b94b-3d7f-4380-88e1-0dbcbad9b39d",
   "metadata": {},
   "outputs": [
    {
     "data": {
      "text/plain": [
       "3445567"
      ]
     },
     "execution_count": 24,
     "metadata": {},
     "output_type": "execute_result"
    }
   ],
   "source": [
    "pwskills2.mobile_num"
   ]
  },
  {
   "cell_type": "code",
   "execution_count": 29,
   "id": "1ad1c868-2518-4cbb-96fc-7097e9d5efdc",
   "metadata": {},
   "outputs": [],
   "source": [
    "pw_obj = pwskills2('nav','nav@gmail.com')"
   ]
  },
  {
   "cell_type": "code",
   "execution_count": 30,
   "id": "1f753af0-b9de-4c6c-8cc8-91ef474f7615",
   "metadata": {},
   "outputs": [
    {
     "name": "stdout",
     "output_type": "stream",
     "text": [
      "nav nav@gmail.com 3445567\n"
     ]
    }
   ],
   "source": [
    "pw_obj.students_details()"
   ]
  },
  {
   "cell_type": "code",
   "execution_count": 27,
   "id": "59a705c6-582d-477d-b3f3-ca3be0590de1",
   "metadata": {},
   "outputs": [],
   "source": [
    "pw = pwskills2.details('nav','nav@gmail.com')"
   ]
  },
  {
   "cell_type": "code",
   "execution_count": 28,
   "id": "2c7fca03-d859-4f1c-a4ac-56ebdf4f2f8f",
   "metadata": {},
   "outputs": [
    {
     "name": "stdout",
     "output_type": "stream",
     "text": [
      "nav nav@gmail.com 3445567\n"
     ]
    }
   ],
   "source": [
    "pw.students_details()"
   ]
  },
  {
   "cell_type": "code",
   "execution_count": 33,
   "id": "733ca06b-3480-4930-bddc-f7d8814da22c",
   "metadata": {},
   "outputs": [],
   "source": [
    "class pwskills3:\n",
    "    \n",
    "    mobile_num = 9682379500 \n",
    "    \n",
    "    def __init__(self,name,email):\n",
    "        self.name = name \n",
    "        self.email = email\n",
    "    @classmethod\n",
    "    def change_number(cls,mobile):\n",
    "        pwskills2.mobile_num = mobile\n",
    "    @classmethod\n",
    "    def details(cls,name,email):\n",
    "        return cls(name,email)\n",
    "    \n",
    "    def students_details(self):\n",
    "        print(self.name,self.email,pwskills2.mobile_num)"
   ]
  },
  {
   "cell_type": "code",
   "execution_count": 34,
   "id": "138047a8-5faf-47f5-9685-61e97139ea0b",
   "metadata": {},
   "outputs": [],
   "source": [
    "def course_details(cls,course_name):\n",
    "    print(\"course name is\" , course_name)"
   ]
  },
  {
   "cell_type": "code",
   "execution_count": 35,
   "id": "fa296f53-99d8-4d12-af59-823d1562d980",
   "metadata": {},
   "outputs": [],
   "source": [
    "pwskills3.course_details = classmethod(course_details)"
   ]
  },
  {
   "cell_type": "code",
   "execution_count": 36,
   "id": "015ffecb-0773-4162-8eee-799980de7084",
   "metadata": {},
   "outputs": [
    {
     "name": "stdout",
     "output_type": "stream",
     "text": [
      "course name is data science masters\n"
     ]
    }
   ],
   "source": [
    "pwskills3.course_details('data science masters')"
   ]
  },
  {
   "cell_type": "code",
   "execution_count": 44,
   "id": "078e2185-429c-46a7-8737-014142921f5d",
   "metadata": {},
   "outputs": [],
   "source": [
    "def mentor(clas,list_of_mentor):\n",
    "    print(list_of_mentor)\n"
   ]
  },
  {
   "cell_type": "code",
   "execution_count": 46,
   "id": "273638fd-bf7b-401a-9344-68d5ca2202f8",
   "metadata": {},
   "outputs": [],
   "source": [
    "pwskills3.mentor = classmethod(mentor)"
   ]
  },
  {
   "cell_type": "code",
   "execution_count": 47,
   "id": "00c85884-9e81-4c38-afbf-7c99eed18b28",
   "metadata": {},
   "outputs": [
    {
     "name": "stdout",
     "output_type": "stream",
     "text": [
      "['nav', 'sur', 'jiya']\n"
     ]
    }
   ],
   "source": [
    "pwskills3.mentor(['nav','sur','jiya'])"
   ]
  },
  {
   "cell_type": "code",
   "execution_count": 48,
   "id": "cf5fa9b6-13ed-4786-8975-fa61e28b4faa",
   "metadata": {},
   "outputs": [],
   "source": [
    "class pwskills4:\n",
    "    \n",
    "    mobile_num = 9682379500 \n",
    "    \n",
    "    def __init__(self,name,email):\n",
    "        self.name = name \n",
    "        self.email = email\n",
    "    @classmethod\n",
    "    def change_number(cls,mobile):\n",
    "        pwskills2.mobile_num = mobile\n",
    "    @classmethod\n",
    "    def details(cls,name,email):\n",
    "        return cls(name,email)\n",
    "    \n",
    "    def students_details(self):\n",
    "        print(self.name,self.email,pwskills2.mobile_num)"
   ]
  },
  {
   "cell_type": "code",
   "execution_count": 49,
   "id": "7745db5f-d5a8-43b8-8aba-cfdbd68d2047",
   "metadata": {},
   "outputs": [],
   "source": [
    "del pwskills4.change_number"
   ]
  },
  {
   "cell_type": "code",
   "execution_count": 50,
   "id": "eb663aa5-ac8c-44e1-980e-e92db90b7210",
   "metadata": {},
   "outputs": [
    {
     "ename": "AttributeError",
     "evalue": "type object 'pwskills4' has no attribute 'change_number'",
     "output_type": "error",
     "traceback": [
      "\u001b[0;31m---------------------------------------------------------------------------\u001b[0m",
      "\u001b[0;31mAttributeError\u001b[0m                            Traceback (most recent call last)",
      "Cell \u001b[0;32mIn[92], line 1\u001b[0m\n\u001b[0;32m----> 1\u001b[0m \u001b[43mpwskills4\u001b[49m\u001b[38;5;241;43m.\u001b[39;49m\u001b[43mchange_number\u001b[49m(\u001b[38;5;241m23344\u001b[39m)\n",
      "\u001b[0;31mAttributeError\u001b[0m: type object 'pwskills4' has no attribute 'change_number'"
     ]
    }
   ],
   "source": [
    "pwskills4.change_number(23344)"
   ]
  },
  {
   "cell_type": "code",
   "execution_count": 52,
   "id": "2c3a6875-33a4-45f7-bb33-d3f47348d646",
   "metadata": {},
   "outputs": [],
   "source": [
    "delattr(pwskills4,'details')"
   ]
  },
  {
   "cell_type": "code",
   "execution_count": 55,
   "id": "8f5521e9-d869-40e4-b080-6b1188000a4c",
   "metadata": {},
   "outputs": [
    {
     "ename": "AttributeError",
     "evalue": "type object 'pwskills4' has no attribute 'details'",
     "output_type": "error",
     "traceback": [
      "\u001b[0;31m---------------------------------------------------------------------------\u001b[0m",
      "\u001b[0;31mAttributeError\u001b[0m                            Traceback (most recent call last)",
      "Cell \u001b[0;32mIn[55], line 1\u001b[0m\n\u001b[0;32m----> 1\u001b[0m \u001b[43mpwskills4\u001b[49m\u001b[38;5;241;43m.\u001b[39;49m\u001b[43mdetails\u001b[49m(\u001b[38;5;124m'\u001b[39m\u001b[38;5;124mnav\u001b[39m\u001b[38;5;124m'\u001b[39m,\u001b[38;5;124m'\u001b[39m\u001b[38;5;124mabc@gmail.com\u001b[39m\u001b[38;5;124m'\u001b[39m)\n",
      "\u001b[0;31mAttributeError\u001b[0m: type object 'pwskills4' has no attribute 'details'"
     ]
    }
   ],
   "source": [
    "pwskills4.details('nav','abc@gmail.com')"
   ]
  },
  {
   "cell_type": "code",
   "execution_count": 57,
   "id": "a88e6512-e145-4faf-bf63-b5f76bcee641",
   "metadata": {},
   "outputs": [],
   "source": [
    "delattr(pwskills4 , 'students_details')"
   ]
  },
  {
   "cell_type": "code",
   "execution_count": 59,
   "id": "86576919-d50d-4ed8-b757-4de79462479f",
   "metadata": {},
   "outputs": [],
   "source": [
    "delattr(pwskills4,'mobile_num')"
   ]
  },
  {
   "cell_type": "code",
   "execution_count": null,
   "id": "c174c7c6-542c-420b-b9da-1e21dcc6da30",
   "metadata": {},
   "outputs": [],
   "source": []
  },
  {
   "cell_type": "code",
   "execution_count": 60,
   "id": "cee2192c-2534-4f83-85aa-f8c59f6de6ea",
   "metadata": {},
   "outputs": [],
   "source": [
    "################# Static Methods "
   ]
  },
  {
   "cell_type": "code",
   "execution_count": 61,
   "id": "3ef82254-0062-4b84-b14c-ea8b03a87f60",
   "metadata": {},
   "outputs": [],
   "source": [
    "class pwskills:\n",
    "    \n",
    "    def student_details(self,name,mail_id,number):\n",
    "        print(name,mail_id,number)\n",
    "    \n",
    "    "
   ]
  },
  {
   "cell_type": "code",
   "execution_count": 62,
   "id": "869618e2-ddf7-43e1-b779-e2a6daa0e182",
   "metadata": {},
   "outputs": [],
   "source": [
    "pw = pwskills()"
   ]
  },
  {
   "cell_type": "code",
   "execution_count": 63,
   "id": "aac6bb6a-eed8-4162-bbf4-0f1997c0c45f",
   "metadata": {},
   "outputs": [
    {
     "name": "stdout",
     "output_type": "stream",
     "text": [
      "nav abc@gmail.com 922930333\n"
     ]
    }
   ],
   "source": [
    "pw.student_details('nav','abc@gmail.com',922930333)"
   ]
  },
  {
   "cell_type": "code",
   "execution_count": 82,
   "id": "113f9aa6-0cd5-469e-b259-e605f501c52f",
   "metadata": {},
   "outputs": [],
   "source": [
    "class pwskills1:\n",
    "    \n",
    "    def student_details(self,name,mail_id,number):\n",
    "        print(name,mail_id,number)\n",
    "        \n",
    "    @staticmethod\n",
    "    def mentor_class(list_mentor):\n",
    "        print(list_mentor)\n",
    "        \n",
    "    def mentor(self , mentor_list):\n",
    "        print(mentor_list)"
   ]
  },
  {
   "cell_type": "code",
   "execution_count": 83,
   "id": "37efb0de-9383-4441-b7a5-e4b698415a05",
   "metadata": {},
   "outputs": [
    {
     "name": "stdout",
     "output_type": "stream",
     "text": [
      "['nav', 'krish']\n"
     ]
    }
   ],
   "source": [
    "pwskills1.mentor_class(['nav','krish'])"
   ]
  },
  {
   "cell_type": "code",
   "execution_count": 84,
   "id": "d79e33dd-fbd1-490a-bab9-353f168d6bb4",
   "metadata": {},
   "outputs": [],
   "source": [
    "stu1 = pwskills1()"
   ]
  },
  {
   "cell_type": "code",
   "execution_count": 85,
   "id": "b63c20fd-9cd3-4ebb-944e-b8485523ef88",
   "metadata": {},
   "outputs": [],
   "source": [
    "stu2 = pwskills1()"
   ]
  },
  {
   "cell_type": "code",
   "execution_count": 86,
   "id": "819be671-592d-43d2-ad5c-97a0c82eaaa5",
   "metadata": {},
   "outputs": [],
   "source": [
    "stu3 = pwskills1()"
   ]
  },
  {
   "cell_type": "code",
   "execution_count": 87,
   "id": "1bf21c6c-6d6d-48b2-a4cb-ff8f359e50d8",
   "metadata": {},
   "outputs": [
    {
     "name": "stdout",
     "output_type": "stream",
     "text": [
      "['nav', 'sudh']\n"
     ]
    }
   ],
   "source": [
    "stu1.mentor(['nav','sudh'])"
   ]
  },
  {
   "cell_type": "code",
   "execution_count": 88,
   "id": "8508ed2f-4f8b-436f-8de9-a1549593139b",
   "metadata": {},
   "outputs": [],
   "source": [
    "## static method is used where there is same input / output or we can say there is same functioning required no matter which instance is there"
   ]
  },
  {
   "cell_type": "code",
   "execution_count": 10,
   "id": "268b8731-8ce2-424c-9b60-67f7712d9ab1",
   "metadata": {},
   "outputs": [],
   "source": [
    "class pwskills2:\n",
    "    \n",
    "    def student_details(self,name,mail_id,number):\n",
    "        print(name,mail_id,number)\n",
    "        \n",
    "    @staticmethod\n",
    "    def mentor_mail_id(mail_id_mentor):\n",
    "        print(mail_id_mentor)\n",
    "        \n",
    "    @staticmethod\n",
    "    def mentor_class(list_mentor):\n",
    "        print(list_mentor)\n",
    "        pwskills2.mentor_mail_id(['nav@gmail.com','tura@gmail.com'])  # USING A static method inside a static method\n",
    "        \n",
    "    @classmethod\n",
    "    def class_name(cls):\n",
    "        cls.mentor_class(['nav','turi']) # using a static method inside a class method \n",
    "            \n",
    "        \n",
    "    def mentor(self , mentor_list):\n",
    "        print(mentor_list)\n",
    "        self.mentor_class(['nav','turi']) # using a static method inside a instance method "
   ]
  },
  {
   "cell_type": "code",
   "execution_count": 8,
   "id": "2b50aea5-4c54-434b-a06b-a6864c932f1b",
   "metadata": {},
   "outputs": [
    {
     "name": "stdout",
     "output_type": "stream",
     "text": [
      "['nav', 'turi']\n",
      "['nav@gmail.com', 'tura@gmail.com']\n"
     ]
    }
   ],
   "source": [
    "pwskills2.class_name()"
   ]
  },
  {
   "cell_type": "code",
   "execution_count": 9,
   "id": "bdf96a29-df96-4d54-9fc8-7f2ed6238341",
   "metadata": {},
   "outputs": [
    {
     "name": "stdout",
     "output_type": "stream",
     "text": [
      "['nav', 'turi']\n",
      "['nav@gmail.com', 'tura@gmail.com']\n"
     ]
    }
   ],
   "source": [
    "pwskills2.mentor_class(['nav','turi'])"
   ]
  },
  {
   "cell_type": "code",
   "execution_count": 11,
   "id": "ebdbfd45-031b-4893-a390-e121616b9796",
   "metadata": {},
   "outputs": [],
   "source": [
    "pw = pwskills2()"
   ]
  },
  {
   "cell_type": "code",
   "execution_count": 13,
   "id": "3f398202-aafb-452b-a732-2a197a1e1464",
   "metadata": {},
   "outputs": [
    {
     "name": "stdout",
     "output_type": "stream",
     "text": [
      "['nav', 'turi']\n",
      "['nav', 'turi']\n",
      "['nav@gmail.com', 'tura@gmail.com']\n"
     ]
    }
   ],
   "source": [
    "pw.mentor(['nav','turi'])"
   ]
  },
  {
   "cell_type": "code",
   "execution_count": null,
   "id": "a24a4916-f0a5-4762-899d-d02497a84c60",
   "metadata": {},
   "outputs": [],
   "source": [
    "## self exploration "
   ]
  },
  {
   "cell_type": "code",
   "execution_count": 5,
   "id": "c65dbdc5-f699-432b-a3b5-cd48a30ba622",
   "metadata": {},
   "outputs": [],
   "source": [
    "class animals:\n",
    "    def __init__(self,name):\n",
    "        self.name = name\n",
    "        \n",
    "    home = 'Zoo'\n",
    "    \n",
    "    @classmethod\n",
    "    def animal_home(cls,home):\n",
    "        cls.home = home \n",
    "        "
   ]
  },
  {
   "cell_type": "code",
   "execution_count": 6,
   "id": "09e13d6b-c0c6-45f8-b1ca-59f2c53e43c6",
   "metadata": {},
   "outputs": [],
   "source": [
    "animal1 = animals('tommy')"
   ]
  },
  {
   "cell_type": "code",
   "execution_count": 7,
   "id": "e0a28fbf-0f8c-40db-862a-eb0a109edd76",
   "metadata": {},
   "outputs": [
    {
     "data": {
      "text/plain": [
       "'Zoo'"
      ]
     },
     "execution_count": 7,
     "metadata": {},
     "output_type": "execute_result"
    }
   ],
   "source": [
    "animal1.home"
   ]
  },
  {
   "cell_type": "code",
   "execution_count": 8,
   "id": "2434c1e5-1c79-4bc1-afb0-961dac25a5c6",
   "metadata": {},
   "outputs": [],
   "source": [
    "animals.animal_home('jungle')"
   ]
  },
  {
   "cell_type": "code",
   "execution_count": 9,
   "id": "f0159c80-fb94-4320-98e3-bfbfda7531f0",
   "metadata": {},
   "outputs": [
    {
     "data": {
      "text/plain": [
       "'jungle'"
      ]
     },
     "execution_count": 9,
     "metadata": {},
     "output_type": "execute_result"
    }
   ],
   "source": [
    "animal1.home"
   ]
  },
  {
   "cell_type": "code",
   "execution_count": 10,
   "id": "4cdc1c10-cf97-4b2f-9ee5-408657c39575",
   "metadata": {},
   "outputs": [],
   "source": [
    "animal1.animal_home('forest')"
   ]
  },
  {
   "cell_type": "code",
   "execution_count": 11,
   "id": "3a804426-58dd-4013-a989-0310309ef383",
   "metadata": {},
   "outputs": [
    {
     "data": {
      "text/plain": [
       "'forest'"
      ]
     },
     "execution_count": 11,
     "metadata": {},
     "output_type": "execute_result"
    }
   ],
   "source": [
    "animals.home"
   ]
  },
  {
   "cell_type": "code",
   "execution_count": 12,
   "id": "d03c2f7e-0c9b-4dcf-87cc-29ff48cd59be",
   "metadata": {},
   "outputs": [
    {
     "data": {
      "text/plain": [
       "__main__.animals"
      ]
     },
     "execution_count": 12,
     "metadata": {},
     "output_type": "execute_result"
    }
   ],
   "source": [
    "animal1.__class__"
   ]
  },
  {
   "cell_type": "code",
   "execution_count": 13,
   "id": "68d2443a-465b-498b-8bb5-6cc81ca1e1a8",
   "metadata": {},
   "outputs": [],
   "source": [
    "class pwskills1:\n",
    "    \n",
    "    def __init__(self,name,email):\n",
    "        self.name = name \n",
    "        self.email = email\n",
    "      \n",
    "    @classmethod\n",
    "    def details(cls,name,email):\n",
    "        return cls(name,email)\n",
    "    \n",
    "    def students_details(self):\n",
    "        print(self.name,self.email)"
   ]
  },
  {
   "cell_type": "code",
   "execution_count": 14,
   "id": "f5576493-50f0-44a4-ab49-ef259321db87",
   "metadata": {},
   "outputs": [],
   "source": [
    "obj1 = pwskills1.details('nav','ab@gmail.com')"
   ]
  },
  {
   "cell_type": "code",
   "execution_count": 15,
   "id": "3d32f936-e51e-4490-8449-684976c49ff1",
   "metadata": {},
   "outputs": [],
   "source": [
    "obj2 = pwskills1.details('tura','cd@gmail.com')"
   ]
  },
  {
   "cell_type": "code",
   "execution_count": 16,
   "id": "bd29f7ad-edc2-4111-833a-60e8a042f692",
   "metadata": {},
   "outputs": [
    {
     "name": "stdout",
     "output_type": "stream",
     "text": [
      "nav ab@gmail.com\n"
     ]
    }
   ],
   "source": [
    "obj1.students_details()"
   ]
  },
  {
   "cell_type": "code",
   "execution_count": 17,
   "id": "ac6acbbd-e87d-475b-9f49-dcb67b9fbdd7",
   "metadata": {},
   "outputs": [
    {
     "name": "stdout",
     "output_type": "stream",
     "text": [
      "tura cd@gmail.com\n"
     ]
    }
   ],
   "source": [
    "obj2.students_details()"
   ]
  },
  {
   "cell_type": "code",
   "execution_count": 42,
   "id": "48d93e5a-ab5b-4b50-9248-164db802c7de",
   "metadata": {},
   "outputs": [],
   "source": [
    "class pwskills1:\n",
    "    \n",
    "    def __init__(self,name,email):\n",
    "        self.name = name \n",
    "        self.email = email\n",
    "      \n",
    "    @classmethod\n",
    "    def details(cls,name,email):\n",
    "        return cls(name,email)\n",
    "    \n",
    "    @classmethod\n",
    "    def age(cls,age):\n",
    "        print(age) \n",
    "    \n",
    "    def stu_det(self,a):\n",
    "        self.age(a)\n",
    "    \n",
    "    def students_details(self):\n",
    "        print(self.name,self.email)"
   ]
  },
  {
   "cell_type": "code",
   "execution_count": 43,
   "id": "958d0c4a-f040-466c-a90e-6b721e02309d",
   "metadata": {},
   "outputs": [],
   "source": [
    "objz = pwskills1('nav','abc')"
   ]
  },
  {
   "cell_type": "code",
   "execution_count": 44,
   "id": "a21d07bc-52b1-4772-bb39-e80764d843d9",
   "metadata": {},
   "outputs": [
    {
     "name": "stdout",
     "output_type": "stream",
     "text": [
      "nav abc\n"
     ]
    }
   ],
   "source": [
    "objz.students_details()"
   ]
  },
  {
   "cell_type": "code",
   "execution_count": 45,
   "id": "bf3581a6-24c1-4309-978b-3d4a80f56be7",
   "metadata": {},
   "outputs": [
    {
     "name": "stdout",
     "output_type": "stream",
     "text": [
      "15\n"
     ]
    }
   ],
   "source": [
    "objz.stu_det(15)"
   ]
  },
  {
   "cell_type": "code",
   "execution_count": null,
   "id": "fb9a8f8e-c8ed-499f-a689-dd84ef3a46f3",
   "metadata": {},
   "outputs": [],
   "source": []
  }
 ],
 "metadata": {
  "kernelspec": {
   "display_name": "Python 3 (ipykernel)",
   "language": "python",
   "name": "python3"
  },
  "language_info": {
   "codemirror_mode": {
    "name": "ipython",
    "version": 3
   },
   "file_extension": ".py",
   "mimetype": "text/x-python",
   "name": "python",
   "nbconvert_exporter": "python",
   "pygments_lexer": "ipython3",
   "version": "3.10.8"
  }
 },
 "nbformat": 4,
 "nbformat_minor": 5
}
