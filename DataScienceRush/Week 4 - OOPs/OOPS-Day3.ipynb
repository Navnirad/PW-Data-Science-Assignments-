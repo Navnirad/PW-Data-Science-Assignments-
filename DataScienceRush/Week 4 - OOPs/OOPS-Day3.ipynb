{
 "cells": [
  {
   "cell_type": "code",
   "execution_count": 39,
   "id": "3f680246-e91e-42ed-b990-6be04ad5e1ef",
   "metadata": {},
   "outputs": [],
   "source": [
    "### OOPS Day 3 - Inheritance & Abstraction \n",
    "# Author - Naveen Gupta"
   ]
  },
  {
   "cell_type": "code",
   "execution_count": 1,
   "id": "bffe2178-a19f-4b84-a3df-4276d03e86d1",
   "metadata": {},
   "outputs": [],
   "source": [
    "##Inheritance"
   ]
  },
  {
   "cell_type": "code",
   "execution_count": 2,
   "id": "37249e8e-e8e5-45cd-a7b6-eb8c555efa6b",
   "metadata": {},
   "outputs": [],
   "source": [
    "class test:\n",
    "    \n",
    "    def test_method(self):\n",
    "        return 'this is the test method'"
   ]
  },
  {
   "cell_type": "code",
   "execution_count": 6,
   "id": "c015a9cf-0e0e-46d7-992d-433632b179c1",
   "metadata": {},
   "outputs": [],
   "source": [
    "class child_test(test): ## this class is inheriting test class\n",
    "    pass"
   ]
  },
  {
   "cell_type": "code",
   "execution_count": 7,
   "id": "31142267-8de9-44c1-93e5-ffe367ef3a4b",
   "metadata": {},
   "outputs": [],
   "source": [
    "child_obj = child_test()"
   ]
  },
  {
   "cell_type": "code",
   "execution_count": 8,
   "id": "8cc29bef-dae5-4fe6-ae4f-6162b5bc22fe",
   "metadata": {},
   "outputs": [
    {
     "data": {
      "text/plain": [
       "'this is the test method'"
      ]
     },
     "execution_count": 8,
     "metadata": {},
     "output_type": "execute_result"
    }
   ],
   "source": [
    "child_obj.test_method()"
   ]
  },
  {
   "cell_type": "code",
   "execution_count": 9,
   "id": "0ef3b87c-9c7e-4820-9ad5-1d3c2239e8ec",
   "metadata": {},
   "outputs": [],
   "source": [
    "### multilevel inheritance"
   ]
  },
  {
   "cell_type": "code",
   "execution_count": 10,
   "id": "52bc9d51-bb9c-4ece-b9bf-eece14e225fa",
   "metadata": {},
   "outputs": [],
   "source": [
    "class class1:\n",
    "    def test_class1(self):\n",
    "        return \"this is a method from class 1\""
   ]
  },
  {
   "cell_type": "code",
   "execution_count": 11,
   "id": "3609999d-6a39-478b-8b53-0f2441b1d3dd",
   "metadata": {},
   "outputs": [],
   "source": [
    "class class2(class1):\n",
    "    def test_class2(self):\n",
    "        return 'this is a method from class 2'"
   ]
  },
  {
   "cell_type": "code",
   "execution_count": 12,
   "id": "5641f848-877d-4eb4-ab60-6de1ac35ea73",
   "metadata": {},
   "outputs": [],
   "source": [
    "class class3(class2):\n",
    "    pass"
   ]
  },
  {
   "cell_type": "code",
   "execution_count": 13,
   "id": "6a5785c2-f413-4a39-98de-5c42c3fa00f3",
   "metadata": {},
   "outputs": [],
   "source": [
    "obj_class3 = class3()"
   ]
  },
  {
   "cell_type": "code",
   "execution_count": 14,
   "id": "70d7f140-df85-40de-9992-432db6270c2f",
   "metadata": {},
   "outputs": [
    {
     "data": {
      "text/plain": [
       "'this is a method from class 1'"
      ]
     },
     "execution_count": 14,
     "metadata": {},
     "output_type": "execute_result"
    }
   ],
   "source": [
    "obj_class3.test_class1()"
   ]
  },
  {
   "cell_type": "code",
   "execution_count": 15,
   "id": "69d8c0e7-55e8-4d69-977f-9f0b7ee7580e",
   "metadata": {},
   "outputs": [
    {
     "data": {
      "text/plain": [
       "'this is a method from class 2'"
      ]
     },
     "execution_count": 15,
     "metadata": {},
     "output_type": "execute_result"
    }
   ],
   "source": [
    "obj_class3.test_class2()"
   ]
  },
  {
   "cell_type": "code",
   "execution_count": 16,
   "id": "f2a90090-1cd9-41ff-a15d-946f761b2fb2",
   "metadata": {},
   "outputs": [],
   "source": [
    "### multiple inheritance "
   ]
  },
  {
   "cell_type": "code",
   "execution_count": 23,
   "id": "98889862-c917-450e-97c4-34464bf36f64",
   "metadata": {},
   "outputs": [],
   "source": [
    "class father:\n",
    "    def father_genes(self):\n",
    "        return \"Father genes\""
   ]
  },
  {
   "cell_type": "code",
   "execution_count": 24,
   "id": "2d3d6499-6447-4855-9d09-922f21c995a1",
   "metadata": {},
   "outputs": [],
   "source": [
    "class mother:\n",
    "    def mother_genes(self):\n",
    "        return \"Mother genes\""
   ]
  },
  {
   "cell_type": "code",
   "execution_count": 25,
   "id": "94eb62fa-12c4-45ff-abb6-d0461ed6c999",
   "metadata": {},
   "outputs": [],
   "source": [
    "class child(father,mother):\n",
    "    pass"
   ]
  },
  {
   "cell_type": "code",
   "execution_count": 26,
   "id": "07883cf8-8b75-4a77-9ec2-18b560756bfc",
   "metadata": {},
   "outputs": [],
   "source": [
    "child_obj = child()"
   ]
  },
  {
   "cell_type": "code",
   "execution_count": 27,
   "id": "1450b4c8-577a-4fd6-9176-aec65fb47706",
   "metadata": {},
   "outputs": [
    {
     "data": {
      "text/plain": [
       "'Mother genes'"
      ]
     },
     "execution_count": 27,
     "metadata": {},
     "output_type": "execute_result"
    }
   ],
   "source": [
    "child_obj.mother_genes()"
   ]
  },
  {
   "cell_type": "code",
   "execution_count": 28,
   "id": "a6f86bd4-2de7-4cff-ad72-9df162b3d0b9",
   "metadata": {},
   "outputs": [
    {
     "data": {
      "text/plain": [
       "'Father genes'"
      ]
     },
     "execution_count": 28,
     "metadata": {},
     "output_type": "execute_result"
    }
   ],
   "source": [
    "child_obj.father_genes()"
   ]
  },
  {
   "cell_type": "code",
   "execution_count": 29,
   "id": "004a02fc-f56b-404f-997f-5a2aa2ccc7b7",
   "metadata": {},
   "outputs": [],
   "source": [
    "## Abstraction & Abstract class"
   ]
  },
  {
   "cell_type": "code",
   "execution_count": 22,
   "id": "af606ead-50dd-4405-b20f-6e4e6a6235e4",
   "metadata": {},
   "outputs": [],
   "source": [
    "from abc import ABC , abstractmethod\n",
    "class pwskills(ABC):\n",
    "    \n",
    "    def welcome():\n",
    "        return 'Hello , welcome'\n",
    "    @abc.abstractmethod\n",
    "    def student_details(self):\n",
    "        pass\n",
    "    \n",
    "    @abc.abstractmethod\n",
    "    def student_assignment(self):\n",
    "        pass\n",
    "    @abc.abstractmethod\n",
    "    def student_marks(self):\n",
    "        pass"
   ]
  },
  {
   "cell_type": "code",
   "execution_count": 23,
   "id": "f5e25170-0cd7-4895-9491-b1f8f3ffcb62",
   "metadata": {},
   "outputs": [],
   "source": [
    "class student_details(pwskills):\n",
    "    \n",
    "    def student_details(self):\n",
    "        return 'this is a method for taking student details'\n",
    "    \n",
    "    def student_assignment(self):\n",
    "        return 'this is a methods for assignment details'"
   ]
  },
  {
   "cell_type": "code",
   "execution_count": 24,
   "id": "d6135669-c334-46cb-9f04-1f9481499c97",
   "metadata": {},
   "outputs": [],
   "source": [
    "class data_science_masters(pwskills):\n",
    "    pass\n",
    "    #def student_details(self):\n",
    "     #   return 'this is a method for student details of data science masters'\n",
    "    \n",
    "    #def student_assignment(self):\n",
    "     #   return 'this is a method for assignment details of data science masters'"
   ]
  },
  {
   "cell_type": "code",
   "execution_count": 25,
   "id": "4e9fc868-f867-4c46-af04-d673be4a737b",
   "metadata": {},
   "outputs": [
    {
     "ename": "TypeError",
     "evalue": "Can't instantiate abstract class data_science_masters with abstract methods student_assignment, student_details, student_marks",
     "output_type": "error",
     "traceback": [
      "\u001b[0;31m---------------------------------------------------------------------------\u001b[0m",
      "\u001b[0;31mTypeError\u001b[0m                                 Traceback (most recent call last)",
      "Cell \u001b[0;32mIn[25], line 1\u001b[0m\n\u001b[0;32m----> 1\u001b[0m dsm \u001b[38;5;241m=\u001b[39m \u001b[43mdata_science_masters\u001b[49m\u001b[43m(\u001b[49m\u001b[43m)\u001b[49m\n",
      "\u001b[0;31mTypeError\u001b[0m: Can't instantiate abstract class data_science_masters with abstract methods student_assignment, student_details, student_marks"
     ]
    }
   ],
   "source": [
    "dsm = data_science_masters()"
   ]
  },
  {
   "cell_type": "code",
   "execution_count": 26,
   "id": "c24dd62d-1cb4-4fab-a5ad-a35c5ebbfb7a",
   "metadata": {},
   "outputs": [
    {
     "ename": "TypeError",
     "evalue": "Can't instantiate abstract class student_details with abstract method student_marks",
     "output_type": "error",
     "traceback": [
      "\u001b[0;31m---------------------------------------------------------------------------\u001b[0m",
      "\u001b[0;31mTypeError\u001b[0m                                 Traceback (most recent call last)",
      "Cell \u001b[0;32mIn[26], line 1\u001b[0m\n\u001b[0;32m----> 1\u001b[0m sd \u001b[38;5;241m=\u001b[39m \u001b[43mstudent_details\u001b[49m\u001b[43m(\u001b[49m\u001b[43m)\u001b[49m\n\u001b[1;32m      2\u001b[0m sd\u001b[38;5;241m.\u001b[39mstudent_details()\n",
      "\u001b[0;31mTypeError\u001b[0m: Can't instantiate abstract class student_details with abstract method student_marks"
     ]
    }
   ],
   "source": [
    "sd = student_details()\n",
    "sd.student_details()"
   ]
  },
  {
   "cell_type": "code",
   "execution_count": null,
   "id": "718927cf-e864-443b-8591-84645271d6e1",
   "metadata": {},
   "outputs": [],
   "source": []
  }
 ],
 "metadata": {
  "kernelspec": {
   "display_name": "Python 3 (ipykernel)",
   "language": "python",
   "name": "python3"
  },
  "language_info": {
   "codemirror_mode": {
    "name": "ipython",
    "version": 3
   },
   "file_extension": ".py",
   "mimetype": "text/x-python",
   "name": "python",
   "nbconvert_exporter": "python",
   "pygments_lexer": "ipython3",
   "version": "3.10.8"
  }
 },
 "nbformat": 4,
 "nbformat_minor": 5
}
