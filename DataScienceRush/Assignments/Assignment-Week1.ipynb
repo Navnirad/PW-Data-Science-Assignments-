{
 "cells": [
  {
   "cell_type": "raw",
   "id": "edcc6f26-07c1-4f32-a4f8-2716d29f4b52",
   "metadata": {},
   "source": [
    "#### Assignment - Week 1\n",
    "### Author - Naveen Gupta "
   ]
  },
  {
   "cell_type": "raw",
   "id": "14098496-ac74-4335-8b3a-47c11cd1d338",
   "metadata": {},
   "source": [
    "Q1. Create one variable containing following type of data:\n",
    "(i) string\n",
    "(ii) list\n",
    "(iii) float\n",
    "(iv) tuple"
   ]
  },
  {
   "cell_type": "code",
   "execution_count": 1,
   "id": "ca6e968e-6318-4b02-8e9b-171703657ecc",
   "metadata": {},
   "outputs": [],
   "source": [
    "## Solution 1 \n",
    "\n",
    "s = \"Naveen\" ## String Data Type \n",
    "l = [1,2,3,'Nav',24.5]  # List Data Type \n",
    "f = 32.4 #float data time\n",
    "t = (1,2,3,4,5,'jammu',24.4) ## Tuple Data Type "
   ]
  },
  {
   "cell_type": "raw",
   "id": "e32dbda7-6ca5-4d2f-8b86-c3dcbc39ad7c",
   "metadata": {},
   "source": [
    "Q2. Given are some following variables containing data:\n",
    "(i) var1 = ‘ ‘\n",
    "(ii) var2 = ‘[ DS , ML , Python]’\n",
    "(iii) var3 = [ ‘DS’ , ’ML’ , ‘Python’ ]\n",
    "(iv) var4 = 1.\n",
    "What will be the data type of the above given variable."
   ]
  },
  {
   "cell_type": "raw",
   "id": "de6da188-1ae9-426c-bca7-14439e68a5c0",
   "metadata": {},
   "source": [
    "## Solution 2\n",
    "\n",
    "# (i) It is a String Data Type \n",
    "# (ii) It is a String Data Type \n",
    "# (iii) It is a List Data Type \n",
    "# (iv) It is a float data type "
   ]
  },
  {
   "cell_type": "raw",
   "id": "147fb9be-4dd2-4fcd-a7f4-c7c3cfa4981e",
   "metadata": {},
   "source": [
    "Q3. Explain the use of the following operators using an example:\n",
    "(i) /\n",
    "(ii) %\n",
    "(iii) //\n",
    "(iv) **"
   ]
  },
  {
   "cell_type": "code",
   "execution_count": 1,
   "id": "ad97e6e9-2468-47da-be18-0bec68e83c4a",
   "metadata": {},
   "outputs": [
    {
     "name": "stdout",
     "output_type": "stream",
     "text": [
      "2.0\n",
      "1\n",
      "2\n",
      "2.0\n",
      "32\n"
     ]
    }
   ],
   "source": [
    "## Solution 3 \n",
    "\n",
    "# (i) / - Division , It same as division in our maths and returns output as float\n",
    "a = 4/2\n",
    "print(a) # Output would be 4 divided by 2  that is 2 and it would be float that is 2.0\n",
    "\n",
    "# (ii) % - Modulus , It would return the remainder when a number is divded by another \n",
    "b = 5%2 \n",
    "print(b) # Output would be 1 , as when 5 is divided by 2  remainder is 1 \n",
    "\n",
    "# (iii) // - floor division , It is division + GIF (Greater Integer Function )in Maths\n",
    "# returns result to nearest lowest integer (GIF in maths)\n",
    "# if both are int - result is int\n",
    "# if one is float - result is float\n",
    "\n",
    "c = 5//2 \n",
    "print(c) # Output would be 2 , as 5/2 is 2.5 and its GIF is 2 and output would be int that is it would be 2 and not 2.0\n",
    "\n",
    "d = 5.0 // 2.0  # output would be 2.0\n",
    "print(d)\n",
    "\n",
    "# (iv) ** -  exponential operators \n",
    "\n",
    "e = 2**5\n",
    "print(e) # the output would be 2 raised to the power 5 i.e 32"
   ]
  },
  {
   "cell_type": "raw",
   "id": "9857f3c4-6ca2-4571-9624-e862f9c1b104",
   "metadata": {},
   "source": [
    "Q4. Create a list of length 10 of your choice containing multiple types of data. Using for loop print the\n",
    "element and its data type."
   ]
  },
  {
   "cell_type": "code",
   "execution_count": 2,
   "id": "a6cad487-688f-4ae7-aba1-2c48bada8a31",
   "metadata": {},
   "outputs": [
    {
     "name": "stdout",
     "output_type": "stream",
     "text": [
      "1\n",
      "<class 'int'>\n",
      "2\n",
      "<class 'int'>\n",
      "3\n",
      "<class 'int'>\n",
      "Naveen\n",
      "<class 'str'>\n",
      "Python\n",
      "<class 'str'>\n",
      "(1, 2, 3, 4, 5)\n",
      "<class 'tuple'>\n",
      "['a', 'b', 'c']\n",
      "<class 'list'>\n",
      "2.0\n",
      "<class 'float'>\n",
      "1\n",
      "<class 'int'>\n",
      "6.0\n",
      "<class 'float'>\n",
      "9\n",
      "<class 'int'>\n",
      "(1+2j)\n",
      "<class 'complex'>\n"
     ]
    }
   ],
   "source": [
    "l = [1,2,3,'Naveen','Python',(1,2,3,4,5),['a','b','c'],2.0,1,6.0,0b1001,1+2j]\n",
    "\n",
    "for i in l:\n",
    "    print(i)\n",
    "    print(type(i))"
   ]
  },
  {
   "cell_type": "raw",
   "id": "8032c1d7-a843-4ccb-af27-64d041d45528",
   "metadata": {},
   "source": [
    "Q5. Using a while loop, verify if the number A is purely divisible by number B and if so then how many\n",
    "times it can be divisible."
   ]
  },
  {
   "cell_type": "code",
   "execution_count": null,
   "id": "f65cd95e-6743-4fab-8e72-eb1bcaf46016",
   "metadata": {},
   "outputs": [],
   "source": [
    "## sol 5\n",
    "# Question not clearly stated"
   ]
  },
  {
   "cell_type": "raw",
   "id": "9c72becb-b63f-471f-a1e5-a0fd73f73da4",
   "metadata": {},
   "source": [
    "Q6. Create a list containing 25 int type data. Using for loop and if-else condition print if the element is\n",
    "divisible by 3 or not."
   ]
  },
  {
   "cell_type": "code",
   "execution_count": 6,
   "id": "daf75a1f-766c-4801-8ad9-90ecb58d32b0",
   "metadata": {},
   "outputs": [
    {
     "name": "stdout",
     "output_type": "stream",
     "text": [
      "1 is not divisible by 3\n",
      "2 is not divisible by 3\n",
      "3 is divisible by 3\n",
      "4 is not divisible by 3\n",
      "5 is not divisible by 3\n",
      "6 is divisible by 3\n",
      "7 is not divisible by 3\n",
      "8 is not divisible by 3\n",
      "9 is divisible by 3\n",
      "10 is not divisible by 3\n",
      "11 is not divisible by 3\n",
      "12 is divisible by 3\n",
      "13 is not divisible by 3\n",
      "14 is not divisible by 3\n",
      "15 is divisible by 3\n",
      "16 is not divisible by 3\n",
      "17 is not divisible by 3\n",
      "18 is divisible by 3\n",
      "19 is not divisible by 3\n",
      "20 is not divisible by 3\n",
      "21 is divisible by 3\n",
      "22 is not divisible by 3\n",
      "23 is not divisible by 3\n",
      "24 is divisible by 3\n",
      "25 is not divisible by 3\n"
     ]
    }
   ],
   "source": [
    "a = list(range(1,26)) ## a list conating int from 1 to 25 , total 25 elements\n",
    "for i in a :\n",
    "    if i%3 == 0:\n",
    "        print(f'{i} is divisible by 3')\n",
    "    else:\n",
    "        print(f'{i} is not divisible by 3')"
   ]
  },
  {
   "cell_type": "raw",
   "id": "cb88171d-59d8-4614-aaa6-24828bc25d88",
   "metadata": {},
   "source": [
    "Q7. What do you understand about mutable and immutable data types? Give examples for both showing\n",
    "this property."
   ]
  },
  {
   "cell_type": "code",
   "execution_count": 9,
   "id": "167c766c-3007-43f4-b81b-f5b4ecf44ffd",
   "metadata": {},
   "outputs": [
    {
     "name": "stdout",
     "output_type": "stream",
     "text": [
      "[2, 2, 3, 4, 5]\n"
     ]
    },
    {
     "ename": "TypeError",
     "evalue": "'str' object does not support item assignment",
     "output_type": "error",
     "traceback": [
      "\u001b[0;31m---------------------------------------------------------------------------\u001b[0m",
      "\u001b[0;31mTypeError\u001b[0m                                 Traceback (most recent call last)",
      "Cell \u001b[0;32mIn[9], line 13\u001b[0m\n\u001b[1;32m      9\u001b[0m \u001b[38;5;66;03m# Immutable Data Types - A data Type whose contents can't be changed after creation \u001b[39;00m\n\u001b[1;32m     10\u001b[0m \u001b[38;5;66;03m# Int , float , string , tuple , bool are  immutable in python \u001b[39;00m\n\u001b[1;32m     12\u001b[0m s \u001b[38;5;241m=\u001b[39m \u001b[38;5;124m'\u001b[39m\u001b[38;5;124mhello world\u001b[39m\u001b[38;5;124m'\u001b[39m\n\u001b[0;32m---> 13\u001b[0m \u001b[43ms\u001b[49m\u001b[43m[\u001b[49m\u001b[38;5;241;43m0\u001b[39;49m\u001b[43m]\u001b[49m \u001b[38;5;241m=\u001b[39m \u001b[38;5;124m'\u001b[39m\u001b[38;5;124ma\u001b[39m\u001b[38;5;124m'\u001b[39m \u001b[38;5;66;03m## this will raise an error and hence it is immutable \u001b[39;00m\n",
      "\u001b[0;31mTypeError\u001b[0m: 'str' object does not support item assignment"
     ]
    }
   ],
   "source": [
    "#sol 7.  \n",
    "\n",
    "# Mutable Data Type - A data type whose contents can be changed after creation. \n",
    "# List , dictionaries & sets are  mutable in python \n",
    "l = [1,2,3,4,5]\n",
    "l[0] = 2\n",
    "print(l) ## output would be [2,2,3,4,5] because we removed 2 and since we changed it , hence list is mutable \n",
    "\n",
    "# Immutable Data Types - A data Type whose contents can't be changed after creation \n",
    "# Int , float , string , tuple , bool are  immutable in python \n",
    "\n",
    "s = 'hello world'\n",
    "s[0] = 'a' ## this will raise an error and hence it is immutable "
   ]
  },
  {
   "cell_type": "code",
   "execution_count": null,
   "id": "ba20b20f-fc1d-4eb2-ac28-d383e5dbf43a",
   "metadata": {},
   "outputs": [],
   "source": []
  }
 ],
 "metadata": {
  "kernelspec": {
   "display_name": "Python 3 (ipykernel)",
   "language": "python",
   "name": "python3"
  },
  "language_info": {
   "codemirror_mode": {
    "name": "ipython",
    "version": 3
   },
   "file_extension": ".py",
   "mimetype": "text/x-python",
   "name": "python",
   "nbconvert_exporter": "python",
   "pygments_lexer": "ipython3",
   "version": "3.10.8"
  }
 },
 "nbformat": 4,
 "nbformat_minor": 5
}
