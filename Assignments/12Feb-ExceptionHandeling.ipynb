{
 "cells": [
  {
   "cell_type": "code",
   "execution_count": 1,
   "id": "3d36249e",
   "metadata": {},
   "outputs": [],
   "source": [
    "#### Topic - Exception Handeling assignment 1 \n",
    "### Author - Naveen Gupta\n",
    "\n",
    "### initiallising \n",
    "import logging \n",
    "logging.basicConfig(filename = 'exphdasg.log' ,level= logging.DEBUG , format = '%(asctime)s %(name)s %(levelname)s  %(message)s')"
   ]
  },
  {
   "cell_type": "code",
   "execution_count": 2,
   "id": "8072cfd3",
   "metadata": {},
   "outputs": [],
   "source": [
    "## Q1. What is an Exception in python ? Write the difference between Exceptions and syntax errors\n",
    "\n",
    "\"\"\"\n",
    "Syntax error :- It is raised due to the wrong syntax in the code. It leads to the termination of the program.\n",
    "Exceptions :- Exceptions are raised when the program is syntactically correct, but the code results in an error. \n",
    "\n",
    "\"\"\"\n",
    "logging.info('Problem 1 done successfully')"
   ]
  },
  {
   "cell_type": "code",
   "execution_count": 7,
   "id": "526e0340",
   "metadata": {},
   "outputs": [
    {
     "ename": "FileNotFoundError",
     "evalue": "[Errno 2] No such file or directory: 'exception.txt'",
     "output_type": "error",
     "traceback": [
      "\u001b[1;31m---------------------------------------------------------------------------\u001b[0m",
      "\u001b[1;31mFileNotFoundError\u001b[0m                         Traceback (most recent call last)",
      "\u001b[1;32m~\\AppData\\Local\\Temp\\ipykernel_6076\\1510686447.py\u001b[0m in \u001b[0;36m<module>\u001b[1;34m\u001b[0m\n\u001b[0;32m      5\u001b[0m \"\"\"\n\u001b[0;32m      6\u001b[0m \u001b[1;31m## example :-\u001b[0m\u001b[1;33m\u001b[0m\u001b[1;33m\u001b[0m\u001b[0m\n\u001b[1;32m----> 7\u001b[1;33m \u001b[1;32mwith\u001b[0m \u001b[0mopen\u001b[0m\u001b[1;33m(\u001b[0m\u001b[1;34m'exception.txt'\u001b[0m\u001b[1;33m,\u001b[0m\u001b[1;34m'r'\u001b[0m\u001b[1;33m)\u001b[0m \u001b[1;32mas\u001b[0m \u001b[0mf\u001b[0m\u001b[1;33m:\u001b[0m\u001b[1;33m\u001b[0m\u001b[1;33m\u001b[0m\u001b[0m\n\u001b[0m\u001b[0;32m      8\u001b[0m     \u001b[0mdata\u001b[0m \u001b[1;33m=\u001b[0m \u001b[0mf\u001b[0m\u001b[1;33m.\u001b[0m\u001b[0mread\u001b[0m\u001b[1;33m(\u001b[0m\u001b[1;33m)\u001b[0m\u001b[1;33m\u001b[0m\u001b[1;33m\u001b[0m\u001b[0m\n\u001b[0;32m      9\u001b[0m \u001b[0mprint\u001b[0m\u001b[1;33m(\u001b[0m\u001b[1;36m4\u001b[0m\u001b[1;33m+\u001b[0m\u001b[1;36m5\u001b[0m\u001b[1;33m)\u001b[0m  \u001b[1;31m## This will not be executed\u001b[0m\u001b[1;33m\u001b[0m\u001b[1;33m\u001b[0m\u001b[0m\n",
      "\u001b[1;31mFileNotFoundError\u001b[0m: [Errno 2] No such file or directory: 'exception.txt'"
     ]
    }
   ],
   "source": [
    "## Q2. What happens when an exception is not handeled ? Explain it with an example \n",
    "logging.info('Problem 2 started')\n",
    "\"\"\"\n",
    "when an exception is not handeled , it terminates he program.\n",
    "\"\"\"\n",
    "## example :- \n",
    "with open('exception.txt','r') as f:\n",
    "    data = f.read()\n",
    "print(4+5)  ## This will not be executed "
   ]
  },
  {
   "cell_type": "code",
   "execution_count": null,
   "id": "9264fac1-e255-4f63-9f45-1e86839810c3",
   "metadata": {},
   "outputs": [],
   "source": [
    "## Q3- which python statements are used to catch and handle exceptions ? explain with an example \n",
    "logging.info('Problem 3 started')\n",
    "\"\"\" try statement is used to catch an exception and except statemtn is used to handle it in python \"\"\"\n",
    "try :\n",
    "      with open('exception.txt','r') as f:\n",
    "            data = f.read()\n",
    "      print(4+5) #This will be executed now \n",
    "### above block will catch the exception\n",
    "except Exception as e :##catching the xception and storing it in variabe e\n",
    "    logging.error(e)\n",
    "     \n",
    "     "
   ]
  },
  {
   "cell_type": "code",
   "execution_count": 9,
   "id": "d99d7d10-a3e4-48ce-85ff-9c11ba075fbf",
   "metadata": {},
   "outputs": [],
   "source": [
    "## Q4 - explain with an example : 1) Try and else 2) finally 3) raise \n",
    "logging.info('Problem 4 started')\n",
    "## example of try & else \n",
    "try:\n",
    "    with open('exception.txt','w') as f:\n",
    "        f.write('This is a txt file of exception handeling')\n",
    "except Exception as e:\n",
    "    print(e)\n",
    "else: ## else is executed if no exception is raised and handeled\n",
    "    logging.info('No exception Raised , Problem 4.1 executed successfully')\n",
    "    "
   ]
  },
  {
   "cell_type": "code",
   "execution_count": 10,
   "id": "815e24ee-6660-4401-820b-75b4d05f6214",
   "metadata": {},
   "outputs": [],
   "source": [
    "### example of finally \n",
    "try:\n",
    "    with open('exception1.txt','r') as f:\n",
    "         data = f.read()\n",
    "except Exception as e :\n",
    "    logging.error(e)\n",
    "else:\n",
    "    logging.info('No exception raised') ## this will not be executed as exception will be raised and handled\n",
    "finally:\n",
    "    logging.info('4.2 done') # finally block is executed always , no matter exception is raised or not"
   ]
  },
  {
   "cell_type": "code",
   "execution_count": 15,
   "id": "325412bf-8690-48f0-b288-1c189b0f51c1",
   "metadata": {},
   "outputs": [
    {
     "name": "stdin",
     "output_type": "stream",
     "text": [
      "Enter number 9006969585686868\n"
     ]
    }
   ],
   "source": [
    "### example of raise  - program for raising an error if phone number is not of 10 digits \n",
    "class validno(Exception): ## creating a class for handeling custom exception and inheriting Exception class\n",
    "    def __init__(self,msg):\n",
    "        self.msg = msg\n",
    "def validnum(num): ## Creating a function for validating entered mobile number\n",
    "    if len(num) > 10:\n",
    "        raise validno('Phone number could not be of more than 10 digtis') ## raise keyword will raise an error \n",
    "    if len(num) < 10:\n",
    "        raise validno('Phone number could not be of less than 10 digits') ## this will also raise an error\n",
    "try:  ## catching the exception\n",
    "    number = input('Enter number').strip()\n",
    "    validnum(number)\n",
    "except validno as e: ## handeling the exception\n",
    "    print(e)\n",
    "else:\n",
    "    logging.info('No error raised')\n",
    "finally:\n",
    "    logging.info('4.3 done')"
   ]
  },
  {
   "cell_type": "code",
   "execution_count": 18,
   "id": "416af46c-092d-4634-b806-1018a1192007",
   "metadata": {},
   "outputs": [],
   "source": [
    "## Q5 - What are custom exceptions in python ? Why do we need custom exceptions ? explain with an example \n",
    "\"\"\"custom exceptions are those which are made by the programmer for the need of program , \n",
    "exp:- if we want to validate age entered by the user i.e if we want check age is between 0 and 200 years or not .\n",
    "Python in general didn't have any defined exception for this , so we have to create custom exceptions for cases like this\"\"\"\n",
    "logging.info('Problem 5 completed')"
   ]
  },
  {
   "cell_type": "code",
   "execution_count": null,
   "id": "050811c7-4939-4404-9221-7f7abe704d44",
   "metadata": {},
   "outputs": [],
   "source": [
    "## Q6 - create a custom exception class . use this class to handle an exception.\n",
    "logging.info('Problem 5 started')\n",
    "class validateage(Exception):\n",
    "     def __init__(self,msg):\n",
    "        self.msg = msg\n",
    "def validage(age):\n",
    "    if age < 0 :\n",
    "        raise validateage('Entered age is negative')\n",
    "    elif age > 200:\n",
    "        raise validateage('entered age is very very high')\n",
    "    else:\n",
    "        print('age is valid')\n",
    "try:\n",
    "    age = int(input('enter your age'))\n",
    "    validage(age)\n",
    "except validateage as e: \n",
    "    print(e)"
   ]
  }
 ],
 "metadata": {
  "kernelspec": {
   "display_name": "Python 3 (ipykernel)",
   "language": "python",
   "name": "python3"
  },
  "language_info": {
   "codemirror_mode": {
    "name": "ipython",
    "version": 3
   },
   "file_extension": ".py",
   "mimetype": "text/x-python",
   "name": "python",
   "nbconvert_exporter": "python",
   "pygments_lexer": "ipython3",
   "version": "3.9.13"
  }
 },
 "nbformat": 4,
 "nbformat_minor": 5
}
