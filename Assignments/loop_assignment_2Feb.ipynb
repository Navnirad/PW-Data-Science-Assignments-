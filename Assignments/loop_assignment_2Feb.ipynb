{
  "cells": [
    {
      "cell_type": "code",
      "execution_count": null,
      "id": "65a2368c-82ee-4894-bcf8-7f644c5b728c",
      "metadata": {
        "id": "65a2368c-82ee-4894-bcf8-7f644c5b728c",
        "outputId": "10f8e52d-63e3-4bff-95a9-3aab3fd31fd2"
      },
      "outputs": [
        {
          "name": "stdout",
          "output_type": "stream",
          "text": [
            "2\n",
            "4\n",
            "6\n",
            "8\n",
            "10\n"
          ]
        }
      ],
      "source": [
        "####Problem 1\n",
        "## For loop can be used where the number of iterations is known to us\n",
        "# example :- printing elements of a list individually (note :- here elements of a list is finite i.e iterations are finite)\n",
        "l = [1,2,3,4,5]\n",
        "for a in l:\n",
        "    print(a)\n",
        "## while loop can be used where the number of iterations is not known properly to us\n",
        "# example :- printing even numbers upto a given number\n",
        "b = 1\n",
        "while b<=10:\n",
        "    if b%2 == 0:\n",
        "        print(b)\n",
        "    b+=1\n",
        "    \n",
        "\n",
        "\n"
      ]
    },
    {
      "cell_type": "code",
      "execution_count": null,
      "id": "55628fa4-05d9-4d36-b321-45a60511f7c8",
      "metadata": {
        "id": "55628fa4-05d9-4d36-b321-45a60511f7c8"
      },
      "outputs": [],
      "source": [
        "#### Problem 2\n",
        "## using for loop\n",
        "l = list(range(1,11))\n",
        "s = 0\n",
        "p = 1\n",
        "for a in l :\n",
        "    s+=a\n",
        "    p*=a\n",
        "print(s,p)\n",
        "## using while loop \n",
        "o = 1\n",
        "s1 = 0\n",
        "p1 = 1\n",
        "while o <= 10:\n",
        "    s1 += l[(o-1)]\n",
        "    p1 *= l[(o-1)]\n",
        "    o+=1\n",
        "print(s1,p1)\n",
        "    \n",
        "\n"
      ]
    },
    {
      "cell_type": "code",
      "execution_count": null,
      "id": "7af72b12-36c0-47b1-a3a6-26f5e54b1c33",
      "metadata": {
        "id": "7af72b12-36c0-47b1-a3a6-26f5e54b1c33"
      },
      "outputs": [],
      "source": [
        "### Problem 3 \n",
        "u = eval(input('Welcome to Electricity Bill Calculator , Enter no. of Units Consumed : '))\n",
        "cost = 0\n",
        "for a in range(u+1):\n",
        "    if a<=100 and a>0:\n",
        "        cost+=4.5\n",
        "    elif a<=200 and a>100:\n",
        "        cost+=6\n",
        "    elif a<=300 and a>200:\n",
        "        cost+=10\n",
        "    elif a>300:\n",
        "        cost+=20\n",
        "print(cost)"
      ]
    },
    {
      "cell_type": "code",
      "execution_count": null,
      "id": "0a557d24-2804-4257-9239-66d2a7c6c70c",
      "metadata": {
        "id": "0a557d24-2804-4257-9239-66d2a7c6c70c",
        "outputId": "a6e87f3f-fdb2-4d90-cf0a-b9bd1b4eb9d7"
      },
      "outputs": [
        {
          "name": "stdout",
          "output_type": "stream",
          "text": [
            "[2, 4, 5, 6, 8, 10, 12, 14, 15, 16, 18, 20, 22, 24, 25, 26, 28, 30, 32, 34, 35, 36, 38, 40, 42, 44, 45, 46, 48, 50, 52, 54, 55, 56, 58, 60, 62, 64, 65, 66, 68, 70, 72, 74, 75, 76, 78, 80, 82, 84, 85, 86, 88, 90, 92, 94, 95, 96, 98, 100]\n"
          ]
        }
      ],
      "source": [
        "### Problem 4 \n",
        "#using for loop\n",
        "nl = list(range(1,101))\n",
        "l = []\n",
        "for a in nl:\n",
        "    if (a**3) % 4 == 0 or (a**3) % 5 == 0:\n",
        "        l.append(a)\n",
        "print(l)"
      ]
    },
    {
      "cell_type": "code",
      "execution_count": null,
      "id": "baa492ad-8319-4804-8c7e-6f3e1e6cf4e6",
      "metadata": {
        "id": "baa492ad-8319-4804-8c7e-6f3e1e6cf4e6"
      },
      "outputs": [],
      "source": [
        "#using while loop\n",
        "z = 1\n",
        "l1 = \n",
        "while z<=100:\n",
        "    if (z**3) % 4 == 0 or (z**3)% 5 ==0:\n",
        "        "
      ]
    },
    {
      "cell_type": "code",
      "execution_count": null,
      "id": "bf654ac6-ad46-470a-a212-8dba2b930b56",
      "metadata": {
        "id": "bf654ac6-ad46-470a-a212-8dba2b930b56"
      },
      "outputs": [],
      "source": []
    },
    {
      "cell_type": "code",
      "execution_count": 8,
      "id": "ba993c91-ad9c-479c-8612-333ab564e683",
      "metadata": {
        "colab": {
          "base_uri": "https://localhost:8080/"
        },
        "id": "ba993c91-ad9c-479c-8612-333ab564e683",
        "outputId": "7b5abbe2-ed70-41e5-df1c-a1547f09c0b2"
      },
      "outputs": [
        {
          "output_type": "stream",
          "name": "stdout",
          "text": [
            "Total no of Vowels :- 12\n",
            " no. of a = 4\n",
            " no. of e = 3\n",
            " no. of i = 3\n",
            " no. of o = 2\n",
            " no. of u = 0 \n"
          ]
        }
      ],
      "source": [
        "#### Problem 5\n",
        "s = 'I want to Become a Data Scientist'.lower()\n",
        "tp = (0,0,0,0,0)\n",
        "a,e,i,o,u = tp\n",
        "for z in s:\n",
        "    if z == 'a':\n",
        "        a+=1\n",
        "    elif z == 'e':\n",
        "        e+=1\n",
        "    elif z == 'i':\n",
        "        i+=1\n",
        "    elif z == 'o':\n",
        "        o+=1\n",
        "    elif z == 'u':\n",
        "        u+=1\n",
        "t = a+e+i+o+u\n",
        "print(f'Total no of Vowels :- {t}\\n no. of a = {a}\\n no. of e = {e}\\n no. of i = {i}\\n no. of o = {o}\\n no. of u = {u} ')"
      ]
    },
    {
      "cell_type": "code",
      "source": [
        "## Alternate solution for Problem 5 using list comprehension \n",
        "s = 'I want to Become a Data Scientist'.lower()\n",
        "v = [c for c in s if c == 'a' or c == 'e' or c == 'i' or c == 'o' or c == 'u']\n",
        "a,e,i,o,u = v.count('a'),v.count('e'),v.count('i'),v.count('o'),v.count('u')\n",
        "print(f'Total no of vowels :-{len(v)} \\n no. of a = {a}\\n no. of e = {e}\\n no. of i = {i}\\n no. of o = {o}\\n no. of u = {u}')"
      ],
      "metadata": {
        "colab": {
          "base_uri": "https://localhost:8080/"
        },
        "id": "tym2QzZjeFKJ",
        "outputId": "f49205b0-6bd6-42df-d043-795a304b004c"
      },
      "id": "tym2QzZjeFKJ",
      "execution_count": 7,
      "outputs": [
        {
          "output_type": "stream",
          "name": "stdout",
          "text": [
            "Total no of vowels :-12 \n",
            " no. of a = 4\n",
            " no. of e = 3\n",
            " no. of i = 3\n",
            " no. of o = 2\n",
            " no. of u = 0\n"
          ]
        }
      ]
    }
  ],
  "metadata": {
    "kernelspec": {
      "display_name": "Python 3 (ipykernel)",
      "language": "python",
      "name": "python3"
    },
    "language_info": {
      "codemirror_mode": {
        "name": "ipython",
        "version": 3
      },
      "file_extension": ".py",
      "mimetype": "text/x-python",
      "name": "python",
      "nbconvert_exporter": "python",
      "pygments_lexer": "ipython3",
      "version": "3.10.8"
    },
    "colab": {
      "provenance": []
    }
  },
  "nbformat": 4,
  "nbformat_minor": 5
}