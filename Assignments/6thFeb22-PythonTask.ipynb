{
 "cells": [
  {
   "cell_type": "code",
   "execution_count": 2,
   "id": "4ff720bb-c9f4-4118-a06a-c5166eb71192",
   "metadata": {},
   "outputs": [],
   "source": [
    "### Python Tasks assigned "
   ]
  },
  {
   "cell_type": "code",
   "execution_count": 33,
   "id": "67dd3c39-df61-4d09-aa6a-c3cecfed7327",
   "metadata": {},
   "outputs": [
    {
     "name": "stdout",
     "output_type": "stream",
     "text": [
      "4134711838987085478833841242112000\n"
     ]
    }
   ],
   "source": [
    "### Problem 1  -  Calculating Product of all the numbers in the given list .\n",
    "list1 = [1,2,3,4, [44,55,66, True], False, (34,56,78,89,34), {1,2,3,3,2,1}, {1:34, \"key2\": [55, 67, 78, 89], 4: (45,\n",
    "22, 61, 34)}, [56, 'data science'], 'Machine Learning']\n",
    "from functools import reduce \n",
    "### Creating a Function for filtering individual intergers \n",
    "def fnum(l):\n",
    "    \n",
    "    def fil(x,y):\n",
    "        if type(x) == int or type(x) == float:\n",
    "            y.append(x)\n",
    "        if type(x) == list or type(x) == tuple or type(x) == set:\n",
    "            for b in x:\n",
    "                y.append(b)\n",
    "                \n",
    "    fl = []\n",
    "    for a in l:\n",
    "        fil(a,fl)\n",
    "        if type(a) == dict:\n",
    "            for c in list(a.keys()):\n",
    "                fil(c,fl)\n",
    "            for e in list(a.values()):\n",
    "                fil(e,fl)\n",
    "            \n",
    "    o = list(filter(lambda x:type(x) == int,fl))\n",
    "    return o\n",
    "#### Execution \n",
    "final = fnum(list1)\n",
    "print(reduce(lambda x,y:x*y,final))         \n"
   ]
  },
  {
   "cell_type": "code",
   "execution_count": 26,
   "id": "6da791c9-1282-478a-9045-dccd060faa6a",
   "metadata": {},
   "outputs": [
    {
     "name": "stdout",
     "output_type": "stream",
     "text": [
      "r$wzmg$gl$yvxlmv$z$wzgz$hxrvmgrhg.\n"
     ]
    }
   ],
   "source": [
    "#### Problem 2 \n",
    "inp = 'I want to become a Data Scientist.'.lower()  ## Taking Input and making it lowercase\n",
    "o = inp                                             ## Making a shallow copy of input\n",
    "l = ' abcdefghijklmnopqrstuvwxyz$'                  ## making a string for speedy encryption \n",
    "for a in inp:                                       ## accesing each char of the string\n",
    "    i = l.find(a)                                   ## storing the index of char of string from l string\n",
    "    if i == -1 and a != l[-1]:                      ## to overcome the situation if a char in input like the punction marks are not found in l string , then it would return -1 \n",
    "        pass\n",
    "    else:\n",
    "        o = o.replace(a,l[-(i+1)])                  ## encryption by replacing the characters \n",
    "print(o)"
   ]
  },
  {
   "cell_type": "code",
   "execution_count": null,
   "id": "9581da5b-4c2c-4c8f-bc5f-ea7fbf202dec",
   "metadata": {},
   "outputs": [],
   "source": []
  }
 ],
 "metadata": {
  "kernelspec": {
   "display_name": "Python 3 (ipykernel)",
   "language": "python",
   "name": "python3"
  },
  "language_info": {
   "codemirror_mode": {
    "name": "ipython",
    "version": 3
   },
   "file_extension": ".py",
   "mimetype": "text/x-python",
   "name": "python",
   "nbconvert_exporter": "python",
   "pygments_lexer": "ipython3",
   "version": "3.10.8"
  }
 },
 "nbformat": 4,
 "nbformat_minor": 5
}
