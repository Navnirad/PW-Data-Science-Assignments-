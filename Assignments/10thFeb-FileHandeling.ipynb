{
 "cells": [
  {
   "cell_type": "code",
   "execution_count": null,
   "id": "b836481e-f0fe-47ae-8919-b197f7943954",
   "metadata": {},
   "outputs": [],
   "source": [
    "##### 10th Feb 2023 Assignment\n",
    "### Topic - File Handeling \n",
    "## Author - Naveen Gupta"
   ]
  },
  {
   "cell_type": "code",
   "execution_count": null,
   "id": "c719d7c3-8659-4a67-9522-e6661a78f473",
   "metadata": {},
   "outputs": [],
   "source": [
    "#Q1. Which function is used to open a file? What are the different modes of opening a file? Explain each mode of file opening.\n",
    "\n",
    "\"\"\" for Opening a file  'open()' function is used , it takes two arguments :- file name , mode in which it is to be opened open\n",
    "    diffeent types of  modes :-  r - read only - to read a file - it is also the default value \n",
    "                                 w - write and overwrites previous data - it is also used to create a file \n",
    "                                 a - append i.e write withour overriding \n",
    "                                 r+ - read and write\n",
    "                                 w+ - write and read\n",
    "                                 a+ - append and read \n",
    "                                 wb,rb,ab,wb+,rb+,ab+ - operations in binary format\n",
    "\n",
    "\"\"\""
   ]
  },
  {
   "cell_type": "code",
   "execution_count": null,
   "id": "ba7cdc5f-97f0-4888-8777-86a8c2924189",
   "metadata": {},
   "outputs": [],
   "source": [
    "#Q2. Why close() function is used? Why is it important to close a file?\n",
    "\n",
    "\"\"\"\n",
    "close() function is used to close a opened file , after we have done changes to it , \n",
    "it is important to use it as by using it we can ensure that data in file is secure\n",
    "and also we can open a new file \n",
    "\n",
    "\"\"\""
   ]
  },
  {
   "cell_type": "code",
   "execution_count": 25,
   "id": "8d8322a1-0e05-4352-bd14-9a276baa3531",
   "metadata": {},
   "outputs": [],
   "source": [
    "#Q3. Write a python program to create a text file. Write ‘I want to become a Data Scientist’ in that file. Then close the file. Open this file and read the content of the file.\n",
    "\n",
    "f = open('10Feb1.txt','w')   ## Creating a new file \n",
    "f.write('I want to become a data scientist')  ## writing in the file \n",
    "f.close()  ## closing the file "
   ]
  },
  {
   "cell_type": "code",
   "execution_count": 26,
   "id": "65ffe26a-def4-478f-94ae-bc996efdd92e",
   "metadata": {},
   "outputs": [
    {
     "name": "stdout",
     "output_type": "stream",
     "text": [
      "I want to become a data scientist\n"
     ]
    }
   ],
   "source": [
    "f = open('10Feb1.txt','r')  ## opening the file in read mode \n",
    "data = f.read()  ## Reading the data ad storing it in a varible\n",
    "f.close()    ## closing the file \n",
    "print(data) ## printing the data stored "
   ]
  },
  {
   "cell_type": "code",
   "execution_count": 27,
   "id": "3d63b73b-c8ec-4f4c-b04a-95faffcbe482",
   "metadata": {},
   "outputs": [],
   "source": [
    "##  writing the previously created file for further use\n",
    "r = [\"\\nHello I am Naveen Gupta\\n\",\"I am a student yet\\n\",\"I am a Traveller living this journey of life\"]\n",
    "with open('10Feb1.txt','a') as f :\n",
    "    f.write(r[0])\n",
    "    f.write(r[1])\n",
    "    f.write(r[2])\n",
    "    "
   ]
  },
  {
   "cell_type": "code",
   "execution_count": 28,
   "id": "311ad0d7-4550-4774-99bd-187270d8fdb4",
   "metadata": {},
   "outputs": [
    {
     "name": "stdout",
     "output_type": "stream",
     "text": [
      "I want to become a data scientist\n",
      "Hello I am \n",
      "I want to become a data scientist\n",
      "\n",
      "['I want to become a data scientist\\n', 'Hello I am Naveen Gupta\\n', 'I am a student yet\\n', 'I am a Traveller living this journey of life']\n"
     ]
    }
   ],
   "source": [
    "#Q4. Explain the following with python code: read(), readline() and readlines().\n",
    "\n",
    "## These three methods are used to read files \n",
    "\n",
    "###  read(n)  # used to Read data from the fiele , Reads n bytes from the file if given as an argument  , else reads whole file \n",
    "f = open('10Feb1.txt','r')\n",
    "data1 = f.read(45)\n",
    "################\n",
    "f.seek(0) #moving cursor to begining \n",
    "\n",
    "''' readline(n) # Reads a line of the file and returns in form of a string.For specified n,reads at most n bytes. \n",
    "    However, does not reads more than one line, even if n exceeds the length of the line.'''\n",
    "\n",
    "data2 = f.readline(200)\n",
    "f.seek(0)\n",
    "\n",
    "''' readlines() #readlines() : Reads all the lines and return them as each line a string element in a list. '''\n",
    "\n",
    "data3 = f.readlines()\n",
    "##########################\n",
    "# printing the data read\n",
    "print(data1)\n",
    "print(data2)\n",
    "print(data3)"
   ]
  },
  {
   "cell_type": "code",
   "execution_count": null,
   "id": "33ca9bba-6d3b-4985-8182-d10b25f0f28d",
   "metadata": {
    "scrolled": false
   },
   "outputs": [],
   "source": [
    "##Q5. Explain why with statement is used with open(). What is the advantage of using with statement and open() together?\n",
    "\"\"\"\n",
    "with statement is used with open because it autmatically closes the file after performinh functions in it ,\n",
    "hence it is more convinient\n",
    "\"\"\""
   ]
  },
  {
   "cell_type": "code",
   "execution_count": 29,
   "id": "5ae09296",
   "metadata": {},
   "outputs": [
    {
     "name": "stdout",
     "output_type": "stream",
     "text": [
      "I want to become a data scientist\n",
      "Hello I am Naveen Gupta\n",
      "I am a student yet\n",
      "I am a Traveller living this journey of life\n",
      "file testing 1 2 3\n",
      "writing linessss \n",
      "reading linesss \n",
      "\n"
     ]
    }
   ],
   "source": [
    "##Q6. Explain the write() and writelines() functions. Give a suitable example.\n",
    "\n",
    "#write()  #Inserts the given string in a single line in the text file.\n",
    "\n",
    "with open('10Feb1.txt','a+') as f :\n",
    "    f.write('\\nfile testing 1 2 3\\n')\n",
    "#writelines() #For a list of string elements, each string is inserted in the text file. Used to insert multiple strings at a single time.\n",
    "  \n",
    "    f.writelines(['writing linessss \\n','reading linesss \\n'])\n",
    "    f.seek(0)\n",
    "    data4 = f.read()\n",
    "print(data4)"
   ]
  },
  {
   "cell_type": "code",
   "execution_count": null,
   "id": "852be61b",
   "metadata": {},
   "outputs": [],
   "source": []
  },
  {
   "cell_type": "code",
   "execution_count": null,
   "id": "82be4e9b",
   "metadata": {},
   "outputs": [],
   "source": []
  }
 ],
 "metadata": {
  "kernelspec": {
   "display_name": "Python 3 (ipykernel)",
   "language": "python",
   "name": "python3"
  },
  "language_info": {
   "codemirror_mode": {
    "name": "ipython",
    "version": 3
   },
   "file_extension": ".py",
   "mimetype": "text/x-python",
   "name": "python",
   "nbconvert_exporter": "python",
   "pygments_lexer": "ipython3",
   "version": "3.9.13"
  }
 },
 "nbformat": 4,
 "nbformat_minor": 5
}
