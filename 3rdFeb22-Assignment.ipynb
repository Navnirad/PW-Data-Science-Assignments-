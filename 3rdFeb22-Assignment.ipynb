{
 "cells": [
  {
   "cell_type": "code",
   "execution_count": null,
   "id": "aed3042e-78c6-4408-a9e4-f8dd5bf5795a",
   "metadata": {},
   "outputs": [],
   "source": [
    "###Data Science Assignment 3rd Feb 2023"
   ]
  },
  {
   "cell_type": "code",
   "execution_count": null,
   "id": "63dd9bac-16f1-4561-b70c-c4ec20a65fed",
   "metadata": {},
   "outputs": [],
   "source": [
    "#### Problem 1 - create a function to return odd numbers in the range of 1 to 25\n",
    "# Def keyword is used to create a function. \n",
    "def odd():\n",
    "     l = [a for a in range(1,25) if a%2 != 0]\n",
    "     return l"
   ]
  },
  {
   "cell_type": "code",
   "execution_count": null,
   "id": "2770620b-0e9e-433c-a5c5-af3c697b8095",
   "metadata": {},
   "outputs": [],
   "source": [
    "#### Problem 2 - demonstartion & explanation of *args & **kwargs in fucntions \n",
    "\n",
    "\"\"\" *args is used as a parameter in a function , with this We can call the function \n",
    "     with any number of arguments. Internally the value are passed in the form of tuple.\n",
    "     example demonstrated below :-\n",
    "\"\"\"\n",
    "def add(*ip):\n",
    "    s = 0\n",
    "    for a in ip:\n",
    "        s += a\n",
    "    return s     ## This function takes any number of arguments and returns the sum of it\n",
    "\n",
    "\"\"\" **kwargs is used as a parameter in a function like *args , but internally values here are \n",
    "      passed in the form of a dictionary so, we have to give the arguments as a key-value pair\n",
    "      and it accepts any number of key-value pairs\n",
    "      example demonstrated below\n",
    "\"\"\"\n",
    "def dictionary(**d):\n",
    "    return d  ## This function returns the dictionary entered as argument\n",
    "\n",
    "        "
   ]
  },
  {
   "cell_type": "code",
   "execution_count": null,
   "id": "20093b77-309b-45ad-9013-78c88fb40893",
   "metadata": {},
   "outputs": [],
   "source": [
    "###Problem 3 \n",
    "\"\"\"\n",
    "- An iterator is an object that contains a countable number of values or we can say it is object \n",
    "than can be iterated upon.\n",
    "- An Iterator object can be initialised using iter() method . \n",
    "- note:- only an iterable object can be initialised as an Iterator object \n",
    "- next() method is used for iteration \n",
    "\"\"\"\n",
    "\n",
    "l1 =[2, 4, 6, 8, 10, 12, 14,16, 18, 20]\n",
    "l2 , i= iter(l1),0\n",
    "while i<5:\n",
    "    print(next(l2)) \n",
    "    i+=1"
   ]
  },
  {
   "cell_type": "code",
   "execution_count": 50,
   "id": "eae31dc0-f96e-49f6-ac59-200c9fd10e7d",
   "metadata": {},
   "outputs": [],
   "source": [
    "#### Problem 4\n",
    "\"\"\"\n",
    "-a generator is a function that returns an iterator that produces a sequence of values when iterated over. \n",
    "-it is useful for saving memory when using a large dataset\n",
    "-yield keyword is used to create a generator function and return a generator object\n",
    "function in example below for creating a generator object of  fibonacci numbers.\n",
    "\"\"\"\n",
    "def fib():\n",
    "    a,b = 0,1\n",
    "    while True:\n",
    "        yield a\n",
    "        a,b = b,a+b \n",
    "## now this object can be itera"
   ]
  },
  {
   "cell_type": "code",
   "execution_count": null,
   "id": "3dee7dd3-69e9-496e-a8e9-4b80d5e40998",
   "metadata": {},
   "outputs": [],
   "source": [
    "#### Problem 5 \n",
    "def prime():\n",
    "    for n in range(1,1000):\n",
    "        a = 0\n",
    "        for d in range(1,n):\n",
    "            if n%d == 0:\n",
    "                a+=1\n",
    "        if a == 1:\n",
    "            yield n\n",
    "\n",
    "#prinitng first 20 prime numbers in the generator object using while loop\n",
    "i , o = 0,prime()        \n",
    "while i<20:\n",
    "    print(next(o))\n",
    "    i+=1   \n"
   ]
  },
  {
   "cell_type": "code",
   "execution_count": null,
   "id": "4019e0fa-a587-400b-a626-d7ef3fece4b0",
   "metadata": {},
   "outputs": [],
   "source": [
    "#### Problem 6 - First 10 fibonacci numbers using while loop\n",
    "def fib():\n",
    "    a,b= 0,1\n",
    "    while True:\n",
    "        yield a\n",
    "        a,b = b,a+b\n",
    "i,o = 0,fib()\n",
    "while i<10:\n",
    "    print(next(o))\n",
    "    i+=1  "
   ]
  },
  {
   "cell_type": "code",
   "execution_count": null,
   "id": "1172eec4-32ba-459d-a1b0-df714fe2374f",
   "metadata": {},
   "outputs": [],
   "source": [
    "#### Problem 7 \n",
    "s = 'pwskills'\n",
    "si = iter(s)\n",
    "lc = [a for a in si]\n",
    "print(lc)"
   ]
  },
  {
   "cell_type": "code",
   "execution_count": null,
   "id": "025cdecb-6654-411f-988f-239e4a595e6f",
   "metadata": {},
   "outputs": [],
   "source": [
    "#### Problem 8\n",
    "s = input('Enter the number :- ').strip()\n",
    "if s == s[::-1]:\n",
    "    print('Number is Palindrome')\n",
    "else:\n",
    "    print('Number not Palindrome')\n"
   ]
  },
  {
   "cell_type": "code",
   "execution_count": null,
   "id": "e49c1367-ce35-4f84-bb61-069928c58afc",
   "metadata": {},
   "outputs": [],
   "source": [
    "#### Porblem 9\n",
    "l1 = [a for a in range(1,101)]\n",
    "l2 = [b for b in l1 if b%2 != 0]\n",
    "print(l2)"
   ]
  },
  {
   "cell_type": "code",
   "execution_count": null,
   "id": "d3a6abdd-3f91-4389-9985-8913f2985708",
   "metadata": {},
   "outputs": [],
   "source": []
  }
 ],
 "metadata": {
  "kernelspec": {
   "display_name": "Python 3 (ipykernel)",
   "language": "python",
   "name": "python3"
  },
  "language_info": {
   "codemirror_mode": {
    "name": "ipython",
    "version": 3
   },
   "file_extension": ".py",
   "mimetype": "text/x-python",
   "name": "python",
   "nbconvert_exporter": "python",
   "pygments_lexer": "ipython3",
   "version": "3.10.8"
  }
 },
 "nbformat": 4,
 "nbformat_minor": 5
}
