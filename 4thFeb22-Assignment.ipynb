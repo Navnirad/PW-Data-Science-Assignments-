{
 "cells": [
  {
   "cell_type": "code",
   "execution_count": 13,
   "id": "db867417-3054-4f0e-b075-ffda71e6173d",
   "metadata": {},
   "outputs": [],
   "source": [
    "#### Problem 1 - to sort the tuples in the list according to the number in it \n",
    "l = [('Sachin Tendulkar', 34357), ('Ricky Ponting', 27483), ('Jack Kallis', 25534), ('Virat Kohli', 24936)]\n",
    "a = sorted(l,key = lambda x:x[1])"
   ]
  },
  {
   "cell_type": "code",
   "execution_count": 6,
   "id": "0556089f-bf30-4b1e-acdf-c779234c6485",
   "metadata": {},
   "outputs": [
    {
     "name": "stdout",
     "output_type": "stream",
     "text": [
      "[1, 4, 9, 16, 25, 36, 49, 64, 81, 100]\n"
     ]
    }
   ],
   "source": [
    "#### Problem 2 -  to return the sqares of the numbers in the list using lambda and map functions \n",
    "l = [1,2,3,4,5,6,7,8,9,10]\n",
    "output = list(map(lambda x:x**2,l))\n",
    "print(output)"
   ]
  },
  {
   "cell_type": "code",
   "execution_count": 8,
   "id": "6297d002-fd0e-4e68-89df-aed827b8f5b6",
   "metadata": {},
   "outputs": [
    {
     "name": "stdout",
     "output_type": "stream",
     "text": [
      "['1', '2', '3', '4', '5', '6', '7', '8', '9', '10']\n"
     ]
    }
   ],
   "source": [
    "#### Problem 3 -  to return a list with data type string instead of int in the given list\n",
    "l = [1,2,3,4,5,6,7,8,9,10]\n",
    "result = list(map(lambda x:str(x),l))\n",
    "print(result)"
   ]
  },
  {
   "cell_type": "code",
   "execution_count": 13,
   "id": "7d60a889-af81-48e5-b346-a2f77121f870",
   "metadata": {},
   "outputs": [
    {
     "name": "stdout",
     "output_type": "stream",
     "text": [
      "15511210043330985984000000\n"
     ]
    }
   ],
   "source": [
    "#### Problem 4 - to return the products of numbers from 1 to 25\n",
    "from functools import reduce\n",
    "l1 = list(range(1,26))\n",
    "o = reduce(lambda x,y:x*y,l1)\n",
    "print(o)"
   ]
  },
  {
   "cell_type": "code",
   "execution_count": 28,
   "id": "fdf5e25e-c6d5-4b8b-88fd-3923512f2d8d",
   "metadata": {},
   "outputs": [
    {
     "data": {
      "text/plain": [
       "[2, 3, 6, 9, 27, 60, 90, 120, 46]"
      ]
     },
     "execution_count": 28,
     "metadata": {},
     "output_type": "execute_result"
    }
   ],
   "source": [
    "#### Problem 5 -  To Filter numbers which are divisible by 2 or 3\n",
    "l2 = [2,3,6,9,27,60,90,120,55,46]\n",
    "list(filter(lambda x:x%2==0 or x%3 ==0,l2))"
   ]
  },
  {
   "cell_type": "code",
   "execution_count": null,
   "id": "66e220c0-45fa-4e2f-9a96-526f79c3db98",
   "metadata": {},
   "outputs": [],
   "source": [
    "#### Problem 6 - to find palindromes in the given list of strings using lambda and filter function.\n",
    "l3 = ['python','php','aba','radar','level']\n",
    "list(filter(lambda x:x == x[::-1],))"
   ]
  },
  {
   "cell_type": "code",
   "execution_count": null,
   "id": "ad41faca-db45-4904-bf22-6a9ec524871b",
   "metadata": {},
   "outputs": [],
   "source": []
  }
 ],
 "metadata": {
  "kernelspec": {
   "display_name": "Python 3 (ipykernel)",
   "language": "python",
   "name": "python3"
  },
  "language_info": {
   "codemirror_mode": {
    "name": "ipython",
    "version": 3
   },
   "file_extension": ".py",
   "mimetype": "text/x-python",
   "name": "python",
   "nbconvert_exporter": "python",
   "pygments_lexer": "ipython3",
   "version": "3.10.8"
  }
 },
 "nbformat": 4,
 "nbformat_minor": 5
}
