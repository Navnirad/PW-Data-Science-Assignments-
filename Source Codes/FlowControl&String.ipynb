{
 "cells": [
  {
   "cell_type": "code",
   "execution_count": 1,
   "id": "2b236f03-9a66-4824-8b85-fe47e50c771d",
   "metadata": {},
   "outputs": [],
   "source": [
    "### Topics covered :- \n",
    "#Input & Output Statements \n",
    "#Flow Control :- \n",
    "                 #Conditional statements\n",
    "                 #Iterative statements \n",
    "                 #Transfer statements\n",
    "#String Dataype :- \n",
    "                   #Strip function (strip,lstrip,rstrip)\n",
    "                   #find,index function (rindex,rfind)\n",
    "                   #count function \n",
    "                   #replace function\n",
    "                   #split functon\n",
    "                   #join function\n",
    "                   #changing cases(upper,lower,capitalize,swapcase,title)\n",
    "                   #checking functions(isalnum, isalpha , isdigit , isspace, istitle , isupper, islower)\n"
   ]
  },
  {
   "cell_type": "code",
   "execution_count": 15,
   "id": "65763945-e1c6-44ec-80c1-0f09f65091d8",
   "metadata": {},
   "outputs": [],
   "source": [
    "print(1,2,3,4,5,6,7,sep='  ')\n",
    "print('hello','Yellow',sep=' + ')\n",
    "\n",
    "print(1,2,3,4,5,6,7,8, end = '\\n')\n",
    "print(9,10,11,12,13,14,15)"
   ]
  },
  {
   "cell_type": "code",
   "execution_count": 13,
   "id": "a936b0d3-6da0-4997-a746-501effe01040",
   "metadata": {},
   "outputs": [
    {
     "name": "stdout",
     "output_type": "stream",
     "text": [
      "My name is Naveen\n",
      "I am 14 years old\n",
      "I am learning programming from the age of 12 years\n",
      "10.500000+9.500000=20.000000\n"
     ]
    }
   ],
   "source": [
    "print('My name is %s'%'Naveen')\n",
    "print('I am %d years old'%14)\n",
    "print('I am learning programming from the age of %i years' %12)\n",
    "a = 10.5\n",
    "b = 9.5\n",
    "c = a+b\n",
    "print('%f+%f=%f'%(a,b,c))\n"
   ]
  },
  {
   "cell_type": "code",
   "execution_count": 18,
   "id": "893a24c6-fc11-430d-9af9-9ca689b82d14",
   "metadata": {},
   "outputs": [
    {
     "name": "stdout",
     "output_type": "stream",
     "text": [
      "Hello Myself Naveen , I am 10 years old\n"
     ]
    }
   ],
   "source": [
    "print('Hello Myself {} , I am {} years old'.format('Naveen',10))\n"
   ]
  },
  {
   "cell_type": "code",
   "execution_count": 19,
   "id": "d530265d-da2e-490d-ac99-2b006b02460a",
   "metadata": {},
   "outputs": [
    {
     "name": "stdout",
     "output_type": "stream",
     "text": [
      "Hello Myself Naveen , I am 10 years old\n"
     ]
    }
   ],
   "source": [
    "print('Hello Myself {1} , I am {0} years old'.format(10,'Naveen'))\n"
   ]
  },
  {
   "cell_type": "code",
   "execution_count": 20,
   "id": "16b63a90-57a2-4f82-b56e-033c28158475",
   "metadata": {},
   "outputs": [
    {
     "name": "stdout",
     "output_type": "stream",
     "text": [
      "Hello Myself Naveen Gupta , I am 14 years old\n"
     ]
    }
   ],
   "source": [
    "n = 'Naveen'\n",
    "ln = 'Gupta'\n",
    "a = 14\n",
    "print(f'Hello Myself {n} {ln} , I am {a} years old')"
   ]
  },
  {
   "cell_type": "code",
   "execution_count": 1,
   "id": "fce640d4-1724-4459-aa51-1f2d9621ea89",
   "metadata": {},
   "outputs": [
    {
     "name": "stdout",
     "output_type": "stream",
     "text": [
      "range(0, 10)\n"
     ]
    }
   ],
   "source": [
    "print(range(10))"
   ]
  },
  {
   "cell_type": "code",
   "execution_count": 4,
   "id": "c37f730b-0601-4a1b-b0cd-e6e7fcf9e7b5",
   "metadata": {},
   "outputs": [
    {
     "data": {
      "text/plain": [
       "5"
      ]
     },
     "execution_count": 4,
     "metadata": {},
     "output_type": "execute_result"
    }
   ],
   "source": [
    "zo = 'hello'\n",
    "len(zo)"
   ]
  },
  {
   "cell_type": "code",
   "execution_count": 8,
   "id": "40af283b-c129-4479-a282-e690c5311bd6",
   "metadata": {},
   "outputs": [
    {
     "name": "stdin",
     "output_type": "stream",
     "text": [
      "Kindly enter the number here :-\t 189\n"
     ]
    },
    {
     "name": "stdout",
     "output_type": "stream",
     "text": [
      "189 X 1 = 189\n",
      "189 X 2 = 378\n",
      "189 X 3 = 567\n",
      "189 X 4 = 756\n",
      "189 X 5 = 945\n",
      "189 X 6 = 1134\n",
      "189 X 7 = 1323\n",
      "189 X 8 = 1512\n",
      "189 X 9 = 1701\n",
      "189 X 10 = 1890\n"
     ]
    }
   ],
   "source": [
    "###Table generator\n",
    "n = int(input('Kindly enter the number here :-\\t'))\n",
    "i = 1\n",
    "while i < 11 :\n",
    "              print(f'{n} X {i} = {n*i}')\n",
    "              i += 1\n",
    "              "
   ]
  },
  {
   "cell_type": "code",
   "execution_count": 12,
   "id": "c8dd6feb-2686-4e37-9dbd-f55e3c5f8d95",
   "metadata": {},
   "outputs": [
    {
     "name": "stdin",
     "output_type": "stream",
     "text": [
      "Kindly enter the number here :- \t 5\n"
     ]
    },
    {
     "name": "stdout",
     "output_type": "stream",
     "text": [
      "5 X 1 = 5\n",
      "5 X 2 = 10\n",
      "5 X 3 = 15\n",
      "5 X 4 = 20\n",
      "5 X 5 = 25\n",
      "5 X 6 = 30\n",
      "5 X 7 = 35\n",
      "5 X 8 = 40\n",
      "5 X 9 = 45\n",
      "5 X 10 = 50\n"
     ]
    }
   ],
   "source": [
    "## Table generator using for loop\n",
    "n = int(input('Kindly enter the number here :- \\t'))\n",
    "for i in range(10) :\n",
    "    print(f'{n} X {i+1} = {(i+1)*n}')"
   ]
  },
  {
   "cell_type": "code",
   "execution_count": 2,
   "id": "d57f292b-3b58-49aa-a7f8-a2e4d516a35e",
   "metadata": {},
   "outputs": [
    {
     "name": "stdout",
     "output_type": "stream",
     "text": [
      "8\n",
      "2\n",
      "-1\n"
     ]
    },
    {
     "ename": "ValueError",
     "evalue": "substring not found",
     "output_type": "error",
     "traceback": [
      "\u001b[0;31m---------------------------------------------------------------------------\u001b[0m",
      "\u001b[0;31mValueError\u001b[0m                                Traceback (most recent call last)",
      "Cell \u001b[0;32mIn[2], line 5\u001b[0m\n\u001b[1;32m      3\u001b[0m \u001b[38;5;28mprint\u001b[39m(e\u001b[38;5;241m.\u001b[39mfind(\u001b[38;5;124m'\u001b[39m\u001b[38;5;124me\u001b[39m\u001b[38;5;124m'\u001b[39m))\n\u001b[1;32m      4\u001b[0m \u001b[38;5;28mprint\u001b[39m(e\u001b[38;5;241m.\u001b[39mfind(\u001b[38;5;124m'\u001b[39m\u001b[38;5;124mz\u001b[39m\u001b[38;5;124m'\u001b[39m))\n\u001b[0;32m----> 5\u001b[0m \u001b[38;5;28mprint\u001b[39m(\u001b[43me\u001b[49m\u001b[38;5;241;43m.\u001b[39;49m\u001b[43mindex\u001b[49m\u001b[43m(\u001b[49m\u001b[38;5;124;43m'\u001b[39;49m\u001b[38;5;124;43mz\u001b[39;49m\u001b[38;5;124;43m'\u001b[39;49m\u001b[43m)\u001b[49m)\n",
      "\u001b[0;31mValueError\u001b[0m: substring not found"
     ]
    }
   ],
   "source": [
    "e = 'the naveen guptannnn'\n",
    "print(e.rfind('e'))\n",
    "print(e.find('e'))\n",
    "print(e.find('z'))\n",
    "print(e.index('z'))"
   ]
  },
  {
   "cell_type": "code",
   "execution_count": 26,
   "id": "1fadc0d1-51f3-4fa1-93cb-8a753de68908",
   "metadata": {},
   "outputs": [
    {
     "data": {
      "text/plain": [
       "2"
      ]
     },
     "execution_count": 26,
     "metadata": {},
     "output_type": "execute_result"
    }
   ],
   "source": [
    "e.count('e',4,20)"
   ]
  },
  {
   "cell_type": "code",
   "execution_count": 35,
   "id": "de6f4785-62d6-41dc-b63a-8020170ce537",
   "metadata": {},
   "outputs": [
    {
     "data": {
      "text/plain": [
       "'the paveep guptapppp'"
      ]
     },
     "execution_count": 35,
     "metadata": {},
     "output_type": "execute_result"
    }
   ],
   "source": [
    "e.replace('n','p',-1\n",
    "         )"
   ]
  },
  {
   "cell_type": "code",
   "execution_count": 1,
   "id": "01d296a1-8226-445e-bbe2-6edea180b336",
   "metadata": {},
   "outputs": [
    {
     "data": {
      "text/plain": [
       "['hello', 'guyz', ',', 'this', 'is', 'python', 'class', '2']"
      ]
     },
     "execution_count": 1,
     "metadata": {},
     "output_type": "execute_result"
    }
   ],
   "source": [
    "f = 'hello guyz , this is python class 2'\n",
    "f.split()"
   ]
  },
  {
   "cell_type": "code",
   "execution_count": 17,
   "id": "d4ca40c4-6a10-4099-b8a6-aebe341e3bb0",
   "metadata": {},
   "outputs": [
    {
     "data": {
      "text/plain": [
       "'h e l l o   g u y z   ,   t h i s   i s   p y t h o n   c l a s s   2'"
      ]
     },
     "execution_count": 17,
     "metadata": {},
     "output_type": "execute_result"
    }
   ],
   "source": [
    "a = ' '.join(f)\n",
    "a"
   ]
  },
  {
   "cell_type": "code",
   "execution_count": 18,
   "id": "35076193-6190-4ca6-87f5-4a292647b805",
   "metadata": {},
   "outputs": [
    {
     "name": "stdout",
     "output_type": "stream",
     "text": [
      "HELLO GUYZ , THIS IS PYTHON CLASS 2\n",
      "hello guyz , this is python class 2\n",
      "HELLO GUYZ , THIS IS PYTHON CLASS 2\n",
      "Hello Guyz , This Is Python Class 2\n",
      "Hello guyz , this is python class 2\n"
     ]
    }
   ],
   "source": [
    "print(f.upper())\n",
    "print(f.lower())\n",
    "print(f.swapcase())\n",
    "print(f.title())\n",
    "print(f.capitalize())"
   ]
  },
  {
   "cell_type": "code",
   "execution_count": 22,
   "id": "cfa2dcdf-3307-428d-a336-ba23b6df95f5",
   "metadata": {},
   "outputs": [
    {
     "data": {
      "text/plain": [
       "True"
      ]
     },
     "execution_count": 22,
     "metadata": {},
     "output_type": "execute_result"
    }
   ],
   "source": [
    "f.islower()"
   ]
  },
  {
   "cell_type": "code",
   "execution_count": 5,
   "id": "cb439dae-e41e-406c-9b39-11b00e20df62",
   "metadata": {},
   "outputs": [
    {
     "name": "stdout",
     "output_type": "stream",
     "text": [
      "2\n"
     ]
    }
   ],
   "source": [
    "_myfal = 2\n",
    "print(_myfal)"
   ]
  },
  {
   "cell_type": "code",
   "execution_count": 8,
   "id": "47823d77-5ba2-49d7-808d-fe4310106f2a",
   "metadata": {},
   "outputs": [
    {
     "name": "stdout",
     "output_type": "stream",
     "text": [
      "hello ksndsdnnd fdxfffc\n",
      "bfbbbb fbbghbh\n",
      "gvbgbnbhnjhnj\n"
     ]
    }
   ],
   "source": [
    "s = ''''''hello ksndsdnnd fdxfffc\n",
    "bfbbbb fbbghbh\n",
    "gvbgbnbhnjhnj''''''\n",
    "print(s)"
   ]
  },
  {
   "cell_type": "code",
   "execution_count": 10,
   "id": "cc1c7272-52bf-4857-be09-369a3a52d605",
   "metadata": {},
   "outputs": [
    {
     "data": {
      "text/plain": [
       "'hello'"
      ]
     },
     "execution_count": 10,
     "metadata": {},
     "output_type": "execute_result"
    }
   ],
   "source": [
    "name = 'hello'\n",
    "name.upper().lower()"
   ]
  },
  {
   "cell_type": "code",
   "execution_count": 4,
   "id": "20fc5e1e-3686-4329-b42f-6664196a9e0a",
   "metadata": {},
   "outputs": [],
   "source": [
    "av = 'hello'\n",
    "b = av.replace('e','f')"
   ]
  },
  {
   "cell_type": "code",
   "execution_count": 6,
   "id": "e91a1e7d-6491-4a71-9177-f610ebccfe37",
   "metadata": {},
   "outputs": [],
   "source": [
    "b = b.replace('l','o')"
   ]
  },
  {
   "cell_type": "code",
   "execution_count": 7,
   "id": "8b33f1f5-2d04-4cec-b97d-c07e29b4730a",
   "metadata": {},
   "outputs": [
    {
     "data": {
      "text/plain": [
       "'hfooo'"
      ]
     },
     "execution_count": 7,
     "metadata": {},
     "output_type": "execute_result"
    }
   ],
   "source": [
    "b"
   ]
  },
  {
   "cell_type": "code",
   "execution_count": null,
   "id": "e701b339-f04c-4b5c-a2c6-1f9bed6ded04",
   "metadata": {},
   "outputs": [],
   "source": []
  }
 ],
 "metadata": {
  "kernelspec": {
   "display_name": "Python 3 (ipykernel)",
   "language": "python",
   "name": "python3"
  },
  "language_info": {
   "codemirror_mode": {
    "name": "ipython",
    "version": 3
   },
   "file_extension": ".py",
   "mimetype": "text/x-python",
   "name": "python",
   "nbconvert_exporter": "python",
   "pygments_lexer": "ipython3",
   "version": "3.10.8"
  }
 },
 "nbformat": 4,
 "nbformat_minor": 5
}
