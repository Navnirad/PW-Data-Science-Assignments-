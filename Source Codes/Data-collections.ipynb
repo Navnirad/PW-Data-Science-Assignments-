{
 "cells": [
  {
   "cell_type": "markdown",
   "id": "6187bcdc-bd1c-4ede-90f2-accb9aea10e3",
   "metadata": {
    "tags": []
   },
   "source": [
    "#### Topics Covered :- \n",
    "\"\"\"\n",
    "          ##Reusablity \n",
    "          ##List :- \n",
    "          \n",
    "               1) Creation\n",
    "               2) Functions :- len, index , count\n",
    "               3) Manipulating Functions :- Append , Insert , extend , remove , pop , reverse , sort , clear , \n",
    "                                           del keyword\n",
    "               4) ALiasing & Cloning \n",
    "               5) Nesting\n",
    "               6) list Comprehension \n",
    "\"\"\"\n",
    "      ###Tuple :-  \n",
    "                \n",
    "              1) Creation \n",
    "              2) Functions :- len , count , index \n",
    "              3) Other Functions :- Sorted     ##Note:- it returns list obect \n",
    "              4) min & max  functions \n",
    "              5) Packing & Unpacking \n",
    "              6) Tuple Comrehenison ##Note :- not supoorted , returns generator object\n",
    "\"\"\"          \n",
    "     ###Sets :- \n",
    "              \n",
    "            1) Creation \n",
    "            2) Methods :- add , update , pop , remove , discard , clear , del keyword \n",
    "            3) Mathematical Operations :- Union (|), Intersection (&) , difference (-), symmetric_difference (^)         \n",
    "            4) set comprehension\n",
    "\"\"\"\n",
    "    ###Dictionary :- \n",
    "    \n",
    "             1) Creation\n",
    "             2) upading /inserting new / deleting key value pair\n",
    "             3) functions :- len , clear , get , pop , popitem , keys , values ,items , setdefault, update\n",
    "             \n",
    "              "
   ]
  },
  {
   "cell_type": "code",
   "execution_count": 1,
   "id": "e28846e9-8674-478f-b506-ff210b563e56",
   "metadata": {},
   "outputs": [
    {
     "data": {
      "text/plain": [
       "True"
      ]
     },
     "execution_count": 1,
     "metadata": {},
     "output_type": "execute_result"
    }
   ],
   "source": [
    "a = 5\n",
    "b = 5\n",
    "a is b"
   ]
  },
  {
   "cell_type": "code",
   "execution_count": 3,
   "id": "10758de6-8bd6-4179-bdcf-288fb763a70e",
   "metadata": {},
   "outputs": [
    {
     "data": {
      "text/plain": [
       "False"
      ]
     },
     "execution_count": 3,
     "metadata": {},
     "output_type": "execute_result"
    }
   ],
   "source": [
    "a = 257\n",
    "b = 257\n",
    "a is b"
   ]
  },
  {
   "cell_type": "code",
   "execution_count": 6,
   "id": "cbbd6989-61ef-4a57-96d8-4e8f73b7b826",
   "metadata": {},
   "outputs": [
    {
     "data": {
      "text/plain": [
       "True"
      ]
     },
     "execution_count": 6,
     "metadata": {},
     "output_type": "execute_result"
    }
   ],
   "source": [
    "a = True \n",
    "b = True\n",
    "a is b"
   ]
  },
  {
   "cell_type": "code",
   "execution_count": 7,
   "id": "56cac0e7-2e2c-48bf-87e2-db9e15330b9e",
   "metadata": {},
   "outputs": [
    {
     "data": {
      "text/plain": [
       "True"
      ]
     },
     "execution_count": 7,
     "metadata": {},
     "output_type": "execute_result"
    }
   ],
   "source": [
    "a = 'hello123'\n",
    "b = 'hello123'\n",
    "a is b"
   ]
  },
  {
   "cell_type": "code",
   "execution_count": 8,
   "id": "ae060c3b-78df-422d-ba2f-ab57bc21f7e2",
   "metadata": {},
   "outputs": [
    {
     "data": {
      "text/plain": [
       "False"
      ]
     },
     "execution_count": 8,
     "metadata": {},
     "output_type": "execute_result"
    }
   ],
   "source": [
    "a = 'hello 123'\n",
    "b = 'hello 123'\n",
    "a is b"
   ]
  },
  {
   "cell_type": "code",
   "execution_count": 10,
   "id": "68b46718-1dbf-4da3-b8f0-c58047fb4169",
   "metadata": {},
   "outputs": [
    {
     "data": {
      "text/plain": [
       "True"
      ]
     },
     "execution_count": 10,
     "metadata": {},
     "output_type": "execute_result"
    }
   ],
   "source": [
    "import sys\n",
    "a = sys.intern('hello 123')\n",
    "b = sys.intern('hello 123')\n",
    "a is b"
   ]
  },
  {
   "cell_type": "code",
   "execution_count": 12,
   "id": "0d0ed1e6-7fa0-45f2-84a9-222eb26c4fbf",
   "metadata": {},
   "outputs": [
    {
     "name": "stdin",
     "output_type": "stream",
     "text": [
      "enter hello\n"
     ]
    },
    {
     "ename": "NameError",
     "evalue": "name 'hello' is not defined",
     "output_type": "error",
     "traceback": [
      "\u001b[0;31m---------------------------------------------------------------------------\u001b[0m",
      "\u001b[0;31mNameError\u001b[0m                                 Traceback (most recent call last)",
      "Cell \u001b[0;32mIn[12], line 1\u001b[0m\n\u001b[0;32m----> 1\u001b[0m a \u001b[38;5;241m=\u001b[39m \u001b[38;5;28;43meval\u001b[39;49m\u001b[43m(\u001b[49m\u001b[38;5;28;43minput\u001b[39;49m\u001b[43m(\u001b[49m\u001b[38;5;124;43m'\u001b[39;49m\u001b[38;5;124;43menter\u001b[39;49m\u001b[38;5;124;43m'\u001b[39;49m\u001b[43m)\u001b[49m\u001b[43m)\u001b[49m\n\u001b[1;32m      2\u001b[0m \u001b[38;5;28mprint\u001b[39m(\u001b[38;5;28mtype\u001b[39m(a))\n",
      "File \u001b[0;32m<string>:1\u001b[0m\n",
      "\u001b[0;31mNameError\u001b[0m: name 'hello' is not defined"
     ]
    }
   ],
   "source": [
    "a = eval(input('enter'))\n",
    "print(type(a))"
   ]
  },
  {
   "cell_type": "code",
   "execution_count": 5,
   "id": "2562021e-aa26-41d3-a0e5-b6a4898d0412",
   "metadata": {},
   "outputs": [
    {
     "name": "stdin",
     "output_type": "stream",
     "text": [
      "Enter the list :-  1,2,3,4,56,7\n"
     ]
    },
    {
     "name": "stdout",
     "output_type": "stream",
     "text": [
      "[1, 2, 3, 4, 56, 7]\n",
      "<class 'list'>\n"
     ]
    }
   ],
   "source": [
    "l = list(eval(input('Enter the list :- ')))\n",
    "print(l)\n",
    "print(type(l))"
   ]
  },
  {
   "cell_type": "code",
   "execution_count": 9,
   "id": "9d83318b-385c-4a5a-8fbe-62fa2c03030c",
   "metadata": {},
   "outputs": [
    {
     "name": "stdout",
     "output_type": "stream",
     "text": [
      "['Hello', 'everyone']\n"
     ]
    },
    {
     "data": {
      "text/plain": [
       "list"
      ]
     },
     "execution_count": 9,
     "metadata": {},
     "output_type": "execute_result"
    }
   ],
   "source": [
    "a = 'Hello everyone'\n",
    "b = a.split()\n",
    "print(b)\n",
    "type(b)"
   ]
  },
  {
   "cell_type": "code",
   "execution_count": 12,
   "id": "0181696b-faaa-4e43-8265-f7c0df7e8c62",
   "metadata": {},
   "outputs": [
    {
     "data": {
      "text/plain": [
       "['h', 'e', 'l', 'l', 'o']"
      ]
     },
     "execution_count": 12,
     "metadata": {},
     "output_type": "execute_result"
    }
   ],
   "source": [
    "c = list(range(10))\n",
    "d = list('hello')\n",
    "d"
   ]
  },
  {
   "cell_type": "code",
   "execution_count": 13,
   "id": "09c416a7-766d-4f98-852a-89edffb88b6f",
   "metadata": {},
   "outputs": [
    {
     "data": {
      "text/plain": [
       "5"
      ]
     },
     "execution_count": 13,
     "metadata": {},
     "output_type": "execute_result"
    }
   ],
   "source": [
    "e = 'hello'\n",
    "len(e)"
   ]
  },
  {
   "cell_type": "code",
   "execution_count": 14,
   "id": "cc6dd413-2ac0-482b-a1b3-b4eb93c30176",
   "metadata": {},
   "outputs": [
    {
     "data": {
      "text/plain": [
       "0"
      ]
     },
     "execution_count": 14,
     "metadata": {},
     "output_type": "execute_result"
    }
   ],
   "source": [
    "c[0]"
   ]
  },
  {
   "cell_type": "code",
   "execution_count": 15,
   "id": "92234571-3b7c-4647-849f-700a2a405dc5",
   "metadata": {},
   "outputs": [
    {
     "data": {
      "text/plain": [
       "[9, 8, 7, 6, 5, 4, 3, 2, 1, 0]"
      ]
     },
     "execution_count": 15,
     "metadata": {},
     "output_type": "execute_result"
    }
   ],
   "source": [
    "c[::-1]"
   ]
  },
  {
   "cell_type": "code",
   "execution_count": 26,
   "id": "5fb2c0ae-a00f-424b-b026-eb533ce4fd84",
   "metadata": {},
   "outputs": [
    {
     "name": "stdout",
     "output_type": "stream",
     "text": [
      "2\n"
     ]
    },
    {
     "data": {
      "text/plain": [
       "2"
      ]
     },
     "execution_count": 26,
     "metadata": {},
     "output_type": "execute_result"
    }
   ],
   "source": [
    "l = [1,1,2,2,3,3,4,5,6,7,8,8,9,9,0,0]\n",
    "a = 'Hello I am Naveen'\n",
    "print(l.count(1))\n",
    "a.count('l')"
   ]
  },
  {
   "cell_type": "code",
   "execution_count": 36,
   "id": "b1752bd1-1afa-497e-9142-32260a6c11e3",
   "metadata": {},
   "outputs": [
    {
     "ename": "AttributeError",
     "evalue": "'list' object has no attribute 'find'",
     "output_type": "error",
     "traceback": [
      "\u001b[0;31m---------------------------------------------------------------------------\u001b[0m",
      "\u001b[0;31mAttributeError\u001b[0m                            Traceback (most recent call last)",
      "Cell \u001b[0;32mIn[36], line 5\u001b[0m\n\u001b[1;32m      3\u001b[0m a\u001b[38;5;241m.\u001b[39mindex(\u001b[38;5;124m'\u001b[39m\u001b[38;5;124ma\u001b[39m\u001b[38;5;124m'\u001b[39m)\n\u001b[1;32m      4\u001b[0m a\u001b[38;5;241m.\u001b[39mfind(\u001b[38;5;124m'\u001b[39m\u001b[38;5;124mg\u001b[39m\u001b[38;5;124m'\u001b[39m)\n\u001b[0;32m----> 5\u001b[0m \u001b[43ml\u001b[49m\u001b[38;5;241;43m.\u001b[39;49m\u001b[43mfind\u001b[49m(\u001b[38;5;241m2\u001b[39m)\n",
      "\u001b[0;31mAttributeError\u001b[0m: 'list' object has no attribute 'find'"
     ]
    }
   ],
   "source": [
    "## Index applicable on both string & list but rindex not applicable on list\n",
    "##unlike string find & rfind functions are not applicable on list\n",
    "l.index(1)\n",
    "a.index('a')\n",
    "a.find('g')\n",
    "l.find(2)"
   ]
  },
  {
   "cell_type": "code",
   "execution_count": 39,
   "id": "873ff93d-0edd-463c-b0b2-45815a5969f4",
   "metadata": {},
   "outputs": [],
   "source": [
    "l.append(10)\n"
   ]
  },
  {
   "cell_type": "code",
   "execution_count": 40,
   "id": "c3e3e3e9-8010-4493-adb1-1dbd6310d3b5",
   "metadata": {},
   "outputs": [
    {
     "data": {
      "text/plain": [
       "[0, 1, 1, 2, 2, 3, 3, 4, 5, 6, 7, 8, 8, 9, 9, 0, 0, 10, 10]"
      ]
     },
     "execution_count": 40,
     "metadata": {},
     "output_type": "execute_result"
    }
   ],
   "source": [
    "l"
   ]
  },
  {
   "cell_type": "code",
   "execution_count": 65,
   "id": "7acbfc0a-3e3c-46c3-a9e9-8bf55c35c373",
   "metadata": {},
   "outputs": [],
   "source": [
    "l3 = [1,2,3,4,5]\n",
    "l4 = [6,7,8,9]"
   ]
  },
  {
   "cell_type": "code",
   "execution_count": 67,
   "id": "519452d9-2691-466e-b784-e489f1867ba8",
   "metadata": {},
   "outputs": [],
   "source": [
    "l3.extend(l4)"
   ]
  },
  {
   "cell_type": "code",
   "execution_count": 68,
   "id": "0ddd0c8c-d47e-49c9-9028-2b444bfef2ad",
   "metadata": {},
   "outputs": [
    {
     "data": {
      "text/plain": [
       "[1, 2, 3, 4, 5, 6, 7, 8, 9]"
      ]
     },
     "execution_count": 68,
     "metadata": {},
     "output_type": "execute_result"
    }
   ],
   "source": [
    "l3"
   ]
  },
  {
   "cell_type": "code",
   "execution_count": 69,
   "id": "a5e2cb03-1bf4-4456-b09a-9ba3a6036b21",
   "metadata": {},
   "outputs": [],
   "source": [
    "l3.remove(9)"
   ]
  },
  {
   "cell_type": "code",
   "execution_count": 70,
   "id": "7889bc21-c306-465d-962a-cbdd7e3c17f1",
   "metadata": {},
   "outputs": [
    {
     "data": {
      "text/plain": [
       "[1, 2, 3, 4, 5, 6, 7, 8]"
      ]
     },
     "execution_count": 70,
     "metadata": {},
     "output_type": "execute_result"
    }
   ],
   "source": [
    "l3"
   ]
  },
  {
   "cell_type": "code",
   "execution_count": 71,
   "id": "66951944-8d30-49ef-8d29-1affc94296b9",
   "metadata": {},
   "outputs": [
    {
     "data": {
      "text/plain": [
       "2"
      ]
     },
     "execution_count": 71,
     "metadata": {},
     "output_type": "execute_result"
    }
   ],
   "source": [
    "l3.pop(1)"
   ]
  },
  {
   "cell_type": "code",
   "execution_count": 72,
   "id": "633f1de5-a7b3-42cf-9400-fadf3b059c67",
   "metadata": {},
   "outputs": [
    {
     "data": {
      "text/plain": [
       "[1, 3, 4, 5, 6, 7, 8]"
      ]
     },
     "execution_count": 72,
     "metadata": {},
     "output_type": "execute_result"
    }
   ],
   "source": [
    "l3"
   ]
  },
  {
   "cell_type": "code",
   "execution_count": 74,
   "id": "c119217a-838e-44f4-bc4e-84f7dd0ee0dc",
   "metadata": {},
   "outputs": [],
   "source": [
    "l3.remove(1)"
   ]
  },
  {
   "cell_type": "code",
   "execution_count": 75,
   "id": "9b01024a-080a-40ba-9bb8-0e62c4aff2af",
   "metadata": {},
   "outputs": [
    {
     "data": {
      "text/plain": [
       "[3, 4, 5, 6, 7, 8]"
      ]
     },
     "execution_count": 75,
     "metadata": {},
     "output_type": "execute_result"
    }
   ],
   "source": [
    "l3"
   ]
  },
  {
   "cell_type": "code",
   "execution_count": 80,
   "id": "87b540e4-8ab1-482e-8ad6-49522c482bb9",
   "metadata": {},
   "outputs": [],
   "source": [
    "l3.reverse()\n"
   ]
  },
  {
   "cell_type": "code",
   "execution_count": 81,
   "id": "42415181-c2f9-4a1a-9afe-a8a03a5b95ce",
   "metadata": {},
   "outputs": [
    {
     "data": {
      "text/plain": [
       "[8, 7, 6, 5, 4, 3]"
      ]
     },
     "execution_count": 81,
     "metadata": {},
     "output_type": "execute_result"
    }
   ],
   "source": [
    "l3"
   ]
  },
  {
   "cell_type": "code",
   "execution_count": 91,
   "id": "28b2b597-413b-441f-aad2-688dea87a975",
   "metadata": {},
   "outputs": [
    {
     "name": "stdin",
     "output_type": "stream",
     "text": [
      "Enter here :-  hello123\n"
     ]
    },
    {
     "name": "stdout",
     "output_type": "stream",
     "text": [
      "['1', '2', '3', 'e', 'h', 'l', 'l', 'o']\n",
      "['o', 'l', 'l', 'h', 'e', '3', '2', '1']\n"
     ]
    }
   ],
   "source": [
    "###program to arrange all letters in a statemnt in alphabetical letter\n",
    "a = input('Enter here :- ').lower().strip()\n",
    "ot = []\n",
    "for el in a :\n",
    "    ot.append(el)\n",
    "ot.sort()\n",
    "print(ot)\n",
    "ot.sort(reverse = True)\n",
    "print(ot)\n",
    "    \n",
    "\n"
   ]
  },
  {
   "cell_type": "code",
   "execution_count": 84,
   "id": "44751c31-e0fb-4d82-aba8-b47fced4c6f0",
   "metadata": {},
   "outputs": [
    {
     "data": {
      "text/plain": [
       "['hello', 'I', 'am', 'naveen', 'gupta']"
      ]
     },
     "execution_count": 84,
     "metadata": {},
     "output_type": "execute_result"
    }
   ],
   "source": []
  },
  {
   "cell_type": "code",
   "execution_count": 94,
   "id": "9e482924-5da6-46d6-9d66-770c5321163d",
   "metadata": {},
   "outputs": [],
   "source": [
    "l5 = [1,2,3,5]\n",
    "l5.insert(4,3)"
   ]
  },
  {
   "cell_type": "code",
   "execution_count": 95,
   "id": "22d53cb1-b8ea-46c7-93ff-2fe60b1ac272",
   "metadata": {},
   "outputs": [
    {
     "data": {
      "text/plain": [
       "[1, 2, 3, 5, 3]"
      ]
     },
     "execution_count": 95,
     "metadata": {},
     "output_type": "execute_result"
    }
   ],
   "source": [
    "l5"
   ]
  },
  {
   "cell_type": "code",
   "execution_count": 96,
   "id": "952d8f53-c05d-4b6f-bd43-126d4888e689",
   "metadata": {},
   "outputs": [
    {
     "data": {
      "text/plain": [
       "[1, 2, 3, 5, 3]"
      ]
     },
     "execution_count": 96,
     "metadata": {},
     "output_type": "execute_result"
    }
   ],
   "source": [
    "l6 =l5\n",
    "l6"
   ]
  },
  {
   "cell_type": "code",
   "execution_count": 97,
   "id": "a8f2d564-c125-43c6-9a3d-21d7fb69c1a0",
   "metadata": {},
   "outputs": [
    {
     "data": {
      "text/plain": [
       "3"
      ]
     },
     "execution_count": 97,
     "metadata": {},
     "output_type": "execute_result"
    }
   ],
   "source": [
    "l5.pop()"
   ]
  },
  {
   "cell_type": "code",
   "execution_count": 98,
   "id": "73748d04-a413-43a1-a342-d41afb941285",
   "metadata": {},
   "outputs": [
    {
     "data": {
      "text/plain": [
       "[1, 2, 3, 5]"
      ]
     },
     "execution_count": 98,
     "metadata": {},
     "output_type": "execute_result"
    }
   ],
   "source": [
    "l6"
   ]
  },
  {
   "cell_type": "code",
   "execution_count": 103,
   "id": "3f598e69-831e-48be-9ec9-e13b71380518",
   "metadata": {},
   "outputs": [],
   "source": [
    "l7 = l6[:]"
   ]
  },
  {
   "cell_type": "code",
   "execution_count": 104,
   "id": "5ce3fdcd-bfb8-40a6-ae23-bc5973f59442",
   "metadata": {},
   "outputs": [
    {
     "data": {
      "text/plain": [
       "[1, 2, 3, 5]"
      ]
     },
     "execution_count": 104,
     "metadata": {},
     "output_type": "execute_result"
    }
   ],
   "source": [
    "l7"
   ]
  },
  {
   "cell_type": "code",
   "execution_count": 105,
   "id": "c339cb4a-cba2-4d45-b692-5519e8a88a19",
   "metadata": {},
   "outputs": [
    {
     "data": {
      "text/plain": [
       "5"
      ]
     },
     "execution_count": 105,
     "metadata": {},
     "output_type": "execute_result"
    }
   ],
   "source": []
  },
  {
   "cell_type": "code",
   "execution_count": 109,
   "id": "a17e8f46-7dce-4c5a-9a31-1ee5bf2c1979",
   "metadata": {},
   "outputs": [],
   "source": [
    "l8 = l7.copy()"
   ]
  },
  {
   "cell_type": "code",
   "execution_count": 111,
   "id": "397dec48-05eb-4985-9ebe-55ec8185dd09",
   "metadata": {},
   "outputs": [
    {
     "name": "stdout",
     "output_type": "stream",
     "text": [
      "[1, 2, 3, 5]\n",
      "[1, 2, 3]\n"
     ]
    },
    {
     "data": {
      "text/plain": [
       "[1, 2, 3, 5]"
      ]
     },
     "execution_count": 111,
     "metadata": {},
     "output_type": "execute_result"
    }
   ],
   "source": [
    "print(l8)\n",
    "l7.pop()\n",
    "print(l7)\n",
    "l8"
   ]
  },
  {
   "cell_type": "code",
   "execution_count": 112,
   "id": "58141dd6-f263-4ae7-9696-6f7123c4b6c7",
   "metadata": {},
   "outputs": [],
   "source": [
    "l8.clear()"
   ]
  },
  {
   "cell_type": "code",
   "execution_count": 113,
   "id": "8a78d6d4-732b-42f3-9461-b1c0ec4470de",
   "metadata": {},
   "outputs": [
    {
     "data": {
      "text/plain": [
       "[]"
      ]
     },
     "execution_count": 113,
     "metadata": {},
     "output_type": "execute_result"
    }
   ],
   "source": [
    "l8"
   ]
  },
  {
   "cell_type": "code",
   "execution_count": 115,
   "id": "e071fc17-25e5-476c-a933-5d6b7aa48fc3",
   "metadata": {},
   "outputs": [],
   "source": [
    "del l8"
   ]
  },
  {
   "cell_type": "code",
   "execution_count": 116,
   "id": "557a9056-96e6-45d5-934a-d9101a743d8a",
   "metadata": {},
   "outputs": [
    {
     "ename": "NameError",
     "evalue": "name 'l8' is not defined",
     "output_type": "error",
     "traceback": [
      "\u001b[0;31m---------------------------------------------------------------------------\u001b[0m",
      "\u001b[0;31mNameError\u001b[0m                                 Traceback (most recent call last)",
      "Cell \u001b[0;32mIn[116], line 1\u001b[0m\n\u001b[0;32m----> 1\u001b[0m \u001b[43ml8\u001b[49m\n",
      "\u001b[0;31mNameError\u001b[0m: name 'l8' is not defined"
     ]
    }
   ],
   "source": [
    "l8"
   ]
  },
  {
   "cell_type": "code",
   "execution_count": 118,
   "id": "1e5db1cc-9f06-4169-a25c-baad0a1a043a",
   "metadata": {},
   "outputs": [
    {
     "name": "stdout",
     "output_type": "stream",
     "text": [
      "[0, 1, 2, 3, 4, 5, 6, 7, 8, 9]\n"
     ]
    }
   ],
   "source": [
    "l8 = [item for item in range(10)]\n",
    "print(l8)"
   ]
  },
  {
   "cell_type": "code",
   "execution_count": 137,
   "id": "e0139d5f-7115-4f0a-bd9f-55da3988b5c4",
   "metadata": {},
   "outputs": [],
   "source": [
    "s = 'the naveen gupta'\n",
    "l = s.split()\n",
    "\n",
    "l2 = [(elem+'1') for elem in l]"
   ]
  },
  {
   "cell_type": "code",
   "execution_count": 138,
   "id": "7aa89548-95ca-4444-a38b-59e365159cdc",
   "metadata": {},
   "outputs": [
    {
     "data": {
      "text/plain": [
       "['the1', 'naveen1', 'gupta1']"
      ]
     },
     "execution_count": 138,
     "metadata": {},
     "output_type": "execute_result"
    }
   ],
   "source": [
    "l2"
   ]
  },
  {
   "cell_type": "code",
   "execution_count": 3,
   "id": "decacd24-cd75-4adc-9978-eefb667b8cb4",
   "metadata": {},
   "outputs": [
    {
     "data": {
      "text/plain": [
       "(1, 2, 3, 4, 5, 6, 7, 8, 9, 10, 9, 8, 7)"
      ]
     },
     "execution_count": 3,
     "metadata": {},
     "output_type": "execute_result"
    }
   ],
   "source": [
    "t = (1,2,3,4,5,6,7,8,9,10,9,8,7)\n",
    "t"
   ]
  },
  {
   "cell_type": "code",
   "execution_count": 4,
   "id": "3b58800c-4d23-4eb7-adcc-83d4344d622b",
   "metadata": {},
   "outputs": [
    {
     "data": {
      "text/plain": [
       "2"
      ]
     },
     "execution_count": 4,
     "metadata": {},
     "output_type": "execute_result"
    }
   ],
   "source": [
    "t.count(8)"
   ]
  },
  {
   "cell_type": "code",
   "execution_count": 5,
   "id": "0b167ebf-90ed-4e64-a18b-dedfa257a43c",
   "metadata": {},
   "outputs": [
    {
     "data": {
      "text/plain": [
       "7"
      ]
     },
     "execution_count": 5,
     "metadata": {},
     "output_type": "execute_result"
    }
   ],
   "source": [
    "t.index(8)"
   ]
  },
  {
   "cell_type": "code",
   "execution_count": 6,
   "id": "457600b7-86b8-42aa-90c0-8b18a431b6e5",
   "metadata": {},
   "outputs": [
    {
     "data": {
      "text/plain": [
       "13"
      ]
     },
     "execution_count": 6,
     "metadata": {},
     "output_type": "execute_result"
    }
   ],
   "source": [
    "len(t)"
   ]
  },
  {
   "cell_type": "code",
   "execution_count": 9,
   "id": "3e54c1ec-c88b-4aaf-968c-bc73e4b5f778",
   "metadata": {},
   "outputs": [],
   "source": [
    "l6 = [1,3,4,6,9,8]\n",
    "l6.sort()"
   ]
  },
  {
   "cell_type": "code",
   "execution_count": 12,
   "id": "38427add-f918-493e-8103-a91be2a4973d",
   "metadata": {},
   "outputs": [
    {
     "data": {
      "text/plain": [
       "[1, 2, 3, 4, 5, 6, 7, 7, 8, 8, 9, 9, 10]"
      ]
     },
     "execution_count": 12,
     "metadata": {},
     "output_type": "execute_result"
    }
   ],
   "source": [
    "sorted(t)"
   ]
  },
  {
   "cell_type": "code",
   "execution_count": 13,
   "id": "510370be-0326-44d9-8279-c957d1561652",
   "metadata": {},
   "outputs": [
    {
     "data": {
      "text/plain": [
       "(1, 2, 3, 4, 5, 6, 7, 8, 9, 10, 9, 8, 7)"
      ]
     },
     "execution_count": 13,
     "metadata": {},
     "output_type": "execute_result"
    }
   ],
   "source": [
    "t"
   ]
  },
  {
   "cell_type": "code",
   "execution_count": 15,
   "id": "9225a3d2-e0b7-4eed-91eb-1ec19d940919",
   "metadata": {},
   "outputs": [
    {
     "data": {
      "text/plain": [
       "[10, 9, 9, 8, 8, 7, 7, 6, 5, 4, 3, 2, 1]"
      ]
     },
     "execution_count": 15,
     "metadata": {},
     "output_type": "execute_result"
    }
   ],
   "source": [
    "sorted(t,reverse=True)"
   ]
  },
  {
   "cell_type": "code",
   "execution_count": 16,
   "id": "b4531394-ccea-4869-8a82-5cbbf8d1c6ff",
   "metadata": {},
   "outputs": [
    {
     "data": {
      "text/plain": [
       "1"
      ]
     },
     "execution_count": 16,
     "metadata": {},
     "output_type": "execute_result"
    }
   ],
   "source": [
    "min(t)"
   ]
  },
  {
   "cell_type": "code",
   "execution_count": 18,
   "id": "92d99995-9992-48b0-bedd-6a405bfcf896",
   "metadata": {},
   "outputs": [],
   "source": [
    "a = max(t)"
   ]
  },
  {
   "cell_type": "code",
   "execution_count": 20,
   "id": "f2adf126-26f0-410c-ae57-b21fe3c96e99",
   "metadata": {},
   "outputs": [
    {
     "data": {
      "text/plain": [
       "int"
      ]
     },
     "execution_count": 20,
     "metadata": {},
     "output_type": "execute_result"
    }
   ],
   "source": [
    "type(a)"
   ]
  },
  {
   "cell_type": "code",
   "execution_count": 23,
   "id": "45afc782-0fe5-401b-83ea-e75f212c6d35",
   "metadata": {},
   "outputs": [],
   "source": [
    "t = [i for i in range(10)]"
   ]
  },
  {
   "cell_type": "code",
   "execution_count": 24,
   "id": "bdd35467-3552-4b22-8128-30f5ca845eb8",
   "metadata": {},
   "outputs": [
    {
     "data": {
      "text/plain": [
       "[0, 1, 2, 3, 4, 5, 6, 7, 8, 9]"
      ]
     },
     "execution_count": 24,
     "metadata": {},
     "output_type": "execute_result"
    }
   ],
   "source": [
    "t"
   ]
  },
  {
   "cell_type": "code",
   "execution_count": 25,
   "id": "de9afaf6-893e-4a43-b562-802e89be1281",
   "metadata": {},
   "outputs": [],
   "source": [
    "e = tuple(t)"
   ]
  },
  {
   "cell_type": "code",
   "execution_count": 26,
   "id": "dd6d2f1d-c9fc-4100-9f51-29e3ef02a593",
   "metadata": {},
   "outputs": [
    {
     "data": {
      "text/plain": [
       "(0, 1, 2, 3, 4, 5, 6, 7, 8, 9)"
      ]
     },
     "execution_count": 26,
     "metadata": {},
     "output_type": "execute_result"
    }
   ],
   "source": [
    "e"
   ]
  },
  {
   "cell_type": "code",
   "execution_count": 27,
   "id": "6efda4f4-5ea4-47a5-a5dc-75d221947e8d",
   "metadata": {},
   "outputs": [
    {
     "data": {
      "text/plain": [
       "[0, 1, 2, 3, 4, 5, 6, 7, 8, 9]"
      ]
     },
     "execution_count": 27,
     "metadata": {},
     "output_type": "execute_result"
    }
   ],
   "source": [
    "t"
   ]
  },
  {
   "cell_type": "code",
   "execution_count": 28,
   "id": "7f20d1fa-c46c-4dda-a2b6-93c87ddacfb7",
   "metadata": {},
   "outputs": [],
   "source": [
    "t = (1,2,3,4) #Packing\n"
   ]
  },
  {
   "cell_type": "code",
   "execution_count": 31,
   "id": "83ad90f6-1e17-4677-8eab-be092f5ca20c",
   "metadata": {},
   "outputs": [],
   "source": [
    "a,b,c,d = t #Unpacking"
   ]
  },
  {
   "cell_type": "code",
   "execution_count": 32,
   "id": "ab9c929c-e311-4603-932c-f7106b52c83a",
   "metadata": {},
   "outputs": [
    {
     "data": {
      "text/plain": [
       "1"
      ]
     },
     "execution_count": 32,
     "metadata": {},
     "output_type": "execute_result"
    }
   ],
   "source": [
    "a"
   ]
  },
  {
   "cell_type": "code",
   "execution_count": 33,
   "id": "1333e367-53c4-40b6-a5d1-20fb109c1795",
   "metadata": {},
   "outputs": [
    {
     "data": {
      "text/plain": [
       "2"
      ]
     },
     "execution_count": 33,
     "metadata": {},
     "output_type": "execute_result"
    }
   ],
   "source": [
    "b"
   ]
  },
  {
   "cell_type": "code",
   "execution_count": 34,
   "id": "afdec763-7625-4e37-9f57-e8b30971071a",
   "metadata": {},
   "outputs": [
    {
     "data": {
      "text/plain": [
       "3"
      ]
     },
     "execution_count": 34,
     "metadata": {},
     "output_type": "execute_result"
    }
   ],
   "source": [
    "c"
   ]
  },
  {
   "cell_type": "code",
   "execution_count": 35,
   "id": "8dd53c89-b7a3-4a15-b524-578f391522b1",
   "metadata": {},
   "outputs": [
    {
     "data": {
      "text/plain": [
       "4"
      ]
     },
     "execution_count": 35,
     "metadata": {},
     "output_type": "execute_result"
    }
   ],
   "source": [
    "d"
   ]
  },
  {
   "cell_type": "code",
   "execution_count": 36,
   "id": "9d58df94-35ba-41ff-9865-c407473b6ae1",
   "metadata": {},
   "outputs": [
    {
     "data": {
      "text/plain": [
       "(1, 2, 3, 4)"
      ]
     },
     "execution_count": 36,
     "metadata": {},
     "output_type": "execute_result"
    }
   ],
   "source": [
    "t"
   ]
  },
  {
   "cell_type": "code",
   "execution_count": 37,
   "id": "688c53c1-9e51-4313-8bf1-8afe8d72d407",
   "metadata": {},
   "outputs": [],
   "source": [
    "s = {1,2,3,3,4,5,6,4,5,6,78}"
   ]
  },
  {
   "cell_type": "code",
   "execution_count": 38,
   "id": "ffb7f17e-4ce5-4505-85e5-117044cbbac4",
   "metadata": {},
   "outputs": [
    {
     "data": {
      "text/plain": [
       "{1, 2, 3, 4, 5, 6, 78}"
      ]
     },
     "execution_count": 38,
     "metadata": {},
     "output_type": "execute_result"
    }
   ],
   "source": [
    "s"
   ]
  },
  {
   "cell_type": "code",
   "execution_count": 41,
   "id": "56ecc512-8852-46a9-a85d-e116d7193c4a",
   "metadata": {},
   "outputs": [],
   "source": [
    "s.add(99)"
   ]
  },
  {
   "cell_type": "code",
   "execution_count": 42,
   "id": "7b479f4a-43d5-45ea-a751-dc9055beac6c",
   "metadata": {},
   "outputs": [
    {
     "data": {
      "text/plain": [
       "{1, 2, 3, 4, 5, 6, 78, 99}"
      ]
     },
     "execution_count": 42,
     "metadata": {},
     "output_type": "execute_result"
    }
   ],
   "source": [
    "s"
   ]
  },
  {
   "cell_type": "code",
   "execution_count": 46,
   "id": "12c86fb4-481b-4ce2-ac0b-19f35fda7384",
   "metadata": {},
   "outputs": [],
   "source": [
    "s.update([9,10,11])"
   ]
  },
  {
   "cell_type": "code",
   "execution_count": 47,
   "id": "9db004fd-e5e1-47fe-816d-c60ac1602d10",
   "metadata": {},
   "outputs": [
    {
     "data": {
      "text/plain": [
       "{1, 2, 3, 4, 5, 6, 9, 10, 11, 78, 99}"
      ]
     },
     "execution_count": 47,
     "metadata": {},
     "output_type": "execute_result"
    }
   ],
   "source": [
    "s"
   ]
  },
  {
   "cell_type": "code",
   "execution_count": 48,
   "id": "c8f88cc3-ee11-48b4-bfb1-0a19ceb543a5",
   "metadata": {},
   "outputs": [],
   "source": [
    "s.discard(2)"
   ]
  },
  {
   "cell_type": "code",
   "execution_count": 49,
   "id": "4848e668-6ac4-4709-a02f-3fb70f08d58d",
   "metadata": {},
   "outputs": [
    {
     "data": {
      "text/plain": [
       "{1, 3, 4, 5, 6, 9, 10, 11, 78, 99}"
      ]
     },
     "execution_count": 49,
     "metadata": {},
     "output_type": "execute_result"
    }
   ],
   "source": [
    "s"
   ]
  },
  {
   "cell_type": "code",
   "execution_count": 53,
   "id": "595a9a2d-d11d-4460-b830-6b240ad6d615",
   "metadata": {},
   "outputs": [],
   "source": [
    "a = {1,2,3,4,12,13,4,5,6}"
   ]
  },
  {
   "cell_type": "code",
   "execution_count": 54,
   "id": "bbd49e54-632e-41b7-9133-7612570cb1e9",
   "metadata": {},
   "outputs": [
    {
     "data": {
      "text/plain": [
       "{1, 2, 3, 4, 5, 6, 9, 10, 11, 12, 13, 78, 99}"
      ]
     },
     "execution_count": 54,
     "metadata": {},
     "output_type": "execute_result"
    }
   ],
   "source": [
    "s.union(a)"
   ]
  },
  {
   "cell_type": "code",
   "execution_count": 61,
   "id": "3e711fcd-f387-4cce-b00c-c0cac0270ec1",
   "metadata": {},
   "outputs": [
    {
     "data": {
      "text/plain": [
       "{1, 2, 3, 4, 5, 6, 9, 10, 11, 12, 13, 78, 99}"
      ]
     },
     "execution_count": 61,
     "metadata": {},
     "output_type": "execute_result"
    }
   ],
   "source": [
    "a|s"
   ]
  },
  {
   "cell_type": "code",
   "execution_count": 63,
   "id": "d3f61709-e7e1-40cf-9868-92fadd6b816e",
   "metadata": {},
   "outputs": [
    {
     "data": {
      "text/plain": [
       "{1, 3, 4, 5, 6}"
      ]
     },
     "execution_count": 63,
     "metadata": {},
     "output_type": "execute_result"
    }
   ],
   "source": [
    "a&s"
   ]
  },
  {
   "cell_type": "code",
   "execution_count": 65,
   "id": "1c8f8d17-0fae-47f6-92bb-1dc0626b6f5c",
   "metadata": {},
   "outputs": [
    {
     "name": "stdout",
     "output_type": "stream",
     "text": [
      "{1, 2, 3, 4, 5, 6, 12, 13}\n",
      "{1, 3, 4, 5, 6, 9, 10, 11, 78, 99}\n"
     ]
    }
   ],
   "source": [
    "print(a)\n",
    "print(s)"
   ]
  },
  {
   "cell_type": "code",
   "execution_count": 69,
   "id": "30d455e7-99ef-4627-bc1a-c7253b400d2d",
   "metadata": {},
   "outputs": [
    {
     "data": {
      "text/plain": [
       "{9, 10, 11, 78, 99}"
      ]
     },
     "execution_count": 69,
     "metadata": {},
     "output_type": "execute_result"
    }
   ],
   "source": [
    "s-a"
   ]
  },
  {
   "cell_type": "code",
   "execution_count": 71,
   "id": "daa0d55a-0a1a-432b-9473-c5c19dff7fa5",
   "metadata": {},
   "outputs": [
    {
     "data": {
      "text/plain": [
       "{2, 9, 10, 11, 12, 13, 78, 99}"
      ]
     },
     "execution_count": 71,
     "metadata": {},
     "output_type": "execute_result"
    }
   ],
   "source": [
    "a^s"
   ]
  },
  {
   "cell_type": "code",
   "execution_count": 72,
   "id": "0587ca88-641a-4937-885d-da9f98fbfd0d",
   "metadata": {},
   "outputs": [],
   "source": [
    "b = {elem for elem in range(10)}"
   ]
  },
  {
   "cell_type": "code",
   "execution_count": 73,
   "id": "0b215d92-ca7c-494b-99b8-9f336dacdbed",
   "metadata": {},
   "outputs": [
    {
     "data": {
      "text/plain": [
       "{0, 1, 2, 3, 4, 5, 6, 7, 8, 9}"
      ]
     },
     "execution_count": 73,
     "metadata": {},
     "output_type": "execute_result"
    }
   ],
   "source": [
    "b"
   ]
  },
  {
   "cell_type": "code",
   "execution_count": 79,
   "id": "dd66bb12-7bdc-4b4c-9e55-145392a02bd7",
   "metadata": {},
   "outputs": [],
   "source": [
    "d = {'a':'apple','b':'ball','c':'cat'}"
   ]
  },
  {
   "cell_type": "code",
   "execution_count": 76,
   "id": "2472dde6-cd07-49b5-899a-dbcdb3b73ea5",
   "metadata": {},
   "outputs": [
    {
     "data": {
      "text/plain": [
       "{'a': 'apple', 'b': 'ball', 'c': 'cat'}"
      ]
     },
     "execution_count": 76,
     "metadata": {},
     "output_type": "execute_result"
    }
   ],
   "source": [
    "d"
   ]
  },
  {
   "cell_type": "code",
   "execution_count": 80,
   "id": "dfd34f68-1592-4d15-8ad8-455cac85b7ae",
   "metadata": {},
   "outputs": [
    {
     "data": {
      "text/plain": [
       "'cat'"
      ]
     },
     "execution_count": 80,
     "metadata": {},
     "output_type": "execute_result"
    }
   ],
   "source": [
    "d['c']"
   ]
  },
  {
   "cell_type": "code",
   "execution_count": 81,
   "id": "e0e61ac2-88bf-4dbc-85cf-390f59d69186",
   "metadata": {},
   "outputs": [],
   "source": [
    "a = 1,2,3,4,5,6\n",
    "b = 10,9,8,7,6,5"
   ]
  },
  {
   "cell_type": "code",
   "execution_count": 98,
   "id": "a50184b3-ec36-4504-9514-cdf53126f524",
   "metadata": {},
   "outputs": [],
   "source": [
    "d = dict(zip(a,b))"
   ]
  },
  {
   "cell_type": "code",
   "execution_count": 83,
   "id": "676c5b13-a374-4896-8871-fd597591c577",
   "metadata": {},
   "outputs": [
    {
     "data": {
      "text/plain": [
       "10"
      ]
     },
     "execution_count": 83,
     "metadata": {},
     "output_type": "execute_result"
    }
   ],
   "source": [
    "d[1]"
   ]
  },
  {
   "cell_type": "code",
   "execution_count": 84,
   "id": "31486ae6-f19c-4c38-925f-722e27ba4a5f",
   "metadata": {},
   "outputs": [
    {
     "data": {
      "text/plain": [
       "{1: 10, 2: 9, 3: 8, 4: 7, 5: 6, 6: 5}"
      ]
     },
     "execution_count": 84,
     "metadata": {},
     "output_type": "execute_result"
    }
   ],
   "source": [
    "d"
   ]
  },
  {
   "cell_type": "code",
   "execution_count": 85,
   "id": "915ef1b6-c2e2-42ee-86c5-8f48070a9b33",
   "metadata": {},
   "outputs": [],
   "source": [
    "d[4]=100"
   ]
  },
  {
   "cell_type": "code",
   "execution_count": 86,
   "id": "c4519762-116e-4554-8bdb-709a0974da9a",
   "metadata": {},
   "outputs": [
    {
     "data": {
      "text/plain": [
       "{1: 10, 2: 9, 3: 8, 4: 100, 5: 6, 6: 5}"
      ]
     },
     "execution_count": 86,
     "metadata": {},
     "output_type": "execute_result"
    }
   ],
   "source": [
    "d"
   ]
  },
  {
   "cell_type": "code",
   "execution_count": 87,
   "id": "397e7807-5095-4168-8c49-8eb7c4179336",
   "metadata": {},
   "outputs": [],
   "source": [
    "d[7]=99"
   ]
  },
  {
   "cell_type": "code",
   "execution_count": 88,
   "id": "a9ad4d37-048b-40c7-aaa2-d623abafbf93",
   "metadata": {},
   "outputs": [
    {
     "data": {
      "text/plain": [
       "{1: 10, 2: 9, 3: 8, 4: 100, 5: 6, 6: 5, 7: 99}"
      ]
     },
     "execution_count": 88,
     "metadata": {},
     "output_type": "execute_result"
    }
   ],
   "source": [
    "d"
   ]
  },
  {
   "cell_type": "code",
   "execution_count": 89,
   "id": "0af89ecc-449c-4fe9-ad5a-ddb3e61ee8ba",
   "metadata": {},
   "outputs": [],
   "source": [
    "del d[4]"
   ]
  },
  {
   "cell_type": "code",
   "execution_count": 90,
   "id": "44e48314-81a2-4957-8996-55576cadd075",
   "metadata": {},
   "outputs": [
    {
     "data": {
      "text/plain": [
       "{1: 10, 2: 9, 3: 8, 5: 6, 6: 5, 7: 99}"
      ]
     },
     "execution_count": 90,
     "metadata": {},
     "output_type": "execute_result"
    }
   ],
   "source": [
    "d"
   ]
  },
  {
   "cell_type": "code",
   "execution_count": 91,
   "id": "78ca5373-b0ad-45bd-8596-d5ff5a24e8ea",
   "metadata": {},
   "outputs": [
    {
     "data": {
      "text/plain": [
       "6"
      ]
     },
     "execution_count": 91,
     "metadata": {},
     "output_type": "execute_result"
    }
   ],
   "source": [
    "len(d)"
   ]
  },
  {
   "cell_type": "code",
   "execution_count": 96,
   "id": "efc120d9-d1df-4cc3-b842-5ecceaba5e7d",
   "metadata": {},
   "outputs": [],
   "source": [
    "d.clear()"
   ]
  },
  {
   "cell_type": "code",
   "execution_count": 97,
   "id": "113ffb8f-8023-49ec-88ea-d9a248213b39",
   "metadata": {},
   "outputs": [
    {
     "data": {
      "text/plain": [
       "{}"
      ]
     },
     "execution_count": 97,
     "metadata": {},
     "output_type": "execute_result"
    }
   ],
   "source": []
  },
  {
   "cell_type": "code",
   "execution_count": 99,
   "id": "9dfd1325-2fa8-458b-8e97-339c06bc4a0f",
   "metadata": {},
   "outputs": [
    {
     "data": {
      "text/plain": [
       "8"
      ]
     },
     "execution_count": 99,
     "metadata": {},
     "output_type": "execute_result"
    }
   ],
   "source": [
    "d.get(3)"
   ]
  },
  {
   "cell_type": "code",
   "execution_count": 100,
   "id": "3393715e-4b68-4f99-a831-38108dffde2c",
   "metadata": {},
   "outputs": [
    {
     "data": {
      "text/plain": [
       "'hello'"
      ]
     },
     "execution_count": 100,
     "metadata": {},
     "output_type": "execute_result"
    }
   ],
   "source": [
    "d.get(10,'hello')"
   ]
  },
  {
   "cell_type": "code",
   "execution_count": 101,
   "id": "21e57963-1d55-4278-840c-40b396a6e9af",
   "metadata": {},
   "outputs": [
    {
     "data": {
      "text/plain": [
       "{1: 10, 2: 9, 3: 8, 4: 7, 5: 6, 6: 5}"
      ]
     },
     "execution_count": 101,
     "metadata": {},
     "output_type": "execute_result"
    }
   ],
   "source": [
    "d"
   ]
  },
  {
   "cell_type": "code",
   "execution_count": 102,
   "id": "2cb698aa-6985-4c11-a3e9-2f76b4fa4803",
   "metadata": {},
   "outputs": [
    {
     "data": {
      "text/plain": [
       "10"
      ]
     },
     "execution_count": 102,
     "metadata": {},
     "output_type": "execute_result"
    }
   ],
   "source": [
    "d.pop(1)"
   ]
  },
  {
   "cell_type": "code",
   "execution_count": 103,
   "id": "0173f5ef-c89b-4b1b-b581-410afa6e6f78",
   "metadata": {},
   "outputs": [
    {
     "data": {
      "text/plain": [
       "{2: 9, 3: 8, 4: 7, 5: 6, 6: 5}"
      ]
     },
     "execution_count": 103,
     "metadata": {},
     "output_type": "execute_result"
    }
   ],
   "source": [
    "d"
   ]
  },
  {
   "cell_type": "code",
   "execution_count": 105,
   "id": "7af43379-a557-4efb-a28c-c4333fbf85e3",
   "metadata": {},
   "outputs": [
    {
     "data": {
      "text/plain": [
       "(6, 5)"
      ]
     },
     "execution_count": 105,
     "metadata": {},
     "output_type": "execute_result"
    }
   ],
   "source": [
    "d.popitem()"
   ]
  },
  {
   "cell_type": "code",
   "execution_count": 106,
   "id": "d1521a80-469b-4a89-b9a5-a6c888d987bd",
   "metadata": {},
   "outputs": [
    {
     "data": {
      "text/plain": [
       "{2: 9, 3: 8, 4: 7, 5: 6}"
      ]
     },
     "execution_count": 106,
     "metadata": {},
     "output_type": "execute_result"
    }
   ],
   "source": [
    "d"
   ]
  },
  {
   "cell_type": "code",
   "execution_count": 107,
   "id": "098024f4-9d62-41b6-abc2-672eaf44727f",
   "metadata": {},
   "outputs": [
    {
     "data": {
      "text/plain": [
       "dict_keys([2, 3, 4, 5])"
      ]
     },
     "execution_count": 107,
     "metadata": {},
     "output_type": "execute_result"
    }
   ],
   "source": [
    "d.keys()"
   ]
  },
  {
   "cell_type": "code",
   "execution_count": 108,
   "id": "70e88c69-7ff8-4ccb-9bb9-ba57a5dcaac0",
   "metadata": {},
   "outputs": [
    {
     "data": {
      "text/plain": [
       "dict_values([9, 8, 7, 6])"
      ]
     },
     "execution_count": 108,
     "metadata": {},
     "output_type": "execute_result"
    }
   ],
   "source": [
    "d.values()"
   ]
  },
  {
   "cell_type": "code",
   "execution_count": 109,
   "id": "7c80c280-ec95-46c6-a3cb-9a81a870df4e",
   "metadata": {},
   "outputs": [
    {
     "data": {
      "text/plain": [
       "dict_items([(2, 9), (3, 8), (4, 7), (5, 6)])"
      ]
     },
     "execution_count": 109,
     "metadata": {},
     "output_type": "execute_result"
    }
   ],
   "source": [
    "d.items()"
   ]
  },
  {
   "cell_type": "code",
   "execution_count": 112,
   "id": "160cdaad-af12-4288-b5cf-7c4628cad6aa",
   "metadata": {},
   "outputs": [
    {
     "data": {
      "text/plain": [
       "5"
      ]
     },
     "execution_count": 112,
     "metadata": {},
     "output_type": "execute_result"
    }
   ],
   "source": [
    "d.setdefault(6,5)"
   ]
  },
  {
   "cell_type": "code",
   "execution_count": 113,
   "id": "7002eeff-cfa6-4748-8a7a-352a5678dcd8",
   "metadata": {},
   "outputs": [
    {
     "data": {
      "text/plain": [
       "{2: 9, 3: 8, 4: 7, 5: 6, 6: 5}"
      ]
     },
     "execution_count": 113,
     "metadata": {},
     "output_type": "execute_result"
    }
   ],
   "source": [
    "d"
   ]
  },
  {
   "cell_type": "code",
   "execution_count": 114,
   "id": "378c19e1-68d4-409d-af33-9f8c9579a063",
   "metadata": {},
   "outputs": [],
   "source": [
    "d1 = {1:2,99:100}"
   ]
  },
  {
   "cell_type": "code",
   "execution_count": 115,
   "id": "c0010a1b-4768-4b31-b805-0369b9bfe7b8",
   "metadata": {},
   "outputs": [],
   "source": [
    "d.update(d1)"
   ]
  },
  {
   "cell_type": "code",
   "execution_count": 116,
   "id": "e49e4d5f-cfa1-44a0-98c7-71eb4bd89d9e",
   "metadata": {},
   "outputs": [
    {
     "data": {
      "text/plain": [
       "{2: 9, 3: 8, 4: 7, 5: 6, 6: 5, 1: 2, 99: 100}"
      ]
     },
     "execution_count": 116,
     "metadata": {},
     "output_type": "execute_result"
    }
   ],
   "source": [
    "d"
   ]
  },
  {
   "cell_type": "code",
   "execution_count": 117,
   "id": "4abd761e-8cb8-4d31-8c91-d889fd26805a",
   "metadata": {},
   "outputs": [
    {
     "data": {
      "text/plain": [
       "{1: 2, 99: 100}"
      ]
     },
     "execution_count": 117,
     "metadata": {},
     "output_type": "execute_result"
    }
   ],
   "source": [
    "d1"
   ]
  },
  {
   "cell_type": "code",
   "execution_count": null,
   "id": "5d70a5cc-2721-4ce7-8455-1be824223388",
   "metadata": {},
   "outputs": [],
   "source": []
  }
 ],
 "metadata": {
  "kernelspec": {
   "display_name": "Python 3 (ipykernel)",
   "language": "python",
   "name": "python3"
  },
  "language_info": {
   "codemirror_mode": {
    "name": "ipython",
    "version": 3
   },
   "file_extension": ".py",
   "mimetype": "text/x-python",
   "name": "python",
   "nbconvert_exporter": "python",
   "pygments_lexer": "ipython3",
   "version": "3.10.8"
  }
 },
 "nbformat": 4,
 "nbformat_minor": 5
}
