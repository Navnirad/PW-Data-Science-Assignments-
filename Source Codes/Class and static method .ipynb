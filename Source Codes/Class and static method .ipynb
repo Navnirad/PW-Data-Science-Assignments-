{
 "cells": [
  {
   "cell_type": "code",
   "execution_count": 13,
   "id": "1535d712-65d7-4366-9cbf-c139ae837dbd",
   "metadata": {},
   "outputs": [],
   "source": [
    "### Class method "
   ]
  },
  {
   "cell_type": "code",
   "execution_count": 20,
   "id": "5c5b20a4-b50a-4e30-a61c-64b7693e2544",
   "metadata": {},
   "outputs": [],
   "source": [
    "class pwskills1:\n",
    "    def __init__(self,name,email): \n",
    "        self.name = name\n",
    "        self.email = email\n",
    "    @classmethod    ##creating a class method \n",
    "    def details(cls,name,email):\n",
    "        return cls(name,email)\n",
    "    def student_details(self):\n",
    "        print(self.name,self.email)\n",
    "\n",
    "pw = pwskills1.details('Naveen','naveengupta1773@gmail.com')  "
   ]
  },
  {
   "cell_type": "code",
   "execution_count": 17,
   "id": "053ea69d-c8d2-4d9f-b93b-68220d8b4511",
   "metadata": {},
   "outputs": [
    {
     "data": {
      "text/plain": [
       "'Naveen'"
      ]
     },
     "execution_count": 17,
     "metadata": {},
     "output_type": "execute_result"
    }
   ],
   "source": [
    "pw.name"
   ]
  },
  {
   "cell_type": "code",
   "execution_count": 18,
   "id": "bef43165-fac1-4468-80f3-58a677638ad4",
   "metadata": {},
   "outputs": [
    {
     "data": {
      "text/plain": [
       "'naveengupta1773@gmail.com'"
      ]
     },
     "execution_count": 18,
     "metadata": {},
     "output_type": "execute_result"
    }
   ],
   "source": [
    "pw.email"
   ]
  },
  {
   "cell_type": "code",
   "execution_count": 19,
   "id": "5cb003b9-d691-40e5-afca-8c6a8dd28f1a",
   "metadata": {},
   "outputs": [
    {
     "name": "stdout",
     "output_type": "stream",
     "text": [
      "Naveen naveengupta1773@gmail.com\n"
     ]
    }
   ],
   "source": [
    "pw.student_details()"
   ]
  },
  {
   "cell_type": "code",
   "execution_count": 1,
   "id": "616815b5-8d35-4339-9171-3ba973cefcb9",
   "metadata": {},
   "outputs": [],
   "source": [
    "class pwskills3:\n",
    "    mobile_num = 9682379500  #### creating a class variable\n",
    "    def __init__(self,name,email):\n",
    "        self.name = name\n",
    "        self.email = email\n",
    "    @classmethod     #### Creating a class method\n",
    "    def change_number(cls,mobile):\n",
    "        pwskills3.mobile_num = mobile\n",
    "    @classmethod\n",
    "    def details(cls,name,email):\n",
    "        return cls(name,email)\n",
    "    def student_details(self):   #### A instance method \n",
    "        print(self.name,self.email,pwskills3.mobile_num)"
   ]
  },
  {
   "cell_type": "code",
   "execution_count": 2,
   "id": "9374154b-732c-4dfc-a74f-4b0d293025bf",
   "metadata": {},
   "outputs": [],
   "source": [
    "def course_details(cls,course_name):    ## creating a external function \n",
    "    print('course name is',course_name)"
   ]
  },
  {
   "cell_type": "code",
   "execution_count": 3,
   "id": "e19a3619-25f2-4a38-ba3c-2c640de45d51",
   "metadata": {},
   "outputs": [],
   "source": [
    "pwskills3.course_details = classmethod(course_details)  ### adding a exteclass pwskills3:"
   ]
  },
  {
   "cell_type": "code",
   "execution_count": 4,
   "id": "aacf06cf-758b-4820-aa2f-e6d97281998e",
   "metadata": {},
   "outputs": [
    {
     "name": "stdout",
     "output_type": "stream",
     "text": [
      "course name is DSM\n"
     ]
    }
   ],
   "source": [
    "pwskills3.course_details('DSM')"
   ]
  },
  {
   "cell_type": "code",
   "execution_count": 6,
   "id": "41f9a99a-2ae6-46d2-8d73-8083a434704f",
   "metadata": {},
   "outputs": [],
   "source": [
    "del pwskills3.change_number  ### del keyword to delete a method of a class\n",
    "\n",
    "delattr(pwskills3,'details')  ### delattr function to delete a method of a class\n",
    "\n",
    "delattr(pwskills3,'student_details')   ### delattr function to delete a variable  of a class"
   ]
  },
  {
   "cell_type": "code",
   "execution_count": 1,
   "id": "789fdadd-5ec9-4cc6-a61c-2f029fbf1ce8",
   "metadata": {},
   "outputs": [],
   "source": [
    "### Static method"
   ]
  },
  {
   "cell_type": "code",
   "execution_count": 4,
   "id": "f5c64be0-62a7-48d7-9a73-cd21ecdea741",
   "metadata": {},
   "outputs": [],
   "source": [
    "class pwskills1:    \n",
    "    def student_details(self,name,mail_id,number):\n",
    "        print(name,mail_id,number)\n",
    "    @staticmethod            ## Creating a static method\n",
    "    def mentor_class(list_mentor):\n",
    "        print(list_mentor)\n",
    "    def mentor(self,mentor_list):\n",
    "        print(mentor_list)"
   ]
  },
  {
   "cell_type": "code",
   "execution_count": 6,
   "id": "a59082e8-a939-4596-a2c7-25a2f8857a52",
   "metadata": {},
   "outputs": [
    {
     "name": "stdout",
     "output_type": "stream",
     "text": [
      "['sudhanshu kumar', 'krish naik']\n"
     ]
    }
   ],
   "source": [
    "pwskills1.mentor_class(['sudhanshu kumar','krish naik'])   ## calling a static method "
   ]
  },
  {
   "cell_type": "code",
   "execution_count": 10,
   "id": "b015d2b7-2dfa-4e16-af51-32945205ed02",
   "metadata": {},
   "outputs": [],
   "source": [
    "class pwskills2:\n",
    "    def student_details(self,name,mail_id,number):\n",
    "        print(name,mail_id,number)\n",
    "    @staticmethod  ## Creating a Static Method \n",
    "    def mentor_mail_id(mail_id):\n",
    "        print(mail_id)\n",
    "    @staticmethod   \n",
    "    def mentor_class(list_mentor):\n",
    "        print(list_mentor)\n",
    "        pwskills2.mentor_mail_id(['sudh@gmail.com','krish@gmail.com'])  ### Calling a static method inside a static method\n",
    "    @classmethod \n",
    "    def class_name(cls):\n",
    "        cls.mentor_class(['sudhanshu kumar','krish naik'])  ### Calling a static method inside a class method\n",
    "    def mentor(self,mentor_list):\n",
    "        self.mentor_class(['sudhanshu kumar','krish naik']) ### Calling a static method inside a instance method \n",
    "        print(mentor_list)"
   ]
  },
  {
   "cell_type": "code",
   "execution_count": 11,
   "id": "5cde7642-525a-4d70-a27c-87de97645800",
   "metadata": {},
   "outputs": [
    {
     "name": "stdout",
     "output_type": "stream",
     "text": [
      "['sudhanshu kumar', 'krish naik']\n",
      "['sudh@gmail.com', 'krish@gmail.com']\n",
      "\n",
      "['sudhanshu kumar', 'krish naik']\n",
      "['sudh@gmail.com', 'krish@gmail.com']\n",
      "\n",
      "['sudhanshu kumar', 'krish naik']\n",
      "['sudh@gmail.com', 'krish@gmail.com']\n",
      "['sudhanshu kumar', 'krish naik']\n"
     ]
    }
   ],
   "source": [
    "pwskills2.class_name() ### caling the classmethod for execution\n",
    "print()\n",
    "pwskills2.mentor_class(['sudhanshu kumar','krish naik'])         ## calling static method for execution \n",
    "print()\n",
    "pw2 = pwskills2() ## creating an object for the instance method\n",
    "\n",
    "pw2.mentor(['sudhanshu kumar','krish naik'])  ## calling the instance method"
   ]
  }
 ],
 "metadata": {
  "kernelspec": {
   "display_name": "Python 3 (ipykernel)",
   "language": "python",
   "name": "python3"
  },
  "language_info": {
   "codemirror_mode": {
    "name": "ipython",
    "version": 3
   },
   "file_extension": ".py",
   "mimetype": "text/x-python",
   "name": "python",
   "nbconvert_exporter": "python",
   "pygments_lexer": "ipython3",
   "version": "3.10.8"
  }
 },
 "nbformat": 4,
 "nbformat_minor": 5
}
