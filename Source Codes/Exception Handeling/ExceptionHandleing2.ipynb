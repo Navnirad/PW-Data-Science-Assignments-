{
 "cells": [
  {
   "cell_type": "code",
   "execution_count": null,
   "id": "55c75ae4-e26a-4fa6-be83-695117555fd8",
   "metadata": {},
   "outputs": [],
   "source": [
    "#### Topic :- Exception Handeling 2\n",
    "### Author :- Naveen Gupta\n",
    "\n",
    "## Subtopics :- \n",
    "            # --> specific exceptions\n",
    "            # --> best practices for exception handeling\n",
    " "
   ]
  },
  {
   "cell_type": "code",
   "execution_count": 1,
   "id": "79a229ab-15ac-4802-a18b-7314546fd566",
   "metadata": {},
   "outputs": [],
   "source": [
    "import logging\n",
    "logging.basicConfig(filename='expthandel3.log',level=logging.DEBUG,format ='%(asctime)s %(name)s %(levelname)s %(message)s' )"
   ]
  },
  {
   "cell_type": "code",
   "execution_count": 2,
   "id": "ba162a3e-9293-4dea-802a-38e11c11d9a0",
   "metadata": {},
   "outputs": [],
   "source": [
    "try:\n",
    "    a = 10/0\n",
    "except ZeroDivisionError as e:\n",
    "    logging.error(e)"
   ]
  },
  {
   "cell_type": "code",
   "execution_count": 4,
   "id": "93f789cf-bf23-4a03-92cf-97c98234eac6",
   "metadata": {},
   "outputs": [],
   "source": [
    "try:\n",
    "    int('sudh')\n",
    "except (ValueError , TypeError) as e:\n",
    "    logging.error(e)"
   ]
  },
  {
   "cell_type": "code",
   "execution_count": 6,
   "id": "7708338d-d9a1-4357-b37f-b1b2a8a54388",
   "metadata": {},
   "outputs": [
    {
     "name": "stdout",
     "output_type": "stream",
     "text": [
      "above statemnt will handle the exception\n"
     ]
    }
   ],
   "source": [
    "try:\n",
    "    int('sudh')\n",
    "except:\n",
    "    print('above statemnt will handle the exception')"
   ]
  },
  {
   "cell_type": "code",
   "execution_count": 8,
   "id": "61809129-58f1-4c20-b1b4-e3fe2a2b45af",
   "metadata": {},
   "outputs": [],
   "source": [
    "try:\n",
    "    import sudh\n",
    "except ImportError as e :\n",
    "    logging.error(e)"
   ]
  },
  {
   "cell_type": "code",
   "execution_count": 11,
   "id": "e2b94620-51df-44f2-b536-2c2916c8740b",
   "metadata": {},
   "outputs": [],
   "source": [
    "try:\n",
    "    d = {'key':'sudh',1:[1,2,3,4,5]}\n",
    "    print(d['key2'])\n",
    "except KeyError as e:\n",
    "          logging.error(e)"
   ]
  },
  {
   "cell_type": "code",
   "execution_count": 12,
   "id": "253a7459-49db-48ec-9216-eceebe10f894",
   "metadata": {},
   "outputs": [],
   "source": [
    "try:\n",
    "    'sudh'.test()\n",
    "except AttributeError as e:\n",
    "    logging.error(e)"
   ]
  },
  {
   "cell_type": "code",
   "execution_count": 13,
   "id": "24cf9a71-fa04-4099-9b14-dd213609690e",
   "metadata": {},
   "outputs": [],
   "source": [
    "try:\n",
    "    l = [2,3,4,5]\n",
    "    print(l[6])\n",
    "except IndexError as e:\n",
    "    logging.error(e)"
   ]
  },
  {
   "cell_type": "code",
   "execution_count": 14,
   "id": "204dd674-c150-4c09-9af4-49b318654e32",
   "metadata": {},
   "outputs": [],
   "source": [
    "try:\n",
    "    123 + 'nav'\n",
    "except TypeError as e:\n",
    "    logging.error(e)"
   ]
  },
  {
   "cell_type": "code",
   "execution_count": 16,
   "id": "cfb498c4-a006-44f5-b440-5ac162f4b809",
   "metadata": {},
   "outputs": [],
   "source": [
    "try:\n",
    "    with open('hello.txt','r') as f:\n",
    "        data = f.read()\n",
    "except FileNotFoundError as e:\n",
    "    logging.error(e)"
   ]
  },
  {
   "cell_type": "code",
   "execution_count": 27,
   "id": "0a7e701b-0395-4e09-93cf-b693d9474b7e",
   "metadata": {},
   "outputs": [],
   "source": [
    "### Best Pactices in Exception Handeling:-\n",
    "\n",
    "# 1) always use a specific exception\n",
    "\n",
    "# 2) print always a proper message\n",
    "\n",
    "# 3) always try to log your error\n",
    "\n",
    "# 4) always avoid to write a multiple exceptin handeling\n",
    "\n",
    "# 5) Document all the error\n",
    "\n",
    "# 6) Cleanup all the Resources\n",
    "try:\n",
    "    with open('hello.txt','w') as f:\n",
    "        data = f.write('This is my data to file')\n",
    "except FileNotFoundError as e:\n",
    "    logging.error(e)\n",
    "finally: ## cleaning of resources\n",
    "    f.close()"
   ]
  },
  {
   "cell_type": "code",
   "execution_count": null,
   "id": "933410c6-badb-4650-84da-8e3a7ac5a17f",
   "metadata": {},
   "outputs": [],
   "source": []
  }
 ],
 "metadata": {
  "kernelspec": {
   "display_name": "Python 3 (ipykernel)",
   "language": "python",
   "name": "python3"
  },
  "language_info": {
   "codemirror_mode": {
    "name": "ipython",
    "version": 3
   },
   "file_extension": ".py",
   "mimetype": "text/x-python",
   "name": "python",
   "nbconvert_exporter": "python",
   "pygments_lexer": "ipython3",
   "version": "3.9.13"
  }
 },
 "nbformat": 4,
 "nbformat_minor": 5
}
