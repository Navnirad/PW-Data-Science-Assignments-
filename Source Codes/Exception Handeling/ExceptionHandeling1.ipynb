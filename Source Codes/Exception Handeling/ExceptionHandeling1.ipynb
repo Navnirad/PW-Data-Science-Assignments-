{
 "cells": [
  {
   "cell_type": "code",
   "execution_count": 1,
   "id": "1aa3410e",
   "metadata": {},
   "outputs": [],
   "source": [
    "#### Topic - Exception Handeling 1\n",
    "### Author - Naveen Gupta\n",
    "\n",
    "## Subtopics :- \n",
    "#            ---> try , except , else , finally Blocks"
   ]
  },
  {
   "cell_type": "code",
   "execution_count": 2,
   "id": "70726141",
   "metadata": {},
   "outputs": [],
   "source": [
    "import logging\n",
    "logging.basicConfig(filename = 'expthandel1.log',level = logging.DEBUG , format = '%(asctime)s %(name)s %(levelname)s  %(message)s')"
   ]
  },
  {
   "cell_type": "code",
   "execution_count": 3,
   "id": "ecfc9a34",
   "metadata": {},
   "outputs": [
    {
     "data": {
      "text/plain": [
       "9"
      ]
     },
     "execution_count": 3,
     "metadata": {},
     "output_type": "execute_result"
    }
   ],
   "source": [
    "try:\n",
    "    f = open('test.txt','r')\n",
    "except Exception as e :\n",
    "    logging.error(e)\n",
    "a = 4+5\n",
    "a"
   ]
  },
  {
   "cell_type": "code",
   "execution_count": 4,
   "id": "b22b4656",
   "metadata": {},
   "outputs": [
    {
     "data": {
      "text/plain": [
       "9"
      ]
     },
     "execution_count": 4,
     "metadata": {},
     "output_type": "execute_result"
    }
   ],
   "source": [
    "try:\n",
    "    f = open('test.txt','w')\n",
    "    f.write('Hello , I am Naveen')\n",
    "    f.close()\n",
    "except Exception as e :\n",
    "    logging.error(e)\n",
    "a = 4+5\n",
    "a"
   ]
  },
  {
   "cell_type": "code",
   "execution_count": 7,
   "id": "1ae978a5",
   "metadata": {},
   "outputs": [],
   "source": [
    "try:\n",
    "    f = open('test.txt','w')\n",
    "    f.write('Hello , I am Naveen')\n",
    "    f.close()\n",
    "except Exception as e :\n",
    "    logging.error(e)\n",
    "else:\n",
    "    logging.info('executed succesfully')"
   ]
  },
  {
   "cell_type": "code",
   "execution_count": 8,
   "id": "62c3e3fc",
   "metadata": {},
   "outputs": [],
   "source": [
    "try:\n",
    "    f = open('test1.txt','r')\n",
    "    f.write('Hello , I am Naveen')\n",
    "    f.close()\n",
    "except Exception as e :\n",
    "    logging.error(e)\n",
    "else:\n",
    "    logging.info('executed succesfully')"
   ]
  },
  {
   "cell_type": "code",
   "execution_count": 9,
   "id": "3f61d0d4",
   "metadata": {},
   "outputs": [],
   "source": [
    "try:\n",
    "    f = open('test2.txt','w')\n",
    "    f.write('writing message')\n",
    "finally :\n",
    "    logging.info('executed')"
   ]
  },
  {
   "cell_type": "code",
   "execution_count": null,
   "id": "67c8b4cd",
   "metadata": {},
   "outputs": [],
   "source": [
    "try:\n",
    "    f = open('test3.txt','w')\n",
    "    f.write('writing message')\n",
    "finally :\n",
    "    logging.info('executed')"
   ]
  },
  {
   "cell_type": "code",
   "execution_count": 12,
   "id": "d1a35a15",
   "metadata": {},
   "outputs": [],
   "source": [
    "try:\n",
    "    f = open('test4.txt','r')\n",
    "    f.write('writing message')\n",
    "except Exception as e:\n",
    "    logging.error(e)\n",
    "finally :\n",
    "    logging.info('executed')"
   ]
  },
  {
   "cell_type": "code",
   "execution_count": 13,
   "id": "19876807",
   "metadata": {},
   "outputs": [
    {
     "name": "stdout",
     "output_type": "stream",
     "text": [
      "enter your age-3456\n"
     ]
    }
   ],
   "source": [
    "#handeling the situation when age entered is negative \n",
    "age = int(input('enter your age'))"
   ]
  },
  {
   "cell_type": "code",
   "execution_count": 24,
   "id": "42d094bd",
   "metadata": {},
   "outputs": [],
   "source": [
    "class validateage(Exception):\n",
    "    \n",
    "    def __init__(self,msg):\n",
    "        self.msg = msg"
   ]
  },
  {
   "cell_type": "code",
   "execution_count": 28,
   "id": "df05461c",
   "metadata": {},
   "outputs": [],
   "source": [
    "def validage(age):\n",
    "    if age < 0 :\n",
    "        raise validateage('Entered age is negative')\n",
    "    elif age > 200:\n",
    "        raise validateage('entered age is very very high')\n",
    "    else:\n",
    "        print('age is valid')"
   ]
  },
  {
   "cell_type": "code",
   "execution_count": 29,
   "id": "c5ca2fce",
   "metadata": {},
   "outputs": [
    {
     "name": "stdout",
     "output_type": "stream",
     "text": [
      "enter your age245\n",
      "entered age is very very high\n"
     ]
    }
   ],
   "source": [
    "try:\n",
    "    age = int(input('enter your age'))\n",
    "    validage(age)\n",
    "except validateage as e: \n",
    "    print(e)\n"
   ]
  },
  {
   "cell_type": "code",
   "execution_count": null,
   "id": "246c12fd",
   "metadata": {},
   "outputs": [],
   "source": []
  }
 ],
 "metadata": {
  "kernelspec": {
   "display_name": "Python 3 (ipykernel)",
   "language": "python",
   "name": "python3"
  },
  "language_info": {
   "codemirror_mode": {
    "name": "ipython",
    "version": 3
   },
   "file_extension": ".py",
   "mimetype": "text/x-python",
   "name": "python",
   "nbconvert_exporter": "python",
   "pygments_lexer": "ipython3",
   "version": "3.9.13"
  }
 },
 "nbformat": 4,
 "nbformat_minor": 5
}
