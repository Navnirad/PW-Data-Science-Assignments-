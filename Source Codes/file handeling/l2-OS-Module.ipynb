{
 "cells": [
  {
   "cell_type": "code",
   "execution_count": null,
   "id": "74dd0420-bee2-4700-8ebc-c01ad535d00c",
   "metadata": {},
   "outputs": [],
   "source": [
    "### Topic :- File Handeling 2 - OS Module \n",
    "\"\"\"\n",
    "   ------->  OS Module :-   \n",
    "                                  os.getcwd() - to get the location of current working directory \n",
    "                                  os.chdir() - To change the current working directory(CWD) \n",
    "                                  \n",
    "              ---> Creating a Directory :- \n",
    "                                  os.mkdir() - is used to create a directory named path with the specified numeric mode.\n",
    "                                           This method raises FileExistsError if the directory to be created already exists.\n",
    "                                           \n",
    "                                  os.makedirs() - os.makedirs() method in Python is used to create a directory recursively. \n",
    "                                                That means while making leaf directory if any intermediate-level directory is missing, \n",
    "                                                os.makedirs() method will create them all.\n",
    "                                                \n",
    "                                  os.listdir() -  used to get the list of all files and directories in the specified directory.\n",
    "                                                If we don’t specify any directory, then the list of files and directories in the \n",
    "                                                current working directory will be returned.\n",
    "                                                \n",
    "                                  os.remove() - is used to remove or delete a file path\n",
    "                                  os.rmdir() - used to remove or delete an empty directory.\n",
    "                                  os.rename() - to rename a file\n",
    "                                  os.path.getsize() - to get the size of file in parameter in bytes\n",
    "                                  os.path.exists(): This method will check whether a file exists or not by passing the name of the file as a parameter. \n",
    "                                  os.popen(): This method opens a pipe to or from command. The return value can be read or written depending on\n",
    "                                              whether the mode is ‘r’ or ‘w’. \n",
    "                                  os.close(): to close a file opened using os.popen()\n",
    "\"\"\""
   ]
  },
  {
   "cell_type": "code",
   "execution_count": 2,
   "id": "f1752987-4e01-4c30-85ae-3a73674e8a2a",
   "metadata": {},
   "outputs": [],
   "source": [
    "import os # Importing os Module "
   ]
  },
  {
   "cell_type": "code",
   "execution_count": 3,
   "id": "bfcf1576-a404-47a2-9d84-e7dd1d8205b2",
   "metadata": {},
   "outputs": [
    {
     "data": {
      "text/plain": [
       "'C:\\\\Users\\\\desktop\\\\Desktop\\\\Nav Official\\\\Programming\\\\work\\\\Data Science Masters'"
      ]
     },
     "execution_count": 3,
     "metadata": {},
     "output_type": "execute_result"
    }
   ],
   "source": [
    "os.getcwd() ## Getting he current working directory"
   ]
  },
  {
   "cell_type": "code",
   "execution_count": 4,
   "id": "6c7738bc-973f-4f17-8dd0-d392b1f2260a",
   "metadata": {},
   "outputs": [],
   "source": [
    "os.chdir('../') ## taking a step back for changing directory "
   ]
  },
  {
   "cell_type": "code",
   "execution_count": 5,
   "id": "fc0f46b0-c30a-4b7b-b594-fd8f898fc286",
   "metadata": {},
   "outputs": [
    {
     "data": {
      "text/plain": [
       "'C:\\\\Users\\\\desktop\\\\Desktop\\\\Nav Official\\\\Programming\\\\work'"
      ]
     },
     "execution_count": 5,
     "metadata": {},
     "output_type": "execute_result"
    }
   ],
   "source": [
    "os.getcwd()  ##"
   ]
  },
  {
   "cell_type": "code",
   "execution_count": 10,
   "id": "c9da900b-5f7c-474d-b386-08cb44e89c8e",
   "metadata": {},
   "outputs": [],
   "source": [
    "os.chdir('C:\\\\Users\\\\desktop\\\\Desktop\\\\Nav Official\\\\Programming\\\\work\\\\Data Science Masters') ## changing directory again to the initial one"
   ]
  },
  {
   "cell_type": "code",
   "execution_count": 11,
   "id": "10127e0d-eef3-4fc0-80f0-4e851ec746b9",
   "metadata": {},
   "outputs": [
    {
     "data": {
      "text/plain": [
       "'C:\\\\Users\\\\desktop\\\\Desktop\\\\Nav Official\\\\Programming\\\\work\\\\Data Science Masters'"
      ]
     },
     "execution_count": 11,
     "metadata": {},
     "output_type": "execute_result"
    }
   ],
   "source": [
    "os.getcwd()  ##"
   ]
  },
  {
   "cell_type": "code",
   "execution_count": 12,
   "id": "4286efe0-fc10-4112-b5f7-40f56e0b2596",
   "metadata": {},
   "outputs": [],
   "source": [
    "os.mkdir('C:\\\\Users\\\\desktop\\\\Desktop\\\\Nav Official\\\\Programming\\\\work\\\\Data Science Masters\\\\files')"
   ]
  },
  {
   "cell_type": "code",
   "execution_count": 14,
   "id": "86ebd241-2d04-4a24-ae94-b938eca1e947",
   "metadata": {},
   "outputs": [],
   "source": [
    "os.makedirs('C:\\\\Users\\\\desktop\\\\Desktop\\\\Nav Official\\\\Programming\\\\tut\\\\work\\\\Data Science Masters\\\\files\\\\example\\\\tutorial')"
   ]
  },
  {
   "cell_type": "code",
   "execution_count": 16,
   "id": "ca2577f5-97aa-400e-99f2-f104d3d76a5c",
   "metadata": {},
   "outputs": [
    {
     "data": {
      "text/plain": [
       "['.ipynb_checkpoints',\n",
       " 'copy.txt',\n",
       " 'files',\n",
       " 'L1-File-Handeling.ipynb',\n",
       " 'l2-OS-Module.ipynb',\n",
       " 'new.txt']"
      ]
     },
     "execution_count": 16,
     "metadata": {},
     "output_type": "execute_result"
    }
   ],
   "source": [
    "os.listdir()  ## getting list of files and directories in the current directories"
   ]
  },
  {
   "cell_type": "code",
   "execution_count": 18,
   "id": "705224cf-8e90-4662-8e64-396dd532426a",
   "metadata": {},
   "outputs": [],
   "source": [
    "with open('sample.txt','w') as s:   ## Creating a file\n",
    "    pass"
   ]
  },
  {
   "cell_type": "code",
   "execution_count": 19,
   "id": "07d12b50-6214-405c-80cf-1e5d2386f30c",
   "metadata": {},
   "outputs": [],
   "source": [
    "os.remove('sample.txt')   ## removing that file"
   ]
  },
  {
   "cell_type": "code",
   "execution_count": 20,
   "id": "b049b32f-89f4-4db4-843b-c430220d2c1f",
   "metadata": {},
   "outputs": [],
   "source": [
    "os.rmdir('files')"
   ]
  },
  {
   "cell_type": "code",
   "execution_count": 21,
   "id": "ec9eb5d1-1eed-4d9b-b8cb-77ae46f21729",
   "metadata": {},
   "outputs": [],
   "source": [
    "with open('sample.txt','w') as s:\n",
    "    pass"
   ]
  },
  {
   "cell_type": "code",
   "execution_count": 22,
   "id": "df889617-db2e-42f9-b624-6fbcebc78550",
   "metadata": {},
   "outputs": [],
   "source": [
    "os.rename('sample.txt','test.txt')"
   ]
  },
  {
   "cell_type": "code",
   "execution_count": 24,
   "id": "ad249641-c588-4243-8b76-ef52c910996d",
   "metadata": {},
   "outputs": [
    {
     "data": {
      "text/plain": [
       "907"
      ]
     },
     "execution_count": 24,
     "metadata": {},
     "output_type": "execute_result"
    }
   ],
   "source": [
    "os.path.getsize('new.txt')"
   ]
  },
  {
   "cell_type": "code",
   "execution_count": 25,
   "id": "306b3855-7c9c-4fe5-a87f-5a682d7c80b0",
   "metadata": {},
   "outputs": [
    {
     "data": {
      "text/plain": [
       "True"
      ]
     },
     "execution_count": 25,
     "metadata": {},
     "output_type": "execute_result"
    }
   ],
   "source": [
    "os.path.exists('test.txt')"
   ]
  },
  {
   "cell_type": "code",
   "execution_count": 26,
   "id": "3d3373e5-cf2a-48b7-b0cb-2f01849db171",
   "metadata": {},
   "outputs": [
    {
     "data": {
      "text/plain": [
       "False"
      ]
     },
     "execution_count": 26,
     "metadata": {},
     "output_type": "execute_result"
    }
   ],
   "source": [
    "os.path.exists('hello.txt')"
   ]
  },
  {
   "cell_type": "code",
   "execution_count": null,
   "id": "97521d6e-5038-47d0-b794-5112620e3056",
   "metadata": {},
   "outputs": [],
   "source": []
  }
 ],
 "metadata": {
  "kernelspec": {
   "display_name": "Python 3 (ipykernel)",
   "language": "python",
   "name": "python3"
  },
  "language_info": {
   "codemirror_mode": {
    "name": "ipython",
    "version": 3
   },
   "file_extension": ".py",
   "mimetype": "text/x-python",
   "name": "python",
   "nbconvert_exporter": "python",
   "pygments_lexer": "ipython3",
   "version": "3.9.13"
  }
 },
 "nbformat": 4,
 "nbformat_minor": 5
}
