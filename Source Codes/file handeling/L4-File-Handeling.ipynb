{
 "cells": [
  {
   "cell_type": "code",
   "execution_count": null,
   "id": "74c06639",
   "metadata": {},
   "outputs": [],
   "source": [
    "### File Hnadeling - 4\n",
    "## Author - Naveen Gupta\n",
    "\"\"\" \n",
    "     subtopics :-  \n",
    "             -->  Json File\n",
    "             --> Csv File \n",
    "             --> Buffer Read & Write\n",
    "             --> Logging & Debugger\n",
    "             \n",
    "\"\"\""
   ]
  },
  {
   "cell_type": "code",
   "execution_count": null,
   "id": "5a0ec5c3",
   "metadata": {},
   "outputs": [],
   "source": [
    "import json"
   ]
  },
  {
   "cell_type": "code",
   "execution_count": null,
   "id": "2d3661fe",
   "metadata": {},
   "outputs": [],
   "source": [
    "data= {\n",
    "    \"name\" : \"sudh\",\n",
    "    \"mail_id\" : \"sudh@gmail.com\",\n",
    "    \"phone number\" : 956456546,\n",
    "    \"subject\" : [\"data science \" , \"big data \" , \"data analytics\" ]\n",
    "}"
   ]
  },
  {
   "cell_type": "code",
   "execution_count": null,
   "id": "beaa6d20",
   "metadata": {},
   "outputs": [],
   "source": [
    "with open('test.json','w') as f: #json.dumps() method can convert a Python object into a JSON string. or we can say that it dumps data into json format\n",
    "    json.dump(data,f)\n",
    "    "
   ]
  },
  {
   "cell_type": "code",
   "execution_count": null,
   "id": "b169ffce",
   "metadata": {},
   "outputs": [],
   "source": [
    "with open('test.json','r') as f: #json.load() method can read a file which contains a JSON object. by conerting it to dict in python\n",
    "    data1 = json.load(f)"
   ]
  },
  {
   "cell_type": "code",
   "execution_count": null,
   "id": "9bbd2bbb",
   "metadata": {},
   "outputs": [],
   "source": [
    "data1['subject'][2]"
   ]
  },
  {
   "cell_type": "code",
   "execution_count": null,
   "id": "74a68e0c",
   "metadata": {},
   "outputs": [],
   "source": [
    "data1"
   ]
  },
  {
   "cell_type": "code",
   "execution_count": null,
   "id": "6a167d5c",
   "metadata": {},
   "outputs": [],
   "source": [
    "### son.dumps() method is used to encodes any Python object into JSON formatted String while json.dump() writes the file\n",
    "\"\"\"\n",
    "### json.load() takes a file object and returns the json object. It is used to read JSON encoded data from a file and convert \n",
    "    it into a Python dictionary and deserialize a file itself i.e. it accepts a file object.\n",
    "\n",
    "### json.loads() method can be used to parse a valid JSON string and convert it into a Python Dictionary.\n",
    "\"\"\""
   ]
  },
  {
   "cell_type": "code",
   "execution_count": null,
   "id": "32e045d5",
   "metadata": {},
   "outputs": [],
   "source": [
    "import csv "
   ]
  },
  {
   "cell_type": "code",
   "execution_count": null,
   "id": "c21838c9",
   "metadata": {},
   "outputs": [],
   "source": [
    "data = [[\"name\" , \"email_id\" , \"phone_number\"],[\"sudh\" ,\"sudh@gmail.com\" , 92342424],[\"krish\" , \"krish@gmail.com\" , 9324242]]"
   ]
  },
  {
   "cell_type": "code",
   "execution_count": null,
   "id": "91b2248c",
   "metadata": {},
   "outputs": [],
   "source": [
    "with open('test.csv','w') as c:\n",
    "    write = csv.writer(c)    ### writer class for writing in csv file \n",
    "    for i in data:\n",
    "        write.writerow(i)    ### writerow method of writing class of csv file , it writes one row"
   ]
  },
  {
   "cell_type": "code",
   "execution_count": null,
   "id": "d63e7df9-46ea-4ffa-a8c7-fb361a232e9c",
   "metadata": {},
   "outputs": [],
   "source": [
    "with open('csv2.csv','w') as c:\n",
    "    write =  csv.writer(c)\n",
    "    write.writerows(data)   ### writerwos method , unlike writerow method can write multiple rows "
   ]
  },
  {
   "cell_type": "code",
   "execution_count": null,
   "id": "79a2fb0a",
   "metadata": {},
   "outputs": [],
   "source": [
    "with open('test.csv','r') as c:\n",
    "    read = csv.reader(c)   ### Reader method is used to read data from csv file \n",
    "    for i in read:\n",
    "        print(i)"
   ]
  },
  {
   "cell_type": "code",
   "execution_count": null,
   "id": "6d8c0716-ba8d-4105-86a4-04015ea60a30",
   "metadata": {},
   "outputs": [],
   "source": [
    "mydict =[ {'name': 'sudh', 'email_id': 'sudh@gmail.com', 'phone_number': '92342424'},\n",
    "{'name': 'krish', 'email_id': 'krish@gmail.com', 'phone_number': '9324242'}]\n",
    "f = ['name', 'email_id', 'phone_number'] \n",
    "filename = 'csv2.csv'\n",
    "with open(filename, 'w') as c: \n",
    "    # creating a csv dict writer object \n",
    "    writer = csv.DictWriter(c, fieldnames = f) \n",
    "   # writing headers (field names) \n",
    "    writer.writeheader()      \n",
    "    # writing data rows \n",
    "    writer.writerows(mydict) "
   ]
  },
  {
   "cell_type": "code",
   "execution_count": null,
   "id": "5e5ddc50",
   "metadata": {},
   "outputs": [],
   "source": [
    "with open('test.csv','r') as c:\n",
    "    read = csv.DictReader(c)  ### DictReader method is used to read csv data in dictionary form\n",
    "    for a in read:\n",
    "        print(a)"
   ]
  },
  {
   "cell_type": "code",
   "execution_count": null,
   "id": "8ef1298f-2476-4e06-a2c0-5adf1dcdb254",
   "metadata": {},
   "outputs": [],
   "source": [
    "import io"
   ]
  },
  {
   "cell_type": "code",
   "execution_count": null,
   "id": "85482e04-8229-43f4-a3f2-cb8e7a56f880",
   "metadata": {},
   "outputs": [],
   "source": [
    "with open('f1.txt','wb') as f:\n",
    "    file = io.BufferedWriter(f)\n",
    "    file.write(b\"this is my first line\\n\")\n",
    "    file.write(b\"this is my second line\\n\")\n",
    "    file.flush()"
   ]
  },
  {
   "cell_type": "code",
   "execution_count": null,
   "id": "f6d4154c-1213-4e57-ac08-1b565ed7e579",
   "metadata": {},
   "outputs": [],
   "source": [
    "with open('f1.txt','rb') as f:\n",
    "    file = io.BufferedReader(f)\n",
    "    data = file.read(100)\n",
    "    print(data)"
   ]
  },
  {
   "cell_type": "code",
   "execution_count": null,
   "id": "d318204e-07cc-4ad9-88e5-300774870a3a",
   "metadata": {},
   "outputs": [],
   "source": [
    "###### - Logging and Debugging\n",
    "import logging "
   ]
  },
  {
   "cell_type": "code",
   "execution_count": null,
   "id": "c0660e39",
   "metadata": {},
   "outputs": [],
   "source": [
    "logging.basicConfig(filename = 'test1.log',level = logging.INFO)"
   ]
  },
  {
   "cell_type": "code",
   "execution_count": null,
   "id": "c70fd198",
   "metadata": {},
   "outputs": [],
   "source": [
    "## Levels :-\n",
    "1. NOTSET\n",
    "2. DEBUG\n",
    "3. INFO\n",
    "4. WARNING\n",
    "5. ERROR\n",
    "6. CRITICAL \n",
    "# the value enetred as a argument will alow itself and all values below it in the list to be executed "
   ]
  },
  {
   "cell_type": "code",
   "execution_count": null,
   "id": "43c0e3b6",
   "metadata": {},
   "outputs": [],
   "source": [
    "logging.info('Log this line of execution ')"
   ]
  },
  {
   "cell_type": "code",
   "execution_count": null,
   "id": "08477643",
   "metadata": {},
   "outputs": [],
   "source": [
    "logging.info('This is my print')"
   ]
  },
  {
   "cell_type": "code",
   "execution_count": null,
   "id": "9f61f8d6",
   "metadata": {},
   "outputs": [],
   "source": [
    "logging.debug('Hello i am naveen') ## This will not be logged"
   ]
  },
  {
   "cell_type": "code",
   "execution_count": null,
   "id": "569aca42",
   "metadata": {},
   "outputs": [],
   "source": [
    "logging.warning('This is warning msg')"
   ]
  },
  {
   "cell_type": "code",
   "execution_count": null,
   "id": "ae7bf54f",
   "metadata": {},
   "outputs": [],
   "source": [
    "logging.error('This is my Error')"
   ]
  },
  {
   "cell_type": "code",
   "execution_count": null,
   "id": "a2621037",
   "metadata": {},
   "outputs": [],
   "source": [
    "logging.critical('This is my Critical')"
   ]
  },
  {
   "cell_type": "code",
   "execution_count": null,
   "id": "43277231",
   "metadata": {},
   "outputs": [],
   "source": [
    "logging.shutdown()"
   ]
  },
  {
   "cell_type": "code",
   "execution_count": 16,
   "id": "5c2cacbf",
   "metadata": {},
   "outputs": [],
   "source": []
  },
  {
   "cell_type": "code",
   "execution_count": 17,
   "id": "c14c67b6-0086-4540-9fc3-82c93e607e87",
   "metadata": {},
   "outputs": [],
   "source": [
    "logging.error('This is writing in second file')"
   ]
  },
  {
   "cell_type": "code",
   "execution_count": null,
   "id": "03de2f7c-e0b5-485a-ad8c-cb0ec74fec61",
   "metadata": {},
   "outputs": [],
   "source": []
  },
  {
   "cell_type": "code",
   "execution_count": null,
   "id": "69b2b507",
   "metadata": {},
   "outputs": [],
   "source": []
  },
  {
   "cell_type": "code",
   "execution_count": null,
   "id": "ca1c6693",
   "metadata": {},
   "outputs": [],
   "source": []
  },
  {
   "cell_type": "code",
   "execution_count": null,
   "id": "a75dc024",
   "metadata": {},
   "outputs": [],
   "source": []
  },
  {
   "cell_type": "code",
   "execution_count": null,
   "id": "e486f064",
   "metadata": {},
   "outputs": [],
   "source": []
  },
  {
   "cell_type": "code",
   "execution_count": null,
   "id": "9c9e167b",
   "metadata": {},
   "outputs": [],
   "source": []
  }
 ],
 "metadata": {
  "kernelspec": {
   "display_name": "Python 3 (ipykernel)",
   "language": "python",
   "name": "python3"
  },
  "language_info": {
   "codemirror_mode": {
    "name": "ipython",
    "version": 3
   },
   "file_extension": ".py",
   "mimetype": "text/x-python",
   "name": "python",
   "nbconvert_exporter": "python",
   "pygments_lexer": "ipython3",
   "version": "3.9.13"
  }
 },
 "nbformat": 4,
 "nbformat_minor": 5
}
