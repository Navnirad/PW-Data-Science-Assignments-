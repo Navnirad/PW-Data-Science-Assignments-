{
 "cells": [
  {
   "cell_type": "code",
   "execution_count": 1,
   "id": "79669083-ae7e-4f5f-bbce-61caf1ad593a",
   "metadata": {},
   "outputs": [],
   "source": [
    "import logging"
   ]
  },
  {
   "cell_type": "code",
   "execution_count": 3,
   "id": "16c75934-a51c-43a0-9e02-074fad124412",
   "metadata": {},
   "outputs": [],
   "source": [
    "logging.basicConfig(filename = 'dj.log', level = logging.DEBUG , format = '%(asctime)s %(message)s ')"
   ]
  },
  {
   "cell_type": "code",
   "execution_count": 4,
   "id": "84af95c5-0340-4f27-8a7a-7ee515a9cb9b",
   "metadata": {},
   "outputs": [],
   "source": [
    "logging.info('This is my info')\n",
    "logging.error('This is my error')\n",
    "logging.critical('This is my critical')"
   ]
  },
  {
   "cell_type": "code",
   "execution_count": 5,
   "id": "e0f378c2-3624-4765-be70-745d4127334f",
   "metadata": {},
   "outputs": [],
   "source": [
    "logging.shutdown()"
   ]
  },
  {
   "cell_type": "code",
   "execution_count": 2,
   "id": "7163c620-274b-4481-a18f-7b65441ecf75",
   "metadata": {},
   "outputs": [],
   "source": [
    "logging.basicConfig(filename = 'hello.log',level = logging.DEBUG , format =  '%(asctime)s %(name)s %(levelname)s  %(message)s')"
   ]
  },
  {
   "cell_type": "code",
   "execution_count": 3,
   "id": "4bc42a23-a0e7-44d4-b906-ccf3f1322f42",
   "metadata": {},
   "outputs": [],
   "source": [
    "logging.info('This is my info')\n",
    "logging.error('This is my error')\n",
    "logging.critical('This is my critical')"
   ]
  },
  {
   "cell_type": "code",
   "execution_count": null,
   "id": "38f5821c-b360-4996-b3e8-6599cd9b88b3",
   "metadata": {},
   "outputs": [],
   "source": []
  },
  {
   "cell_type": "code",
   "execution_count": 4,
   "id": "efcaa894-3cf3-48d8-8995-bb93f702b85f",
   "metadata": {},
   "outputs": [],
   "source": [
    "l = [1,2,3,34,4,[2,3,4],'sudh','kumar']"
   ]
  },
  {
   "cell_type": "code",
   "execution_count": 6,
   "id": "cafdf347-0035-496d-9253-771e4cfb87cd",
   "metadata": {},
   "outputs": [],
   "source": [
    "lint = []\n",
    "lstr = []\n",
    "for i in l:\n",
    "    logging.info('we are iterating through our list and our local variable i')\n",
    "    if type(i) == list :\n",
    "        logging.info('i am inside if statement and trying ot check list type')\n",
    "        for j in i :\n",
    "            logging.info('I am in another loop for list inside list element')\n",
    "            if type(j) == int :\n",
    "                logging.info('I am in if statement')\n",
    "                lint.append(j)\n",
    "    elif type(i) == int:\n",
    "        lint.append(i)\n",
    "    elif type(i) == str:\n",
    "        lstr.append(i)"
   ]
  },
  {
   "cell_type": "code",
   "execution_count": null,
   "id": "7f756654-2a70-41d0-82b4-fb244d7db532",
   "metadata": {},
   "outputs": [],
   "source": []
  }
 ],
 "metadata": {
  "kernelspec": {
   "display_name": "Python 3 (ipykernel)",
   "language": "python",
   "name": "python3"
  },
  "language_info": {
   "codemirror_mode": {
    "name": "ipython",
    "version": 3
   },
   "file_extension": ".py",
   "mimetype": "text/x-python",
   "name": "python",
   "nbconvert_exporter": "python",
   "pygments_lexer": "ipython3",
   "version": "3.9.13"
  }
 },
 "nbformat": 4,
 "nbformat_minor": 5
}
