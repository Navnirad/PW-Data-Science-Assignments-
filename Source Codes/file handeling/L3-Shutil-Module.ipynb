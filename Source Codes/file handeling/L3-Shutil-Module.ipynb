{
 "cells": [
  {
   "cell_type": "code",
   "execution_count": 1,
   "id": "1e95424f",
   "metadata": {},
   "outputs": [],
   "source": [
    "### Topic - File Handleing 3 - Shutil Module \n",
    "## Author - Naveen Gupta\n",
    "\"\"\"           \n",
    "             shutil.copy() :- used to copy the content of the source file to the destination file or directory.\n",
    "                           It also preserves the file’s permission mode but other metadata of the file like the file’s \n",
    "                           creation and modification times is not preserved\n",
    "            \n",
    "             shutil.copy2() :- used to copy the content of the source file to the destination file or directory. \n",
    "                        This method is identical to shutil.copy() method but it also tries to preserve the file’s metadata.\n",
    "                        \n",
    "            shutil.copyfile() :-  used to copy the content of the source file to the destination file.\n",
    "            \n",
    "            shutil.copytree() :- recursively copies an entire directory tree rooted at source (src) to the destination directory.\n",
    "            \n",
    "            shutil.rmtree() :- used to delete an entire directory tree\n",
    "            \n",
    "            shutil.which() :- tells the path to an executable application that would be run if the given cmd was called. \n",
    "                             This method can be used to find a file on a computer which is present on the PATH.\n",
    "                             \n",
    "            shutil.move() :- moves a file or directory (source) to another location (destination) and returns the destination\n",
    "\"\"\""
   ]
  },
  {
   "cell_type": "code",
   "execution_count": 1,
   "id": "3b3a6d02",
   "metadata": {},
   "outputs": [],
   "source": [
    "import os \n",
    "import shutil"
   ]
  },
  {
   "cell_type": "code",
   "execution_count": 5,
   "id": "740a32a9",
   "metadata": {},
   "outputs": [
    {
     "data": {
      "text/plain": [
       "'C:\\\\Users\\\\desktop\\\\Desktop\\\\Nav Official\\\\Programming\\\\work\\\\Data Science Masters'"
      ]
     },
     "execution_count": 5,
     "metadata": {},
     "output_type": "execute_result"
    }
   ],
   "source": [
    "os.getcwd()"
   ]
  },
  {
   "cell_type": "code",
   "execution_count": 7,
   "id": "3762bd00",
   "metadata": {},
   "outputs": [
    {
     "data": {
      "text/plain": [
       "'hello.txt'"
      ]
     },
     "execution_count": 7,
     "metadata": {},
     "output_type": "execute_result"
    }
   ],
   "source": [
    "shutil.copy('new.txt','hello.txt')"
   ]
  },
  {
   "cell_type": "code",
   "execution_count": 10,
   "id": "779fe0ac",
   "metadata": {},
   "outputs": [
    {
     "data": {
      "text/plain": [
       "'copy2.txt'"
      ]
     },
     "execution_count": 10,
     "metadata": {},
     "output_type": "execute_result"
    }
   ],
   "source": [
    "shutil.copy2('hello.txt','copy2.txt')"
   ]
  },
  {
   "cell_type": "code",
   "execution_count": 11,
   "id": "f1ca33bd",
   "metadata": {},
   "outputs": [
    {
     "data": {
      "text/plain": [
       "'test.txt'"
      ]
     },
     "execution_count": 11,
     "metadata": {},
     "output_type": "execute_result"
    }
   ],
   "source": [
    "shutil.copyfile('copy2.txt','test.txt')"
   ]
  },
  {
   "cell_type": "code",
   "execution_count": 2,
   "id": "813bb340",
   "metadata": {},
   "outputs": [
    {
     "data": {
      "text/plain": [
       "'C:/Users/desktop/Desktop/Nav Official/Programming/work/Data Science Masters/file-handeling'"
      ]
     },
     "execution_count": 2,
     "metadata": {},
     "output_type": "execute_result"
    }
   ],
   "source": [
    "shutil.copytree('C:/Users/desktop/Desktop/Nav Official/Programming/work/Data Science Masters','C:/Users/desktop/Desktop/Nav Official/Programming/work/Data Science Masters/file-handeling')"
   ]
  },
  {
   "cell_type": "code",
   "execution_count": 3,
   "id": "c086126a",
   "metadata": {},
   "outputs": [],
   "source": [
    "shutil.rmtree('C:/Users/desktop/Desktop/Nav Official/Programming/work/Data Science Masters/file-handeling')"
   ]
  },
  {
   "cell_type": "code",
   "execution_count": 19,
   "id": "bdb58338",
   "metadata": {},
   "outputs": [],
   "source": [
    "a = shutil.which('anaconda')"
   ]
  },
  {
   "cell_type": "code",
   "execution_count": 20,
   "id": "ad930823",
   "metadata": {},
   "outputs": [
    {
     "name": "stdout",
     "output_type": "stream",
     "text": [
      "C:\\ProgramData\\Anaconda3\\Scripts\\anaconda.EXE\n"
     ]
    }
   ],
   "source": [
    "print(a)"
   ]
  },
  {
   "cell_type": "code",
   "execution_count": null,
   "id": "8e1fdb05",
   "metadata": {},
   "outputs": [],
   "source": []
  }
 ],
 "metadata": {
  "kernelspec": {
   "display_name": "Python 3 (ipykernel)",
   "language": "python",
   "name": "python3"
  },
  "language_info": {
   "codemirror_mode": {
    "name": "ipython",
    "version": 3
   },
   "file_extension": ".py",
   "mimetype": "text/x-python",
   "name": "python",
   "nbconvert_exporter": "python",
   "pygments_lexer": "ipython3",
   "version": "3.9.13"
  }
 },
 "nbformat": 4,
 "nbformat_minor": 5
}
