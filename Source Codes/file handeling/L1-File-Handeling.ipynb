{
 "cells": [
  {
   "cell_type": "markdown",
   "id": "af884891-1656-48dc-a24e-dd74f719167e",
   "metadata": {},
   "source": [
    "#### Topic - File handeling 1\n",
    "\"\"\" SUB Topics :- \n",
    "               --> Opening file  :-   open(file name , mode)\n",
    "                       modes :-  r - read only\n",
    "                                 w - write and overwrites previous data \n",
    "                                 a - append i.e write withour overriding\n",
    "                                 r+ - read and write\n",
    "                                 w+ - write and read\n",
    "                                 a+ - append and read \n",
    "                                 wb,rb,ab,wb+,rb+,ab+ - operations in binary format\n",
    "              ---> Reading Files :-  \n",
    "                       methods :- read(n)  # Read n bytes from the file if given , else reads whole file \n",
    "                       \n",
    "                                  readline(n) # Reads a line of the file and returns in form of a string.For specified n,reads at most n bytes. \n",
    "                                                However, does not reads more than one line, even if n exceeds the length of the line.\n",
    "                                                \n",
    "                                  readlines() #readlines() : Reads all the lines and return them as each line a string element in a list.\n",
    "                                  \n",
    "             -----> Writing Files :- \n",
    "                      methods :- write()  #Inserts the given string in a single line in the text file.\n",
    "                                 writelines() #For a list of string elements, each string is inserted in the text file. \n",
    "                                               Used to insert multiple strings at a single time.\n",
    "                \n",
    "            ------> with statement \n",
    "            ------> seek and tell functions :-  seek(index) ##is used to move the file cursor to a specified location\n",
    "                                                tell() ##tell(): it returns the current position of the cursor in index\n",
    "                                                \n",
    "\"\"\""
   ]
  },
  {
   "cell_type": "code",
   "execution_count": 2,
   "id": "0a88201c-9518-437c-b762-0ba90144c465",
   "metadata": {},
   "outputs": [],
   "source": [
    "f = open('text.txt','w') \n",
    "## w mode -  opens the file for write operation. If the file already exists it overwrite the\n",
    "##              previous data if present. If the file does not exist will create a now one.\"\"\"\n"
   ]
  },
  {
   "cell_type": "code",
   "execution_count": 3,
   "id": "8ed8ac48-3961-4306-9f73-ddbd4726ff80",
   "metadata": {},
   "outputs": [
    {
     "data": {
      "text/plain": [
       "30"
      ]
     },
     "execution_count": 3,
     "metadata": {},
     "output_type": "execute_result"
    }
   ],
   "source": [
    "f.write('Hello this is the initial text')"
   ]
  },
  {
   "cell_type": "code",
   "execution_count": 4,
   "id": "6dc9ac3d-d095-4a6e-8bea-5793724e5028",
   "metadata": {},
   "outputs": [],
   "source": [
    "f.close()"
   ]
  },
  {
   "cell_type": "code",
   "execution_count": 5,
   "id": "781f0db1-ba1b-4d0f-9da6-1078e696e717",
   "metadata": {},
   "outputs": [],
   "source": [
    "f = open('text.txt','w')\n",
    "\n",
    "f.write('overwriting the text')\n",
    "\n",
    "f.close()"
   ]
  },
  {
   "cell_type": "code",
   "execution_count": 6,
   "id": "148032b6-c1d2-4a98-aebb-c678f4c6218b",
   "metadata": {},
   "outputs": [],
   "source": [
    "f = open('text.txt','a')\n",
    "f.write('The green anaconda, also known as the giant emerald anaconda, common anaconda, common water boa or sucuri, is a boa species found in South America. It is the heaviest and one of the longest known extant snake species. No subspecies are currently recognized')\n",
    "f.close()"
   ]
  },
  {
   "cell_type": "code",
   "execution_count": 7,
   "id": "79093460-f1c3-4eae-97cf-883f02ef2ef4",
   "metadata": {},
   "outputs": [
    {
     "data": {
      "text/plain": [
       "'overwriting the textThe green anaconda, also known as the giant emerald anaconda, common anaconda, common water boa or sucuri, is a boa species found in South America. It is the heaviest and one of the longest known extant snake species. No subspecies are currently recognized'"
      ]
     },
     "execution_count": 7,
     "metadata": {},
     "output_type": "execute_result"
    }
   ],
   "source": [
    "f = open('text.txt','r')\n",
    "f.read()"
   ]
  },
  {
   "cell_type": "code",
   "execution_count": 8,
   "id": "a2a1578d-4fa7-45f3-8b6d-d2e718b8cafd",
   "metadata": {},
   "outputs": [
    {
     "data": {
      "text/plain": [
       "<_io.TextIOWrapper name='text.txt' mode='r' encoding='cp1252'>"
      ]
     },
     "execution_count": 8,
     "metadata": {},
     "output_type": "execute_result"
    }
   ],
   "source": [
    "f"
   ]
  },
  {
   "cell_type": "code",
   "execution_count": 9,
   "id": "c36fcc6d-4dae-448a-89b0-bd8b038cfc45",
   "metadata": {},
   "outputs": [
    {
     "data": {
      "text/plain": [
       "''"
      ]
     },
     "execution_count": 9,
     "metadata": {},
     "output_type": "execute_result"
    }
   ],
   "source": [
    "f.readline()"
   ]
  },
  {
   "cell_type": "code",
   "execution_count": 10,
   "id": "208624a4-d012-4c31-8055-4b3a3c7a04eb",
   "metadata": {},
   "outputs": [
    {
     "data": {
      "text/plain": [
       "0"
      ]
     },
     "execution_count": 10,
     "metadata": {},
     "output_type": "execute_result"
    }
   ],
   "source": [
    "f.seek(0)  ### to sset the position og cursor"
   ]
  },
  {
   "cell_type": "code",
   "execution_count": 11,
   "id": "f2a4ab0a-31ed-43c4-b552-165e644e7a21",
   "metadata": {},
   "outputs": [
    {
     "data": {
      "text/plain": [
       "'overwriting the textThe green anaconda, also known as the giant emerald anaconda, common anaconda, common water boa or sucuri, is a boa species found in South America. It is the heaviest and one of the longest known extant snake species. No subspecies are currently recognized'"
      ]
     },
     "execution_count": 11,
     "metadata": {},
     "output_type": "execute_result"
    }
   ],
   "source": [
    "f.readline()"
   ]
  },
  {
   "cell_type": "code",
   "execution_count": 12,
   "id": "996a543b-9127-4b65-9ecf-fce709bdea74",
   "metadata": {},
   "outputs": [
    {
     "data": {
      "text/plain": [
       "20"
      ]
     },
     "execution_count": 12,
     "metadata": {},
     "output_type": "execute_result"
    }
   ],
   "source": [
    "f.seek(20)"
   ]
  },
  {
   "cell_type": "code",
   "execution_count": 13,
   "id": "684eb1d9-d5d8-48c0-878f-a27a6fa304df",
   "metadata": {},
   "outputs": [
    {
     "data": {
      "text/plain": [
       "'The green anaconda, also known as the giant emerald anaconda, common anaconda, common water boa or sucuri, is a boa species found in South America. It is the heaviest and one of the longest known extant snake species. No subspecies are currently recognized'"
      ]
     },
     "execution_count": 13,
     "metadata": {},
     "output_type": "execute_result"
    }
   ],
   "source": [
    "f.readline()"
   ]
  },
  {
   "cell_type": "code",
   "execution_count": 14,
   "id": "f3365f4c-85fc-4f7b-93b4-df4419fa7dbf",
   "metadata": {},
   "outputs": [
    {
     "data": {
      "text/plain": [
       "0"
      ]
     },
     "execution_count": 14,
     "metadata": {},
     "output_type": "execute_result"
    }
   ],
   "source": [
    "f.seek(0)"
   ]
  },
  {
   "cell_type": "code",
   "execution_count": 15,
   "id": "a564f9c0-d0a0-4236-a15e-025b6f80545e",
   "metadata": {},
   "outputs": [
    {
     "name": "stdout",
     "output_type": "stream",
     "text": [
      "overwriting the textThe green anaconda, also known as the giant emerald anaconda, common anaconda, common water boa or sucuri, is a boa species found in South America. It is the heaviest and one of the longest known extant snake species. No subspecies are currently recognized\n"
     ]
    }
   ],
   "source": [
    "for i in f:\n",
    "    print(i)"
   ]
  },
  {
   "cell_type": "code",
   "execution_count": 16,
   "id": "8a0a5701-27d4-4b59-83b4-52ed6111239d",
   "metadata": {},
   "outputs": [],
   "source": [
    "f.close()"
   ]
  },
  {
   "cell_type": "code",
   "execution_count": 17,
   "id": "9c41af3b-0fe3-4161-b344-766035348684",
   "metadata": {},
   "outputs": [],
   "source": [
    "import os"
   ]
  },
  {
   "cell_type": "code",
   "execution_count": 18,
   "id": "8c14bb3a-db32-463c-b71d-5c43a9d45858",
   "metadata": {},
   "outputs": [
    {
     "data": {
      "text/plain": [
       "276"
      ]
     },
     "execution_count": 18,
     "metadata": {},
     "output_type": "execute_result"
    }
   ],
   "source": [
    "os.path.getsize('text.txt')   #### Getting syze of file in bytes using os module "
   ]
  },
  {
   "cell_type": "code",
   "execution_count": 20,
   "id": "6364d379-9c57-438a-9a7a-a2d0abe87e88",
   "metadata": {},
   "outputs": [],
   "source": [
    "os.remove('text.txt')  #### Removing a file using os file"
   ]
  },
  {
   "cell_type": "code",
   "execution_count": 23,
   "id": "11245490-7673-4254-8e62-3864c5f1188f",
   "metadata": {},
   "outputs": [],
   "source": [
    "f = open('test.txt','w')"
   ]
  },
  {
   "cell_type": "code",
   "execution_count": 24,
   "id": "01784e28-6c24-49ca-8d81-f8440e9583f4",
   "metadata": {},
   "outputs": [
    {
     "data": {
      "text/plain": [
       "907"
      ]
     },
     "execution_count": 24,
     "metadata": {},
     "output_type": "execute_result"
    }
   ],
   "source": [
    "f.write(\"ransporting very large specimens to museums, especially before substantial decay, is difficult (though this has not prevented the return of much larger and more cumbersome crocodilian specimens).[13] Skins can stretch substantially, increasing the snake's size by more than 50% if stretched during the tanning process. Reports without physical proof are considered dubious if from non-scientists, as such individuals may at worst be more interested in promoting themselves or telling a good tale, or at the least may not be sufficiently trained in proper measurement methods. Observational reports of animals which were not captured are even more dubious, as even trained scientists often substantially overestimate the size of anacondas prior to capture.[13] According to the Guinness Book of World Records, this species has been perhaps subject to the most extreme size exaggerations of any living animal.\")"
   ]
  },
  {
   "cell_type": "code",
   "execution_count": 25,
   "id": "617513b9-4ab2-465d-8d55-5a5580625cb7",
   "metadata": {},
   "outputs": [],
   "source": [
    "f.close()"
   ]
  },
  {
   "cell_type": "code",
   "execution_count": 27,
   "id": "2d16524a-366c-4ebe-863a-ad06e1d4fe94",
   "metadata": {},
   "outputs": [],
   "source": [
    "os.rename('test.txt','new.txt') ## Renaming a Line using os module"
   ]
  },
  {
   "cell_type": "code",
   "execution_count": 28,
   "id": "fe57ec46-7c18-4c85-9d26-6642ccce6210",
   "metadata": {},
   "outputs": [],
   "source": [
    "import shutil"
   ]
  },
  {
   "cell_type": "code",
   "execution_count": 29,
   "id": "40a36f57-0d78-4dd6-aef5-98cdf88cfef2",
   "metadata": {},
   "outputs": [
    {
     "data": {
      "text/plain": [
       "'copy.txt'"
      ]
     },
     "execution_count": 29,
     "metadata": {},
     "output_type": "execute_result"
    }
   ],
   "source": [
    "shutil.copy('new.txt','copy.txt')   ### Coping a file using shutil module"
   ]
  },
  {
   "cell_type": "code",
   "execution_count": 30,
   "id": "01dd5609-a5de-4b85-b8bd-7befa4904ec8",
   "metadata": {},
   "outputs": [
    {
     "name": "stdout",
     "output_type": "stream",
     "text": [
      "ransporting very large specimens to museums, especially before substantial decay, is difficult (though this has not prevented the return of much larger and more cumbersome crocodilian specimens).[13] Skins can stretch substantially, increasing the snake's size by more than 50% if stretched during the tanning process. Reports without physical proof are considered dubious if from non-scientists, as such individuals may at worst be more interested in promoting themselves or telling a good tale, or at the least may not be sufficiently trained in proper measurement methods. Observational reports of animals which were not captured are even more dubious, as even trained scientists often substantially overestimate the size of anacondas prior to capture.[13] According to the Guinness Book of World Records, this species has been perhaps subject to the most extreme size exaggerations of any living animal.\n"
     ]
    }
   ],
   "source": [
    "with open('new.txt','r') as f:\n",
    "    print(f.read())"
   ]
  },
  {
   "cell_type": "code",
   "execution_count": 33,
   "id": "0e40a395-8eb3-4f04-b5b1-2e0bf9390f95",
   "metadata": {},
   "outputs": [
    {
     "name": "stdout",
     "output_type": "stream",
     "text": [
      "['ransporting', 'very', 'large', 'specimens', 'to', 'museums,', 'especially', 'before', 'substantial', 'decay,', 'is', 'difficult', '(though', 'this', 'has', 'not', 'prevented', 'the', 'return', 'of', 'much', 'larger', 'and', 'more', 'cumbersome', 'crocodilian', 'specimens).[13]', 'Skins', 'can', 'stretch', 'substantially,', 'increasing', 'the', \"snake's\", 'size', 'by', 'more', 'than', '50%', 'if', 'stretched', 'during', 'the', 'tanning', 'process.', 'Reports', 'without', 'physical', 'proof', 'are', 'considered', 'dubious', 'if', 'from', 'non-scientists,', 'as', 'such', 'individuals', 'may', 'at', 'worst', 'be', 'more', 'interested', 'in', 'promoting', 'themselves', 'or', 'telling', 'a', 'good', 'tale,', 'or', 'at', 'the', 'least', 'may', 'not', 'be', 'sufficiently', 'trained', 'in', 'proper', 'measurement', 'methods.', 'Observational', 'reports', 'of', 'animals', 'which', 'were', 'not', 'captured', 'are', 'even', 'more', 'dubious,', 'as', 'even', 'trained', 'scientists', 'often', 'substantially', 'overestimate', 'the', 'size', 'of', 'anacondas', 'prior', 'to', 'capture.[13]', 'According', 'to', 'the', 'Guinness', 'Book', 'of', 'World', 'Records,', 'this', 'species', 'has', 'been', 'perhaps', 'subject', 'to', 'the', 'most', 'extreme', 'size', 'exaggerations', 'of', 'any', 'living', 'animal.']\n"
     ]
    }
   ],
   "source": [
    "# Python code to illustrate split() function\n",
    "with open(\"copy.txt\", \"r\") as c:\n",
    "\tdata = c.readlines()\n",
    "\tfor line in data:\n",
    "\t\tword = line.split()\n",
    "\t\tprint (word)\n"
   ]
  },
  {
   "cell_type": "code",
   "execution_count": 5,
   "id": "dce890b9-5298-4f3e-8975-de1044d67859",
   "metadata": {},
   "outputs": [
    {
     "data": {
      "text/plain": [
       "\"ransporting very large specimens to museums, especially before substantial decay, is difficult (though this has not prevented the return of much larger and more cumbersome crocodilian specimens).[13] Skins can stretch substantially, increasing the snake's size by more than 50% if stretched during the tanning process. Reports without physical proof are considered dubious if from non-scientists, as such individuals may at worst be more interested in promoting themselves or telling a good tale, or at the least may not be sufficiently trained in proper measurement methods. Observational reports of animals which were not captured are even more dubious, as even trained scientists often substantially overestimate the size of anacondas prior to capture.[13] According to the Guinness Book of World Records, this species has been perhaps subject to the most extreme size exaggerations of any living animal.\""
      ]
     },
     "execution_count": 5,
     "metadata": {},
     "output_type": "execute_result"
    }
   ],
   "source": [
    "with open('copy.txt','r') as c:\n",
    "    data = c.readline()\n",
    "data"
   ]
  },
  {
   "cell_type": "code",
   "execution_count": 6,
   "id": "b896ad25-0913-40b8-81a7-591cfcbbda5a",
   "metadata": {},
   "outputs": [
    {
     "data": {
      "text/plain": [
       "[\"ransporting very large specimens to museums, especially before substantial decay, is difficult (though this has not prevented the return of much larger and more cumbersome crocodilian specimens).[13] Skins can stretch substantially, increasing the snake's size by more than 50% if stretched during the tanning process. Reports without physical proof are considered dubious if from non-scientists, as such individuals may at worst be more interested in promoting themselves or telling a good tale, or at the least may not be sufficiently trained in proper measurement methods. Observational reports of animals which were not captured are even more dubious, as even trained scientists often substantially overestimate the size of anacondas prior to capture.[13] According to the Guinness Book of World Records, this species has been perhaps subject to the most extreme size exaggerations of any living animal.\"]"
      ]
     },
     "execution_count": 6,
     "metadata": {},
     "output_type": "execute_result"
    }
   ],
   "source": [
    "with open('new.txt','r') as n:\n",
    "    data1 = n.readlines()\n",
    "data1"
   ]
  },
  {
   "cell_type": "code",
   "execution_count": null,
   "id": "25e23443-603b-49c1-bebb-406edcee21b4",
   "metadata": {},
   "outputs": [],
   "source": [
    "Q6. Explain the write() and writelines() functions. Give a suitable example."
   ]
  }
 ],
 "metadata": {
  "kernelspec": {
   "display_name": "Python 3 (ipykernel)",
   "language": "python",
   "name": "python3"
  },
  "language_info": {
   "codemirror_mode": {
    "name": "ipython",
    "version": 3
   },
   "file_extension": ".py",
   "mimetype": "text/x-python",
   "name": "python",
   "nbconvert_exporter": "python",
   "pygments_lexer": "ipython3",
   "version": "3.9.13"
  }
 },
 "nbformat": 4,
 "nbformat_minor": 5
}
