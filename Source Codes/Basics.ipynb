{
 "cells": [
  {
   "cell_type": "code",
   "execution_count": 1,
   "id": "57b57b20-546b-4d9a-b7ef-46baf765e754",
   "metadata": {},
   "outputs": [],
   "source": [
    "#Topics covered :-\n",
    "#data types \n",
    "#Operators\n",
    "#Indexing & Slicing\n",
    "\n",
    "\n"
   ]
  },
  {
   "cell_type": "code",
   "execution_count": 2,
   "id": "6e252e56-c1d4-4adf-8dd8-f0e5e2d34028",
   "metadata": {},
   "outputs": [
    {
     "data": {
      "text/plain": [
       "13"
      ]
     },
     "execution_count": 2,
     "metadata": {},
     "output_type": "execute_result"
    }
   ],
   "source": [
    "a = 9\n",
    "b = 4\n",
    "a+b"
   ]
  },
  {
   "cell_type": "code",
   "execution_count": 3,
   "id": "32507a49-0d78-4bbe-b9cd-4cd8405851e4",
   "metadata": {},
   "outputs": [
    {
     "data": {
      "text/plain": [
       "14.5"
      ]
     },
     "execution_count": 3,
     "metadata": {},
     "output_type": "execute_result"
    }
   ],
   "source": [
    "c = 5.5\n",
    "a+c"
   ]
  },
  {
   "cell_type": "code",
   "execution_count": 4,
   "id": "3cfacfc5-5a0e-41a3-b142-574e8eaa43e9",
   "metadata": {},
   "outputs": [
    {
     "data": {
      "text/plain": [
       "'0b1010'"
      ]
     },
     "execution_count": 4,
     "metadata": {},
     "output_type": "execute_result"
    }
   ],
   "source": [
    "bin(10) #1010 - guess"
   ]
  },
  {
   "cell_type": "code",
   "execution_count": 5,
   "id": "776f903d-050e-4a66-94e1-2dabed66a07f",
   "metadata": {},
   "outputs": [
    {
     "data": {
      "text/plain": [
       "26"
      ]
     },
     "execution_count": 5,
     "metadata": {},
     "output_type": "execute_result"
    }
   ],
   "source": [
    "int(0b11010)"
   ]
  },
  {
   "cell_type": "code",
   "execution_count": 6,
   "id": "eadd207b-9cf3-4e22-aa95-a6ad0bd6385d",
   "metadata": {},
   "outputs": [
    {
     "data": {
      "text/plain": [
       "'0o14'"
      ]
     },
     "execution_count": 6,
     "metadata": {},
     "output_type": "execute_result"
    }
   ],
   "source": [
    "oct(12)"
   ]
  },
  {
   "cell_type": "code",
   "execution_count": 7,
   "id": "f34c7c2b-7b76-4c84-a4dd-4807784db253",
   "metadata": {},
   "outputs": [
    {
     "data": {
      "text/plain": [
       "'0o20'"
      ]
     },
     "execution_count": 7,
     "metadata": {},
     "output_type": "execute_result"
    }
   ],
   "source": [
    "oct(16)#20"
   ]
  },
  {
   "cell_type": "code",
   "execution_count": 8,
   "id": "648b0869-1e54-4c61-8fd4-34e2f7174e9d",
   "metadata": {},
   "outputs": [
    {
     "data": {
      "text/plain": [
       "64"
      ]
     },
     "execution_count": 8,
     "metadata": {},
     "output_type": "execute_result"
    }
   ],
   "source": [
    "0o100"
   ]
  },
  {
   "cell_type": "code",
   "execution_count": 9,
   "id": "7a3d67fe-4d80-49fa-ba05-086f86418b2d",
   "metadata": {},
   "outputs": [
    {
     "data": {
      "text/plain": [
       "'0x14'"
      ]
     },
     "execution_count": 9,
     "metadata": {},
     "output_type": "execute_result"
    }
   ],
   "source": [
    "hex(20)#14"
   ]
  },
  {
   "cell_type": "code",
   "execution_count": 10,
   "id": "c4c4ae24-eb31-4436-9ab1-13152788810e",
   "metadata": {},
   "outputs": [
    {
     "data": {
      "text/plain": [
       "'0x22'"
      ]
     },
     "execution_count": 10,
     "metadata": {},
     "output_type": "execute_result"
    }
   ],
   "source": [
    "hex(34)#22"
   ]
  },
  {
   "cell_type": "code",
   "execution_count": 11,
   "id": "c19effed-a5f3-4da5-a43a-be8c2fff8509",
   "metadata": {},
   "outputs": [
    {
     "data": {
      "text/plain": [
       "256"
      ]
     },
     "execution_count": 11,
     "metadata": {},
     "output_type": "execute_result"
    }
   ],
   "source": [
    "0x100\n"
   ]
  },
  {
   "cell_type": "code",
   "execution_count": 17,
   "id": "90db16df-58a0-46e4-a371-369ae089bdbd",
   "metadata": {},
   "outputs": [
    {
     "name": "stdout",
     "output_type": "stream",
     "text": [
      "3.0\n",
      "4.0\n"
     ]
    }
   ],
   "source": [
    "d = 3+4j\n",
    "print(d.real)\n",
    "print(d.imag)"
   ]
  },
  {
   "cell_type": "code",
   "execution_count": 27,
   "id": "bd74ccf9-d8cd-4449-8585-a0d2ae6407b6",
   "metadata": {},
   "outputs": [],
   "source": [
    "e = 'hello'\n",
    "f = 9e4\n",
    "g= 0b1011\n",
    "h = 0o126\n",
    "i = 0x12a"
   ]
  },
  {
   "cell_type": "code",
   "execution_count": 19,
   "id": "61bad14d-e15a-4e57-b681-4be4bbff9d8d",
   "metadata": {},
   "outputs": [
    {
     "data": {
      "text/plain": [
       "90000.0"
      ]
     },
     "execution_count": 19,
     "metadata": {},
     "output_type": "execute_result"
    }
   ],
   "source": [
    "f"
   ]
  },
  {
   "cell_type": "code",
   "execution_count": 30,
   "id": "fe677766-0e49-4c99-b405-e86858bdf8b9",
   "metadata": {
    "tags": []
   },
   "outputs": [
    {
     "data": {
      "text/plain": [
       "int"
      ]
     },
     "execution_count": 30,
     "metadata": {},
     "output_type": "execute_result"
    }
   ],
   "source": [
    "type(h)\n"
   ]
  },
  {
   "cell_type": "code",
   "execution_count": 31,
   "id": "ebfbe79e-df5e-4fb1-a933-9469b61b7cae",
   "metadata": {},
   "outputs": [
    {
     "data": {
      "text/plain": [
       "298"
      ]
     },
     "execution_count": 31,
     "metadata": {},
     "output_type": "execute_result"
    }
   ],
   "source": [
    "i"
   ]
  },
  {
   "cell_type": "code",
   "execution_count": 32,
   "id": "3472a6e3-c2e1-40a0-a890-3191f6c19ab5",
   "metadata": {},
   "outputs": [
    {
     "data": {
      "text/plain": [
       "2"
      ]
     },
     "execution_count": 32,
     "metadata": {},
     "output_type": "execute_result"
    }
   ],
   "source": [
    "5//2"
   ]
  },
  {
   "cell_type": "code",
   "execution_count": 33,
   "id": "5af381ff-c9b3-4f94-9ef2-af6c838bf0a4",
   "metadata": {},
   "outputs": [
    {
     "data": {
      "text/plain": [
       "0"
      ]
     },
     "execution_count": 33,
     "metadata": {},
     "output_type": "execute_result"
    }
   ],
   "source": [
    "1%1"
   ]
  },
  {
   "cell_type": "code",
   "execution_count": 34,
   "id": "6ddf14b7-b989-49d4-92dd-58d1ed94d951",
   "metadata": {},
   "outputs": [
    {
     "data": {
      "text/plain": [
       "0"
      ]
     },
     "execution_count": 34,
     "metadata": {},
     "output_type": "execute_result"
    }
   ],
   "source": [
    "2%1"
   ]
  },
  {
   "cell_type": "code",
   "execution_count": 36,
   "id": "3f906ba9-7b72-4c1a-94fd-b0e0eaedf52c",
   "metadata": {},
   "outputs": [
    {
     "data": {
      "text/plain": [
       "'the naveen'"
      ]
     },
     "execution_count": 36,
     "metadata": {},
     "output_type": "execute_result"
    }
   ],
   "source": [
    "z = 'the naveen gupta'\n",
    "z[0:10]"
   ]
  },
  {
   "cell_type": "code",
   "execution_count": 37,
   "id": "5af73018-1e62-47d9-b831-c5518592d49b",
   "metadata": {},
   "outputs": [
    {
     "data": {
      "text/plain": [
       "'the naveen gupta'"
      ]
     },
     "execution_count": 37,
     "metadata": {},
     "output_type": "execute_result"
    }
   ],
   "source": [
    "z[::]"
   ]
  },
  {
   "cell_type": "code",
   "execution_count": 38,
   "id": "8d8c1593-6c70-400b-8ed2-f64a00805cf7",
   "metadata": {},
   "outputs": [
    {
     "data": {
      "text/plain": [
       "'the naveen gupta'"
      ]
     },
     "execution_count": 38,
     "metadata": {},
     "output_type": "execute_result"
    }
   ],
   "source": [
    "z[:54]"
   ]
  },
  {
   "cell_type": "code",
   "execution_count": 39,
   "id": "ef7b1135-eed4-4742-aeba-930597e8f6b9",
   "metadata": {},
   "outputs": [
    {
     "data": {
      "text/plain": [
       "'atpug neevan eht'"
      ]
     },
     "execution_count": 39,
     "metadata": {},
     "output_type": "execute_result"
    }
   ],
   "source": [
    "z[::-1]"
   ]
  },
  {
   "cell_type": "code",
   "execution_count": 40,
   "id": "b36526d2-5869-4bd9-aab6-bce05975a2ae",
   "metadata": {},
   "outputs": [
    {
     "data": {
      "text/plain": [
       "'tenve ut'"
      ]
     },
     "execution_count": 40,
     "metadata": {},
     "output_type": "execute_result"
    }
   ],
   "source": [
    "z[::2]"
   ]
  },
  {
   "cell_type": "code",
   "execution_count": null,
   "id": "f09f580a-66bc-4cca-8212-4bbdd336b13f",
   "metadata": {},
   "outputs": [],
   "source": [
    "z = 'the naveen gupta'\n",
    "z[::4]"
   ]
  },
  {
   "cell_type": "code",
   "execution_count": null,
   "id": "89f5dc8c-d02f-4ee6-948c-40bd0a711a14",
   "metadata": {},
   "outputs": [],
   "source": []
  },
  {
   "cell_type": "code",
   "execution_count": null,
   "id": "bd0514e4-86e0-45ff-82a0-098b939546b2",
   "metadata": {},
   "outputs": [],
   "source": []
  },
  {
   "cell_type": "code",
   "execution_count": 2,
   "id": "8eb4b9c1-e765-4a71-8212-2fbc4353e7fc",
   "metadata": {},
   "outputs": [
    {
     "data": {
      "text/plain": [
       "'tneu'"
      ]
     },
     "execution_count": 2,
     "metadata": {},
     "output_type": "execute_result"
    }
   ],
   "source": [
    "z = 'the naveen gupta'\n",
    "z[::4]"
   ]
  },
  {
   "cell_type": "code",
   "execution_count": null,
   "id": "db41d754-66b6-4518-a1b7-bf15184f1e2b",
   "metadata": {},
   "outputs": [],
   "source": []
  }
 ],
 "metadata": {
  "kernelspec": {
   "display_name": "Python 3 (ipykernel)",
   "language": "python",
   "name": "python3"
  },
  "language_info": {
   "codemirror_mode": {
    "name": "ipython",
    "version": 3
   },
   "file_extension": ".py",
   "mimetype": "text/x-python",
   "name": "python",
   "nbconvert_exporter": "python",
   "pygments_lexer": "ipython3",
   "version": "3.10.8"
  }
 },
 "nbformat": 4,
 "nbformat_minor": 5
}
